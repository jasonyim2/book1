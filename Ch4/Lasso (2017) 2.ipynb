{
 "cells": [
  {
   "cell_type": "markdown",
   "metadata": {},
   "source": [
    "# 4.7.5 라쏘(Lasso) 모델(계속)"
   ]
  },
  {
   "cell_type": "markdown",
   "metadata": {},
   "source": [
    "# 데이터 스케일 조정 없는 house-unscaled로 Lasso 실행"
   ]
  },
  {
   "cell_type": "code",
   "execution_count": 6,
   "metadata": {},
   "outputs": [
    {
     "data": {
      "text/plain": [
       "(20495, 93)"
      ]
     },
     "execution_count": 6,
     "metadata": {},
     "output_type": "execute_result"
    }
   ],
   "source": [
    "import pandas as pd\n",
    "import numpy as np\n",
    "df = pd.read_csv('house-unscaled.csv')   \n",
    "df.shape"
   ]
  },
  {
   "cell_type": "code",
   "execution_count": 7,
   "metadata": {},
   "outputs": [
    {
     "name": "stdout",
     "output_type": "stream",
     "text": [
      "X_train shape: (10247, 92)\n",
      "X_test shape: (10248, 92)\n"
     ]
    }
   ],
   "source": [
    "data = df.drop(['VALP_B1'], axis=1)   # 타겟변수를 제외한 입력변수를 data에 저장\n",
    "target = df['VALP_B1']                # 타겟변수만 target에 저장\n",
    "\n",
    "# 50:50 데이터 분할\n",
    "from sklearn.model_selection import train_test_split \n",
    "X_train, X_test, y_train, y_test = train_test_split( \n",
    "    data, target, test_size=0.5, random_state=42)   # test_size=0.5임에 주의 \n",
    "\n",
    "print(\"X_train shape:\", X_train.shape) \n",
    "print(\"X_test shape:\", X_test.shape) "
   ]
  },
  {
   "cell_type": "code",
   "execution_count": 8,
   "metadata": {},
   "outputs": [
    {
     "name": "stdout",
     "output_type": "stream",
     "text": [
      "Lasso Accuracy on training set:0.74851\n",
      "Lasso Accuracy on test set:0.72834\n"
     ]
    }
   ],
   "source": [
    "# Lasso 모델 (Default 모델 for liblinear)\n",
    "from sklearn.linear_model import LogisticRegression\n",
    "from sklearn.metrics import accuracy_score\n",
    "ls = LogisticRegression(penalty='l1',solver='liblinear',C=1,random_state=0)\n",
    "model = ls.fit(X_train, y_train) \n",
    "pred = model.predict(X_test)  # 학습된 Classifier로 테스트 데이터셋 자료이용해서 타겟변수 예측값 생성\n",
    "\n",
    "print (\"Lasso Accuracy on training set:{:.5f}\".format(model.score(X_train, y_train))) \n",
    "print (\"Lasso Accuracy on test set:{:.5f}\".format(accuracy_score(y_test, pred)))"
   ]
  },
  {
   "cell_type": "code",
   "execution_count": 9,
   "metadata": {},
   "outputs": [],
   "source": [
    "# Lasso 모델 (Default 모델 for liblinear)\n",
    "ls = LogisticRegression(penalty='l1',solver='liblinear',C=1,random_state=0)"
   ]
  },
  {
   "cell_type": "code",
   "execution_count": 10,
   "metadata": {},
   "outputs": [
    {
     "name": "stdout",
     "output_type": "stream",
     "text": [
      "Fitting 5 folds for each of 28 candidates, totalling 140 fits\n"
     ]
    },
    {
     "name": "stderr",
     "output_type": "stream",
     "text": [
      "C:\\ProgramData\\Anaconda3\\lib\\site-packages\\sklearn\\model_selection\\_search.py:918: UserWarning: One or more of the test scores are non-finite: [       nan 0.70381421        nan 0.49702341        nan 0.73201814\n",
      "        nan 0.49702341        nan 0.73787342        nan 0.49702341\n",
      "        nan 0.74138714        nan 0.49702341        nan 0.74148508\n",
      "        nan 0.49702341        nan 0.7439251         nan 0.49702341\n",
      "        nan 0.74324189        nan 0.49702341]\n",
      "  warnings.warn(\n"
     ]
    },
    {
     "name": "stdout",
     "output_type": "stream",
     "text": [
      "GridSearchCV max accuracy:0.74393\n",
      "GridSearchCV best parameter: {'C': 0.5, 'solver': 'liblinear'}\n"
     ]
    }
   ],
   "source": [
    "# 그리드 서치 실행\n",
    "from sklearn.model_selection import GridSearchCV\n",
    "from sklearn.model_selection import StratifiedKFold  \n",
    "\n",
    "# StratifiedKFold의 random_state 옵션값을 특정 숫자(예: 0)로 고정\n",
    "cross_validation = StratifiedKFold(n_splits=5, shuffle=True, random_state=0)\n",
    "params = {'solver':['lbfgs', 'liblinear', 'sag', 'saga'],\n",
    "          'C':[0.01,0.05,0.1,0.2,0.3,0.5,1]\n",
    "         }\n",
    "\n",
    "# GridSearchCV의 cv=cross_validation 옵션값은 위의 StratifiedKFold의 random_state 옵션값을 적용시켜서\n",
    "# GridSearchCV를 실행핼 때마다 결과가 항상 동일하게 나오도록 보장\n",
    "grid_ls = GridSearchCV(ls, param_grid=params, scoring='accuracy', cv=cross_validation,\n",
    "                       n_jobs=-1, verbose=1)\n",
    "grid_ls.fit(X_train, y_train)\n",
    "\n",
    "print(\"GridSearchCV max accuracy:{:.5f}\".format(grid_ls.best_score_))\n",
    "print(\"GridSearchCV best parameter:\", (grid_ls.best_params_))"
   ]
  },
  {
   "cell_type": "code",
   "execution_count": 14,
   "metadata": {},
   "outputs": [
    {
     "name": "stdout",
     "output_type": "stream",
     "text": [
      "Accuracy on test set:0.72990\n",
      "ROC AUC on test set:0.80693\n"
     ]
    }
   ],
   "source": [
    "best_clf = grid_ls.best_estimator_\n",
    "pred = best_clf.predict(X_test)\n",
    "print(\"Accuracy on test set:{:.5f}\".format(accuracy_score(y_test, pred)))\n",
    "\n",
    "from sklearn.metrics import roc_auc_score\n",
    "ROC_AUC = roc_auc_score(y_test,best_clf.predict_proba(X_test)[:, 1])\n",
    "print(\"ROC AUC on test set:{:.5f}\".format(ROC_AUC))"
   ]
  },
  {
   "cell_type": "code",
   "execution_count": 15,
   "metadata": {},
   "outputs": [
    {
     "name": "stdout",
     "output_type": "stream",
     "text": [
      "Number of features used: 77\n"
     ]
    }
   ],
   "source": [
    "print (\"Number of features used:\", np.sum(best_clf.coef_ != 0))"
   ]
  },
  {
   "cell_type": "code",
   "execution_count": 39,
   "metadata": {},
   "outputs": [
    {
     "name": "stdout",
     "output_type": "stream",
     "text": [
      "회귀계수 [[ 9.00214324e-03 -8.68577500e-01  4.68134681e-01  1.02840101e-03\n",
      "   0.00000000e+00  2.74208859e-01 -2.77789447e-02  8.55782608e-02\n",
      "   1.78056039e-03  1.34917916e-05  1.52629424e-02 -5.65390826e-01\n",
      "   1.94511777e-01 -8.25125340e-01  4.16586945e-01  0.00000000e+00\n",
      "  -1.41641066e+00 -5.87059439e-01 -1.01505908e+00  9.05169698e-02\n",
      "  -2.10223804e-01 -8.97644806e-02 -2.31231626e-01 -2.25303665e-01\n",
      "  -3.33821743e-01 -3.44275627e-02  4.41448206e-01 -2.19643951e-01\n",
      "  -8.57552494e-01  3.00233609e-01  2.62387013e-01 -7.44827018e-03\n",
      "  -1.01776527e-01 -6.51868324e-01  0.00000000e+00  4.73209479e-01\n",
      "  -6.56798340e-01 -1.14055838e+00 -8.33780899e-01 -5.57358158e-02\n",
      "   0.00000000e+00  4.63897598e-01  5.25465169e-01  5.22827887e-02\n",
      "   0.00000000e+00 -1.72402821e-01 -1.26034928e-01  0.00000000e+00\n",
      "   8.71250220e-01  1.53397758e+00  1.11696862e+00  1.01100953e+00\n",
      "   6.95927594e-01  1.58912581e-01  1.20688810e-01  2.06480111e-01\n",
      "   2.26918365e-01  0.00000000e+00 -1.18783191e-01  0.00000000e+00\n",
      "   0.00000000e+00  1.12714782e-01  0.00000000e+00 -7.20756206e-02\n",
      "   7.93437167e-04  2.89320726e-01  8.26206482e-01  0.00000000e+00\n",
      "   0.00000000e+00  6.12983163e-01 -9.74406925e-02  0.00000000e+00\n",
      "  -4.56296026e-01 -2.69275476e-02  0.00000000e+00 -8.94171045e-02\n",
      "  -8.57549371e-02 -2.65003402e-01 -3.22792735e-01 -1.97245334e-01\n",
      "  -9.91476939e-02 -3.07169043e-01 -3.97303118e-02 -1.67864216e-01\n",
      "   1.31246294e-01  1.75711951e-01  0.00000000e+00  6.12988533e-01\n",
      "   6.39609423e-01  5.28938015e-01  6.16942801e-01  2.77190767e-02]]\n"
     ]
    }
   ],
   "source": [
    "print('회귀계수', best_clf.coef_)"
   ]
  },
  {
   "cell_type": "code",
   "execution_count": 40,
   "metadata": {},
   "outputs": [
    {
     "data": {
      "text/html": [
       "<div>\n",
       "<style scoped>\n",
       "    .dataframe tbody tr th:only-of-type {\n",
       "        vertical-align: middle;\n",
       "    }\n",
       "\n",
       "    .dataframe tbody tr th {\n",
       "        vertical-align: top;\n",
       "    }\n",
       "\n",
       "    .dataframe thead th {\n",
       "        text-align: right;\n",
       "    }\n",
       "</style>\n",
       "<table border=\"1\" class=\"dataframe\">\n",
       "  <thead>\n",
       "    <tr style=\"text-align: right;\">\n",
       "      <th></th>\n",
       "      <th>coef</th>\n",
       "    </tr>\n",
       "  </thead>\n",
       "  <tbody>\n",
       "    <tr>\n",
       "      <th>MV_2.0</th>\n",
       "      <td>1.533978</td>\n",
       "    </tr>\n",
       "    <tr>\n",
       "      <th>MV_3.0</th>\n",
       "      <td>1.116969</td>\n",
       "    </tr>\n",
       "    <tr>\n",
       "      <th>MV_4.0</th>\n",
       "      <td>1.011010</td>\n",
       "    </tr>\n",
       "    <tr>\n",
       "      <th>MV_1.0</th>\n",
       "      <td>0.871250</td>\n",
       "    </tr>\n",
       "    <tr>\n",
       "      <th>SCH_3</th>\n",
       "      <td>0.826206</td>\n",
       "    </tr>\n",
       "    <tr>\n",
       "      <th>...</th>\n",
       "      <td>...</td>\n",
       "    </tr>\n",
       "    <tr>\n",
       "      <th>FPARC_0</th>\n",
       "      <td>-0.857552</td>\n",
       "    </tr>\n",
       "    <tr>\n",
       "      <th>BATH</th>\n",
       "      <td>-0.868577</td>\n",
       "    </tr>\n",
       "    <tr>\n",
       "      <th>BLD_2.0</th>\n",
       "      <td>-1.015059</td>\n",
       "    </tr>\n",
       "    <tr>\n",
       "      <th>HHT_2.0</th>\n",
       "      <td>-1.140558</td>\n",
       "    </tr>\n",
       "    <tr>\n",
       "      <th>ACR_1.0</th>\n",
       "      <td>-1.416411</td>\n",
       "    </tr>\n",
       "  </tbody>\n",
       "</table>\n",
       "<p>92 rows × 1 columns</p>\n",
       "</div>"
      ],
      "text/plain": [
       "             coef\n",
       "MV_2.0   1.533978\n",
       "MV_3.0   1.116969\n",
       "MV_4.0   1.011010\n",
       "MV_1.0   0.871250\n",
       "SCH_3    0.826206\n",
       "...           ...\n",
       "FPARC_0 -0.857552\n",
       "BATH    -0.868577\n",
       "BLD_2.0 -1.015059\n",
       "HHT_2.0 -1.140558\n",
       "ACR_1.0 -1.416411\n",
       "\n",
       "[92 rows x 1 columns]"
      ]
     },
     "execution_count": 40,
     "metadata": {},
     "output_type": "execute_result"
    }
   ],
   "source": [
    "# 변수명을 Index로 만들고 coefficient값을 매칭한 데이터프레임 만들기 \n",
    "\n",
    "feature_names = list(data.columns)   # 변수명(컬럼명)을 리스트 형태로 만들기\n",
    "dft = pd.DataFrame(best_clf.coef_.transpose(), index=feature_names,\n",
    "                   columns=['coef'])\n",
    "dft1 = dft.sort_values(by='coef', ascending=False)   # 컬럼 coef의 값들을 내림차순으로 정리\n",
    "dft1 "
   ]
  },
  {
   "cell_type": "code",
   "execution_count": 41,
   "metadata": {},
   "outputs": [
    {
     "data": {
      "text/html": [
       "<div>\n",
       "<style scoped>\n",
       "    .dataframe tbody tr th:only-of-type {\n",
       "        vertical-align: middle;\n",
       "    }\n",
       "\n",
       "    .dataframe tbody tr th {\n",
       "        vertical-align: top;\n",
       "    }\n",
       "\n",
       "    .dataframe thead th {\n",
       "        text-align: right;\n",
       "    }\n",
       "</style>\n",
       "<table border=\"1\" class=\"dataframe\">\n",
       "  <thead>\n",
       "    <tr style=\"text-align: right;\">\n",
       "      <th></th>\n",
       "      <th>Odds_ratio</th>\n",
       "    </tr>\n",
       "  </thead>\n",
       "  <tbody>\n",
       "    <tr>\n",
       "      <th>MV_2.0</th>\n",
       "      <td>4.636583</td>\n",
       "    </tr>\n",
       "    <tr>\n",
       "      <th>MV_3.0</th>\n",
       "      <td>3.055578</td>\n",
       "    </tr>\n",
       "    <tr>\n",
       "      <th>MV_4.0</th>\n",
       "      <td>2.748374</td>\n",
       "    </tr>\n",
       "    <tr>\n",
       "      <th>MV_1.0</th>\n",
       "      <td>2.389897</td>\n",
       "    </tr>\n",
       "    <tr>\n",
       "      <th>SCH_3</th>\n",
       "      <td>2.284635</td>\n",
       "    </tr>\n",
       "    <tr>\n",
       "      <th>...</th>\n",
       "      <td>...</td>\n",
       "    </tr>\n",
       "    <tr>\n",
       "      <th>FPARC_0</th>\n",
       "      <td>0.424199</td>\n",
       "    </tr>\n",
       "    <tr>\n",
       "      <th>BATH</th>\n",
       "      <td>0.419548</td>\n",
       "    </tr>\n",
       "    <tr>\n",
       "      <th>BLD_2.0</th>\n",
       "      <td>0.362381</td>\n",
       "    </tr>\n",
       "    <tr>\n",
       "      <th>HHT_2.0</th>\n",
       "      <td>0.319640</td>\n",
       "    </tr>\n",
       "    <tr>\n",
       "      <th>ACR_1.0</th>\n",
       "      <td>0.242583</td>\n",
       "    </tr>\n",
       "  </tbody>\n",
       "</table>\n",
       "<p>92 rows × 1 columns</p>\n",
       "</div>"
      ],
      "text/plain": [
       "         Odds_ratio\n",
       "MV_2.0     4.636583\n",
       "MV_3.0     3.055578\n",
       "MV_4.0     2.748374\n",
       "MV_1.0     2.389897\n",
       "SCH_3      2.284635\n",
       "...             ...\n",
       "FPARC_0    0.424199\n",
       "BATH       0.419548\n",
       "BLD_2.0    0.362381\n",
       "HHT_2.0    0.319640\n",
       "ACR_1.0    0.242583\n",
       "\n",
       "[92 rows x 1 columns]"
      ]
     },
     "execution_count": 41,
     "metadata": {},
     "output_type": "execute_result"
    }
   ],
   "source": [
    "# Odds ratio 계산\n",
    "\n",
    "feature_names = list(data.columns)   # 변수명(컬럼명)을 리스트 형태로 만들기\n",
    "dft = pd.DataFrame(np.exp(best_clf.coef_).transpose(), index=feature_names,\n",
    "                   columns=['Odds_ratio'])\n",
    "dft1 = dft.sort_values(by='Odds_ratio', ascending=False)   # 컬럼 coef의 값들을 내림차순으로 정리\n",
    "dft1  "
   ]
  },
  {
   "cell_type": "code",
   "execution_count": 42,
   "metadata": {},
   "outputs": [
    {
     "data": {
      "text/plain": [
       "(77, 1)"
      ]
     },
     "execution_count": 42,
     "metadata": {},
     "output_type": "execute_result"
    }
   ],
   "source": [
    "# Odds ratio가 1(즉, 원 계수값이 0)인 변수들을 제거\n",
    "dft2 = dft1[dft1['Odds_ratio']!= 1]\n",
    "dft2.shape"
   ]
  },
  {
   "cell_type": "code",
   "execution_count": 49,
   "metadata": {},
   "outputs": [
    {
     "data": {
      "image/png": "[encoded data removed]",
      "text/plain": [
       "<Figure size 792x1440 with 1 Axes>"
      ]
     },
     "metadata": {
      "needs_background": "light"
     },
     "output_type": "display_data"
    }
   ],
   "source": [
    "# 데이터프레임 dft2의 막대그래프 그리기\n",
    "import matplotlib.pyplot as plt\n",
    "import seaborn as sns\n",
    "%matplotlib inline\n",
    "\n",
    "fig, ax = plt.subplots(figsize=(11, 20))\n",
    "ax = sns.barplot(y=dft2.index, x=\"Odds_ratio\", data=dft2)\n",
    "\n",
    "for p in ax.patches:\n",
    "    ax.annotate(\"%.3f\" % p.get_width(), (p.get_x() + p.get_width(), p.get_y()+1.4),\n",
    "                xytext=(5, 10), textcoords='offset points')"
   ]
  },
  {
   "cell_type": "code",
   "execution_count": 16,
   "metadata": {},
   "outputs": [
    {
     "name": "stdout",
     "output_type": "stream",
     "text": [
      "Warning: Maximum number of iterations has been exceeded.\n",
      "         Current function value: 0.517257\n",
      "         Iterations: 1000\n"
     ]
    },
    {
     "name": "stderr",
     "output_type": "stream",
     "text": [
      "C:\\ProgramData\\Anaconda3\\lib\\site-packages\\statsmodels\\base\\model.py:566: ConvergenceWarning: Maximum Likelihood optimization failed to converge. Check mle_retvals\n",
      "  warnings.warn(\"Maximum Likelihood optimization failed to \"\n"
     ]
    }
   ],
   "source": [
    "# maxiter=1,000으로 설정. 이를 초과하면 singular matrix 에러 발생\n",
    "\n",
    "import statsmodels.api as sm \n",
    "log_reg = sm.Logit(y_train, X_train).fit(maxiter=1000)"
   ]
  },
  {
   "cell_type": "code",
   "execution_count": 17,
   "metadata": {},
   "outputs": [
    {
     "name": "stdout",
     "output_type": "stream",
     "text": [
      "                           Logit Regression Results                           \n",
      "==============================================================================\n",
      "Dep. Variable:                VALP_B1   No. Observations:                10247\n",
      "Model:                          Logit   Df Residuals:                    10156\n",
      "Method:                           MLE   Df Model:                           90\n",
      "Date:                Mon, 06 Dec 2021   Pseudo R-squ.:                  0.2535\n",
      "Time:                        16:26:54   Log-Likelihood:                -5300.3\n",
      "converged:                      False   LL-Null:                       -7099.9\n",
      "Covariance Type:            nonrobust   LLR p-value:                     0.000\n",
      "==============================================================================\n",
      "                 coef    std err          z      P>|z|      [0.025      0.975]\n",
      "------------------------------------------------------------------------------\n",
      "AGEP           0.0122      0.003      4.258      0.000       0.007       0.018\n",
      "BATH           0.6334      0.747      0.848      0.396      -0.830       2.097\n",
      "BDSP           0.5052      0.043     11.771      0.000       0.421       0.589\n",
      "ELEP           0.0012      0.000      3.482      0.000       0.001       0.002\n",
      "FESRP          0.0225      0.128      0.176      0.860      -0.229       0.274\n",
      "FKITP          0.4040      0.247      1.637      0.102      -0.080       0.888\n",
      "FSCHP         -0.0610      0.130     -0.469      0.639      -0.316       0.194\n",
      "FTAXP          0.0993      0.061      1.639      0.101      -0.019       0.218\n",
      "GASP           0.0019      0.001      3.474      0.001       0.001       0.003\n",
      "HINCP       1.356e-05   6.31e-07     21.498      0.000    1.23e-05    1.48e-05\n",
      "NRC            0.0197      0.038      0.519      0.604      -0.055       0.094\n",
      "R18           -0.9893      0.306     -3.235      0.001      -1.589      -0.390\n",
      "RMSP           0.1960      0.017     11.381      0.000       0.162       0.230\n",
      "RWAT           0.9524      0.768      1.240      0.215      -0.553       2.458\n",
      "ACCESS_1.0     0.4318      0.084      5.159      0.000       0.268       0.596\n",
      "ACCESS_2.0    -0.0167      0.177     -0.094      0.925      -0.365       0.331\n",
      "ACR_1.0       -1.4364      0.081    -17.703      0.000      -1.595      -1.277\n",
      "ACR_2.0       -0.5990      0.087     -6.896      0.000      -0.769      -0.429\n",
      "BLD_2.0       -0.8254      0.227     -3.632      0.000      -1.271      -0.380\n",
      "COW_0         -0.0814      0.544     -0.150      0.881      -1.148       0.985\n",
      "COW_1         -0.3978      0.543     -0.732      0.464      -1.463       0.667\n",
      "COW_2         -0.3296      0.558     -0.591      0.554      -1.422       0.763\n",
      "COW_3         -0.4493      0.555     -0.810      0.418      -1.537       0.638\n",
      "COW_4         -0.4598      0.554     -0.830      0.407      -1.545       0.626\n",
      "COW_5         -0.5693      0.562     -1.013      0.311      -1.671       0.532\n",
      "COW_6         -0.2458      0.554     -0.444      0.657      -1.331       0.839\n",
      "COW_7          0.2974      0.568      0.524      0.600      -0.815       1.410\n",
      "COW_8         -0.7897      0.708     -1.116      0.264      -2.177       0.597\n",
      "FPARC_0       -6.9007      1.450     -4.758      0.000      -9.743      -4.058\n",
      "FPARC_1        0.7522      0.325      2.317      0.021       0.116       1.389\n",
      "FPARC_2        0.7089      0.315      2.250      0.024       0.091       1.326\n",
      "FPARC_3        0.4033      0.332      1.213      0.225      -0.248       1.055\n",
      "HHL_1.0        0.5161      0.265      1.950      0.051      -0.003       1.035\n",
      "HHL_2.0       -0.1137      0.264     -0.431      0.667      -0.631       0.404\n",
      "HHL_3.0        0.5520      0.361      1.529      0.126      -0.155       1.259\n",
      "HHL_4.0        0.9999      0.335      2.986      0.003       0.344       1.656\n",
      "HHT_1.0       -6.6055      1.434     -4.606      0.000      -9.416      -3.795\n",
      "HHT_2.0       -7.1154      1.440     -4.940      0.000      -9.938      -4.293\n",
      "HHT_3.0       -6.7827      1.437     -4.719      0.000      -9.600      -3.966\n",
      "HHT_4.0        0.0169      0.256      0.066      0.948      -0.486       0.519\n",
      "HHT_5.0        0.2083      0.283      0.735      0.462      -0.347       0.764\n",
      "HHT_6.0        0.6006      0.249      2.416      0.016       0.113       1.088\n",
      "LANX_0         0.5429      0.256      2.117      0.034       0.040       1.045\n",
      "LANX_1         0.2945      0.173      1.706      0.088      -0.044       0.633\n",
      "MAR_1         -0.0404      0.112     -0.362      0.718      -0.259       0.178\n",
      "MAR_2         -0.2781      0.160     -1.734      0.083      -0.592       0.036\n",
      "MAR_3         -0.1838      0.127     -1.452      0.146      -0.432       0.064\n",
      "MAR_4          0.0844      0.262      0.322      0.747      -0.429       0.598\n",
      "MV_1.0         1.0413      0.124      8.374      0.000       0.798       1.285\n",
      "MV_2.0         1.7173      0.133     12.940      0.000       1.457       1.977\n",
      "MV_3.0         1.2711      0.100     12.750      0.000       1.076       1.467\n",
      "MV_4.0         1.1470      0.096     11.971      0.000       0.959       1.335\n",
      "MV_5.0         0.8184      0.088      9.301      0.000       0.646       0.991\n",
      "MV_6.0         0.2672      0.097      2.751      0.006       0.077       0.458\n",
      "R65_1.0        0.1250      0.085      1.475      0.140      -0.041       0.291\n",
      "R65_2.0        0.2204      0.100      2.196      0.028       0.024       0.417\n",
      "RAC1P_1        0.7587      0.244      3.104      0.002       0.280       1.238\n",
      "RAC1P_2        0.5922      0.279      2.120      0.034       0.045       1.140\n",
      "RAC1P_3        0.4415      0.258      1.711      0.087      -0.064       0.947\n",
      "RAC1P_4      -25.1013    1.6e+06  -1.57e-05      1.000   -3.14e+06    3.14e+06\n",
      "RAC1P_5        0.3270      0.523      0.625      0.532      -0.698       1.352\n",
      "RAC1P_6        0.5786      0.344      1.683      0.092      -0.095       1.252\n",
      "RAC1P_7        1.9890      0.974      2.043      0.041       0.080       3.898\n",
      "RAC1P_9        0.4580      0.259      1.772      0.076      -0.049       0.965\n",
      "SCH_0          0.0184        nan        nan        nan         nan         nan\n",
      "SCH_2          0.4353      0.110      3.952      0.000       0.219       0.651\n",
      "SCH_3          1.0201      0.179      5.705      0.000       0.670       1.371\n",
      "SCHL_0         0.0184        nan        nan        nan         nan         nan\n",
      "SCHL_2        -0.2114      0.262     -0.808      0.419      -0.724       0.301\n",
      "SCHL_3         0.5817      0.303      1.918      0.055      -0.013       1.176\n",
      "SCHL_4        -0.3762      0.333     -1.130      0.259      -1.029       0.276\n",
      "SCHL_5        -0.1649      0.301     -0.548      0.584      -0.755       0.425\n",
      "SCHL_6        -0.7057      0.300     -2.354      0.019      -1.293      -0.118\n",
      "SCHL_7        -0.2668      0.302     -0.885      0.376      -0.858       0.324\n",
      "SCHL_8        -0.0909      0.299     -0.304      0.761      -0.677       0.495\n",
      "SCHL_9        -0.3193      0.292     -1.094      0.274      -0.892       0.253\n",
      "SCHL_10       -0.3230      0.303     -1.066      0.286      -0.917       0.271\n",
      "SCHL_11       -0.4575      0.265     -1.723      0.085      -0.978       0.063\n",
      "SCHL_12       -0.5224      0.280     -1.868      0.062      -1.071       0.026\n",
      "SCHL_13       -0.3774      0.261     -1.444      0.149      -0.890       0.135\n",
      "SCHL_14       -0.2489      0.257     -0.969      0.333      -0.752       0.255\n",
      "SCHL_15       -0.4630      0.297     -1.558      0.119      -1.045       0.120\n",
      "SCHL_16       -0.1005      0.228     -0.441      0.660      -0.548       0.347\n",
      "SCHL_17       -0.2547      0.261     -0.977      0.328      -0.766       0.256\n",
      "SCHL_18        0.0831      0.242      0.344      0.731      -0.390       0.557\n",
      "SCHL_19        0.1165      0.233      0.501      0.616      -0.339       0.572\n",
      "SCHL_20       -0.0750      0.242     -0.310      0.757      -0.550       0.400\n",
      "SCHL_21        0.5722      0.234      2.443      0.015       0.113       1.031\n",
      "SCHL_22        0.6110      0.253      2.418      0.016       0.116       1.106\n",
      "SCHL_23        0.5931      0.345      1.718      0.086      -0.084       1.270\n",
      "SCHL_24        0.8525      0.463      1.842      0.066      -0.055       1.760\n",
      "SEX_2          0.0334      0.052      0.648      0.517      -0.068       0.135\n",
      "==============================================================================\n"
     ]
    }
   ],
   "source": [
    "print(log_reg.summary()) "
   ]
  },
  {
   "cell_type": "markdown",
   "metadata": {},
   "source": [
    "# 로그 변환한 데이터로 Lasso 실행"
   ]
  },
  {
   "cell_type": "code",
   "execution_count": 11,
   "metadata": {},
   "outputs": [
    {
     "data": {
      "text/plain": [
       "(20495, 93)"
      ]
     },
     "execution_count": 11,
     "metadata": {},
     "output_type": "execute_result"
    }
   ],
   "source": [
    "import pandas as pd\n",
    "import numpy as np\n",
    "df = pd.read_csv('house-log.csv')   \n",
    "df.shape"
   ]
  },
  {
   "cell_type": "code",
   "execution_count": 12,
   "metadata": {},
   "outputs": [
    {
     "name": "stdout",
     "output_type": "stream",
     "text": [
      "X_train shape: (10247, 92)\n",
      "X_test shape: (10248, 92)\n"
     ]
    }
   ],
   "source": [
    "data = df.drop(['VALP_B1'], axis=1)   # 타겟변수를 제외한 입력변수를 data에 저장\n",
    "target = df['VALP_B1']                # 타겟변수만 target에 저장\n",
    "\n",
    "# 50:50 데이터 분할\n",
    "from sklearn.model_selection import train_test_split \n",
    "X_train, X_test, y_train, y_test = train_test_split( \n",
    "    data, target, test_size=0.5, random_state=42)   # test_size=0.5임에 주의 \n",
    "\n",
    "print(\"X_train shape:\", X_train.shape) \n",
    "print(\"X_test shape:\", X_test.shape) "
   ]
  },
  {
   "cell_type": "code",
   "execution_count": 13,
   "metadata": {},
   "outputs": [
    {
     "name": "stdout",
     "output_type": "stream",
     "text": [
      "Lasso Accuracy on training set:0.74666\n",
      "Lasso Accuracy on test set:0.72541\n"
     ]
    }
   ],
   "source": [
    "# Lasso 모델 (Default 모델 for liblinear)\n",
    "from sklearn.linear_model import LogisticRegression\n",
    "from sklearn.metrics import accuracy_score\n",
    "ls = LogisticRegression(penalty='l1',solver='liblinear',C=1,random_state=0)\n",
    "model = ls.fit(X_train, y_train) \n",
    "pred = model.predict(X_test)  # 학습된 Classifier로 테스트 데이터셋 자료이용해서 타겟변수 예측값 생성\n",
    "accuracy = accuracy_score(y_test, pred)\n",
    "\n",
    "print (\"Lasso Accuracy on training set:{:.5f}\".format(model.score(X_train, y_train))) \n",
    "print (\"Lasso Accuracy on test set:{:.5f}\".format(accuracy_score(y_test, pred)))"
   ]
  },
  {
   "cell_type": "code",
   "execution_count": 14,
   "metadata": {},
   "outputs": [],
   "source": [
    "# Lasso 모델 (Default 모델 for liblinear)\n",
    "ls = LogisticRegression(penalty='l1',solver='liblinear',C=1,random_state=0)"
   ]
  },
  {
   "cell_type": "code",
   "execution_count": 15,
   "metadata": {},
   "outputs": [
    {
     "name": "stdout",
     "output_type": "stream",
     "text": [
      "Fitting 5 folds for each of 28 candidates, totalling 140 fits\n"
     ]
    },
    {
     "name": "stderr",
     "output_type": "stream",
     "text": [
      "C:\\ProgramData\\Anaconda3\\lib\\site-packages\\sklearn\\model_selection\\_search.py:918: UserWarning: One or more of the test scores are non-finite: [       nan 0.67512381        nan 0.71269507        nan 0.72440662\n",
      "        nan 0.72831011        nan 0.73670297        nan 0.73621517\n",
      "        nan 0.73933859        nan 0.73885041        nan 0.74011913\n",
      "        nan 0.74002205        nan 0.7398263         nan 0.73816715\n",
      "        nan 0.74011908        nan 0.73904572]\n",
      "  warnings.warn(\n"
     ]
    },
    {
     "name": "stdout",
     "output_type": "stream",
     "text": [
      "GridSearchCV max accuracy:0.74012\n",
      "GridSearchCV best parameter: {'C': 0.3, 'solver': 'liblinear'}\n"
     ]
    }
   ],
   "source": [
    "# 그리드 서치 실행\n",
    "from sklearn.model_selection import GridSearchCV\n",
    "from sklearn.model_selection import StratifiedKFold  \n",
    "\n",
    "# StratifiedKFold의 random_state 옵션값을 특정 숫자(예: 0)로 고정\n",
    "cross_validation = StratifiedKFold(n_splits=5, shuffle=True, random_state=0)\n",
    "params = {'solver':['lbfgs', 'liblinear', 'sag', 'saga'],\n",
    "          'C':[0.01,0.05,0.1,0.2,0.3,0.5,1]\n",
    "         }\n",
    "\n",
    "# GridSearchCV의 cv=cross_validation 옵션값은 위의 StratifiedKFold의 random_state 옵션값을 적용시켜서\n",
    "# GridSearchCV를 실행핼 때마다 결과가 항상 동일하게 나오도록 보장\n",
    "grid_ls = GridSearchCV(ls, param_grid=params, scoring='accuracy', cv=cross_validation,\n",
    "                       n_jobs=-1, verbose=1)\n",
    "grid_ls.fit(X_train, y_train)\n",
    "\n",
    "print(\"GridSearchCV max accuracy:{:.5f}\".format(grid_ls.best_score_))\n",
    "print(\"GridSearchCV best parameter:\", (grid_ls.best_params_)) "
   ]
  },
  {
   "cell_type": "code",
   "execution_count": 16,
   "metadata": {},
   "outputs": [
    {
     "name": "stdout",
     "output_type": "stream",
     "text": [
      "Accuracy on test set:0.72590\n",
      "ROC AUC on test set:0.79936\n"
     ]
    }
   ],
   "source": [
    "best_clf = grid_ls.best_estimator_\n",
    "pred = best_clf.predict(X_test)\n",
    "print(\"Accuracy on test set:{:.5f}\".format(accuracy_score(y_test, pred)))\n",
    "\n",
    "from sklearn.metrics import roc_auc_score\n",
    "ROC_AUC = roc_auc_score(y_test,best_clf.predict_proba(X_test)[:, 1])\n",
    "print(\"ROC AUC on test set:{:.5f}\".format(ROC_AUC))"
   ]
  },
  {
   "cell_type": "markdown",
   "metadata": {},
   "source": [
    "# StandardScaler로 표준화한 데이터로 Lasso 실행"
   ]
  },
  {
   "cell_type": "code",
   "execution_count": 31,
   "metadata": {},
   "outputs": [
    {
     "data": {
      "text/plain": [
       "(20495, 93)"
      ]
     },
     "execution_count": 31,
     "metadata": {},
     "output_type": "execute_result"
    }
   ],
   "source": [
    "import pandas as pd\n",
    "import numpy as np\n",
    "df = pd.read_csv('house-standard.csv')   \n",
    "df.shape"
   ]
  },
  {
   "cell_type": "code",
   "execution_count": 32,
   "metadata": {},
   "outputs": [
    {
     "name": "stdout",
     "output_type": "stream",
     "text": [
      "X_train shape: (10247, 92)\n",
      "X_test shape: (10248, 92)\n"
     ]
    }
   ],
   "source": [
    "data = df.drop(['VALP_B1'], axis=1)   # 타겟변수를 제외한 변수만 data에 저장\n",
    "target = df['VALP_B1']                # 타겟변수만 target에 저장\n",
    "\n",
    "# 50:50 데이터 변환\n",
    "from sklearn.model_selection import train_test_split \n",
    "X_train, X_test, y_train, y_test = train_test_split( \n",
    "    data, target, test_size=0.5, random_state=42)   # test_size=0.5임에 주의 \n",
    "\n",
    "print(\"X_train shape:\", X_train.shape) \n",
    "print(\"X_test shape:\", X_test.shape) "
   ]
  },
  {
   "cell_type": "code",
   "execution_count": 33,
   "metadata": {},
   "outputs": [
    {
     "name": "stdout",
     "output_type": "stream",
     "text": [
      "Lasso Accuracy on training set:0.74851\n",
      "Lasso Accuracy on test set:0.72843\n"
     ]
    }
   ],
   "source": [
    "# Lasso 모델 (Default 모델 for liblinear)\n",
    "from sklearn.linear_model import LogisticRegression\n",
    "from sklearn.metrics import accuracy_score\n",
    "ls = LogisticRegression(penalty='l1',solver='liblinear',C=1,random_state=0)\n",
    "model = ls.fit(X_train, y_train) \n",
    "pred = model.predict(X_test)  # 학습된 Classifier로 테스트 데이터셋 자료이용해서 타겟변수 예측값 생성\n",
    "accuracy = accuracy_score(y_test, pred)\n",
    "\n",
    "print (\"Lasso Accuracy on training set:{:.5f}\".format(model.score(X_train, y_train))) \n",
    "print (\"Lasso Accuracy on test set:{:.5f}\".format(accuracy_score(y_test, pred)))"
   ]
  },
  {
   "cell_type": "code",
   "execution_count": 34,
   "metadata": {},
   "outputs": [],
   "source": [
    "# Lasso 모델 (Default 모델 for liblinear)\n",
    "ls = LogisticRegression(penalty='l1',solver='liblinear',C=1,random_state=0)"
   ]
  },
  {
   "cell_type": "code",
   "execution_count": 35,
   "metadata": {},
   "outputs": [
    {
     "name": "stdout",
     "output_type": "stream",
     "text": [
      "Fitting 5 folds for each of 28 candidates, totalling 140 fits\n"
     ]
    },
    {
     "name": "stderr",
     "output_type": "stream",
     "text": [
      "C:\\ProgramData\\Anaconda3\\lib\\site-packages\\sklearn\\model_selection\\_search.py:918: UserWarning: One or more of the test scores are non-finite: [       nan 0.71103587        nan 0.7073275         nan 0.73211589\n",
      "        nan 0.73270135        nan 0.73826457        nan 0.73894759\n",
      "        nan 0.74246031        nan 0.7423627         nan 0.7427538\n",
      "        nan 0.7432418         nan 0.74343725        nan 0.74314443\n",
      "        nan 0.7433395         nan 0.74314428]\n",
      "  warnings.warn(\n"
     ]
    },
    {
     "name": "stdout",
     "output_type": "stream",
     "text": [
      "GridSearchCV max accuracy:0.74344\n",
      "GridSearchCV best parameter: {'C': 0.5, 'solver': 'liblinear'}\n"
     ]
    }
   ],
   "source": [
    "# 그리드 서치 실행\n",
    "from sklearn.model_selection import GridSearchCV\n",
    "from sklearn.model_selection import StratifiedKFold  \n",
    "\n",
    "# StratifiedKFold의 random_state 옵션값을 특정 숫자(예: 0)로 고정\n",
    "cross_validation = StratifiedKFold(n_splits=5, shuffle=True, random_state=0)\n",
    "params = {'solver':['lbfgs','liblinear','sag','saga'],\n",
    "                    'C':[0.01,0.05,0.1,0.2,0.3,0.5,1]\n",
    "                    }\n",
    "\n",
    "# GridSearchCV의 cv=cross_validation 옵션값은 위의 StratifiedKFold의 random_state 옵션값을 적용시켜서\n",
    "# GridSearchCV를 실행핼 때마다 결과가 항상 동일하게 나오도록 보장\n",
    "grid_ls = GridSearchCV(ls, param_grid=params, scoring='accuracy', cv=cross_validation,\\\n",
    "                       n_jobs=-1,\\\n",
    "                       verbose=1)\n",
    "grid_ls.fit(X_train, y_train)\n",
    "\n",
    "print(\"GridSearchCV max accuracy:{:.5f}\".format(grid_ls.best_score_))\n",
    "print(\"GridSearchCV best parameter:\", (grid_ls.best_params_)) "
   ]
  },
  {
   "cell_type": "code",
   "execution_count": 36,
   "metadata": {},
   "outputs": [
    {
     "name": "stdout",
     "output_type": "stream",
     "text": [
      "Accuracy on test set:0.72931\n",
      "ROC AUC on test set:0.80707\n"
     ]
    }
   ],
   "source": [
    "best_clf = grid_ls.best_estimator_\n",
    "pred = best_clf.predict(X_test)\n",
    "print(\"Accuracy on test set:{:.5f}\".format(accuracy_score(y_test, pred)))\n",
    "\n",
    "from sklearn.metrics import roc_auc_score\n",
    "ROC_AUC = roc_auc_score(y_test,best_clf.predict_proba(X_test)[:, 1])\n",
    "print(\"ROC AUC on test set:{:.5f}\".format(ROC_AUC))"
   ]
  },
  {
   "cell_type": "code",
   "execution_count": null,
   "metadata": {},
   "outputs": [],
   "source": []
  }
 ],
 "metadata": {
  "kernelspec": {
   "display_name": "Python 3 (ipykernel)",
   "language": "python",
   "name": "python3"
  },
  "language_info": {
   "codemirror_mode": {
    "name": "ipython",
    "version": 3
   },
   "file_extension": ".py",
   "mimetype": "text/x-python",
   "name": "python",
   "nbconvert_exporter": "python",
   "pygments_lexer": "ipython3",
   "version": "3.9.7"
  }
 },
 "nbformat": 4,
 "nbformat_minor": 2
}
