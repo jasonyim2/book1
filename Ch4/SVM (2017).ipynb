{
 "cells": [
  {
   "cell_type": "markdown",
   "metadata": {},
   "source": [
    "# 4.7.7 서포트 벡터 머신(SVM) 모델"
   ]
  },
  {
   "cell_type": "code",
   "execution_count": 1,
   "metadata": {},
   "outputs": [
    {
     "data": {
      "text/plain": [
       "(20495, 93)"
      ]
     },
     "execution_count": 1,
     "metadata": {},
     "output_type": "execute_result"
    }
   ],
   "source": [
    "import pandas as pd\n",
    "import numpy as np\n",
    "df = pd.read_csv('house-standard.csv')   \n",
    "df.shape"
   ]
  },
  {
   "cell_type": "code",
   "execution_count": 2,
   "metadata": {},
   "outputs": [
    {
     "name": "stdout",
     "output_type": "stream",
     "text": [
      "X_train shape: (10247, 92)\n",
      "X_test shape: (10248, 92)\n"
     ]
    }
   ],
   "source": [
    "data = df.drop(['VALP_B1'], axis=1)   # 타겟변수를 제외한 입력변수를 data에 저장\n",
    "target = df['VALP_B1']                # 타겟변수만 target 데이터프레임에 저장\n",
    "\n",
    "# 50:50 데이터 분할\n",
    "from sklearn.model_selection import train_test_split \n",
    "X_train, X_test, y_train, y_test = train_test_split( \n",
    "    data, target, test_size=0.5, random_state=42)   # test_size=0.5임에 주의 \n",
    "\n",
    "print(\"X_train shape:\", X_train.shape) \n",
    "print(\"X_test shape:\", X_test.shape) "
   ]
  },
  {
   "cell_type": "code",
   "execution_count": 3,
   "metadata": {},
   "outputs": [
    {
     "name": "stdout",
     "output_type": "stream",
     "text": [
      "SVM Accuracy on training set:0.75349\n",
      "SVM Accuracy on test set:0.73488\n"
     ]
    }
   ],
   "source": [
    "# SVM model (default 모델)\n",
    "\n",
    "from sklearn.svm import SVC \n",
    "from sklearn.metrics import accuracy_score\n",
    "svm = SVC(kernel='rbf', C=1, gamma = 'auto', random_state=0, probability=True) \n",
    "                                                     # probability=True 에 주의\n",
    "model = svm.fit(X_train, y_train)\n",
    "pred = model.predict(X_test)  # 학습된 Classifier로 테스트 데이터셋 자료이용해서 타겟변수 예측값 생성\n",
    "accuracy = accuracy_score(y_test, pred)\n",
    "\n",
    "print (\"SVM Accuracy on training set:{:.5f}\".format(model.score(X_train, y_train))) \n",
    "print (\"SVM Accuracy on test set:{:.5f}\".format(accuracy_score(y_test, pred)))"
   ]
  },
  {
   "cell_type": "code",
   "execution_count": 4,
   "metadata": {},
   "outputs": [],
   "source": [
    "# SVM model (default 모델)\n",
    "svm = SVC(kernel='rbf', C=1, gamma = 'auto', random_state=0, probability=True) \n",
    "                                                     # probability=True 에 주의"
   ]
  },
  {
   "cell_type": "code",
   "execution_count": 5,
   "metadata": {},
   "outputs": [
    {
     "name": "stdout",
     "output_type": "stream",
     "text": [
      "GridSearchCV max accuracy:0.73641\n",
      "GridSearchCV best parameter: {'C': 1, 'gamma': 'auto', 'kernel': 'sigmoid'}\n",
      "Runtime of the program is 321.6062841415405\n"
     ]
    }
   ],
   "source": [
    "# 그리드 서치 실행. 시간이 많이 걸림에 주의\n",
    "\n",
    "import time\n",
    "start = time.time()\n",
    "\n",
    "from sklearn.model_selection import GridSearchCV\n",
    "from sklearn.model_selection import StratifiedKFold  \n",
    "\n",
    "# StratifiedKFold의 random_state 옵션값을 특정 숫자(예: 0)로 고정\n",
    "cross_validation = StratifiedKFold(n_splits=3, shuffle=True, random_state=0)\n",
    "params = {'kernel':['sigmoid'], 'C':[0.0001, 0.01, 1, 10],\n",
    "          'gamma':['auto','scale']}\n",
    "\n",
    "grid_svm = GridSearchCV(svm, param_grid=params, scoring='accuracy',\n",
    "                        cv=cross_validation, n_jobs=-1)\n",
    "grid_svm.fit(X_train, y_train)\n",
    "\n",
    "print(\"GridSearchCV max accuracy:{:.5f}\".format(grid_svm.best_score_))\n",
    "print(\"GridSearchCV best parameter:\", (grid_svm.best_params_))\n",
    "\n",
    "end = time.time()\n",
    "print(f\"Runtime of the program is {end - start}\")"
   ]
  },
  {
   "cell_type": "code",
   "execution_count": 6,
   "metadata": {},
   "outputs": [],
   "source": [
    "# SVM model (default 모델)\n",
    "svm = SVC(kernel='rbf', C=1, gamma = 'auto', random_state=0, probability=True) \n",
    "                                                     # probability=True 에 주의"
   ]
  },
  {
   "cell_type": "code",
   "execution_count": 7,
   "metadata": {},
   "outputs": [
    {
     "name": "stdout",
     "output_type": "stream",
     "text": [
      "GridSearchCV max accuracy:0.76110\n",
      "GridSearchCV best parameter: {'C': 10, 'gamma': 'scale', 'kernel': 'rbf'}\n",
      "Runtime of the program is 419.0511739253998\n"
     ]
    }
   ],
   "source": [
    "# 그리드 서치 재실행. 시간이 많이 걸림에 주의\n",
    "\n",
    "import time\n",
    "start = time.time()\n",
    "\n",
    "from sklearn.model_selection import GridSearchCV\n",
    "from sklearn.model_selection import StratifiedKFold  \n",
    "\n",
    "# StratifiedKFold의 random_state 옵션값을 특정 숫자(예: 0)로 고정\n",
    "cross_validation = StratifiedKFold(n_splits=3, shuffle=True, random_state=0)\n",
    "params = {'kernel':['rbf'], 'C':[0.0001, 0.01, 1, 10],\n",
    "         'gamma':['auto','scale']}\n",
    "\n",
    "grid_svm = GridSearchCV(svm, param_grid=params, scoring='accuracy', \n",
    "                        cv=cross_validation, n_jobs=-1)\n",
    "grid_svm.fit(X_train, y_train)\n",
    "\n",
    "print(\"GridSearchCV max accuracy:{:.5f}\".format(grid_svm.best_score_))\n",
    "print(\"GridSearchCV best parameter:\", (grid_svm.best_params_))\n",
    "\n",
    "end = time.time()\n",
    "print(f\"Runtime of the program is {end - start}\")"
   ]
  },
  {
   "cell_type": "code",
   "execution_count": 8,
   "metadata": {},
   "outputs": [
    {
     "name": "stdout",
     "output_type": "stream",
     "text": [
      "Accuracy on test set:0.76883\n",
      "ROC AUC on test set:0.84251\n"
     ]
    }
   ],
   "source": [
    "best_clf = grid_svm.best_estimator_\n",
    "pred = best_clf.predict(X_test)\n",
    "print(\"Accuracy on test set:{:.5f}\".format(accuracy_score(y_test, pred)))\n",
    "\n",
    "from sklearn.metrics import roc_auc_score\n",
    "ROC_AUC = roc_auc_score(y_test,best_clf.predict_proba(X_test)[:, 1])\n",
    "print(\"ROC AUC on test set:{:.5f}\".format(ROC_AUC))"
   ]
  },
  {
   "cell_type": "code",
   "execution_count": null,
   "metadata": {},
   "outputs": [],
   "source": []
  }
 ],
 "metadata": {
  "kernelspec": {
   "display_name": "Python 3 (ipykernel)",
   "language": "python",
   "name": "python3"
  },
  "language_info": {
   "codemirror_mode": {
    "name": "ipython",
    "version": 3
   },
   "file_extension": ".py",
   "mimetype": "text/x-python",
   "name": "python",
   "nbconvert_exporter": "python",
   "pygments_lexer": "ipython3",
   "version": "3.9.7"
  }
 },
 "nbformat": 4,
 "nbformat_minor": 2
}
