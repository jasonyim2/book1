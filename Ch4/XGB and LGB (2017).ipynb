{
 "cells": [
  {
   "cell_type": "markdown",
   "id": "eff105ff",
   "metadata": {},
   "source": [
    "# 4.7.9 XGBoost 모델"
   ]
  },
  {
   "cell_type": "code",
   "execution_count": null,
   "id": "baeabd66",
   "metadata": {},
   "outputs": [],
   "source": [
    "# 아래 두 줄 코딩 즉 xgboost와 lightgbm 설치 구문 중 하나라도 주피터 노트북에서 설치에러 발생시에는\n",
    "# 구글 코랩에서 이 ipynb 파일을 열고 실행할 것을 추천함"
   ]
  },
  {
   "cell_type": "code",
   "execution_count": null,
   "id": "04481635",
   "metadata": {},
   "outputs": [],
   "source": [
    "# 그 때 2017DC1-all.csv 파일을 구글 드라이브에 업로딩하고 이를 구글 코랩에서 불러오기 위해서는 \n",
    "# 책 본문 4.7.6의 텐서플로 케라스 절의 초반 안내 사항 준수 필요"
   ]
  },
  {
   "cell_type": "code",
   "execution_count": null,
   "id": "e7ecf170",
   "metadata": {
    "scrolled": true
   },
   "outputs": [],
   "source": [
    "pip install xgboost"
   ]
  },
  {
   "cell_type": "code",
   "execution_count": null,
   "id": "c4bcd9c0",
   "metadata": {},
   "outputs": [],
   "source": [
    "pip install lightgbm"
   ]
  },
  {
   "cell_type": "code",
   "execution_count": 1,
   "id": "55cc730d",
   "metadata": {},
   "outputs": [
    {
     "data": {
      "text/plain": [
       "(20495, 31)"
      ]
     },
     "execution_count": 1,
     "metadata": {},
     "output_type": "execute_result"
    }
   ],
   "source": [
    "import pandas as pd\n",
    "import numpy as np\n",
    "import matplotlib.pyplot as plt\n",
    "import seaborn as sns\n",
    "from xgboost import XGBRegressor\n",
    "from lightgbm import LGBMRegressor\n",
    "\n",
    "df = pd.read_csv('2017DC1-all.csv') # 결정 트리 계열 모델에 사용했던 데이터셋인 2017DC1.csv에\n",
    "                                    # 연속변수 타겟 VALP가 추가된 데이터셋인 2017DC1-all.csv 불러오기\n",
    "df.shape"
   ]
  },
  {
   "cell_type": "code",
   "execution_count": 2,
   "id": "374a288d",
   "metadata": {},
   "outputs": [
    {
     "data": {
      "text/html": [
       "<div>\n",
       "<style scoped>\n",
       "    .dataframe tbody tr th:only-of-type {\n",
       "        vertical-align: middle;\n",
       "    }\n",
       "\n",
       "    .dataframe tbody tr th {\n",
       "        vertical-align: top;\n",
       "    }\n",
       "\n",
       "    .dataframe thead th {\n",
       "        text-align: right;\n",
       "    }\n",
       "</style>\n",
       "<table border=\"1\" class=\"dataframe\">\n",
       "  <thead>\n",
       "    <tr style=\"text-align: right;\">\n",
       "      <th></th>\n",
       "      <th>ACCESS</th>\n",
       "      <th>ACR</th>\n",
       "      <th>AGEP</th>\n",
       "      <th>BATH</th>\n",
       "      <th>BDSP</th>\n",
       "      <th>BLD</th>\n",
       "      <th>COW</th>\n",
       "      <th>ELEP</th>\n",
       "      <th>FESRP</th>\n",
       "      <th>FKITP</th>\n",
       "      <th>...</th>\n",
       "      <th>R18</th>\n",
       "      <th>R65</th>\n",
       "      <th>RAC1P</th>\n",
       "      <th>RMSP</th>\n",
       "      <th>RWAT</th>\n",
       "      <th>SCH</th>\n",
       "      <th>SCHL</th>\n",
       "      <th>SEX</th>\n",
       "      <th>VALP</th>\n",
       "      <th>VALP_B1</th>\n",
       "    </tr>\n",
       "  </thead>\n",
       "  <tbody>\n",
       "    <tr>\n",
       "      <th>0</th>\n",
       "      <td>1.0</td>\n",
       "      <td>1.0</td>\n",
       "      <td>74</td>\n",
       "      <td>1.0</td>\n",
       "      <td>3.0</td>\n",
       "      <td>2.0</td>\n",
       "      <td>0</td>\n",
       "      <td>140.0</td>\n",
       "      <td>0</td>\n",
       "      <td>0.0</td>\n",
       "      <td>...</td>\n",
       "      <td>0.0</td>\n",
       "      <td>1.0</td>\n",
       "      <td>1</td>\n",
       "      <td>5.0</td>\n",
       "      <td>1.0</td>\n",
       "      <td>1</td>\n",
       "      <td>21</td>\n",
       "      <td>2</td>\n",
       "      <td>200000.0</td>\n",
       "      <td>1.0</td>\n",
       "    </tr>\n",
       "    <tr>\n",
       "      <th>1</th>\n",
       "      <td>1.0</td>\n",
       "      <td>3.0</td>\n",
       "      <td>46</td>\n",
       "      <td>1.0</td>\n",
       "      <td>3.0</td>\n",
       "      <td>2.0</td>\n",
       "      <td>1</td>\n",
       "      <td>280.0</td>\n",
       "      <td>0</td>\n",
       "      <td>0.0</td>\n",
       "      <td>...</td>\n",
       "      <td>0.0</td>\n",
       "      <td>0.0</td>\n",
       "      <td>1</td>\n",
       "      <td>6.0</td>\n",
       "      <td>1.0</td>\n",
       "      <td>1</td>\n",
       "      <td>16</td>\n",
       "      <td>2</td>\n",
       "      <td>850000.0</td>\n",
       "      <td>1.0</td>\n",
       "    </tr>\n",
       "    <tr>\n",
       "      <th>2</th>\n",
       "      <td>1.0</td>\n",
       "      <td>3.0</td>\n",
       "      <td>45</td>\n",
       "      <td>1.0</td>\n",
       "      <td>3.0</td>\n",
       "      <td>2.0</td>\n",
       "      <td>1</td>\n",
       "      <td>280.0</td>\n",
       "      <td>0</td>\n",
       "      <td>0.0</td>\n",
       "      <td>...</td>\n",
       "      <td>0.0</td>\n",
       "      <td>0.0</td>\n",
       "      <td>1</td>\n",
       "      <td>6.0</td>\n",
       "      <td>1.0</td>\n",
       "      <td>1</td>\n",
       "      <td>16</td>\n",
       "      <td>1</td>\n",
       "      <td>850000.0</td>\n",
       "      <td>1.0</td>\n",
       "    </tr>\n",
       "  </tbody>\n",
       "</table>\n",
       "<p>3 rows × 31 columns</p>\n",
       "</div>"
      ],
      "text/plain": [
       "   ACCESS  ACR  AGEP  BATH  BDSP  BLD  COW   ELEP  FESRP  FKITP  ...  R18  \\\n",
       "0     1.0  1.0    74   1.0   3.0  2.0    0  140.0      0    0.0  ...  0.0   \n",
       "1     1.0  3.0    46   1.0   3.0  2.0    1  280.0      0    0.0  ...  0.0   \n",
       "2     1.0  3.0    45   1.0   3.0  2.0    1  280.0      0    0.0  ...  0.0   \n",
       "\n",
       "   R65  RAC1P  RMSP  RWAT  SCH  SCHL  SEX      VALP  VALP_B1  \n",
       "0  1.0      1   5.0   1.0    1    21    2  200000.0      1.0  \n",
       "1  0.0      1   6.0   1.0    1    16    2  850000.0      1.0  \n",
       "2  0.0      1   6.0   1.0    1    16    1  850000.0      1.0  \n",
       "\n",
       "[3 rows x 31 columns]"
      ]
     },
     "execution_count": 2,
     "metadata": {},
     "output_type": "execute_result"
    }
   ],
   "source": [
    "df.head(3)"
   ]
  },
  {
   "cell_type": "code",
   "execution_count": 2,
   "id": "ec33c9ee",
   "metadata": {},
   "outputs": [
    {
     "data": {
      "text/plain": [
       "(20495, 30)"
      ]
     },
     "execution_count": 2,
     "metadata": {},
     "output_type": "execute_result"
    }
   ],
   "source": [
    "df.drop(['VALP_B1'], axis=1, inplace=True)   # 이진값 타겟변수 VALP_B1를 제외\n",
    "df.shape"
   ]
  },
  {
   "cell_type": "code",
   "execution_count": 4,
   "id": "9fbf8871",
   "metadata": {},
   "outputs": [
    {
     "data": {
      "text/html": [
       "<div>\n",
       "<style scoped>\n",
       "    .dataframe tbody tr th:only-of-type {\n",
       "        vertical-align: middle;\n",
       "    }\n",
       "\n",
       "    .dataframe tbody tr th {\n",
       "        vertical-align: top;\n",
       "    }\n",
       "\n",
       "    .dataframe thead th {\n",
       "        text-align: right;\n",
       "    }\n",
       "</style>\n",
       "<table border=\"1\" class=\"dataframe\">\n",
       "  <thead>\n",
       "    <tr style=\"text-align: right;\">\n",
       "      <th></th>\n",
       "      <th>ACCESS</th>\n",
       "      <th>ACR</th>\n",
       "      <th>AGEP</th>\n",
       "      <th>BATH</th>\n",
       "      <th>BDSP</th>\n",
       "      <th>BLD</th>\n",
       "      <th>COW</th>\n",
       "      <th>ELEP</th>\n",
       "      <th>FESRP</th>\n",
       "      <th>FKITP</th>\n",
       "      <th>...</th>\n",
       "      <th>NRC</th>\n",
       "      <th>R18</th>\n",
       "      <th>R65</th>\n",
       "      <th>RAC1P</th>\n",
       "      <th>RMSP</th>\n",
       "      <th>RWAT</th>\n",
       "      <th>SCH</th>\n",
       "      <th>SCHL</th>\n",
       "      <th>SEX</th>\n",
       "      <th>VALP</th>\n",
       "    </tr>\n",
       "  </thead>\n",
       "  <tbody>\n",
       "    <tr>\n",
       "      <th>0</th>\n",
       "      <td>1.0</td>\n",
       "      <td>1.0</td>\n",
       "      <td>74</td>\n",
       "      <td>1.0</td>\n",
       "      <td>3.0</td>\n",
       "      <td>2.0</td>\n",
       "      <td>0</td>\n",
       "      <td>140.0</td>\n",
       "      <td>0</td>\n",
       "      <td>0.0</td>\n",
       "      <td>...</td>\n",
       "      <td>0.0</td>\n",
       "      <td>0.0</td>\n",
       "      <td>1.0</td>\n",
       "      <td>1</td>\n",
       "      <td>5.0</td>\n",
       "      <td>1.0</td>\n",
       "      <td>1</td>\n",
       "      <td>21</td>\n",
       "      <td>2</td>\n",
       "      <td>200000.0</td>\n",
       "    </tr>\n",
       "    <tr>\n",
       "      <th>1</th>\n",
       "      <td>1.0</td>\n",
       "      <td>3.0</td>\n",
       "      <td>46</td>\n",
       "      <td>1.0</td>\n",
       "      <td>3.0</td>\n",
       "      <td>2.0</td>\n",
       "      <td>1</td>\n",
       "      <td>280.0</td>\n",
       "      <td>0</td>\n",
       "      <td>0.0</td>\n",
       "      <td>...</td>\n",
       "      <td>0.0</td>\n",
       "      <td>0.0</td>\n",
       "      <td>0.0</td>\n",
       "      <td>1</td>\n",
       "      <td>6.0</td>\n",
       "      <td>1.0</td>\n",
       "      <td>1</td>\n",
       "      <td>16</td>\n",
       "      <td>2</td>\n",
       "      <td>850000.0</td>\n",
       "    </tr>\n",
       "    <tr>\n",
       "      <th>2</th>\n",
       "      <td>1.0</td>\n",
       "      <td>3.0</td>\n",
       "      <td>45</td>\n",
       "      <td>1.0</td>\n",
       "      <td>3.0</td>\n",
       "      <td>2.0</td>\n",
       "      <td>1</td>\n",
       "      <td>280.0</td>\n",
       "      <td>0</td>\n",
       "      <td>0.0</td>\n",
       "      <td>...</td>\n",
       "      <td>0.0</td>\n",
       "      <td>0.0</td>\n",
       "      <td>0.0</td>\n",
       "      <td>1</td>\n",
       "      <td>6.0</td>\n",
       "      <td>1.0</td>\n",
       "      <td>1</td>\n",
       "      <td>16</td>\n",
       "      <td>1</td>\n",
       "      <td>850000.0</td>\n",
       "    </tr>\n",
       "  </tbody>\n",
       "</table>\n",
       "<p>3 rows × 30 columns</p>\n",
       "</div>"
      ],
      "text/plain": [
       "   ACCESS  ACR  AGEP  BATH  BDSP  BLD  COW   ELEP  FESRP  FKITP  ...  NRC  \\\n",
       "0     1.0  1.0    74   1.0   3.0  2.0    0  140.0      0    0.0  ...  0.0   \n",
       "1     1.0  3.0    46   1.0   3.0  2.0    1  280.0      0    0.0  ...  0.0   \n",
       "2     1.0  3.0    45   1.0   3.0  2.0    1  280.0      0    0.0  ...  0.0   \n",
       "\n",
       "   R18  R65  RAC1P  RMSP  RWAT  SCH  SCHL  SEX      VALP  \n",
       "0  0.0  1.0      1   5.0   1.0    1    21    2  200000.0  \n",
       "1  0.0  0.0      1   6.0   1.0    1    16    2  850000.0  \n",
       "2  0.0  0.0      1   6.0   1.0    1    16    1  850000.0  \n",
       "\n",
       "[3 rows x 30 columns]"
      ]
     },
     "execution_count": 4,
     "metadata": {},
     "output_type": "execute_result"
    }
   ],
   "source": [
    "# 참조 코딩\n",
    "df.head(3)"
   ]
  },
  {
   "cell_type": "code",
   "execution_count": 3,
   "id": "7b7dce10",
   "metadata": {},
   "outputs": [],
   "source": [
    "data = df.drop(['VALP'], axis=1)   # 타겟변수(VALP임에 주의)를 제외한 입력변수를 data에 저장\n",
    "target = df['VALP']                # 타겟변수만 target에 저장\n",
    "\n",
    "# 50:50 데이터 변환\n",
    "from sklearn.model_selection import train_test_split \n",
    "X_train, X_test, y_train, y_test = train_test_split( \n",
    "    data, target, test_size=0.5, random_state=42)   # test_size=0.5임에 주의 "
   ]
  },
  {
   "cell_type": "code",
   "execution_count": 8,
   "id": "fc5b27bb",
   "metadata": {},
   "outputs": [
    {
     "name": "stdout",
     "output_type": "stream",
     "text": [
      "r2: 0.53065\n"
     ]
    }
   ],
   "source": [
    "# 기본 XGBRegressor 모델\n",
    "from sklearn.metrics import r2_score\n",
    "\n",
    "xgb = XGBRegressor(random_state=0)\n",
    "xgb.fit(X_train, y_train)\n",
    "pred = xgb.predict(X_test)\n",
    "\n",
    "print('r2: {0:.5f}'.format(r2_score(y_test, pred)))\n"
   ]
  },
  {
   "cell_type": "code",
   "execution_count": 4,
   "id": "f5425bb5",
   "metadata": {},
   "outputs": [
    {
     "name": "stdout",
     "output_type": "stream",
     "text": [
      "Fitting 3 folds for each of 2 candidates, totalling 6 fits\n"
     ]
    },
    {
     "data": {
      "text/plain": [
       "GridSearchCV(cv=3,\n",
       "             estimator=XGBRegressor(base_score=None, booster=None,\n",
       "                                    colsample_bylevel=None,\n",
       "                                    colsample_bynode=None,\n",
       "                                    colsample_bytree=None,\n",
       "                                    enable_categorical=False, gamma=None,\n",
       "                                    gpu_id=None, importance_type=None,\n",
       "                                    interaction_constraints=None,\n",
       "                                    learning_rate=None, max_delta_step=None,\n",
       "                                    max_depth=None, min_child_weight=None,\n",
       "                                    missing=nan, monotone_constraints=None,\n",
       "                                    n...\n",
       "                                    num_parallel_tree=None, predictor=None,\n",
       "                                    random_state=None, reg_alpha=None,\n",
       "                                    reg_lambda=None, scale_pos_weight=None,\n",
       "                                    subsample=None, tree_method=None,\n",
       "                                    validate_parameters=None, verbosity=None),\n",
       "             n_jobs=-1,\n",
       "             param_grid={'colsample_bytree': [0.7], 'learning_rate': [0.05],\n",
       "                         'max_depth': [16], 'min_child_weight': [4],\n",
       "                         'n_estimators': [1000], 'subsample': [0.8, 0.9]},\n",
       "             scoring='r2', verbose=True)"
      ]
     },
     "execution_count": 4,
     "metadata": {},
     "output_type": "execute_result"
    }
   ],
   "source": [
    "# 그리드 서치 실행\n",
    "from sklearn.model_selection import GridSearchCV\n",
    "\n",
    "xgb = XGBRegressor()\n",
    "\n",
    "parameters = {'colsample_bytree': [0.7],\n",
    "              'learning_rate': [0.05],\n",
    "              'max_depth': [16],\n",
    "              'min_child_weight' : [4],\n",
    "              'n_estimators': [1000],\n",
    "              'subsample': [0.8, 0.9]\n",
    "              }\n",
    "\n",
    "xgb_grid = GridSearchCV(xgb,\n",
    "                        parameters,\n",
    "                        scoring = 'r2',\n",
    "                        cv = 3,\n",
    "                        n_jobs = -1,\n",
    "                        verbose=True)\n",
    "xgb_grid.fit(X_train, y_train)"
   ]
  },
  {
   "cell_type": "code",
   "execution_count": 10,
   "id": "bd202298",
   "metadata": {},
   "outputs": [
    {
     "name": "stdout",
     "output_type": "stream",
     "text": [
      "GridSearchCV 최적 파라미터: {'colsample_bytree': 0.7, 'learning_rate': 0.05, 'max_depth': 16, 'min_child_weight': 4, 'n_estimators': 1000, 'subsample': 0.9}\n"
     ]
    }
   ],
   "source": [
    "print('GridSearchCV 최적 파라미터:', xgb_grid.best_params_)"
   ]
  },
  {
   "cell_type": "code",
   "execution_count": 11,
   "id": "cf17d89f",
   "metadata": {},
   "outputs": [
    {
     "name": "stdout",
     "output_type": "stream",
     "text": [
      "r2: 0.65092\n"
     ]
    }
   ],
   "source": [
    "model = xgb_grid.best_estimator_\n",
    "pred = model.predict(X_test)\n",
    "\n",
    "print('r2: {0:.5f}'.format(r2_score(y_test, pred)))"
   ]
  },
  {
   "cell_type": "code",
   "execution_count": 12,
   "id": "bd09a754",
   "metadata": {},
   "outputs": [
    {
     "data": {
      "image/png": "[encoded data removed]",
      "text/plain": [
       "<Figure size 432x288 with 1 Axes>"
      ]
     },
     "metadata": {
      "needs_background": "light"
     },
     "output_type": "display_data"
    }
   ],
   "source": [
    "from xgboost import plot_importance\n",
    "\n",
    "plot_importance(model, max_num_features=10);"
   ]
  },
  {
   "cell_type": "code",
   "execution_count": 13,
   "id": "33b08e0f",
   "metadata": {},
   "outputs": [
    {
     "data": {
      "image/png": "[encoded data removed]",
      "text/plain": [
       "<Figure size 576x720 with 1 Axes>"
      ]
     },
     "metadata": {
      "needs_background": "light"
     },
     "output_type": "display_data"
    }
   ],
   "source": [
    "from xgboost import plot_importance\n",
    "import matplotlib.pyplot as plt\n",
    "%matplotlib inline\n",
    "\n",
    "fig, ax = plt.subplots(figsize=(8, 10))\n",
    "plot_importance(model, ax=ax);"
   ]
  },
  {
   "cell_type": "markdown",
   "id": "6edf9823",
   "metadata": {},
   "source": [
    "# 4.7.10 LightGBM 모델"
   ]
  },
  {
   "cell_type": "code",
   "execution_count": 4,
   "id": "699349a4",
   "metadata": {},
   "outputs": [
    {
     "name": "stdout",
     "output_type": "stream",
     "text": [
      "r2: 0.46083\n"
     ]
    }
   ],
   "source": [
    "# 기본 lGBMRegressor 모델\n",
    "from lightgbm import LGBMRegressor\n",
    "from sklearn.metrics import r2_score\n",
    "\n",
    "lgb = LGBMRegressor(random_state=0)\n",
    "lgb.fit(X_train, y_train)\n",
    "pred = lgb.predict(X_test)\n",
    "\n",
    "print('r2: {0:.5f}'.format(r2_score(y_test, pred)))"
   ]
  },
  {
   "cell_type": "code",
   "execution_count": 5,
   "id": "432f52f8",
   "metadata": {},
   "outputs": [
    {
     "name": "stdout",
     "output_type": "stream",
     "text": [
      "Fitting 3 folds for each of 12 candidates, totalling 36 fits\n"
     ]
    },
    {
     "data": {
      "text/plain": [
       "GridSearchCV(cv=3, estimator=LGBMRegressor(), n_jobs=-1,\n",
       "             param_grid={'colsample_bytree': [0.7, 0.8],\n",
       "                         'learning_rate': [0.1, 0.15, 0.2], 'max_depth': [11],\n",
       "                         'min_child_weight': [4], 'n_estimators': [1000],\n",
       "                         'subsample': [0.3, 0.4]},\n",
       "             scoring='r2', verbose=True)"
      ]
     },
     "execution_count": 5,
     "metadata": {},
     "output_type": "execute_result"
    }
   ],
   "source": [
    "#그리드 서치 실행\n",
    "from sklearn.model_selection import GridSearchCV\n",
    "from lightgbm import LGBMRegressor\n",
    "\n",
    "lgb = LGBMRegressor()\n",
    "\n",
    "parameters = {'colsample_bytree': [0.7, 0.8],\n",
    "              'learning_rate': [0.1, 0.15, 0.2],\n",
    "              'max_depth': [11],\n",
    "              'min_child_weight' : [4],\n",
    "              'n_estimators': [1000],\n",
    "              'subsample': [0.3, 0.4]\n",
    "              }\n",
    "\n",
    "lgb_grid = GridSearchCV(lgb,\n",
    "                        parameters,\n",
    "                        scoring = 'r2',\n",
    "                        cv = 3,\n",
    "                        n_jobs = -1,\n",
    "                        verbose=True)\n",
    "lgb_grid.fit(X_train, y_train)"
   ]
  },
  {
   "cell_type": "code",
   "execution_count": 6,
   "id": "5062e0a0",
   "metadata": {},
   "outputs": [
    {
     "name": "stdout",
     "output_type": "stream",
     "text": [
      "GridSearchCV 최적 파라미터: {'colsample_bytree': 0.7, 'learning_rate': 0.1, 'max_depth': 11, 'min_child_weight': 4, 'n_estimators': 1000, 'subsample': 0.3}\n"
     ]
    }
   ],
   "source": [
    "print('GridSearchCV 최적 파라미터:', lgb_grid.best_params_)"
   ]
  },
  {
   "cell_type": "code",
   "execution_count": 7,
   "id": "8e1daefd",
   "metadata": {},
   "outputs": [
    {
     "name": "stdout",
     "output_type": "stream",
     "text": [
      "r2: 0.55647\n"
     ]
    }
   ],
   "source": [
    "from sklearn.metrics import r2_score\n",
    "\n",
    "model = lgb_grid.best_estimator_\n",
    "pred = model.predict(X_test)\n",
    "\n",
    "print('r2: {0:.5f}'.format(r2_score(y_test, pred)))"
   ]
  },
  {
   "cell_type": "code",
   "execution_count": 8,
   "id": "176941bc",
   "metadata": {},
   "outputs": [
    {
     "data": {
      "image/png": "[encoded data removed]",
      "text/plain": [
       "<Figure size 576x720 with 1 Axes>"
      ]
     },
     "metadata": {
      "needs_background": "light"
     },
     "output_type": "display_data"
    }
   ],
   "source": [
    "from lightgbm import plot_importance\n",
    "import matplotlib.pyplot as plt\n",
    "%matplotlib inline\n",
    "\n",
    "fig, ax = plt.subplots(figsize=(8, 10))\n",
    "plot_importance(model, ax=ax);"
   ]
  },
  {
   "cell_type": "code",
   "execution_count": 6,
   "id": "0796501f",
   "metadata": {},
   "outputs": [],
   "source": [
    "model_xgb = xgb_grid.best_estimator_\n",
    "pred_xgb = model_xgb.predict(X_test)\n",
    "\n",
    "model_lgb = lgb_grid.best_estimator_\n",
    "pred_lgb = model_lgb.predict(X_test)"
   ]
  },
  {
   "cell_type": "code",
   "execution_count": 7,
   "id": "572a07cc",
   "metadata": {},
   "outputs": [
    {
     "name": "stdout",
     "output_type": "stream",
     "text": [
      "r2: 0.62143\n"
     ]
    }
   ],
   "source": [
    "from sklearn.metrics import r2_score\n",
    "\n",
    "pred = 0.5*pred_xgb + 0.5*pred_lgb\n",
    "print('r2: {0:.5f}'.format(r2_score(y_test, pred)))"
   ]
  },
  {
   "cell_type": "code",
   "execution_count": 8,
   "id": "ca36fbb0",
   "metadata": {},
   "outputs": [
    {
     "name": "stdout",
     "output_type": "stream",
     "text": [
      "r2: 0.63016\n"
     ]
    }
   ],
   "source": [
    "# 참조 코딩\n",
    "pred = 0.6*pred_xgb + 0.4*pred_lgb\n",
    "print('r2: {0:.5f}'.format(r2_score(y_test, pred)))"
   ]
  },
  {
   "cell_type": "code",
   "execution_count": 9,
   "id": "fbaf9028",
   "metadata": {},
   "outputs": [
    {
     "name": "stdout",
     "output_type": "stream",
     "text": [
      "r2: 0.63748\n"
     ]
    }
   ],
   "source": [
    "# 참조 코딩\n",
    "pred = 0.7*pred_xgb + 0.3*pred_lgb\n",
    "print('r2: {0:.5f}'.format(r2_score(y_test, pred)))"
   ]
  },
  {
   "cell_type": "code",
   "execution_count": 10,
   "id": "0c7c234f",
   "metadata": {},
   "outputs": [
    {
     "name": "stdout",
     "output_type": "stream",
     "text": [
      "r2: 0.64338\n"
     ]
    }
   ],
   "source": [
    "# 참조 코딩\n",
    "pred = 0.8*pred_xgb + 0.2*pred_lgb\n",
    "print('r2: {0:.5f}'.format(r2_score(y_test, pred)))"
   ]
  },
  {
   "cell_type": "code",
   "execution_count": 11,
   "id": "d3b22e25",
   "metadata": {},
   "outputs": [
    {
     "name": "stdout",
     "output_type": "stream",
     "text": [
      "r2: 0.64786\n"
     ]
    }
   ],
   "source": [
    "# 참조 코딩\n",
    "pred = 0.9*pred_xgb + 0.1*pred_lgb\n",
    "print('r2: {0:.5f}'.format(r2_score(y_test, pred)))"
   ]
  },
  {
   "cell_type": "code",
   "execution_count": 12,
   "id": "1f5bc391",
   "metadata": {},
   "outputs": [
    {
     "name": "stdout",
     "output_type": "stream",
     "text": [
      "r2: 0.64957\n"
     ]
    }
   ],
   "source": [
    "pred = 0.95*pred_xgb + 0.05*pred_lgb\n",
    "print('r2: {0:.5f}'.format(r2_score(y_test, pred)))"
   ]
  },
  {
   "cell_type": "code",
   "execution_count": null,
   "id": "894d2aa7",
   "metadata": {},
   "outputs": [],
   "source": []
  }
 ],
 "metadata": {
  "kernelspec": {
   "display_name": "Python 3 (ipykernel)",
   "language": "python",
   "name": "python3"
  },
  "language_info": {
   "codemirror_mode": {
    "name": "ipython",
    "version": 3
   },
   "file_extension": ".py",
   "mimetype": "text/x-python",
   "name": "python",
   "nbconvert_exporter": "python",
   "pygments_lexer": "ipython3",
   "version": "3.9.7"
  }
 },
 "nbformat": 4,
 "nbformat_minor": 5
}
