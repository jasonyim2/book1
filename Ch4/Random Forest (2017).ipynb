{
 "cells": [
  {
   "cell_type": "markdown",
   "metadata": {},
   "source": [
    "# 4.7.1 데이터 추가 처리"
   ]
  },
  {
   "cell_type": "code",
   "execution_count": 1,
   "metadata": {},
   "outputs": [
    {
     "data": {
      "text/plain": [
       "(20495, 31)"
      ]
     },
     "execution_count": 1,
     "metadata": {},
     "output_type": "execute_result"
    }
   ],
   "source": [
    "import pandas as pd\n",
    "import numpy as np\n",
    "\n",
    "pd.set_option('display.max_columns', None)\n",
    "pd.set_option('display.max_rows', None)\n",
    "df = pd.read_csv('comb31-IQR30.csv')\n",
    "df.shape"
   ]
  },
  {
   "cell_type": "code",
   "execution_count": 2,
   "metadata": {},
   "outputs": [
    {
     "name": "stdout",
     "output_type": "stream",
     "text": [
      "<class 'pandas.core.frame.DataFrame'>\n",
      "RangeIndex: 20495 entries, 0 to 20494\n",
      "Data columns (total 31 columns):\n",
      " #   Column   Non-Null Count  Dtype  \n",
      "---  ------   --------------  -----  \n",
      " 0   ACCESS   20495 non-null  float64\n",
      " 1   ACR      20495 non-null  float64\n",
      " 2   AGEP     20495 non-null  int64  \n",
      " 3   BATH     20495 non-null  float64\n",
      " 4   BDSP     20495 non-null  float64\n",
      " 5   BLD      20495 non-null  float64\n",
      " 6   COW      11562 non-null  float64\n",
      " 7   ELEP     20495 non-null  float64\n",
      " 8   FESRP    20495 non-null  int64  \n",
      " 9   FKITP    20495 non-null  float64\n",
      " 10  FPARC    17899 non-null  float64\n",
      " 11  FSCHP    20495 non-null  int64  \n",
      " 12  FTAXP    20495 non-null  float64\n",
      " 13  GASP     20495 non-null  float64\n",
      " 14  HHL      20495 non-null  float64\n",
      " 15  HHT      20495 non-null  float64\n",
      " 16  HINCP    20495 non-null  float64\n",
      " 17  LANX     19471 non-null  float64\n",
      " 18  MAR      20495 non-null  int64  \n",
      " 19  MV       20495 non-null  float64\n",
      " 20  NRC      20495 non-null  float64\n",
      " 21  R18      20495 non-null  float64\n",
      " 22  R65      20495 non-null  float64\n",
      " 23  RAC1P    20495 non-null  int64  \n",
      " 24  RMSP     20495 non-null  float64\n",
      " 25  RWAT     20495 non-null  float64\n",
      " 26  SCH      19882 non-null  float64\n",
      " 27  SCHL     19882 non-null  float64\n",
      " 28  SEX      20495 non-null  int64  \n",
      " 29  VALP     20495 non-null  float64\n",
      " 30  VALP_B1  20495 non-null  float64\n",
      "dtypes: float64(25), int64(6)\n",
      "memory usage: 4.8 MB\n"
     ]
    }
   ],
   "source": [
    "df.info()"
   ]
  },
  {
   "cell_type": "code",
   "execution_count": 3,
   "metadata": {},
   "outputs": [
    {
     "data": {
      "text/plain": [
       "ACCESS     float64\n",
       "ACR        float64\n",
       "AGEP         int64\n",
       "BATH       float64\n",
       "BDSP       float64\n",
       "BLD        float64\n",
       "COW        float64\n",
       "ELEP       float64\n",
       "FESRP        int64\n",
       "FKITP      float64\n",
       "FPARC      float64\n",
       "FSCHP        int64\n",
       "FTAXP      float64\n",
       "GASP       float64\n",
       "HHL        float64\n",
       "HHT        float64\n",
       "HINCP      float64\n",
       "LANX       float64\n",
       "MAR          int64\n",
       "MV         float64\n",
       "NRC        float64\n",
       "R18        float64\n",
       "R65        float64\n",
       "RAC1P        int64\n",
       "RMSP       float64\n",
       "RWAT       float64\n",
       "SCH        float64\n",
       "SCHL       float64\n",
       "SEX          int64\n",
       "VALP       float64\n",
       "VALP_B1    float64\n",
       "dtype: object"
      ]
     },
     "execution_count": 3,
     "metadata": {},
     "output_type": "execute_result"
    }
   ],
   "source": [
    "df.dtypes"
   ]
  },
  {
   "cell_type": "code",
   "execution_count": 4,
   "metadata": {},
   "outputs": [
    {
     "data": {
      "text/plain": [
       "COW      True\n",
       "FPARC    True\n",
       "LANX     True\n",
       "SCH      True\n",
       "SCHL     True\n",
       "dtype: bool"
      ]
     },
     "execution_count": 4,
     "metadata": {},
     "output_type": "execute_result"
    }
   ],
   "source": [
    "df.isna().any()[lambda x: x]   # 결측값을 갖고 있는 변수명(컬럼명) 찾기"
   ]
  },
  {
   "cell_type": "code",
   "execution_count": 5,
   "metadata": {},
   "outputs": [
    {
     "data": {
      "text/plain": [
       "COW        0.435862\n",
       "FPARC      0.126665\n",
       "LANX       0.049963\n",
       "SCHL       0.029910\n",
       "SCH        0.029910\n",
       "ACCESS     0.000000\n",
       "VALP       0.000000\n",
       "SEX        0.000000\n",
       "RWAT       0.000000\n",
       "RMSP       0.000000\n",
       "RAC1P      0.000000\n",
       "R65        0.000000\n",
       "R18        0.000000\n",
       "NRC        0.000000\n",
       "MV         0.000000\n",
       "MAR        0.000000\n",
       "HHT        0.000000\n",
       "HINCP      0.000000\n",
       "ACR        0.000000\n",
       "HHL        0.000000\n",
       "GASP       0.000000\n",
       "FTAXP      0.000000\n",
       "FSCHP      0.000000\n",
       "FKITP      0.000000\n",
       "FESRP      0.000000\n",
       "ELEP       0.000000\n",
       "BLD        0.000000\n",
       "BDSP       0.000000\n",
       "BATH       0.000000\n",
       "AGEP       0.000000\n",
       "VALP_B1    0.000000\n",
       "dtype: float64"
      ]
     },
     "execution_count": 5,
     "metadata": {},
     "output_type": "execute_result"
    }
   ],
   "source": [
    "# 데이터프레임 df에 있는 모든 컬럼(변수)의 결측값 보유 비율을 확인 \n",
    "\n",
    "df.isnull().mean().sort_values(ascending=False) # 결측값 비율을 내림차순으로 보여주기"
   ]
  },
  {
   "cell_type": "code",
   "execution_count": 6,
   "metadata": {},
   "outputs": [],
   "source": [
    "cols = ['COW','FPARC','LANX','SCH','SCHL']     # 결측값을 갖는 5개 변수명을 cols에 저장\n",
    "df[cols] = df[cols].fillna(0).astype(np.int64) # 5개 변수의 결측값을 0으로 대체"
   ]
  },
  {
   "cell_type": "code",
   "execution_count": 7,
   "metadata": {},
   "outputs": [
    {
     "data": {
      "text/plain": [
       "COW      0.0\n",
       "FPARC    0.0\n",
       "LANX     0.0\n",
       "SCH      0.0\n",
       "SCHL     0.0\n",
       "dtype: float64"
      ]
     },
     "execution_count": 7,
     "metadata": {},
     "output_type": "execute_result"
    }
   ],
   "source": [
    "df[cols].isnull().mean() # 5개 변수의 결측값 비율"
   ]
  },
  {
   "cell_type": "code",
   "execution_count": 8,
   "metadata": {},
   "outputs": [
    {
     "data": {
      "text/plain": [
       "COW      int64\n",
       "FPARC    int64\n",
       "LANX     int64\n",
       "SCH      int64\n",
       "SCHL     int64\n",
       "dtype: object"
      ]
     },
     "execution_count": 8,
     "metadata": {},
     "output_type": "execute_result"
    }
   ],
   "source": [
    "# 참조 코딩\n",
    "df[cols].dtypes"
   ]
  },
  {
   "cell_type": "code",
   "execution_count": 9,
   "metadata": {},
   "outputs": [
    {
     "data": {
      "text/plain": [
       "(20495, 31)"
      ]
     },
     "execution_count": 9,
     "metadata": {},
     "output_type": "execute_result"
    }
   ],
   "source": [
    "df.shape"
   ]
  },
  {
   "cell_type": "code",
   "execution_count": 10,
   "metadata": {},
   "outputs": [
    {
     "data": {
      "text/plain": [
       "Index(['ACCESS', 'ACR', 'AGEP', 'BATH', 'BDSP', 'BLD', 'COW', 'ELEP', 'FESRP',\n",
       "       'FKITP', 'FPARC', 'FSCHP', 'FTAXP', 'GASP', 'HHL', 'HHT', 'HINCP',\n",
       "       'LANX', 'MAR', 'MV', 'NRC', 'R18', 'R65', 'RAC1P', 'RMSP', 'RWAT',\n",
       "       'SCH', 'SCHL', 'SEX', 'VALP', 'VALP_B1'],\n",
       "      dtype='object')"
      ]
     },
     "execution_count": 10,
     "metadata": {},
     "output_type": "execute_result"
    }
   ],
   "source": [
    "df.columns"
   ]
  },
  {
   "cell_type": "code",
   "execution_count": 12,
   "metadata": {},
   "outputs": [],
   "source": [
    "df.to_csv('2017DC1-all.csv', index=False)"
   ]
  },
  {
   "cell_type": "code",
   "execution_count": 13,
   "metadata": {},
   "outputs": [
    {
     "data": {
      "text/plain": [
       "(20495, 30)"
      ]
     },
     "execution_count": 13,
     "metadata": {},
     "output_type": "execute_result"
    }
   ],
   "source": [
    "df_with_VALP_B1 = df.drop(['VALP'], axis=1)   # 타겟변수 VALP를 제외한 변수를 저장\n",
    "df_with_VALP_B1.shape"
   ]
  },
  {
   "cell_type": "code",
   "execution_count": 14,
   "metadata": {},
   "outputs": [
    {
     "data": {
      "text/plain": [
       "Index(['ACCESS', 'ACR', 'AGEP', 'BATH', 'BDSP', 'BLD', 'COW', 'ELEP', 'FESRP',\n",
       "       'FKITP', 'FPARC', 'FSCHP', 'FTAXP', 'GASP', 'HHL', 'HHT', 'HINCP',\n",
       "       'LANX', 'MAR', 'MV', 'NRC', 'R18', 'R65', 'RAC1P', 'RMSP', 'RWAT',\n",
       "       'SCH', 'SCHL', 'SEX', 'VALP_B1'],\n",
       "      dtype='object')"
      ]
     },
     "execution_count": 14,
     "metadata": {},
     "output_type": "execute_result"
    }
   ],
   "source": [
    "# 참조 코딩\n",
    "df_with_VALP_B1.columns"
   ]
  },
  {
   "cell_type": "code",
   "execution_count": 16,
   "metadata": {},
   "outputs": [],
   "source": [
    "df_with_VALP_B1.to_csv('2017DC1.csv', index=False)"
   ]
  },
  {
   "cell_type": "markdown",
   "metadata": {},
   "source": [
    "# 4.7.2 데이터 분할 및 대체"
   ]
  },
  {
   "cell_type": "code",
   "execution_count": 1,
   "metadata": {},
   "outputs": [
    {
     "data": {
      "text/plain": [
       "(20495, 30)"
      ]
     },
     "execution_count": 1,
     "metadata": {},
     "output_type": "execute_result"
    }
   ],
   "source": [
    "import pandas as pd\n",
    "import numpy as np\n",
    "\n",
    "df = pd.read_csv('2017DC1.csv')\n",
    "df.shape"
   ]
  },
  {
   "cell_type": "code",
   "execution_count": 12,
   "metadata": {},
   "outputs": [
    {
     "data": {
      "text/plain": [
       "ACCESS     float64\n",
       "ACR        float64\n",
       "AGEP         int64\n",
       "BATH       float64\n",
       "BDSP       float64\n",
       "BLD        float64\n",
       "COW          int64\n",
       "ELEP       float64\n",
       "FESRP        int64\n",
       "FKITP      float64\n",
       "FPARC        int64\n",
       "FSCHP        int64\n",
       "FTAXP      float64\n",
       "GASP       float64\n",
       "HHL        float64\n",
       "HHT        float64\n",
       "HINCP      float64\n",
       "LANX         int64\n",
       "MAR          int64\n",
       "MV         float64\n",
       "NRC        float64\n",
       "R18        float64\n",
       "R65        float64\n",
       "RAC1P        int64\n",
       "RMSP       float64\n",
       "RWAT       float64\n",
       "SCH          int64\n",
       "SCHL         int64\n",
       "SEX          int64\n",
       "VALP_B1    float64\n",
       "dtype: object"
      ]
     },
     "execution_count": 12,
     "metadata": {},
     "output_type": "execute_result"
    }
   ],
   "source": [
    "# 참조 코딩\n",
    "df.dtypes"
   ]
  },
  {
   "cell_type": "code",
   "execution_count": 2,
   "metadata": {},
   "outputs": [
    {
     "data": {
      "text/plain": [
       "ACCESS     category\n",
       "ACR        category\n",
       "AGEP          int64\n",
       "BATH       category\n",
       "BDSP        float64\n",
       "BLD        category\n",
       "COW        category\n",
       "ELEP        float64\n",
       "FESRP      category\n",
       "FKITP      category\n",
       "FPARC      category\n",
       "FSCHP      category\n",
       "FTAXP      category\n",
       "GASP        float64\n",
       "HHL        category\n",
       "HHT        category\n",
       "HINCP       float64\n",
       "LANX       category\n",
       "MAR        category\n",
       "MV         category\n",
       "NRC         float64\n",
       "R18        category\n",
       "R65        category\n",
       "RAC1P      category\n",
       "RMSP        float64\n",
       "RWAT       category\n",
       "SCH        category\n",
       "SCHL       category\n",
       "SEX        category\n",
       "VALP_B1    category\n",
       "dtype: object"
      ]
     },
     "execution_count": 2,
     "metadata": {},
     "output_type": "execute_result"
    }
   ],
   "source": [
    "# 참조 코딩\n",
    "# 범주형 변수를 cols1에 저장.\n",
    "cols = ['ACCESS', 'ACR', 'BATH', 'BLD', 'COW', 'FESRP', 'FKITP', 'FPARC', 'FSCHP',\\\n",
    "         'FTAXP', 'HHL', 'HHT', 'LANX', 'MAR', 'MV', 'R18', 'R65', 'RAC1P', 'RWAT',\\\n",
    "         'SCH', 'SCHL', 'SEX', 'VALP_B1'] \n",
    "\n",
    "# 범주형 변수의 dtype을 category로 변경\n",
    "df[cols] = df[cols].astype('category')\n",
    "df.dtypes"
   ]
  },
  {
   "cell_type": "code",
   "execution_count": 3,
   "metadata": {},
   "outputs": [],
   "source": [
    "data = df.drop(['VALP_B1'], axis=1)   # 타겟변수를 제외한 입력변수를 data에 저장\n",
    "target = df['VALP_B1']                # 타겟변수만 target에 저장"
   ]
  },
  {
   "cell_type": "code",
   "execution_count": 15,
   "metadata": {},
   "outputs": [
    {
     "data": {
      "text/plain": [
       "(20495, 29)"
      ]
     },
     "execution_count": 15,
     "metadata": {},
     "output_type": "execute_result"
    }
   ],
   "source": [
    "data.shape"
   ]
  },
  {
   "cell_type": "code",
   "execution_count": 16,
   "metadata": {},
   "outputs": [
    {
     "data": {
      "text/plain": [
       "(20495,)"
      ]
     },
     "execution_count": 16,
     "metadata": {},
     "output_type": "execute_result"
    }
   ],
   "source": [
    "target.shape"
   ]
  },
  {
   "cell_type": "code",
   "execution_count": 4,
   "metadata": {},
   "outputs": [],
   "source": [
    "# 50:50 데이터 분할\n",
    "from sklearn.model_selection import train_test_split \n",
    "X_train, X_test, y_train, y_test = train_test_split( \n",
    "    data, target, test_size=0.5, random_state=42)   # test_size=0.5임에 주의 "
   ]
  },
  {
   "cell_type": "markdown",
   "metadata": {},
   "source": [
    "# 4.7.3 Random Forest 모델"
   ]
  },
  {
   "cell_type": "code",
   "execution_count": 5,
   "metadata": {},
   "outputs": [
    {
     "name": "stdout",
     "output_type": "stream",
     "text": [
      "Random Forest Accuracy on training set:1.00000\n",
      "Random Forest Accuracy on test set:0.83109\n"
     ]
    }
   ],
   "source": [
    "# Random Forest 모델 (Default 모델, tree depth 제한 없음)\n",
    "from sklearn.ensemble import RandomForestClassifier\n",
    "from sklearn.metrics import accuracy_score\n",
    "rf = RandomForestClassifier(n_estimators = 100, random_state=0) \n",
    "model = rf.fit(X_train, y_train) \n",
    "pred = model.predict(X_test)  # 학습된 Classifier로 테스트 데이터셋 자료이용해서 타겟변수 예측값 생성\n",
    "#accuracy = accuracy_score(y_test, pred)\n",
    "\n",
    "print (\"Random Forest Accuracy on training set:{:.5f}\".format(model.score(X_train, y_train))) \n",
    "print (\"Random Forest Accuracy on test set:{:.5f}\".format(accuracy_score(y_test, pred))) "
   ]
  },
  {
   "cell_type": "code",
   "execution_count": 6,
   "metadata": {},
   "outputs": [],
   "source": [
    "# Random Forest 모델 (Default 모델, tree depth 제한 없음)\n",
    "rf = RandomForestClassifier(n_estimators = 100, random_state=0) "
   ]
  },
  {
   "cell_type": "code",
   "execution_count": 7,
   "metadata": {},
   "outputs": [
    {
     "name": "stdout",
     "output_type": "stream",
     "text": [
      "Fitting 5 folds for each of 62 candidates, totalling 310 fits\n",
      "GridSearchCV max accuracy:0.82922\n",
      "GridSearchCV best parameter: {'max_depth': 28, 'n_estimators': 200}\n"
     ]
    }
   ],
   "source": [
    "# 그리드 서치 실행\n",
    "\n",
    "from sklearn.model_selection import GridSearchCV\n",
    "from sklearn.model_selection import StratifiedKFold  \n",
    "\n",
    "# StratifiedKFold의 random_state 옵션값을 특정 숫자(예: 0)로 고정\n",
    "cross_validation = StratifiedKFold(n_splits=5, shuffle=True, random_state=0)\n",
    "params = {'max_depth': range(10, 41), 'n_estimators': [100, 200]}\n",
    "\n",
    "# GridSearchCV의 cv=cross_validation 옵션값은 위의 StratifiedKFold의 random_state 옵션값을 적용시켜서\n",
    "# GridSearchCV를 실행핼 때마다 결과가 항상 동일하게 나오도록 보장\n",
    "grid_rf = GridSearchCV(rf, param_grid=params, scoring='accuracy', cv=cross_validation,\n",
    "                       verbose=1, n_jobs=-1) \n",
    "grid_rf.fit(X_train, y_train)\n",
    "\n",
    "print(\"GridSearchCV max accuracy:{:.5f}\".format(grid_rf.best_score_))\n",
    "print(\"GridSearchCV best parameter:\", (grid_rf.best_params_)) "
   ]
  },
  {
   "cell_type": "code",
   "execution_count": 8,
   "metadata": {},
   "outputs": [
    {
     "name": "stdout",
     "output_type": "stream",
     "text": [
      "Accuracy on test set:0.83265\n",
      "ROC AUC on test set:0.90991\n"
     ]
    }
   ],
   "source": [
    "best_clf = grid_rf.best_estimator_\n",
    "pred = best_clf.predict(X_test)\n",
    "print(\"Accuracy on test set:{:.5f}\".format(accuracy_score(y_test, pred)))\n",
    "\n",
    "from sklearn.metrics import roc_auc_score\n",
    "ROC_AUC = roc_auc_score(y_test,best_clf.predict_proba(X_test)[:, 1])\n",
    "print(\"ROC AUC on test set:{:.5f}\".format(ROC_AUC))"
   ]
  },
  {
   "cell_type": "code",
   "execution_count": 23,
   "metadata": {
    "scrolled": true
   },
   "outputs": [
    {
     "name": "stdout",
     "output_type": "stream",
     "text": [
      "Feature importances:\n",
      "[0.01802438 0.0510586  0.07630445 0.00050864 0.05946399 0.00291882\n",
      " 0.03123149 0.08543801 0.00622645 0.00174505 0.02225325 0.00616668\n",
      " 0.01696247 0.06415757 0.01339109 0.02582611 0.18708085 0.0068799\n",
      " 0.01577542 0.0588845  0.02646556 0.00840663 0.01769451 0.02223121\n",
      " 0.08798852 0.0005029  0.0105417  0.06171582 0.01415543]\n"
     ]
    }
   ],
   "source": [
    "# 참조 코딩\n",
    "print (\"Feature importances:\") \n",
    "print (best_clf.feature_importances_) "
   ]
  },
  {
   "cell_type": "code",
   "execution_count": 9,
   "metadata": {
    "scrolled": true
   },
   "outputs": [
    {
     "data": {
      "text/html": [
       "<div>\n",
       "<style scoped>\n",
       "    .dataframe tbody tr th:only-of-type {\n",
       "        vertical-align: middle;\n",
       "    }\n",
       "\n",
       "    .dataframe tbody tr th {\n",
       "        vertical-align: top;\n",
       "    }\n",
       "\n",
       "    .dataframe thead th {\n",
       "        text-align: right;\n",
       "    }\n",
       "</style>\n",
       "<table border=\"1\" class=\"dataframe\">\n",
       "  <thead>\n",
       "    <tr style=\"text-align: right;\">\n",
       "      <th></th>\n",
       "      <th>Feature_importances</th>\n",
       "    </tr>\n",
       "  </thead>\n",
       "  <tbody>\n",
       "    <tr>\n",
       "      <th>HINCP</th>\n",
       "      <td>0.187</td>\n",
       "    </tr>\n",
       "    <tr>\n",
       "      <th>RMSP</th>\n",
       "      <td>0.088</td>\n",
       "    </tr>\n",
       "    <tr>\n",
       "      <th>ELEP</th>\n",
       "      <td>0.085</td>\n",
       "    </tr>\n",
       "    <tr>\n",
       "      <th>AGEP</th>\n",
       "      <td>0.076</td>\n",
       "    </tr>\n",
       "    <tr>\n",
       "      <th>GASP</th>\n",
       "      <td>0.064</td>\n",
       "    </tr>\n",
       "    <tr>\n",
       "      <th>SCHL</th>\n",
       "      <td>0.062</td>\n",
       "    </tr>\n",
       "    <tr>\n",
       "      <th>MV</th>\n",
       "      <td>0.059</td>\n",
       "    </tr>\n",
       "    <tr>\n",
       "      <th>BDSP</th>\n",
       "      <td>0.059</td>\n",
       "    </tr>\n",
       "    <tr>\n",
       "      <th>ACR</th>\n",
       "      <td>0.051</td>\n",
       "    </tr>\n",
       "    <tr>\n",
       "      <th>COW</th>\n",
       "      <td>0.031</td>\n",
       "    </tr>\n",
       "    <tr>\n",
       "      <th>NRC</th>\n",
       "      <td>0.026</td>\n",
       "    </tr>\n",
       "    <tr>\n",
       "      <th>HHT</th>\n",
       "      <td>0.026</td>\n",
       "    </tr>\n",
       "    <tr>\n",
       "      <th>RAC1P</th>\n",
       "      <td>0.022</td>\n",
       "    </tr>\n",
       "    <tr>\n",
       "      <th>FPARC</th>\n",
       "      <td>0.022</td>\n",
       "    </tr>\n",
       "    <tr>\n",
       "      <th>ACCESS</th>\n",
       "      <td>0.018</td>\n",
       "    </tr>\n",
       "    <tr>\n",
       "      <th>R65</th>\n",
       "      <td>0.018</td>\n",
       "    </tr>\n",
       "    <tr>\n",
       "      <th>FTAXP</th>\n",
       "      <td>0.017</td>\n",
       "    </tr>\n",
       "    <tr>\n",
       "      <th>MAR</th>\n",
       "      <td>0.016</td>\n",
       "    </tr>\n",
       "    <tr>\n",
       "      <th>SEX</th>\n",
       "      <td>0.014</td>\n",
       "    </tr>\n",
       "    <tr>\n",
       "      <th>HHL</th>\n",
       "      <td>0.013</td>\n",
       "    </tr>\n",
       "    <tr>\n",
       "      <th>SCH</th>\n",
       "      <td>0.011</td>\n",
       "    </tr>\n",
       "    <tr>\n",
       "      <th>R18</th>\n",
       "      <td>0.008</td>\n",
       "    </tr>\n",
       "    <tr>\n",
       "      <th>LANX</th>\n",
       "      <td>0.007</td>\n",
       "    </tr>\n",
       "    <tr>\n",
       "      <th>FSCHP</th>\n",
       "      <td>0.006</td>\n",
       "    </tr>\n",
       "    <tr>\n",
       "      <th>FESRP</th>\n",
       "      <td>0.006</td>\n",
       "    </tr>\n",
       "    <tr>\n",
       "      <th>BLD</th>\n",
       "      <td>0.003</td>\n",
       "    </tr>\n",
       "    <tr>\n",
       "      <th>FKITP</th>\n",
       "      <td>0.002</td>\n",
       "    </tr>\n",
       "    <tr>\n",
       "      <th>RWAT</th>\n",
       "      <td>0.001</td>\n",
       "    </tr>\n",
       "    <tr>\n",
       "      <th>BATH</th>\n",
       "      <td>0.001</td>\n",
       "    </tr>\n",
       "  </tbody>\n",
       "</table>\n",
       "</div>"
      ],
      "text/plain": [
       "        Feature_importances\n",
       "HINCP                 0.187\n",
       "RMSP                  0.088\n",
       "ELEP                  0.085\n",
       "AGEP                  0.076\n",
       "GASP                  0.064\n",
       "SCHL                  0.062\n",
       "MV                    0.059\n",
       "BDSP                  0.059\n",
       "ACR                   0.051\n",
       "COW                   0.031\n",
       "NRC                   0.026\n",
       "HHT                   0.026\n",
       "RAC1P                 0.022\n",
       "FPARC                 0.022\n",
       "ACCESS                0.018\n",
       "R65                   0.018\n",
       "FTAXP                 0.017\n",
       "MAR                   0.016\n",
       "SEX                   0.014\n",
       "HHL                   0.013\n",
       "SCH                   0.011\n",
       "R18                   0.008\n",
       "LANX                  0.007\n",
       "FSCHP                 0.006\n",
       "FESRP                 0.006\n",
       "BLD                   0.003\n",
       "FKITP                 0.002\n",
       "RWAT                  0.001\n",
       "BATH                  0.001"
      ]
     },
     "execution_count": 9,
     "metadata": {},
     "output_type": "execute_result"
    }
   ],
   "source": [
    "# 변수명을 Index로 만들고 feature_importances를 매칭해서 나열한 데이터프레임 만들기 \n",
    "\n",
    "feature_names = list(data.columns)   # 변수명(컬럼명)을 리스트 형태로 만들기\n",
    "dft = pd.DataFrame(np.round(best_clf.feature_importances_, 3), index=feature_names,\n",
    "                   columns=['Feature_importances'])\n",
    "dft1 = dft.sort_values(by='Feature_importances', ascending=False)   \n",
    "dft1                                 # 컬럼 Feature_importances의 값들을 내림차순으로 정리 "
   ]
  },
  {
   "cell_type": "code",
   "execution_count": 10,
   "metadata": {},
   "outputs": [
    {
     "data": {
      "image/png": "[encoded data removed]",
      "text/plain": [
       "<Figure size 792x576 with 1 Axes>"
      ]
     },
     "metadata": {
      "needs_background": "light"
     },
     "output_type": "display_data"
    }
   ],
   "source": [
    "# 데이터프레임 dft1의 막대그래프(barplot) 그리기\n",
    "import matplotlib.pyplot as plt\n",
    "import seaborn as sns\n",
    "%matplotlib inline\n",
    "\n",
    "fig, ax = plt.subplots(figsize=(11, 8))\n",
    "ax = sns.barplot(y=dft1.index, x=\"Feature_importances\", data=dft1)\n",
    "\n",
    "for p in ax.patches:\n",
    "    ax.annotate(\"%.3f\" % p.get_width(), (p.get_x() + p.get_width(), p.get_y()+1.3),\n",
    "                xytext=(5, 10), textcoords='offset points')"
   ]
  },
  {
   "cell_type": "code",
   "execution_count": null,
   "metadata": {},
   "outputs": [],
   "source": [
    "# 참고 코딩"
   ]
  },
  {
   "cell_type": "code",
   "execution_count": 35,
   "metadata": {},
   "outputs": [],
   "source": [
    "# 70:30 데이터 분할\n",
    "from sklearn.model_selection import train_test_split \n",
    "X_train, X_test, y_train, y_test = train_test_split( \n",
    "    data, target, test_size=0.3, random_state=42)   # test_size=0.5임에 주의 "
   ]
  },
  {
   "cell_type": "code",
   "execution_count": 36,
   "metadata": {},
   "outputs": [
    {
     "name": "stdout",
     "output_type": "stream",
     "text": [
      "Random Forest Accuracy on training set:1.00000\n",
      "Random Forest Accuracy on test set:0.86079\n"
     ]
    }
   ],
   "source": [
    "# Random Forest 모델 (Default 모델, tree depth 제한 없음)\n",
    "from sklearn.ensemble import RandomForestClassifier\n",
    "from sklearn.metrics import accuracy_score\n",
    "rf = RandomForestClassifier(n_estimators = 100, random_state=0) \n",
    "model = rf.fit(X_train, y_train) \n",
    "pred = model.predict(X_test)  # 학습된 Classifier로 테스트 데이터셋 자료이용해서 타겟변수 예측값 생성\n",
    "accuracy = accuracy_score(y_test, pred)\n",
    "\n",
    "print (\"Random Forest Accuracy on training set:{:.5f}\".format(model.score(X_train, y_train))) \n",
    "print (\"Random Forest Accuracy on test set:{:.5f}\".format(accuracy_score(y_test, pred)))"
   ]
  },
  {
   "cell_type": "code",
   "execution_count": null,
   "metadata": {},
   "outputs": [],
   "source": []
  }
 ],
 "metadata": {
  "kernelspec": {
   "display_name": "Python 3 (ipykernel)",
   "language": "python",
   "name": "python3"
  },
  "language_info": {
   "codemirror_mode": {
    "name": "ipython",
    "version": 3
   },
   "file_extension": ".py",
   "mimetype": "text/x-python",
   "name": "python",
   "nbconvert_exporter": "python",
   "pygments_lexer": "ipython3",
   "version": "3.9.7"
  }
 },
 "nbformat": 4,
 "nbformat_minor": 2
}
