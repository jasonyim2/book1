{
 "cells": [
  {
   "cell_type": "markdown",
   "metadata": {},
   "source": [
    "# 4.7.8 회귀 및 릿지 모델"
   ]
  },
  {
   "cell_type": "markdown",
   "metadata": {},
   "source": [
    "# 책에 기술된 코딩문은 아래 부분에 표시해 두었음. 그 부분에 도달할 때까지는 참조 코딩문임"
   ]
  },
  {
   "cell_type": "markdown",
   "metadata": {},
   "source": [
    "# 연속변수 타겟일 경우 표준화 데이터셋 Regression 모델"
   ]
  },
  {
   "cell_type": "code",
   "execution_count": 1,
   "metadata": {},
   "outputs": [
    {
     "data": {
      "text/plain": [
       "(20495, 93)"
      ]
     },
     "execution_count": 1,
     "metadata": {},
     "output_type": "execute_result"
    }
   ],
   "source": [
    "import pandas as pd\n",
    "import numpy as np\n",
    "df = pd.read_csv('house-standard-VALP.csv')                                           \n",
    "df.shape"
   ]
  },
  {
   "cell_type": "code",
   "execution_count": 2,
   "metadata": {},
   "outputs": [
    {
     "name": "stdout",
     "output_type": "stream",
     "text": [
      "X_train shape: (10247, 92)\n",
      "X_test shape: (10248, 92)\n"
     ]
    }
   ],
   "source": [
    "data = df.drop(['VALP'], axis=1)   # 타겟변수(VALP임에 주의)를 제외한 입력변수를 data에 저장\n",
    "target = df['VALP']                # 타겟변수만 target에 저장\n",
    "\n",
    "# 50:50 data partition.\n",
    "from sklearn.model_selection import train_test_split \n",
    "X_train, X_test, y_train, y_test = train_test_split( \n",
    "    data, target, test_size=0.5, random_state=42)   # test_size=0.5임에 주의 \n",
    "\n",
    "print(\"X_train shape:\", X_train.shape) \n",
    "print(\"X_test shape:\", X_test.shape) "
   ]
  },
  {
   "cell_type": "code",
   "execution_count": 3,
   "metadata": {},
   "outputs": [
    {
     "name": "stdout",
     "output_type": "stream",
     "text": [
      "Linear Regression Training set r2 score:0.34406\n",
      "Linear Regression Test set r2 score:0.33370\n"
     ]
    }
   ],
   "source": [
    "# 연속변수 타겟변수일 때 Linear Regression 모델 (Default 모델)\n",
    "from sklearn.linear_model import LinearRegression\n",
    "from sklearn.metrics import r2_score\n",
    "\n",
    "linr = LinearRegression(n_jobs=-1)\n",
    "model = linr.fit(X_train, y_train)\n",
    "pred = model.predict(X_test)\n",
    "\n",
    "print (\"Linear Regression Training set r2 score:{:.5f}\".format(model.score(X_train, y_train))) \n",
    "print (\"Linear Regression Test set r2 score:{:.5f}\".format(r2_score(y_test, pred))) "
   ]
  },
  {
   "cell_type": "markdown",
   "metadata": {},
   "source": [
    "# 연속변수 타겟일 경우 표준화 데이터셋 Ridge 모델"
   ]
  },
  {
   "cell_type": "code",
   "execution_count": 25,
   "metadata": {},
   "outputs": [
    {
     "name": "stdout",
     "output_type": "stream",
     "text": [
      "Linear Regression Training set score:0.34405\n",
      "Linear Regression Test set score:0.33379\n"
     ]
    }
   ],
   "source": [
    "# 연속변수 타겟변수일 때 Ridge 모델 (Default 모델)\n",
    "from sklearn.linear_model import Ridge\n",
    "Ridge = Ridge()\n",
    "model = Ridge.fit(X_train, y_train)\n",
    "pred = model.predict(X_test)  # 학습된 Classifier로 테스트 데이터셋 자료이용해서 타겟변수 예측값 생성\n",
    "\n",
    "print (\"Linear Regression Training set score:{:.5f}\".format(model.score(X_train, y_train))) \n",
    "print (\"Linear Regression Test set score:{:.5f}\".format(r2_score(y_test, pred)))"
   ]
  },
  {
   "cell_type": "code",
   "execution_count": 29,
   "metadata": {},
   "outputs": [],
   "source": [
    "# 연속변수 타겟변수일 때 Ridge 모델 (Default 모델)\n",
    "from sklearn.linear_model import Ridge\n",
    "Ridge = Ridge()"
   ]
  },
  {
   "cell_type": "code",
   "execution_count": 30,
   "metadata": {},
   "outputs": [
    {
     "name": "stdout",
     "output_type": "stream",
     "text": [
      "Fitting 5 folds for each of 56 candidates, totalling 280 fits\n"
     ]
    },
    {
     "name": "stderr",
     "output_type": "stream",
     "text": [
      "C:\\Users\\jason\\anaconda3\\lib\\site-packages\\sklearn\\model_selection\\_search.py:918: UserWarning: One or more of the test scores are non-finite: [0.33051397 0.33051397 0.33082257 0.33051397 0.33072646 0.33054219\n",
      " 0.33056991        nan 0.33051743 0.33051743 0.33082319 0.33051743\n",
      " 0.3307479  0.33054566 0.3305731         nan 0.33055065 0.33055065\n",
      " 0.3308294  0.33055065 0.33074615 0.33057655 0.33059955        nan\n",
      " 0.33078908 0.33078908 0.33101199 0.33078908 0.33086527 0.33080242\n",
      " 0.33081024        nan 0.33139465 0.33139465 0.3313423  0.33139465\n",
      " 0.33132413 0.33140072 0.33139226        nan 0.32798663 0.32798663\n",
      " 0.32795591 0.32798663 0.3279425  0.32798531 0.32799798        nan\n",
      " 0.29929105 0.29929105 0.29922224 0.29929105 0.29928808 0.29927155\n",
      " 0.2992906         nan]\n",
      "  warnings.warn(\n"
     ]
    },
    {
     "name": "stdout",
     "output_type": "stream",
     "text": [
      "GridSearchCV max score:0.33140\n",
      "GridSearchCV best parameter: {'alpha': 10, 'solver': 'sag'}\n"
     ]
    }
   ],
   "source": [
    "# 그리드 서치 실행\n",
    "from sklearn.model_selection import GridSearchCV\n",
    "\n",
    "params = {'alpha':[0.001, 0.01, 0.1, 1, 10, 100, 1000],\\\n",
    "         'solver':['auto', 'svd', 'lsqr', 'cholesky','sparse_cg','sag','saga','lbfgs']}\n",
    "\n",
    "grid_Ridge = GridSearchCV(clf_Ridge, param_grid=params, scoring='r2', cv=5,\\\n",
    "                       n_jobs=-1, verbose=1)\n",
    "grid_Ridge.fit(X_train, y_train)\n",
    "\n",
    "print(\"GridSearchCV max score:{:.5f}\".format(grid_Ridge.best_score_))\n",
    "print(\"GridSearchCV best parameter:\", (grid_Ridge.best_params_)) "
   ]
  },
  {
   "cell_type": "code",
   "execution_count": 31,
   "metadata": {},
   "outputs": [
    {
     "name": "stdout",
     "output_type": "stream",
     "text": [
      "R2 Score on test set:0.33413\n"
     ]
    }
   ],
   "source": [
    "best_clf = grid_Ridge.best_estimator_\n",
    "pred = best_clf.predict(X_test)\n",
    "\n",
    "print(\"R2 Score on test set:{:.5f}\".format(best_clf.score(X_test, y_test)))"
   ]
  },
  {
   "cell_type": "markdown",
   "metadata": {},
   "source": [
    "# 연속변수 타겟일 경우 Lasso 모델\n",
    "# 실행 결과 Lasso 모델은 성능이 전혀 나오지 않음"
   ]
  },
  {
   "cell_type": "code",
   "execution_count": 35,
   "metadata": {},
   "outputs": [
    {
     "name": "stdout",
     "output_type": "stream",
     "text": [
      "Linear Regression Training set score:-211.26113\n",
      "Linear Regression Test set score:-199811771404745360482806792192.00000\n"
     ]
    }
   ],
   "source": [
    "# 연속변수 타겟변수일 때 Ridge 모델 (Default 모델)\n",
    "from sklearn.linear_model import Lasso\n",
    "Lasso = Lasso()\n",
    "model = Lasso.fit(X_train, y_train)\n",
    "pred = model.predict(X_test)  # 학습된 Classifier로 테스트 데이터셋 자료이용해서 타겟변수 예측값 생성\n",
    "\n",
    "print (\"Linear Regression Training set score:{:.5f}\".format(clf_Lasso.score(X_train, y_train))) \n",
    "print (\"Linear Regression Test set score:{:.5f}\".format(r2_score(pred, y_test,)))"
   ]
  },
  {
   "cell_type": "markdown",
   "metadata": {},
   "source": [
    "# 로그변환한 데이터로 Regression 실행"
   ]
  },
  {
   "cell_type": "code",
   "execution_count": 33,
   "metadata": {},
   "outputs": [
    {
     "data": {
      "text/plain": [
       "(20495, 93)"
      ]
     },
     "execution_count": 33,
     "metadata": {},
     "output_type": "execute_result"
    }
   ],
   "source": [
    "import pandas as pd\n",
    "import numpy as np\n",
    "df = pd.read_csv('house-log-VALP.csv') \n",
    "                                       \n",
    "df.shape"
   ]
  },
  {
   "cell_type": "code",
   "execution_count": 34,
   "metadata": {},
   "outputs": [
    {
     "name": "stdout",
     "output_type": "stream",
     "text": [
      "X_train shape: (10247, 92)\n",
      "X_test shape: (10248, 92)\n"
     ]
    }
   ],
   "source": [
    "data = df.drop(['VALP'], axis=1)   # 타겟변수(VALP임에 주의)를 제외한 입력변수를 data에 저장\n",
    "target = df['VALP']                # 타겟변수만 target에 저장\n",
    "\n",
    "# 50:50 data partition.\n",
    "from sklearn.model_selection import train_test_split \n",
    "X_train, X_test, y_train, y_test = train_test_split( \n",
    "    data, target, test_size=0.5, random_state=42)   # test_size=0.5임에 주의 \n",
    "\n",
    "print(\"X_train shape:\", X_train.shape) \n",
    "print(\"X_test shape:\", X_test.shape) "
   ]
  },
  {
   "cell_type": "code",
   "execution_count": 37,
   "metadata": {},
   "outputs": [
    {
     "name": "stdout",
     "output_type": "stream",
     "text": [
      "Linear Regression Training set score:0.31519\n",
      "Linear Regression Test set score:0.28534\n"
     ]
    }
   ],
   "source": [
    "# 연속변수 타겟변수일 때 Linear Regression 모델 (Default 모델)\n",
    "from sklearn.linear_model import LinearRegression\n",
    "lin_r = LinearRegression(n_jobs=-1)\n",
    "model = lin_r.fit(X_train, y_train)\n",
    "pred = model.predict(X_test)\n",
    "\n",
    "print (\"Linear Regression Training set score:{:.5f}\".format(model.score(X_train, y_train))) \n",
    "print (\"Linear Regression Test set score:{:.5f}\".format(r2_score(y_test, pred)))"
   ]
  },
  {
   "cell_type": "markdown",
   "metadata": {},
   "source": [
    "# 로그변환한 데이터로 Ridge실행"
   ]
  },
  {
   "cell_type": "code",
   "execution_count": 42,
   "metadata": {},
   "outputs": [
    {
     "name": "stdout",
     "output_type": "stream",
     "text": [
      "Ridge Training set score:0.31901\n",
      "Ridge Test set score:0.28796\n"
     ]
    }
   ],
   "source": [
    "# 연속변수 타겟변수일 때 Lasso 모델 (Default 모델)\n",
    "from sklearn.linear_model import Ridge\n",
    "from sklearn.metrics import r2_score\n",
    "Ridge = Ridge()\n",
    "model = Ridge.fit(X_train, y_train)\n",
    "pred = model.predict(X_test)  # 학습된 Classifier로 테스트 데이터셋 자료이용해서 타겟변수 예측값 생성\n",
    "\n",
    "print (\"Ridge Training set score:{:.5f}\".format(model.score(X_train, y_train))) \n",
    "print (\"Ridge Test set score:{:.5f}\".format(r2_score(y_test, pred)))"
   ]
  },
  {
   "cell_type": "code",
   "execution_count": 44,
   "metadata": {},
   "outputs": [],
   "source": [
    "# 연속변수 타겟변수일 때 Lasso 모델 (Default 모델)\n",
    "from sklearn.linear_model import Ridge\n",
    "Ridge = Ridge()"
   ]
  },
  {
   "cell_type": "code",
   "execution_count": 45,
   "metadata": {},
   "outputs": [
    {
     "name": "stdout",
     "output_type": "stream",
     "text": [
      "Fitting 5 folds for each of 56 candidates, totalling 280 fits\n",
      "GridSearchCV max score:0.30570\n",
      "GridSearchCV best parameter: {'alpha': 10, 'solver': 'svd'}\n"
     ]
    },
    {
     "name": "stderr",
     "output_type": "stream",
     "text": [
      "C:\\Users\\jason\\anaconda3\\lib\\site-packages\\sklearn\\model_selection\\_search.py:918: UserWarning: One or more of the test scores are non-finite: [0.30461978 0.30461978 0.30426224 0.30461978 0.3046637  0.30475244\n",
      " 0.30482444        nan 0.30462598 0.30462598 0.3042634  0.30462598\n",
      " 0.30468211 0.30476111 0.3048275         nan 0.30468506 0.30468506\n",
      " 0.30427497 0.30468506 0.3046811  0.30480349 0.30486965        nan\n",
      " 0.30508334 0.30508334 0.30438394 0.30508334 0.305233   0.30513024\n",
      " 0.30516187        nan 0.30570426 0.30570426 0.30496785 0.30570426\n",
      " 0.30563983 0.30570241 0.30569633        nan 0.30110323 0.30110323\n",
      " 0.3010157  0.30110323 0.30108606 0.30109459 0.30108187        nan\n",
      " 0.26764129 0.26764129 0.26752618 0.26764129 0.26761919 0.2676401\n",
      " 0.26765052        nan]\n",
      "  warnings.warn(\n"
     ]
    }
   ],
   "source": [
    "# 그리드 서치 실행\n",
    "from sklearn.model_selection import GridSearchCV\n",
    "from sklearn.model_selection import StratifiedKFold  \n",
    "\n",
    "params = {'alpha':[0.001, 0.01, 0.1, 1, 10, 100, 1000],\\\n",
    "         'solver':['auto', 'svd', 'lsqr', 'cholesky','sparse_cg','sag','saga','lbfgs']}\n",
    "\n",
    "grid_Ridge = GridSearchCV(Ridge, param_grid=params, scoring='r2', cv=5,\\\n",
    "                       n_jobs=-1, verbose=1)\n",
    "grid_Ridge.fit(X_train, y_train)\n",
    "\n",
    "print(\"GridSearchCV max score:{:.5f}\".format(grid_Ridge.best_score_))\n",
    "print(\"GridSearchCV best parameter:\", (grid_Ridge.best_params_)) "
   ]
  },
  {
   "cell_type": "code",
   "execution_count": 46,
   "metadata": {},
   "outputs": [
    {
     "name": "stdout",
     "output_type": "stream",
     "text": [
      "R2 Score on test set:0.28864\n"
     ]
    }
   ],
   "source": [
    "best_clf = grid_Ridge.best_estimator_\n",
    "pred = best_clf.predict(X_test)\n",
    "\n",
    "print(\"R2 Score on test set:{:.5f}\".format(best_clf.score(X_test, y_test)))\n",
    "#print(\"R2 Score on test set:{:.5f}\".format(r2_score(y_test, pred)))"
   ]
  },
  {
   "cell_type": "markdown",
   "metadata": {},
   "source": [
    "# 이제부터 책에 나온 코딩임에 유의"
   ]
  },
  {
   "cell_type": "markdown",
   "metadata": {},
   "source": [
    "# Unscaled 데이터로 Regression 실행"
   ]
  },
  {
   "cell_type": "code",
   "execution_count": 47,
   "metadata": {},
   "outputs": [
    {
     "data": {
      "text/plain": [
       "(20495, 93)"
      ]
     },
     "execution_count": 47,
     "metadata": {},
     "output_type": "execute_result"
    }
   ],
   "source": [
    "import pandas as pd\n",
    "import numpy as np\n",
    "df = pd.read_csv('house-unscaled-VALP.csv') # 데이터 불러오기\n",
    "df.shape"
   ]
  },
  {
   "cell_type": "code",
   "execution_count": 48,
   "metadata": {},
   "outputs": [
    {
     "name": "stdout",
     "output_type": "stream",
     "text": [
      "X_train shape: (10247, 92)\n",
      "X_test shape: (10248, 92)\n"
     ]
    }
   ],
   "source": [
    "data = df.drop(['VALP'], axis=1)   # 타겟변수(VALP임에 주의)를 제외한 입력변수를 data에 저장\n",
    "target = df['VALP']                # 타겟변수만 target에 저장\n",
    "\n",
    "# 50:50 data partition.\n",
    "from sklearn.model_selection import train_test_split \n",
    "X_train, X_test, y_train, y_test = train_test_split( \n",
    "    data, target, test_size=0.5, random_state=42)   # test_size=0.5임에 주의 \n",
    "\n",
    "print(\"X_train shape:\", X_train.shape) \n",
    "print(\"X_test shape:\", X_test.shape) "
   ]
  },
  {
   "cell_type": "code",
   "execution_count": 49,
   "metadata": {},
   "outputs": [
    {
     "name": "stdout",
     "output_type": "stream",
     "text": [
      "Linear Regression Training set score:0.34406\n",
      "Linear Regression Test set r2 score:0.33370\n"
     ]
    }
   ],
   "source": [
    "# 연속변수 타겟변수일 때 Linear Regression 모델 (Default 모델)\n",
    "from sklearn.linear_model import LinearRegression\n",
    "from sklearn.metrics import r2_score\n",
    "\n",
    "linr = LinearRegression(n_jobs=-1)\n",
    "model = linr.fit(X_train, y_train)\n",
    "pred = model.predict(X_test)\n",
    "\n",
    "print (\"Linear Regression Training set score:{:.5f}\".format(model.score(X_train, y_train))) \n",
    "print (\"Linear Regression Test set r2 score:{:.5f}\".format(r2_score(y_test, pred)))"
   ]
  },
  {
   "cell_type": "code",
   "execution_count": 51,
   "metadata": {},
   "outputs": [
    {
     "data": {
      "image/png": "[encoded data removed]",
      "text/plain": [
       "<Figure size 432x288 with 1 Axes>"
      ]
     },
     "metadata": {
      "needs_background": "light"
     },
     "output_type": "display_data"
    }
   ],
   "source": [
    "import seaborn as sns\n",
    "\n",
    "final_result = pd.concat([y_test.reset_index(drop=True), pd.DataFrame(pred)], axis = 1)\n",
    "final_result.columns = ['y_test','pred']\n",
    "sns.regplot(x = 'y_test', y = 'pred', data = final_result);"
   ]
  },
  {
   "cell_type": "markdown",
   "metadata": {},
   "source": [
    "# Unscaled 데이터셋일 때 Ridge 모델"
   ]
  },
  {
   "cell_type": "code",
   "execution_count": 52,
   "metadata": {},
   "outputs": [
    {
     "name": "stdout",
     "output_type": "stream",
     "text": [
      "Linear Regression Training set score:0.34405\n",
      "Linear Regression Test set score:0.33378\n"
     ]
    }
   ],
   "source": [
    "# 연속변수 타겟변수일 때 Ridge 모델 (Default 모델).\n",
    "from sklearn.linear_model import Ridge\n",
    "from sklearn.metrics import r2_score\n",
    "Ridge = Ridge()\n",
    "model = Ridge.fit(X_train, y_train)\n",
    "pred = model.predict(X_test)  # 학습된 Classifier로 테스트 데이터셋 자료이용해서 타겟변수 예측값 생성.\n",
    "\n",
    "print (\"Linear Regression Training set score:{:.5f}\".format(model.score(X_train, y_train))) \n",
    "print (\"Linear Regression Test set score:{:.5f}\".format(r2_score(y_test, pred)))"
   ]
  },
  {
   "cell_type": "code",
   "execution_count": 54,
   "metadata": {},
   "outputs": [],
   "source": [
    "# 연속변수 타겟변수일 때 Ridge 모델 (Default 모델)\n",
    "from sklearn.linear_model import Ridge\n",
    "Ridge = Ridge()"
   ]
  },
  {
   "cell_type": "code",
   "execution_count": 55,
   "metadata": {},
   "outputs": [
    {
     "name": "stdout",
     "output_type": "stream",
     "text": [
      "Fitting 5 folds for each of 56 candidates, totalling 280 fits\n",
      "GridSearchCV max score:0.33139\n",
      "GridSearchCV best parameter: {'alpha': 10, 'solver': 'svd'}\n"
     ]
    },
    {
     "name": "stderr",
     "output_type": "stream",
     "text": [
      "C:\\Users\\jason\\anaconda3\\lib\\site-packages\\sklearn\\model_selection\\_search.py:918: UserWarning: One or more of the test scores are non-finite: [0.33051397 0.33051397 0.15875989 0.33051397 0.15875989 0.17170746\n",
      " 0.16794827        nan 0.33051743 0.33051743 0.15875989 0.33051743\n",
      " 0.15875989 0.17171101 0.16794737        nan 0.33055061 0.33055061\n",
      " 0.15875989 0.33055061 0.15875989 0.17171009 0.16794786        nan\n",
      " 0.33078865 0.33078865 0.15875989 0.33078865 0.15875989 0.17170861\n",
      " 0.16795036        nan 0.33139026 0.33139026 0.15875989 0.33139026\n",
      " 0.15875989 0.17170922 0.1679498         nan 0.32794727 0.32794727\n",
      " 0.15875989 0.32794727 0.15875989 0.17170904 0.16794881        nan\n",
      " 0.29963897 0.29963897 0.15875989 0.29963897 0.15875989 0.17170971\n",
      " 0.16794917        nan]\n",
      "  warnings.warn(\n"
     ]
    }
   ],
   "source": [
    "# 그리드 서치 실행\n",
    "from sklearn.model_selection import GridSearchCV\n",
    "\n",
    "params = {'alpha':[0.001, 0.01, 0.1, 1, 10, 100, 1000],\n",
    "         'solver':['auto', 'svd', 'lsqr', 'cholesky','sparse_cg','sag','saga','lbfgs']}\n",
    "\n",
    "grid_Ridge = GridSearchCV(Ridge, param_grid=params, scoring='r2', cv=5,\\\n",
    "                       n_jobs=-1, verbose=1)\n",
    "grid_Ridge.fit(X_train, y_train)\n",
    "\n",
    "print(\"GridSearchCV max score:{:.5f}\".format(grid_Ridge.best_score_))\n",
    "print(\"GridSearchCV best parameter:\", (grid_Ridge.best_params_)) "
   ]
  },
  {
   "cell_type": "code",
   "execution_count": 56,
   "metadata": {},
   "outputs": [
    {
     "name": "stdout",
     "output_type": "stream",
     "text": [
      "R2 Score on test set:0.33410\n"
     ]
    }
   ],
   "source": [
    "best_clf = grid_Ridge.best_estimator_\n",
    "pred = best_clf.predict(X_test)\n",
    "\n",
    "print(\"R2 Score on test set:{:.5f}\".format(best_clf.score(X_test, y_test)))"
   ]
  },
  {
   "cell_type": "code",
   "execution_count": null,
   "metadata": {},
   "outputs": [],
   "source": []
  }
 ],
 "metadata": {
  "kernelspec": {
   "display_name": "Python 3 (ipykernel)",
   "language": "python",
   "name": "python3"
  },
  "language_info": {
   "codemirror_mode": {
    "name": "ipython",
    "version": 3
   },
   "file_extension": ".py",
   "mimetype": "text/x-python",
   "name": "python",
   "nbconvert_exporter": "python",
   "pygments_lexer": "ipython3",
   "version": "3.9.7"
  }
 },
 "nbformat": 4,
 "nbformat_minor": 2
}
