{
 "cells": [
  {
   "cell_type": "markdown",
   "metadata": {
    "id": "i7hpTscA4l33"
   },
   "source": [
    "# 4.7.6 텐서플로 케라스 신경망 모델"
   ]
  },
  {
   "cell_type": "markdown",
   "metadata": {
    "id": "VbPvLU_F7aUI"
   },
   "source": [
    "# 이 절은 구글 코랩에서 실행해야 함에 유의"
   ]
  },
  {
   "cell_type": "code",
   "execution_count": null,
   "metadata": {
    "id": "PUD_DFJA4yUd"
   },
   "outputs": [],
   "source": [
    "# house-standard.csv 파일을 구글 드라이브에 업로딩하고 이를 구글 코랩에서 불러오기 위해서는 \n",
    "# 책 본문의 안내 사항 준수 필요"
   ]
  },
  {
   "cell_type": "code",
   "execution_count": null,
   "metadata": {
    "id": "EKNpCR9W4gl5"
   },
   "outputs": [],
   "source": [
    "from google.colab import drive\n",
    "drive.mount('/content/drive')"
   ]
  },
  {
   "cell_type": "code",
   "execution_count": null,
   "metadata": {
    "colab": {
     "base_uri": "https://localhost:8080/",
     "height": 236
    },
    "executionInfo": {
     "elapsed": 1066,
     "status": "ok",
     "timestamp": 1644923452933,
     "user": {
      "displayName": "Jason SJ Yim",
      "photoUrl": "https://lh3.googleusercontent.com/a/default-user=s64",
      "userId": "00334139127424328539"
     },
     "user_tz": -540
    },
    "id": "Wd-VaXQLcue8",
    "outputId": "f072364c-9a45-40e7-8763-9392a29cf919"
   },
   "outputs": [
    {
     "data": {
      "text/html": [
       "\n",
       "  <div id=\"df-4bab4bea-79b3-4b25-a28c-4e7428e4cfdd\">\n",
       "    <div class=\"colab-df-container\">\n",
       "      <div>\n",
       "<style scoped>\n",
       "    .dataframe tbody tr th:only-of-type {\n",
       "        vertical-align: middle;\n",
       "    }\n",
       "\n",
       "    .dataframe tbody tr th {\n",
       "        vertical-align: top;\n",
       "    }\n",
       "\n",
       "    .dataframe thead th {\n",
       "        text-align: right;\n",
       "    }\n",
       "</style>\n",
       "<table border=\"1\" class=\"dataframe\">\n",
       "  <thead>\n",
       "    <tr style=\"text-align: right;\">\n",
       "      <th></th>\n",
       "      <th>AGEP</th>\n",
       "      <th>BDSP</th>\n",
       "      <th>ELEP</th>\n",
       "      <th>GASP</th>\n",
       "      <th>HINCP</th>\n",
       "      <th>NRC</th>\n",
       "      <th>RMSP</th>\n",
       "      <th>BATH</th>\n",
       "      <th>FESRP</th>\n",
       "      <th>FKITP</th>\n",
       "      <th>FSCHP</th>\n",
       "      <th>FTAXP</th>\n",
       "      <th>R18</th>\n",
       "      <th>RWAT</th>\n",
       "      <th>VALP_B1</th>\n",
       "      <th>ACCESS_1.0</th>\n",
       "      <th>ACCESS_2.0</th>\n",
       "      <th>ACR_1.0</th>\n",
       "      <th>ACR_2.0</th>\n",
       "      <th>BLD_2.0</th>\n",
       "      <th>COW_0</th>\n",
       "      <th>COW_1</th>\n",
       "      <th>COW_2</th>\n",
       "      <th>COW_3</th>\n",
       "      <th>COW_4</th>\n",
       "      <th>COW_5</th>\n",
       "      <th>COW_6</th>\n",
       "      <th>COW_7</th>\n",
       "      <th>COW_8</th>\n",
       "      <th>FPARC_0</th>\n",
       "      <th>FPARC_1</th>\n",
       "      <th>FPARC_2</th>\n",
       "      <th>FPARC_3</th>\n",
       "      <th>HHL_1.0</th>\n",
       "      <th>HHL_2.0</th>\n",
       "      <th>HHL_3.0</th>\n",
       "      <th>HHL_4.0</th>\n",
       "      <th>HHT_1.0</th>\n",
       "      <th>HHT_2.0</th>\n",
       "      <th>HHT_3.0</th>\n",
       "      <th>...</th>\n",
       "      <th>MV_5.0</th>\n",
       "      <th>MV_6.0</th>\n",
       "      <th>R65_1.0</th>\n",
       "      <th>R65_2.0</th>\n",
       "      <th>RAC1P_1</th>\n",
       "      <th>RAC1P_2</th>\n",
       "      <th>RAC1P_3</th>\n",
       "      <th>RAC1P_4</th>\n",
       "      <th>RAC1P_5</th>\n",
       "      <th>RAC1P_6</th>\n",
       "      <th>RAC1P_7</th>\n",
       "      <th>RAC1P_9</th>\n",
       "      <th>SCH_0</th>\n",
       "      <th>SCH_2</th>\n",
       "      <th>SCH_3</th>\n",
       "      <th>SCHL_0</th>\n",
       "      <th>SCHL_2</th>\n",
       "      <th>SCHL_3</th>\n",
       "      <th>SCHL_4</th>\n",
       "      <th>SCHL_5</th>\n",
       "      <th>SCHL_6</th>\n",
       "      <th>SCHL_7</th>\n",
       "      <th>SCHL_8</th>\n",
       "      <th>SCHL_9</th>\n",
       "      <th>SCHL_10</th>\n",
       "      <th>SCHL_11</th>\n",
       "      <th>SCHL_12</th>\n",
       "      <th>SCHL_13</th>\n",
       "      <th>SCHL_14</th>\n",
       "      <th>SCHL_15</th>\n",
       "      <th>SCHL_16</th>\n",
       "      <th>SCHL_17</th>\n",
       "      <th>SCHL_18</th>\n",
       "      <th>SCHL_19</th>\n",
       "      <th>SCHL_20</th>\n",
       "      <th>SCHL_21</th>\n",
       "      <th>SCHL_22</th>\n",
       "      <th>SCHL_23</th>\n",
       "      <th>SCHL_24</th>\n",
       "      <th>SEX_2</th>\n",
       "    </tr>\n",
       "  </thead>\n",
       "  <tbody>\n",
       "    <tr>\n",
       "      <th>0</th>\n",
       "      <td>1.277527</td>\n",
       "      <td>-0.185587</td>\n",
       "      <td>-0.218278</td>\n",
       "      <td>-0.030785</td>\n",
       "      <td>-0.857357</td>\n",
       "      <td>-0.757285</td>\n",
       "      <td>-0.779457</td>\n",
       "      <td>1.0</td>\n",
       "      <td>0</td>\n",
       "      <td>0.0</td>\n",
       "      <td>0</td>\n",
       "      <td>0.0</td>\n",
       "      <td>0.0</td>\n",
       "      <td>1.0</td>\n",
       "      <td>1.0</td>\n",
       "      <td>1</td>\n",
       "      <td>0</td>\n",
       "      <td>1</td>\n",
       "      <td>0</td>\n",
       "      <td>1</td>\n",
       "      <td>1</td>\n",
       "      <td>0</td>\n",
       "      <td>0</td>\n",
       "      <td>0</td>\n",
       "      <td>0</td>\n",
       "      <td>0</td>\n",
       "      <td>0</td>\n",
       "      <td>0</td>\n",
       "      <td>0</td>\n",
       "      <td>1</td>\n",
       "      <td>0</td>\n",
       "      <td>0</td>\n",
       "      <td>0</td>\n",
       "      <td>1</td>\n",
       "      <td>0</td>\n",
       "      <td>0</td>\n",
       "      <td>0</td>\n",
       "      <td>0</td>\n",
       "      <td>0</td>\n",
       "      <td>0</td>\n",
       "      <td>...</td>\n",
       "      <td>0</td>\n",
       "      <td>0</td>\n",
       "      <td>1</td>\n",
       "      <td>0</td>\n",
       "      <td>1</td>\n",
       "      <td>0</td>\n",
       "      <td>0</td>\n",
       "      <td>0</td>\n",
       "      <td>0</td>\n",
       "      <td>0</td>\n",
       "      <td>0</td>\n",
       "      <td>0</td>\n",
       "      <td>0</td>\n",
       "      <td>0</td>\n",
       "      <td>0</td>\n",
       "      <td>0</td>\n",
       "      <td>0</td>\n",
       "      <td>0</td>\n",
       "      <td>0</td>\n",
       "      <td>0</td>\n",
       "      <td>0</td>\n",
       "      <td>0</td>\n",
       "      <td>0</td>\n",
       "      <td>0</td>\n",
       "      <td>0</td>\n",
       "      <td>0</td>\n",
       "      <td>0</td>\n",
       "      <td>0</td>\n",
       "      <td>0</td>\n",
       "      <td>0</td>\n",
       "      <td>0</td>\n",
       "      <td>0</td>\n",
       "      <td>0</td>\n",
       "      <td>0</td>\n",
       "      <td>0</td>\n",
       "      <td>1</td>\n",
       "      <td>0</td>\n",
       "      <td>0</td>\n",
       "      <td>0</td>\n",
       "      <td>1</td>\n",
       "    </tr>\n",
       "    <tr>\n",
       "      <th>1</th>\n",
       "      <td>0.115555</td>\n",
       "      <td>-0.185587</td>\n",
       "      <td>1.548888</td>\n",
       "      <td>-1.029228</td>\n",
       "      <td>0.537778</td>\n",
       "      <td>-0.757285</td>\n",
       "      <td>-0.261327</td>\n",
       "      <td>1.0</td>\n",
       "      <td>0</td>\n",
       "      <td>0.0</td>\n",
       "      <td>0</td>\n",
       "      <td>0.0</td>\n",
       "      <td>0.0</td>\n",
       "      <td>1.0</td>\n",
       "      <td>1.0</td>\n",
       "      <td>1</td>\n",
       "      <td>0</td>\n",
       "      <td>0</td>\n",
       "      <td>0</td>\n",
       "      <td>1</td>\n",
       "      <td>0</td>\n",
       "      <td>1</td>\n",
       "      <td>0</td>\n",
       "      <td>0</td>\n",
       "      <td>0</td>\n",
       "      <td>0</td>\n",
       "      <td>0</td>\n",
       "      <td>0</td>\n",
       "      <td>0</td>\n",
       "      <td>0</td>\n",
       "      <td>0</td>\n",
       "      <td>0</td>\n",
       "      <td>0</td>\n",
       "      <td>1</td>\n",
       "      <td>0</td>\n",
       "      <td>0</td>\n",
       "      <td>0</td>\n",
       "      <td>1</td>\n",
       "      <td>0</td>\n",
       "      <td>0</td>\n",
       "      <td>...</td>\n",
       "      <td>0</td>\n",
       "      <td>0</td>\n",
       "      <td>0</td>\n",
       "      <td>0</td>\n",
       "      <td>1</td>\n",
       "      <td>0</td>\n",
       "      <td>0</td>\n",
       "      <td>0</td>\n",
       "      <td>0</td>\n",
       "      <td>0</td>\n",
       "      <td>0</td>\n",
       "      <td>0</td>\n",
       "      <td>0</td>\n",
       "      <td>0</td>\n",
       "      <td>0</td>\n",
       "      <td>0</td>\n",
       "      <td>0</td>\n",
       "      <td>0</td>\n",
       "      <td>0</td>\n",
       "      <td>0</td>\n",
       "      <td>0</td>\n",
       "      <td>0</td>\n",
       "      <td>0</td>\n",
       "      <td>0</td>\n",
       "      <td>0</td>\n",
       "      <td>0</td>\n",
       "      <td>0</td>\n",
       "      <td>0</td>\n",
       "      <td>0</td>\n",
       "      <td>0</td>\n",
       "      <td>1</td>\n",
       "      <td>0</td>\n",
       "      <td>0</td>\n",
       "      <td>0</td>\n",
       "      <td>0</td>\n",
       "      <td>0</td>\n",
       "      <td>0</td>\n",
       "      <td>0</td>\n",
       "      <td>0</td>\n",
       "      <td>1</td>\n",
       "    </tr>\n",
       "    <tr>\n",
       "      <th>2</th>\n",
       "      <td>0.074056</td>\n",
       "      <td>-0.185587</td>\n",
       "      <td>1.548888</td>\n",
       "      <td>-1.029228</td>\n",
       "      <td>0.537778</td>\n",
       "      <td>-0.757285</td>\n",
       "      <td>-0.261327</td>\n",
       "      <td>1.0</td>\n",
       "      <td>0</td>\n",
       "      <td>0.0</td>\n",
       "      <td>0</td>\n",
       "      <td>0.0</td>\n",
       "      <td>0.0</td>\n",
       "      <td>1.0</td>\n",
       "      <td>1.0</td>\n",
       "      <td>1</td>\n",
       "      <td>0</td>\n",
       "      <td>0</td>\n",
       "      <td>0</td>\n",
       "      <td>1</td>\n",
       "      <td>0</td>\n",
       "      <td>1</td>\n",
       "      <td>0</td>\n",
       "      <td>0</td>\n",
       "      <td>0</td>\n",
       "      <td>0</td>\n",
       "      <td>0</td>\n",
       "      <td>0</td>\n",
       "      <td>0</td>\n",
       "      <td>0</td>\n",
       "      <td>0</td>\n",
       "      <td>0</td>\n",
       "      <td>0</td>\n",
       "      <td>1</td>\n",
       "      <td>0</td>\n",
       "      <td>0</td>\n",
       "      <td>0</td>\n",
       "      <td>1</td>\n",
       "      <td>0</td>\n",
       "      <td>0</td>\n",
       "      <td>...</td>\n",
       "      <td>0</td>\n",
       "      <td>0</td>\n",
       "      <td>0</td>\n",
       "      <td>0</td>\n",
       "      <td>1</td>\n",
       "      <td>0</td>\n",
       "      <td>0</td>\n",
       "      <td>0</td>\n",
       "      <td>0</td>\n",
       "      <td>0</td>\n",
       "      <td>0</td>\n",
       "      <td>0</td>\n",
       "      <td>0</td>\n",
       "      <td>0</td>\n",
       "      <td>0</td>\n",
       "      <td>0</td>\n",
       "      <td>0</td>\n",
       "      <td>0</td>\n",
       "      <td>0</td>\n",
       "      <td>0</td>\n",
       "      <td>0</td>\n",
       "      <td>0</td>\n",
       "      <td>0</td>\n",
       "      <td>0</td>\n",
       "      <td>0</td>\n",
       "      <td>0</td>\n",
       "      <td>0</td>\n",
       "      <td>0</td>\n",
       "      <td>0</td>\n",
       "      <td>0</td>\n",
       "      <td>1</td>\n",
       "      <td>0</td>\n",
       "      <td>0</td>\n",
       "      <td>0</td>\n",
       "      <td>0</td>\n",
       "      <td>0</td>\n",
       "      <td>0</td>\n",
       "      <td>0</td>\n",
       "      <td>0</td>\n",
       "      <td>0</td>\n",
       "    </tr>\n",
       "  </tbody>\n",
       "</table>\n",
       "<p>3 rows × 93 columns</p>\n",
       "</div>\n",
       "      <button class=\"colab-df-convert\" onclick=\"convertToInteractive('df-4bab4bea-79b3-4b25-a28c-4e7428e4cfdd')\"\n",
       "              title=\"Convert this dataframe to an interactive table.\"\n",
       "              style=\"display:none;\">\n",
       "        \n",
       "  <svg xmlns=\"http://www.w3.org/2000/svg\" height=\"24px\"viewBox=\"0 0 24 24\"\n",
       "       width=\"24px\">\n",
       "    <path d=\"M0 0h24v24H0V0z\" fill=\"none\"/>\n",
       "    <path d=\"M18.56 5.44l.94 2.06.94-2.06 2.06-.94-2.06-.94-.94-2.06-.94 2.06-2.06.94zm-11 1L8.5 8.5l.94-2.06 2.06-.94-2.06-.94L8.5 2.5l-.94 2.06-2.06.94zm10 10l.94 2.06.94-2.06 2.06-.94-2.06-.94-.94-2.06-.94 2.06-2.06.94z\"/><path d=\"M17.41 7.96l-1.37-1.37c-.4-.4-.92-.59-1.43-.59-.52 0-1.04.2-1.43.59L10.3 9.45l-7.72 7.72c-.78.78-.78 2.05 0 2.83L4 21.41c.39.39.9.59 1.41.59.51 0 1.02-.2 1.41-.59l7.78-7.78 2.81-2.81c.8-.78.8-2.07 0-2.86zM5.41 20L4 18.59l7.72-7.72 1.47 1.35L5.41 20z\"/>\n",
       "  </svg>\n",
       "      </button>\n",
       "      \n",
       "  <style>\n",
       "    .colab-df-container {\n",
       "      display:flex;\n",
       "      flex-wrap:wrap;\n",
       "      gap: 12px;\n",
       "    }\n",
       "\n",
       "    .colab-df-convert {\n",
       "      background-color: #E8F0FE;\n",
       "      border: none;\n",
       "      border-radius: 50%;\n",
       "      cursor: pointer;\n",
       "      display: none;\n",
       "      fill: #1967D2;\n",
       "      height: 32px;\n",
       "      padding: 0 0 0 0;\n",
       "      width: 32px;\n",
       "    }\n",
       "\n",
       "    .colab-df-convert:hover {\n",
       "      background-color: #E2EBFA;\n",
       "      box-shadow: 0px 1px 2px rgba(60, 64, 67, 0.3), 0px 1px 3px 1px rgba(60, 64, 67, 0.15);\n",
       "      fill: #174EA6;\n",
       "    }\n",
       "\n",
       "    [theme=dark] .colab-df-convert {\n",
       "      background-color: #3B4455;\n",
       "      fill: #D2E3FC;\n",
       "    }\n",
       "\n",
       "    [theme=dark] .colab-df-convert:hover {\n",
       "      background-color: #434B5C;\n",
       "      box-shadow: 0px 1px 3px 1px rgba(0, 0, 0, 0.15);\n",
       "      filter: drop-shadow(0px 1px 2px rgba(0, 0, 0, 0.3));\n",
       "      fill: #FFFFFF;\n",
       "    }\n",
       "  </style>\n",
       "\n",
       "      <script>\n",
       "        const buttonEl =\n",
       "          document.querySelector('#df-4bab4bea-79b3-4b25-a28c-4e7428e4cfdd button.colab-df-convert');\n",
       "        buttonEl.style.display =\n",
       "          google.colab.kernel.accessAllowed ? 'block' : 'none';\n",
       "\n",
       "        async function convertToInteractive(key) {\n",
       "          const element = document.querySelector('#df-4bab4bea-79b3-4b25-a28c-4e7428e4cfdd');\n",
       "          const dataTable =\n",
       "            await google.colab.kernel.invokeFunction('convertToInteractive',\n",
       "                                                     [key], {});\n",
       "          if (!dataTable) return;\n",
       "\n",
       "          const docLinkHtml = 'Like what you see? Visit the ' +\n",
       "            '<a target=\"_blank\" href=https://colab.research.google.com/notebooks/data_table.ipynb>data table notebook</a>'\n",
       "            + ' to learn more about interactive tables.';\n",
       "          element.innerHTML = '';\n",
       "          dataTable['output_type'] = 'display_data';\n",
       "          await google.colab.output.renderOutput(dataTable, element);\n",
       "          const docLink = document.createElement('div');\n",
       "          docLink.innerHTML = docLinkHtml;\n",
       "          element.appendChild(docLink);\n",
       "        }\n",
       "      </script>\n",
       "    </div>\n",
       "  </div>\n",
       "  "
      ],
      "text/plain": [
       "       AGEP      BDSP      ELEP      GASP  ...  SCHL_22  SCHL_23  SCHL_24  SEX_2\n",
       "0  1.277527 -0.185587 -0.218278 -0.030785  ...        0        0        0      1\n",
       "1  0.115555 -0.185587  1.548888 -1.029228  ...        0        0        0      1\n",
       "2  0.074056 -0.185587  1.548888 -1.029228  ...        0        0        0      0\n",
       "\n",
       "[3 rows x 93 columns]"
      ]
     },
     "execution_count": 2,
     "metadata": {},
     "output_type": "execute_result"
    }
   ],
   "source": [
    "import pandas as pd\n",
    "import numpy as np\n",
    "df = pd.read_csv('/content/drive/MyDrive/Data/house-standard.csv')\n",
    "df.head(3)"
   ]
  },
  {
   "cell_type": "code",
   "execution_count": null,
   "metadata": {
    "colab": {
     "base_uri": "https://localhost:8080/"
    },
    "executionInfo": {
     "elapsed": 459,
     "status": "ok",
     "timestamp": 1639544152069,
     "user": {
      "displayName": "Jason SJ Yim",
      "photoUrl": "https://lh3.googleusercontent.com/a/default-user=s64",
      "userId": "00334139127424328539"
     },
     "user_tz": -540
    },
    "id": "KwmGHzfTRDx-",
    "outputId": "fc5055b3-f0cb-4280-b31a-bda3a72301d4"
   },
   "outputs": [
    {
     "data": {
      "text/plain": [
       "(20495, 93)"
      ]
     },
     "execution_count": 3,
     "metadata": {},
     "output_type": "execute_result"
    }
   ],
   "source": [
    "df.shape"
   ]
  },
  {
   "cell_type": "code",
   "execution_count": null,
   "metadata": {
    "id": "p8z73Y5Jc2TK"
   },
   "outputs": [],
   "source": [
    "df.to_csv('/content/drive/MyDrive/Data/t.csv')"
   ]
  },
  {
   "cell_type": "code",
   "execution_count": null,
   "metadata": {
    "id": "jNWJ41MtdenA"
   },
   "outputs": [],
   "source": [
    "df.to_csv('t.csv')"
   ]
  },
  {
   "cell_type": "code",
   "execution_count": null,
   "metadata": {
    "colab": {
     "base_uri": "https://localhost:8080/"
    },
    "executionInfo": {
     "elapsed": 352,
     "status": "ok",
     "timestamp": 1638511855510,
     "user": {
      "displayName": "Jason SJ Yim",
      "photoUrl": "https://lh3.googleusercontent.com/a/default-user=s64",
      "userId": "00334139127424328539"
     },
     "user_tz": -540
    },
    "id": "WJJbU27f_wrY",
    "outputId": "17c3258e-c592-44b1-a42e-96dfca8e9f84"
   },
   "outputs": [
    {
     "data": {
      "text/plain": [
       "Series([], dtype: bool)"
      ]
     },
     "execution_count": 4,
     "metadata": {},
     "output_type": "execute_result"
    }
   ],
   "source": [
    "df.isna().any()[lambda x: x]   # 결측값을 갖고 있는 변수명(컬럼명) 찾기"
   ]
  },
  {
   "cell_type": "code",
   "execution_count": null,
   "metadata": {
    "colab": {
     "base_uri": "https://localhost:8080/"
    },
    "executionInfo": {
     "elapsed": 770,
     "status": "ok",
     "timestamp": 1638511859934,
     "user": {
      "displayName": "Jason SJ Yim",
      "photoUrl": "https://lh3.googleusercontent.com/a/default-user=s64",
      "userId": "00334139127424328539"
     },
     "user_tz": -540
    },
    "id": "MZIVxusCB2X1",
    "outputId": "10e0ea83-8111-49d8-982a-a7b1b373041b"
   },
   "outputs": [
    {
     "name": "stdout",
     "output_type": "stream",
     "text": [
      "X_train shape: (10247, 92)\n",
      "X_test shape: (10248, 92)\n"
     ]
    }
   ],
   "source": [
    "data = df.drop(['VALP_B1'], axis=1)   # 타겟변수를 제외한 입력변수를 data에 저장\n",
    "target = df['VALP_B1']                # 타겟변수만 target에 저장\n",
    "\n",
    "# 50:50 데이터 분할\n",
    "from sklearn.model_selection import train_test_split \n",
    "X_train, X_test, y_train, y_test = train_test_split( \n",
    "    data, target, test_size=0.5, random_state=42)   # test_size=0.5임에 주의 \n",
    "\n",
    "print(\"X_train shape:\", X_train.shape) \n",
    "print(\"X_test shape:\", X_test.shape) "
   ]
  },
  {
   "cell_type": "code",
   "execution_count": null,
   "metadata": {
    "colab": {
     "base_uri": "https://localhost:8080/"
    },
    "executionInfo": {
     "elapsed": 342,
     "status": "ok",
     "timestamp": 1638511864122,
     "user": {
      "displayName": "Jason SJ Yim",
      "photoUrl": "https://lh3.googleusercontent.com/a/default-user=s64",
      "userId": "00334139127424328539"
     },
     "user_tz": -540
    },
    "id": "VofSmh8pszxn",
    "outputId": "31e5ed88-18c1-4e6b-c831-dc4c0306e838"
   },
   "outputs": [
    {
     "data": {
      "text/plain": [
       "pandas.core.frame.DataFrame"
      ]
     },
     "execution_count": 6,
     "metadata": {},
     "output_type": "execute_result"
    }
   ],
   "source": [
    "type(X_train)"
   ]
  },
  {
   "cell_type": "code",
   "execution_count": null,
   "metadata": {
    "id": "Hx1w_zES9-yC"
   },
   "outputs": [],
   "source": [
    "X_train_np = X_train.to_numpy()\n",
    "X_test_np = X_test.to_numpy()\n",
    "\n",
    "y_train_np = y_train.to_numpy()\n",
    "y_test_np = y_test.to_numpy()"
   ]
  },
  {
   "cell_type": "code",
   "execution_count": null,
   "metadata": {
    "colab": {
     "base_uri": "https://localhost:8080/"
    },
    "executionInfo": {
     "elapsed": 11,
     "status": "ok",
     "timestamp": 1638511870475,
     "user": {
      "displayName": "Jason SJ Yim",
      "photoUrl": "https://lh3.googleusercontent.com/a/default-user=s64",
      "userId": "00334139127424328539"
     },
     "user_tz": -540
    },
    "id": "FAfHze5T-DWx",
    "outputId": "356a3e3e-b499-47ad-b355-a6b4364f999a"
   },
   "outputs": [
    {
     "name": "stdout",
     "output_type": "stream",
     "text": [
      "[[ 0.53054523  1.13282311 -0.09205177 ...  0.          0.\n",
      "   0.        ]\n",
      " [ 0.94553516 -0.18558743 -0.84940858 ...  0.          0.\n",
      "   0.        ]\n",
      " [-1.08791547  1.13282311  2.43247093 ...  0.          0.\n",
      "   0.        ]\n",
      " ...\n",
      " [ 0.44754725 -2.82240852 -0.84940858 ...  0.          0.\n",
      "   0.        ]\n",
      " [ 0.73804019 -0.18558743 -1.35431312 ...  0.          0.\n",
      "   1.        ]\n",
      " [ 0.90403616 -1.50399798 -1.22808699 ...  0.          0.\n",
      "   1.        ]]\n"
     ]
    }
   ],
   "source": [
    "print(X_train_np) "
   ]
  },
  {
   "cell_type": "code",
   "execution_count": null,
   "metadata": {
    "colab": {
     "base_uri": "https://localhost:8080/"
    },
    "executionInfo": {
     "elapsed": 10,
     "status": "ok",
     "timestamp": 1638511873352,
     "user": {
      "displayName": "Jason SJ Yim",
      "photoUrl": "https://lh3.googleusercontent.com/a/default-user=s64",
      "userId": "00334139127424328539"
     },
     "user_tz": -540
    },
    "id": "zo2AiSRmeSlD",
    "outputId": "96536bd9-d66f-47bf-d299-3b8e12a78a62"
   },
   "outputs": [
    {
     "data": {
      "text/plain": [
       "(10247, 92)"
      ]
     },
     "execution_count": 9,
     "metadata": {},
     "output_type": "execute_result"
    }
   ],
   "source": [
    "X_train_np.shape"
   ]
  },
  {
   "cell_type": "code",
   "execution_count": null,
   "metadata": {
    "colab": {
     "base_uri": "https://localhost:8080/"
    },
    "executionInfo": {
     "elapsed": 328,
     "status": "ok",
     "timestamp": 1638511876843,
     "user": {
      "displayName": "Jason SJ Yim",
      "photoUrl": "https://lh3.googleusercontent.com/a/default-user=s64",
      "userId": "00334139127424328539"
     },
     "user_tz": -540
    },
    "id": "WzJVyUAR-Lmj",
    "outputId": "a73f3a4e-5c28-4ce8-81f4-278dfd0b5ffb"
   },
   "outputs": [
    {
     "name": "stdout",
     "output_type": "stream",
     "text": [
      "[1. 0. 1. ... 0. 1. 0.]\n"
     ]
    }
   ],
   "source": [
    "print(y_train_np)"
   ]
  },
  {
   "cell_type": "code",
   "execution_count": null,
   "metadata": {
    "id": "rEugXA8CVsy4"
   },
   "outputs": [],
   "source": [
    "import tensorflow as tf\n",
    "from tensorflow.keras import layers"
   ]
  },
  {
   "cell_type": "code",
   "execution_count": null,
   "metadata": {
    "id": "-UjLDD9fVBM_"
   },
   "outputs": [],
   "source": [
    "# 활성화 함수 relu, 옵티마이저 adam"
   ]
  },
  {
   "cell_type": "code",
   "execution_count": null,
   "metadata": {
    "id": "HERT_LQz-Mji"
   },
   "outputs": [],
   "source": [
    "# 참조 코딩. 필요시 사용 가능\n",
    "import random as python_random\n",
    "\n",
    "np.random.seed(123)\n",
    "python_random.seed(123)\n",
    "tf.random.set_seed(1234)"
   ]
  },
  {
   "cell_type": "code",
   "execution_count": null,
   "metadata": {
    "id": "sEwj2KynVNeT"
   },
   "outputs": [],
   "source": [
    "# 활성화 함수 relu\n",
    "model = tf.keras.Sequential([\n",
    "  layers.Dense(100, activation='relu', input_shape=[92]),\n",
    "  layers.Dropout(.5),\n",
    "  layers.Dense(100, activation='relu'),\n",
    "  layers.Dropout(.5),\n",
    "  layers.Dense(1, activation = 'sigmoid')\n",
    "])"
   ]
  },
  {
   "cell_type": "code",
   "execution_count": null,
   "metadata": {
    "id": "fi8waDT2gqUj"
   },
   "outputs": [],
   "source": [
    "# 옵티마이저 adam\n",
    "model.compile(optimizer='adam',\n",
    "              loss=tf.keras.losses.BinaryCrossentropy(),\n",
    "              metrics=['accuracy'])"
   ]
  },
  {
   "cell_type": "code",
   "execution_count": null,
   "metadata": {
    "id": "WVpFazNjVIb6"
   },
   "outputs": [],
   "source": [
    "# 다음 코딩에 약 30초 소요\n",
    "# 텐서플로 케라스 신경망 모델은 매번 실행시 모델 결과가 조금씩 다를 수 있음에 유의"
   ]
  },
  {
   "cell_type": "code",
   "execution_count": null,
   "metadata": {
    "colab": {
     "base_uri": "https://localhost:8080/"
    },
    "executionInfo": {
     "elapsed": 19757,
     "status": "ok",
     "timestamp": 1638511918783,
     "user": {
      "displayName": "Jason SJ Yim",
      "photoUrl": "https://lh3.googleusercontent.com/a/default-user=s64",
      "userId": "00334139127424328539"
     },
     "user_tz": -540
    },
    "id": "jmh5imIag5vo",
    "outputId": "b5f83dec-bb9f-4d77-a060-f4ab0a6e51f8"
   },
   "outputs": [
    {
     "name": "stdout",
     "output_type": "stream",
     "text": [
      "Epoch 1/30\n",
      "241/241 [==============================] - ETA: 0s - loss: 0.6090 - accuracy: 0.6606INFO:tensorflow:Assets written to: Ch8-NN1.tf/assets\n",
      "241/241 [==============================] - 2s 7ms/step - loss: 0.6090 - accuracy: 0.6606 - val_loss: 0.5571 - val_accuracy: 0.7119\n",
      "Epoch 2/30\n",
      "231/241 [===========================>..] - ETA: 0s - loss: 0.5651 - accuracy: 0.7117INFO:tensorflow:Assets written to: Ch8-NN1.tf/assets\n",
      "241/241 [==============================] - 1s 6ms/step - loss: 0.5645 - accuracy: 0.7131 - val_loss: 0.5486 - val_accuracy: 0.7229\n",
      "Epoch 3/30\n",
      "230/241 [===========================>..] - ETA: 0s - loss: 0.5453 - accuracy: 0.7227INFO:tensorflow:Assets written to: Ch8-NN1.tf/assets\n",
      "241/241 [==============================] - 1s 5ms/step - loss: 0.5451 - accuracy: 0.7227 - val_loss: 0.5376 - val_accuracy: 0.7319\n",
      "Epoch 4/30\n",
      "217/241 [==========================>...] - ETA: 0s - loss: 0.5340 - accuracy: 0.7383INFO:tensorflow:Assets written to: Ch8-NN1.tf/assets\n",
      "241/241 [==============================] - 1s 5ms/step - loss: 0.5352 - accuracy: 0.7372 - val_loss: 0.5347 - val_accuracy: 0.7315\n",
      "Epoch 5/30\n",
      "220/241 [==========================>...] - ETA: 0s - loss: 0.5227 - accuracy: 0.7422INFO:tensorflow:Assets written to: Ch8-NN1.tf/assets\n",
      "241/241 [==============================] - 1s 5ms/step - loss: 0.5265 - accuracy: 0.7394 - val_loss: 0.5324 - val_accuracy: 0.7377\n",
      "Epoch 6/30\n",
      "236/241 [============================>.] - ETA: 0s - loss: 0.5176 - accuracy: 0.7423INFO:tensorflow:Assets written to: Ch8-NN1.tf/assets\n",
      "241/241 [==============================] - 1s 5ms/step - loss: 0.5179 - accuracy: 0.7424 - val_loss: 0.5261 - val_accuracy: 0.7416\n",
      "Epoch 7/30\n",
      "232/241 [===========================>..] - ETA: 0s - loss: 0.5126 - accuracy: 0.7503INFO:tensorflow:Assets written to: Ch8-NN1.tf/assets\n",
      "241/241 [==============================] - 1s 5ms/step - loss: 0.5123 - accuracy: 0.7498 - val_loss: 0.5209 - val_accuracy: 0.7385\n",
      "Epoch 8/30\n",
      "221/241 [==========================>...] - ETA: 0s - loss: 0.5033 - accuracy: 0.7598INFO:tensorflow:Assets written to: Ch8-NN1.tf/assets\n",
      "241/241 [==============================] - 1s 5ms/step - loss: 0.5050 - accuracy: 0.7565 - val_loss: 0.5176 - val_accuracy: 0.7451\n",
      "Epoch 9/30\n",
      "241/241 [==============================] - 1s 2ms/step - loss: 0.5017 - accuracy: 0.7565 - val_loss: 0.5224 - val_accuracy: 0.7428\n",
      "Epoch 10/30\n",
      "220/241 [==========================>...] - ETA: 0s - loss: 0.4996 - accuracy: 0.7555INFO:tensorflow:Assets written to: Ch8-NN1.tf/assets\n",
      "241/241 [==============================] - 1s 5ms/step - loss: 0.4947 - accuracy: 0.7598 - val_loss: 0.5151 - val_accuracy: 0.7436\n",
      "Epoch 11/30\n",
      "215/241 [=========================>....] - ETA: 0s - loss: 0.4849 - accuracy: 0.7677INFO:tensorflow:Assets written to: Ch8-NN1.tf/assets\n",
      "241/241 [==============================] - 1s 6ms/step - loss: 0.4881 - accuracy: 0.7650 - val_loss: 0.5111 - val_accuracy: 0.7475\n",
      "Epoch 12/30\n",
      "230/241 [===========================>..] - ETA: 0s - loss: 0.4831 - accuracy: 0.7734INFO:tensorflow:Assets written to: Ch8-NN1.tf/assets\n",
      "241/241 [==============================] - 1s 5ms/step - loss: 0.4822 - accuracy: 0.7733 - val_loss: 0.5101 - val_accuracy: 0.7529\n",
      "Epoch 13/30\n",
      "241/241 [==============================] - 1s 2ms/step - loss: 0.4788 - accuracy: 0.7737 - val_loss: 0.5131 - val_accuracy: 0.7416\n",
      "Epoch 14/30\n",
      "241/241 [==============================] - 1s 2ms/step - loss: 0.4694 - accuracy: 0.7748 - val_loss: 0.5126 - val_accuracy: 0.7436\n",
      "Epoch 15/30\n",
      "241/241 [==============================] - 1s 3ms/step - loss: 0.4724 - accuracy: 0.7777 - val_loss: 0.5112 - val_accuracy: 0.7463\n",
      "Epoch 16/30\n",
      "241/241 [==============================] - 1s 2ms/step - loss: 0.4604 - accuracy: 0.7846 - val_loss: 0.5107 - val_accuracy: 0.7482\n",
      "Epoch 17/30\n",
      "222/241 [==========================>...] - ETA: 0s - loss: 0.4514 - accuracy: 0.7910INFO:tensorflow:Assets written to: Ch8-NN1.tf/assets\n",
      "241/241 [==============================] - 1s 5ms/step - loss: 0.4540 - accuracy: 0.7879 - val_loss: 0.5051 - val_accuracy: 0.7514\n"
     ]
    }
   ],
   "source": [
    "from tensorflow import keras\n",
    "from keras.callbacks import ModelCheckpoint\n",
    "checkpointer = ModelCheckpoint('Ch8-NN1.tf', save_best_only=True)\n",
    "early_stopping_cb = keras.callbacks.EarlyStopping(patience=5, monitor='val_accuracy',\n",
    "                                                  restore_best_weights=True)\n",
    "\n",
    "history = model.fit(X_train_np, y_train_np,\n",
    "                    validation_split=0.25,\n",
    "                    shuffle=True,\n",
    "                    epochs=30,\n",
    "                    callbacks = [checkpointer, early_stopping_cb]\n",
    "                    )"
   ]
  },
  {
   "cell_type": "code",
   "execution_count": null,
   "metadata": {
    "id": "RRbUY6FzCokf"
   },
   "outputs": [],
   "source": [
    "# X_train 행수 10247의 0.75가 training에 0.25는 validation에 쓰였음\n",
    "# 10247*0.75 = 7685.25 이제 위의 결과창의 241로 7685.25를 나누면 약 32가 나옴. 즉 기본 배치 사이즈 32가 적용되었음"
   ]
  },
  {
   "cell_type": "code",
   "execution_count": null,
   "metadata": {
    "colab": {
     "base_uri": "https://localhost:8080/"
    },
    "executionInfo": {
     "elapsed": 713,
     "status": "ok",
     "timestamp": 1638512003875,
     "user": {
      "displayName": "Jason SJ Yim",
      "photoUrl": "https://lh3.googleusercontent.com/a/default-user=s64",
      "userId": "00334139127424328539"
     },
     "user_tz": -540
    },
    "id": "VSYnO2Ci8m9i",
    "outputId": "21609161-169e-44f2-c1aa-d22388ade9c5"
   },
   "outputs": [
    {
     "data": {
      "text/plain": [
       "7685.25"
      ]
     },
     "execution_count": 17,
     "metadata": {},
     "output_type": "execute_result"
    }
   ],
   "source": [
    "# 참고 계산\n",
    "10247*0.75"
   ]
  },
  {
   "cell_type": "code",
   "execution_count": null,
   "metadata": {
    "colab": {
     "base_uri": "https://localhost:8080/"
    },
    "executionInfo": {
     "elapsed": 461,
     "status": "ok",
     "timestamp": 1638512022568,
     "user": {
      "displayName": "Jason SJ Yim",
      "photoUrl": "https://lh3.googleusercontent.com/a/default-user=s64",
      "userId": "00334139127424328539"
     },
     "user_tz": -540
    },
    "id": "rcUiwk8v7QlD",
    "outputId": "f98433f7-f87f-4f9b-efde-a6184143b615"
   },
   "outputs": [
    {
     "data": {
      "text/plain": [
       "31.889004149377595"
      ]
     },
     "execution_count": 18,
     "metadata": {},
     "output_type": "execute_result"
    }
   ],
   "source": [
    "# 참고 계산\n",
    "7685.25/241"
   ]
  },
  {
   "cell_type": "code",
   "execution_count": null,
   "metadata": {
    "colab": {
     "base_uri": "https://localhost:8080/"
    },
    "executionInfo": {
     "elapsed": 12045,
     "status": "ok",
     "timestamp": 1638512041947,
     "user": {
      "displayName": "Jason SJ Yim",
      "photoUrl": "https://lh3.googleusercontent.com/a/default-user=s64",
      "userId": "00334139127424328539"
     },
     "user_tz": -540
    },
    "id": "W9S1Wzh65ixu",
    "outputId": "b8ac1200-8dfc-4b00-94d9-5e92f15a1857"
   },
   "outputs": [
    {
     "name": "stdout",
     "output_type": "stream",
     "text": [
      "Model: \"sequential\"\n",
      "_________________________________________________________________\n",
      " Layer (type)                Output Shape              Param #   \n",
      "=================================================================\n",
      " dense (Dense)               (None, 100)               9300      \n",
      "                                                                 \n",
      " dropout (Dropout)           (None, 100)               0         \n",
      "                                                                 \n",
      " dense_1 (Dense)             (None, 100)               10100     \n",
      "                                                                 \n",
      " dropout_1 (Dropout)         (None, 100)               0         \n",
      "                                                                 \n",
      " dense_2 (Dense)             (None, 1)                 101       \n",
      "                                                                 \n",
      "=================================================================\n",
      "Total params: 19,501\n",
      "Trainable params: 19,501\n",
      "Non-trainable params: 0\n",
      "_________________________________________________________________\n"
     ]
    }
   ],
   "source": [
    "# 참고 코딩\n",
    "model.summary()"
   ]
  },
  {
   "cell_type": "code",
   "execution_count": null,
   "metadata": {
    "colab": {
     "base_uri": "https://localhost:8080/",
     "height": 336
    },
    "executionInfo": {
     "elapsed": 979,
     "status": "ok",
     "timestamp": 1638512069704,
     "user": {
      "displayName": "Jason SJ Yim",
      "photoUrl": "https://lh3.googleusercontent.com/a/default-user=s64",
      "userId": "00334139127424328539"
     },
     "user_tz": -540
    },
    "id": "2eThv1Pz3suW",
    "outputId": "09230f9c-fa6b-442a-8f7c-0e8a7c9210f3"
   },
   "outputs": [
    {
     "data": {
      "image/png": "[encoded data removed]",
      "text/plain": [
       "<Figure size 720x360 with 2 Axes>"
      ]
     },
     "metadata": {
      "needs_background": "light"
     },
     "output_type": "display_data"
    }
   ],
   "source": [
    "# 매 epochs마다 모델 정확도와 손실을 그래프로 그립니다.\n",
    "import matplotlib.pyplot as plt\n",
    "\n",
    "acc = history.history['accuracy']         # 모델의 학습 정확도를 변수 acc에 저장  \n",
    "val_acc = history.history['val_accuracy'] # 모델의 검증 정확도를 변수 val_acc에 저장\n",
    "loss=history.history['loss']              # 모델의 학습 손실을 변수 loss에 저장  \n",
    "val_loss=history.history['val_loss']      # 모델의 검증 손실을 변수 val_loss에 저장    \n",
    "\n",
    "\n",
    "# epochs가 17회가 아닌 다른 결과(예:15회)로 나오면 아래 줄 17을 해당 숫자인 15로 바꿔주야 함에 유의\n",
    "epochs_range = range(1, 17+1)             # epochs가 17회까지만 수행된 것을 반영\n",
    "\n",
    "# 학습 정확도와 검증 정확도 그리기\n",
    "plt.figure(figsize=(10, 5))\n",
    "plt.subplot(1, 2, 1)\n",
    "plt.plot(epochs_range, acc, label='Training Accuracy')\n",
    "plt.plot(epochs_range, val_acc, label='Validation Accuracy')\n",
    "plt.legend(loc='lower right')\n",
    "plt.title('Training and Validation Accuracy')\n",
    "\n",
    "# 학습 손실와 검증 손실 그리기\n",
    "plt.subplot(1, 2, 2)\n",
    "plt.plot(epochs_range, loss, label='Training Loss')\n",
    "plt.plot(epochs_range, val_loss, label='Validation Loss')\n",
    "plt.legend(loc='upper right')\n",
    "plt.title('Training and Validation Loss')\n",
    "plt.show()"
   ]
  },
  {
   "cell_type": "code",
   "execution_count": null,
   "metadata": {
    "colab": {
     "base_uri": "https://localhost:8080/"
    },
    "executionInfo": {
     "elapsed": 419,
     "status": "ok",
     "timestamp": 1638512075020,
     "user": {
      "displayName": "Jason SJ Yim",
      "photoUrl": "https://lh3.googleusercontent.com/a/default-user=s64",
      "userId": "00334139127424328539"
     },
     "user_tz": -540
    },
    "id": "nlfX-OAddAv7",
    "outputId": "b05e2e97-9909-4974-ca2e-b5cee735a2f4"
   },
   "outputs": [
    {
     "data": {
      "text/plain": [
       "<tensorflow.python.training.tracking.util.CheckpointLoadStatus at 0x7f4fa7e584d0>"
      ]
     },
     "execution_count": 21,
     "metadata": {},
     "output_type": "execute_result"
    }
   ],
   "source": [
    "# model.fit() 실행시 검증 정확도가 가장 높은 에포크에 해당하는 모델 가중치 계수 불러오기\n",
    "model.load_weights('Ch4-NN1.tf')"
   ]
  },
  {
   "cell_type": "code",
   "execution_count": null,
   "metadata": {
    "colab": {
     "base_uri": "https://localhost:8080/"
    },
    "executionInfo": {
     "elapsed": 1040,
     "status": "ok",
     "timestamp": 1638512079392,
     "user": {
      "displayName": "Jason SJ Yim",
      "photoUrl": "https://lh3.googleusercontent.com/a/default-user=s64",
      "userId": "00334139127424328539"
     },
     "user_tz": -540
    },
    "id": "1AU8PDIKhPCq",
    "outputId": "20be69f4-a630-47be-ac90-d92945dca4d8"
   },
   "outputs": [
    {
     "name": "stdout",
     "output_type": "stream",
     "text": [
      "321/321 [==============================] - 1s 2ms/step - loss: 0.5183 - accuracy: 0.7418\n",
      "test accuracy: 0.7418032884597778\n"
     ]
    }
   ],
   "source": [
    "# 결과창의 321로 10247 X_test 행수를 나누면 약 32가 나옴\u001f \n",
    "# 즉 기본 배치값 32가 적용됐음을 알 수 있음\n",
    "\n",
    "test_loss, test_accuracy = model.evaluate(X_test, y_test)\n",
    "print(\"test accuracy:\", test_accuracy)"
   ]
  },
  {
   "cell_type": "code",
   "execution_count": null,
   "metadata": {
    "colab": {
     "base_uri": "https://localhost:8080/"
    },
    "executionInfo": {
     "elapsed": 472,
     "status": "ok",
     "timestamp": 1638512129078,
     "user": {
      "displayName": "Jason SJ Yim",
      "photoUrl": "https://lh3.googleusercontent.com/a/default-user=s64",
      "userId": "00334139127424328539"
     },
     "user_tz": -540
    },
    "id": "D6z5AMKmB-nQ",
    "outputId": "581b9a74-3f56-4920-b538-be04ee4f4f98"
   },
   "outputs": [
    {
     "data": {
      "text/plain": [
       "320.21875"
      ]
     },
     "execution_count": 23,
     "metadata": {},
     "output_type": "execute_result"
    }
   ],
   "source": [
    "# 참고 계산\n",
    "10247/32"
   ]
  },
  {
   "cell_type": "code",
   "execution_count": null,
   "metadata": {
    "colab": {
     "base_uri": "https://localhost:8080/"
    },
    "executionInfo": {
     "elapsed": 1163,
     "status": "ok",
     "timestamp": 1638512136526,
     "user": {
      "displayName": "Jason SJ Yim",
      "photoUrl": "https://lh3.googleusercontent.com/a/default-user=s64",
      "userId": "00334139127424328539"
     },
     "user_tz": -540
    },
    "id": "k8dSgTCBdmAp",
    "outputId": "8ff5ca34-a59e-4a27-e71d-c47fbb3e54cc"
   },
   "outputs": [
    {
     "data": {
      "text/plain": [
       "array([[0.3 ],\n",
       "       [0.7 ],\n",
       "       [0.7 ],\n",
       "       ...,\n",
       "       [1.  ],\n",
       "       [0.33],\n",
       "       [0.99]], dtype=float32)"
      ]
     },
     "execution_count": 24,
     "metadata": {},
     "output_type": "execute_result"
    }
   ],
   "source": [
    "y_prob = model.predict(X_test)\n",
    "y_prob.round(2)"
   ]
  },
  {
   "cell_type": "code",
   "execution_count": null,
   "metadata": {
    "colab": {
     "base_uri": "https://localhost:8080/"
    },
    "executionInfo": {
     "elapsed": 728,
     "status": "ok",
     "timestamp": 1638512140413,
     "user": {
      "displayName": "Jason SJ Yim",
      "photoUrl": "https://lh3.googleusercontent.com/a/default-user=s64",
      "userId": "00334139127424328539"
     },
     "user_tz": -540
    },
    "id": "0Sqz-T_oziZd",
    "outputId": "6509d680-9a7e-4b7e-af70-6f94f7ca590b"
   },
   "outputs": [
    {
     "name": "stdout",
     "output_type": "stream",
     "text": [
      "ROC AUC on test set:0.82188\n"
     ]
    }
   ],
   "source": [
    "from sklearn.metrics import roc_auc_score\n",
    "\n",
    "y_prob = model.predict(X_test)\n",
    "ROC_AUC = roc_auc_score(y_test, y_prob)\n",
    "print(\"ROC AUC on test set:{:.5f}\".format(ROC_AUC))"
   ]
  },
  {
   "cell_type": "code",
   "execution_count": null,
   "metadata": {
    "id": "PfW8yDwY7xvz"
   },
   "outputs": [],
   "source": []
  }
 ],
 "metadata": {
  "colab": {
   "authorship_tag": "ABX9TyNERgxtjRXhM4645OHR2Dma",
   "collapsed_sections": [],
   "mount_file_id": "1uf1gNplq5xQNmCAI1lWvIn-hzBWIBQ9g",
   "name": "Ch8 (8-7-6) tf keras Neural Network final",
   "provenance": [
    {
     "file_id": "1uf1gNplq5xQNmCAI1lWvIn-hzBWIBQ9g",
     "timestamp": 1636859706348
    },
    {
     "file_id": "1sIbJyn_p0muaZqh_oRyU0SeeDYPi4y5H",
     "timestamp": 1630505036963
    },
    {
     "file_id": "1lq9unDQjuUrmvXOi8mENQUhsS4ETMM__",
     "timestamp": 1630486037038
    },
    {
     "file_id": "1cIB8oFw88dQ2UuyNKcXyvLNUghLLSexd",
     "timestamp": 1630465202152
    },
    {
     "file_id": "1F9VcL4FckPFfpO-UM3LlX0U2RUfvEdC3",
     "timestamp": 1630407640037
    },
    {
     "file_id": "1Jn0x00cxjqatGSLBmqA239WTtYXEr9-U",
     "timestamp": 1630407172628
    },
    {
     "file_id": "1zHiFeyeZJ1hOiaNk8kaVKCOg-xZBFj8I",
     "timestamp": 1630405976871
    },
    {
     "file_id": "1XekjHBeBII2yWQsMokZRi185ib218Bdb",
     "timestamp": 1629983531895
    }
   ]
  },
  "kernelspec": {
   "display_name": "Python 3 (ipykernel)",
   "language": "python",
   "name": "python3"
  },
  "language_info": {
   "codemirror_mode": {
    "name": "ipython",
    "version": 3
   },
   "file_extension": ".py",
   "mimetype": "text/x-python",
   "name": "python",
   "nbconvert_exporter": "python",
   "pygments_lexer": "ipython3",
   "version": "3.9.7"
  }
 },
 "nbformat": 4,
 "nbformat_minor": 1
}
