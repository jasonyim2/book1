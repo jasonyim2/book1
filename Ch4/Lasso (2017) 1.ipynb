{
 "cells": [
  {
   "cell_type": "markdown",
   "metadata": {},
   "source": [
    "# 4.7.5 라쏘(Lasso) 모델"
   ]
  },
  {
   "cell_type": "code",
   "execution_count": 1,
   "metadata": {},
   "outputs": [
    {
     "data": {
      "text/plain": [
       "(20495, 31)"
      ]
     },
     "execution_count": 1,
     "metadata": {},
     "output_type": "execute_result"
    }
   ],
   "source": [
    "import pandas as pd\n",
    "import numpy as np\n",
    "df = pd.read_csv('2017DC1-all.csv')   \n",
    "df.shape"
   ]
  },
  {
   "cell_type": "code",
   "execution_count": 2,
   "metadata": {
    "scrolled": true
   },
   "outputs": [
    {
     "data": {
      "text/html": [
       "<div>\n",
       "<style scoped>\n",
       "    .dataframe tbody tr th:only-of-type {\n",
       "        vertical-align: middle;\n",
       "    }\n",
       "\n",
       "    .dataframe tbody tr th {\n",
       "        vertical-align: top;\n",
       "    }\n",
       "\n",
       "    .dataframe thead th {\n",
       "        text-align: right;\n",
       "    }\n",
       "</style>\n",
       "<table border=\"1\" class=\"dataframe\">\n",
       "  <thead>\n",
       "    <tr style=\"text-align: right;\">\n",
       "      <th></th>\n",
       "      <th>ACCESS</th>\n",
       "      <th>ACR</th>\n",
       "      <th>AGEP</th>\n",
       "      <th>BATH</th>\n",
       "      <th>BDSP</th>\n",
       "      <th>BLD</th>\n",
       "      <th>COW</th>\n",
       "      <th>ELEP</th>\n",
       "      <th>FESRP</th>\n",
       "      <th>FKITP</th>\n",
       "      <th>...</th>\n",
       "      <th>R18</th>\n",
       "      <th>R65</th>\n",
       "      <th>RAC1P</th>\n",
       "      <th>RMSP</th>\n",
       "      <th>RWAT</th>\n",
       "      <th>SCH</th>\n",
       "      <th>SCHL</th>\n",
       "      <th>SEX</th>\n",
       "      <th>VALP</th>\n",
       "      <th>VALP_B1</th>\n",
       "    </tr>\n",
       "  </thead>\n",
       "  <tbody>\n",
       "    <tr>\n",
       "      <td>0</td>\n",
       "      <td>1.0</td>\n",
       "      <td>1.0</td>\n",
       "      <td>74</td>\n",
       "      <td>1.0</td>\n",
       "      <td>3.0</td>\n",
       "      <td>2.0</td>\n",
       "      <td>0</td>\n",
       "      <td>140.0</td>\n",
       "      <td>0</td>\n",
       "      <td>0.0</td>\n",
       "      <td>...</td>\n",
       "      <td>0.0</td>\n",
       "      <td>1.0</td>\n",
       "      <td>1</td>\n",
       "      <td>5.0</td>\n",
       "      <td>1.0</td>\n",
       "      <td>1</td>\n",
       "      <td>21</td>\n",
       "      <td>2</td>\n",
       "      <td>200000.0</td>\n",
       "      <td>1.0</td>\n",
       "    </tr>\n",
       "    <tr>\n",
       "      <td>1</td>\n",
       "      <td>1.0</td>\n",
       "      <td>3.0</td>\n",
       "      <td>46</td>\n",
       "      <td>1.0</td>\n",
       "      <td>3.0</td>\n",
       "      <td>2.0</td>\n",
       "      <td>1</td>\n",
       "      <td>280.0</td>\n",
       "      <td>0</td>\n",
       "      <td>0.0</td>\n",
       "      <td>...</td>\n",
       "      <td>0.0</td>\n",
       "      <td>0.0</td>\n",
       "      <td>1</td>\n",
       "      <td>6.0</td>\n",
       "      <td>1.0</td>\n",
       "      <td>1</td>\n",
       "      <td>16</td>\n",
       "      <td>2</td>\n",
       "      <td>850000.0</td>\n",
       "      <td>1.0</td>\n",
       "    </tr>\n",
       "    <tr>\n",
       "      <td>2</td>\n",
       "      <td>1.0</td>\n",
       "      <td>3.0</td>\n",
       "      <td>45</td>\n",
       "      <td>1.0</td>\n",
       "      <td>3.0</td>\n",
       "      <td>2.0</td>\n",
       "      <td>1</td>\n",
       "      <td>280.0</td>\n",
       "      <td>0</td>\n",
       "      <td>0.0</td>\n",
       "      <td>...</td>\n",
       "      <td>0.0</td>\n",
       "      <td>0.0</td>\n",
       "      <td>1</td>\n",
       "      <td>6.0</td>\n",
       "      <td>1.0</td>\n",
       "      <td>1</td>\n",
       "      <td>16</td>\n",
       "      <td>1</td>\n",
       "      <td>850000.0</td>\n",
       "      <td>1.0</td>\n",
       "    </tr>\n",
       "  </tbody>\n",
       "</table>\n",
       "<p>3 rows × 31 columns</p>\n",
       "</div>"
      ],
      "text/plain": [
       "   ACCESS  ACR  AGEP  BATH  BDSP  BLD  COW   ELEP  FESRP  FKITP  ...  R18  \\\n",
       "0     1.0  1.0    74   1.0   3.0  2.0    0  140.0      0    0.0  ...  0.0   \n",
       "1     1.0  3.0    46   1.0   3.0  2.0    1  280.0      0    0.0  ...  0.0   \n",
       "2     1.0  3.0    45   1.0   3.0  2.0    1  280.0      0    0.0  ...  0.0   \n",
       "\n",
       "   R65  RAC1P  RMSP  RWAT  SCH  SCHL  SEX      VALP  VALP_B1  \n",
       "0  1.0      1   5.0   1.0    1    21    2  200000.0      1.0  \n",
       "1  0.0      1   6.0   1.0    1    16    2  850000.0      1.0  \n",
       "2  0.0      1   6.0   1.0    1    16    1  850000.0      1.0  \n",
       "\n",
       "[3 rows x 31 columns]"
      ]
     },
     "execution_count": 2,
     "metadata": {},
     "output_type": "execute_result"
    }
   ],
   "source": [
    "# 참조 코딩\n",
    "df.head(3)"
   ]
  },
  {
   "cell_type": "code",
   "execution_count": 3,
   "metadata": {},
   "outputs": [
    {
     "data": {
      "text/plain": [
       "Series([], dtype: bool)"
      ]
     },
     "execution_count": 3,
     "metadata": {},
     "output_type": "execute_result"
    }
   ],
   "source": [
    "# 참조 코딩\n",
    "# 결측값이 있는 컬럼명(변수명) 찾기\n",
    "df.isna().any()[lambda x: x]"
   ]
  },
  {
   "cell_type": "code",
   "execution_count": 4,
   "metadata": {},
   "outputs": [
    {
     "data": {
      "text/plain": [
       "ACCESS     float64\n",
       "ACR        float64\n",
       "AGEP         int64\n",
       "BATH       float64\n",
       "BDSP       float64\n",
       "BLD        float64\n",
       "COW          int64\n",
       "ELEP       float64\n",
       "FESRP        int64\n",
       "FKITP      float64\n",
       "FPARC        int64\n",
       "FSCHP        int64\n",
       "FTAXP      float64\n",
       "GASP       float64\n",
       "HHL        float64\n",
       "HHT        float64\n",
       "HINCP      float64\n",
       "LANX         int64\n",
       "MAR          int64\n",
       "MV         float64\n",
       "NRC        float64\n",
       "R18        float64\n",
       "R65        float64\n",
       "RAC1P        int64\n",
       "RMSP       float64\n",
       "RWAT       float64\n",
       "SCH          int64\n",
       "SCHL         int64\n",
       "SEX          int64\n",
       "VALP       float64\n",
       "VALP_B1    float64\n",
       "dtype: object"
      ]
     },
     "execution_count": 4,
     "metadata": {},
     "output_type": "execute_result"
    }
   ],
   "source": [
    "# 참조 코딩\n",
    "df.dtypes"
   ]
  },
  {
   "cell_type": "code",
   "execution_count": null,
   "metadata": {},
   "outputs": [],
   "source": [
    "### *** Regression 기반의 모형 (Logistic Regresssion, LAR, LASSO 등 포함)은\n",
    "### *** 카테고리 변수를 모두 dummy 변수로 바꾸어야 하며 그래야 Odds ratio가 제대로 구해짐에 유의"
   ]
  },
  {
   "cell_type": "code",
   "execution_count": 2,
   "metadata": {},
   "outputs": [
    {
     "data": {
      "text/plain": [
       "(20495, 22)"
      ]
     },
     "execution_count": 2,
     "metadata": {},
     "output_type": "execute_result"
    }
   ],
   "source": [
    "cols=['AGEP', 'BDSP', 'ELEP', 'GASP', 'HINCP', 'NRC', 'RMSP', 'VALP', 'VALP_B1']\n",
    "df_cat = df.drop(cols, axis=1)  # 데이터프레임에서 7개 구간 변수 및 2개의 타겟변수 제외\n",
    "df_cat.shape"
   ]
  },
  {
   "cell_type": "code",
   "execution_count": 3,
   "metadata": {},
   "outputs": [],
   "source": [
    "# 데이터프레임의 행과 열 전체를 보이게 하는 조치(필요시)\n",
    "pd.set_option('display.max_columns', None)\n",
    "pd.set_option('display.max_rows', None)"
   ]
  },
  {
   "cell_type": "code",
   "execution_count": 5,
   "metadata": {
    "scrolled": true
   },
   "outputs": [
    {
     "data": {
      "text/html": [
       "<div>\n",
       "<style scoped>\n",
       "    .dataframe tbody tr th:only-of-type {\n",
       "        vertical-align: middle;\n",
       "    }\n",
       "\n",
       "    .dataframe tbody tr th {\n",
       "        vertical-align: top;\n",
       "    }\n",
       "\n",
       "    .dataframe thead th {\n",
       "        text-align: right;\n",
       "    }\n",
       "</style>\n",
       "<table border=\"1\" class=\"dataframe\">\n",
       "  <thead>\n",
       "    <tr style=\"text-align: right;\">\n",
       "      <th></th>\n",
       "      <th>ACCESS</th>\n",
       "      <th>ACR</th>\n",
       "      <th>BATH</th>\n",
       "      <th>BLD</th>\n",
       "      <th>COW</th>\n",
       "      <th>FESRP</th>\n",
       "      <th>FKITP</th>\n",
       "      <th>FPARC</th>\n",
       "      <th>FSCHP</th>\n",
       "      <th>FTAXP</th>\n",
       "      <th>HHL</th>\n",
       "      <th>HHT</th>\n",
       "      <th>LANX</th>\n",
       "      <th>MAR</th>\n",
       "      <th>MV</th>\n",
       "      <th>R18</th>\n",
       "      <th>R65</th>\n",
       "      <th>RAC1P</th>\n",
       "      <th>RWAT</th>\n",
       "      <th>SCH</th>\n",
       "      <th>SCHL</th>\n",
       "      <th>SEX</th>\n",
       "    </tr>\n",
       "  </thead>\n",
       "  <tbody>\n",
       "    <tr>\n",
       "      <th>count</th>\n",
       "      <td>20495.00</td>\n",
       "      <td>20495.00</td>\n",
       "      <td>20495.00</td>\n",
       "      <td>20495.00</td>\n",
       "      <td>20495.00</td>\n",
       "      <td>20495.00</td>\n",
       "      <td>20495.00</td>\n",
       "      <td>20495.00</td>\n",
       "      <td>20495.00</td>\n",
       "      <td>20495.00</td>\n",
       "      <td>20495.00</td>\n",
       "      <td>20495.00</td>\n",
       "      <td>20495.00</td>\n",
       "      <td>20495.00</td>\n",
       "      <td>20495.00</td>\n",
       "      <td>20495.00</td>\n",
       "      <td>20495.00</td>\n",
       "      <td>20495.00</td>\n",
       "      <td>20495.00</td>\n",
       "      <td>20495.00</td>\n",
       "      <td>20495.00</td>\n",
       "      <td>20495.00</td>\n",
       "    </tr>\n",
       "    <tr>\n",
       "      <th>mean</th>\n",
       "      <td>1.28</td>\n",
       "      <td>1.47</td>\n",
       "      <td>1.00</td>\n",
       "      <td>2.01</td>\n",
       "      <td>1.34</td>\n",
       "      <td>0.06</td>\n",
       "      <td>0.01</td>\n",
       "      <td>2.62</td>\n",
       "      <td>0.06</td>\n",
       "      <td>0.21</td>\n",
       "      <td>1.19</td>\n",
       "      <td>1.82</td>\n",
       "      <td>1.83</td>\n",
       "      <td>2.59</td>\n",
       "      <td>4.47</td>\n",
       "      <td>0.47</td>\n",
       "      <td>0.44</td>\n",
       "      <td>2.06</td>\n",
       "      <td>1.00</td>\n",
       "      <td>1.21</td>\n",
       "      <td>15.45</td>\n",
       "      <td>1.51</td>\n",
       "    </tr>\n",
       "    <tr>\n",
       "      <th>std</th>\n",
       "      <td>0.67</td>\n",
       "      <td>0.70</td>\n",
       "      <td>0.03</td>\n",
       "      <td>0.10</td>\n",
       "      <td>1.92</td>\n",
       "      <td>0.24</td>\n",
       "      <td>0.10</td>\n",
       "      <td>1.39</td>\n",
       "      <td>0.23</td>\n",
       "      <td>0.41</td>\n",
       "      <td>0.65</td>\n",
       "      <td>1.52</td>\n",
       "      <td>0.49</td>\n",
       "      <td>1.80</td>\n",
       "      <td>1.66</td>\n",
       "      <td>0.50</td>\n",
       "      <td>0.73</td>\n",
       "      <td>2.37</td>\n",
       "      <td>0.04</td>\n",
       "      <td>0.52</td>\n",
       "      <td>5.99</td>\n",
       "      <td>0.50</td>\n",
       "    </tr>\n",
       "    <tr>\n",
       "      <th>min</th>\n",
       "      <td>1.00</td>\n",
       "      <td>1.00</td>\n",
       "      <td>1.00</td>\n",
       "      <td>2.00</td>\n",
       "      <td>0.00</td>\n",
       "      <td>0.00</td>\n",
       "      <td>0.00</td>\n",
       "      <td>0.00</td>\n",
       "      <td>0.00</td>\n",
       "      <td>0.00</td>\n",
       "      <td>1.00</td>\n",
       "      <td>1.00</td>\n",
       "      <td>0.00</td>\n",
       "      <td>1.00</td>\n",
       "      <td>1.00</td>\n",
       "      <td>0.00</td>\n",
       "      <td>0.00</td>\n",
       "      <td>1.00</td>\n",
       "      <td>1.00</td>\n",
       "      <td>0.00</td>\n",
       "      <td>0.00</td>\n",
       "      <td>1.00</td>\n",
       "    </tr>\n",
       "    <tr>\n",
       "      <th>25%</th>\n",
       "      <td>1.00</td>\n",
       "      <td>1.00</td>\n",
       "      <td>1.00</td>\n",
       "      <td>2.00</td>\n",
       "      <td>0.00</td>\n",
       "      <td>0.00</td>\n",
       "      <td>0.00</td>\n",
       "      <td>2.00</td>\n",
       "      <td>0.00</td>\n",
       "      <td>0.00</td>\n",
       "      <td>1.00</td>\n",
       "      <td>1.00</td>\n",
       "      <td>2.00</td>\n",
       "      <td>1.00</td>\n",
       "      <td>3.00</td>\n",
       "      <td>0.00</td>\n",
       "      <td>0.00</td>\n",
       "      <td>1.00</td>\n",
       "      <td>1.00</td>\n",
       "      <td>1.00</td>\n",
       "      <td>13.00</td>\n",
       "      <td>1.00</td>\n",
       "    </tr>\n",
       "    <tr>\n",
       "      <th>50%</th>\n",
       "      <td>1.00</td>\n",
       "      <td>1.00</td>\n",
       "      <td>1.00</td>\n",
       "      <td>2.00</td>\n",
       "      <td>1.00</td>\n",
       "      <td>0.00</td>\n",
       "      <td>0.00</td>\n",
       "      <td>3.00</td>\n",
       "      <td>0.00</td>\n",
       "      <td>0.00</td>\n",
       "      <td>1.00</td>\n",
       "      <td>1.00</td>\n",
       "      <td>2.00</td>\n",
       "      <td>1.00</td>\n",
       "      <td>5.00</td>\n",
       "      <td>0.00</td>\n",
       "      <td>0.00</td>\n",
       "      <td>1.00</td>\n",
       "      <td>1.00</td>\n",
       "      <td>1.00</td>\n",
       "      <td>16.00</td>\n",
       "      <td>2.00</td>\n",
       "    </tr>\n",
       "    <tr>\n",
       "      <th>75%</th>\n",
       "      <td>1.00</td>\n",
       "      <td>2.00</td>\n",
       "      <td>1.00</td>\n",
       "      <td>2.00</td>\n",
       "      <td>1.00</td>\n",
       "      <td>0.00</td>\n",
       "      <td>0.00</td>\n",
       "      <td>4.00</td>\n",
       "      <td>0.00</td>\n",
       "      <td>0.00</td>\n",
       "      <td>1.00</td>\n",
       "      <td>2.00</td>\n",
       "      <td>2.00</td>\n",
       "      <td>5.00</td>\n",
       "      <td>6.00</td>\n",
       "      <td>1.00</td>\n",
       "      <td>1.00</td>\n",
       "      <td>1.00</td>\n",
       "      <td>1.00</td>\n",
       "      <td>1.00</td>\n",
       "      <td>20.00</td>\n",
       "      <td>2.00</td>\n",
       "    </tr>\n",
       "    <tr>\n",
       "      <th>max</th>\n",
       "      <td>3.00</td>\n",
       "      <td>3.00</td>\n",
       "      <td>2.00</td>\n",
       "      <td>3.00</td>\n",
       "      <td>9.00</td>\n",
       "      <td>1.00</td>\n",
       "      <td>1.00</td>\n",
       "      <td>4.00</td>\n",
       "      <td>1.00</td>\n",
       "      <td>1.00</td>\n",
       "      <td>5.00</td>\n",
       "      <td>7.00</td>\n",
       "      <td>2.00</td>\n",
       "      <td>5.00</td>\n",
       "      <td>7.00</td>\n",
       "      <td>1.00</td>\n",
       "      <td>2.00</td>\n",
       "      <td>9.00</td>\n",
       "      <td>2.00</td>\n",
       "      <td>3.00</td>\n",
       "      <td>24.00</td>\n",
       "      <td>2.00</td>\n",
       "    </tr>\n",
       "  </tbody>\n",
       "</table>\n",
       "</div>"
      ],
      "text/plain": [
       "        ACCESS      ACR     BATH      BLD      COW    FESRP    FKITP    FPARC  \\\n",
       "count 20495.00 20495.00 20495.00 20495.00 20495.00 20495.00 20495.00 20495.00   \n",
       "mean      1.28     1.47     1.00     2.01     1.34     0.06     0.01     2.62   \n",
       "std       0.67     0.70     0.03     0.10     1.92     0.24     0.10     1.39   \n",
       "min       1.00     1.00     1.00     2.00     0.00     0.00     0.00     0.00   \n",
       "25%       1.00     1.00     1.00     2.00     0.00     0.00     0.00     2.00   \n",
       "50%       1.00     1.00     1.00     2.00     1.00     0.00     0.00     3.00   \n",
       "75%       1.00     2.00     1.00     2.00     1.00     0.00     0.00     4.00   \n",
       "max       3.00     3.00     2.00     3.00     9.00     1.00     1.00     4.00   \n",
       "\n",
       "         FSCHP    FTAXP      HHL      HHT     LANX      MAR       MV      R18  \\\n",
       "count 20495.00 20495.00 20495.00 20495.00 20495.00 20495.00 20495.00 20495.00   \n",
       "mean      0.06     0.21     1.19     1.82     1.83     2.59     4.47     0.47   \n",
       "std       0.23     0.41     0.65     1.52     0.49     1.80     1.66     0.50   \n",
       "min       0.00     0.00     1.00     1.00     0.00     1.00     1.00     0.00   \n",
       "25%       0.00     0.00     1.00     1.00     2.00     1.00     3.00     0.00   \n",
       "50%       0.00     0.00     1.00     1.00     2.00     1.00     5.00     0.00   \n",
       "75%       0.00     0.00     1.00     2.00     2.00     5.00     6.00     1.00   \n",
       "max       1.00     1.00     5.00     7.00     2.00     5.00     7.00     1.00   \n",
       "\n",
       "           R65    RAC1P     RWAT      SCH     SCHL      SEX  \n",
       "count 20495.00 20495.00 20495.00 20495.00 20495.00 20495.00  \n",
       "mean      0.44     2.06     1.00     1.21    15.45     1.51  \n",
       "std       0.73     2.37     0.04     0.52     5.99     0.50  \n",
       "min       0.00     1.00     1.00     0.00     0.00     1.00  \n",
       "25%       0.00     1.00     1.00     1.00    13.00     1.00  \n",
       "50%       0.00     1.00     1.00     1.00    16.00     2.00  \n",
       "75%       1.00     1.00     1.00     1.00    20.00     2.00  \n",
       "max       2.00     9.00     2.00     3.00    24.00     2.00  "
      ]
     },
     "execution_count": 5,
     "metadata": {},
     "output_type": "execute_result"
    }
   ],
   "source": [
    "pd.options.display.float_format = '{:.2f}'.format # 소숫점 2자리로 숫자 표기 제한\n",
    "df_cat.describe()"
   ]
  },
  {
   "cell_type": "code",
   "execution_count": 62,
   "metadata": {},
   "outputs": [
    {
     "data": {
      "text/plain": [
       "ACCESS    2.00\n",
       "ACR       2.00\n",
       "BATH      1.00\n",
       "BLD       1.00\n",
       "COW       9.00\n",
       "FESRP     1.00\n",
       "FKITP     1.00\n",
       "FPARC     4.00\n",
       "FSCHP     1.00\n",
       "FTAXP     1.00\n",
       "HHL       4.00\n",
       "HHT       6.00\n",
       "LANX      2.00\n",
       "MAR       4.00\n",
       "MV        6.00\n",
       "R18       1.00\n",
       "R65       2.00\n",
       "RAC1P     8.00\n",
       "RWAT      1.00\n",
       "SCH       3.00\n",
       "SCHL     24.00\n",
       "SEX       1.00\n",
       "dtype: float64"
      ]
     },
     "execution_count": 62,
     "metadata": {},
     "output_type": "execute_result"
    }
   ],
   "source": [
    "df_cat.max() - df_cat.min()"
   ]
  },
  {
   "cell_type": "code",
   "execution_count": 5,
   "metadata": {},
   "outputs": [
    {
     "data": {
      "text/plain": [
       "ACCESS    1.0\n",
       "ACR       1.0\n",
       "BATH      1.0\n",
       "BLD       2.0\n",
       "COW       0.0\n",
       "FESRP     0.0\n",
       "FKITP     0.0\n",
       "FPARC     0.0\n",
       "FSCHP     0.0\n",
       "FTAXP     0.0\n",
       "HHL       1.0\n",
       "HHT       1.0\n",
       "LANX      0.0\n",
       "MAR       1.0\n",
       "MV        1.0\n",
       "R18       0.0\n",
       "R65       0.0\n",
       "RAC1P     1.0\n",
       "RWAT      1.0\n",
       "SCH       0.0\n",
       "SCHL      0.0\n",
       "SEX       1.0\n",
       "dtype: float64"
      ]
     },
     "execution_count": 5,
     "metadata": {},
     "output_type": "execute_result"
    }
   ],
   "source": [
    "df_cat.min()"
   ]
  },
  {
   "cell_type": "code",
   "execution_count": 6,
   "metadata": {},
   "outputs": [
    {
     "data": {
      "text/plain": [
       "1.00    20460\n",
       "2.00       35\n",
       "Name: RWAT, dtype: int64"
      ]
     },
     "execution_count": 6,
     "metadata": {},
     "output_type": "execute_result"
    }
   ],
   "source": [
    "df['RWAT'].value_counts(dropna=False)"
   ]
  },
  {
   "cell_type": "code",
   "execution_count": 7,
   "metadata": {},
   "outputs": [],
   "source": [
    "df['RWAT'] = df['RWAT'].replace(2,0)"
   ]
  },
  {
   "cell_type": "code",
   "execution_count": 8,
   "metadata": {},
   "outputs": [
    {
     "data": {
      "text/plain": [
       "1.00    20460\n",
       "0.00       35\n",
       "Name: RWAT, dtype: int64"
      ]
     },
     "execution_count": 8,
     "metadata": {},
     "output_type": "execute_result"
    }
   ],
   "source": [
    "df['RWAT'].value_counts(dropna=False)"
   ]
  },
  {
   "cell_type": "code",
   "execution_count": 9,
   "metadata": {},
   "outputs": [],
   "source": [
    "# 22개 범주형 변수중에서 값으로 0과 1만 가지는 (이미 더미 변수화 되어 있는) 7개 변수명을 제외하고서 cols1에 저장\n",
    "\n",
    "cols1 = ['ACCESS','ACR','BLD','COW','FPARC','HHL','HHT','LANX','MAR','MV','R65','RAC1P',\n",
    "         'SCH','SCHL','SEX']"
   ]
  },
  {
   "cell_type": "code",
   "execution_count": 10,
   "metadata": {},
   "outputs": [],
   "source": [
    "df1 = pd.get_dummies(df, columns=cols1)   # cols1에 담긴 변수들의 더미변수를 생성 \n",
    "                                          # 이 명령은 더미변수를 생성한 원본변수는 제거함에 유의"
   ]
  },
  {
   "cell_type": "code",
   "execution_count": 11,
   "metadata": {},
   "outputs": [
    {
     "data": {
      "text/html": [
       "<div>\n",
       "<style scoped>\n",
       "    .dataframe tbody tr th:only-of-type {\n",
       "        vertical-align: middle;\n",
       "    }\n",
       "\n",
       "    .dataframe tbody tr th {\n",
       "        vertical-align: top;\n",
       "    }\n",
       "\n",
       "    .dataframe thead th {\n",
       "        text-align: right;\n",
       "    }\n",
       "</style>\n",
       "<table border=\"1\" class=\"dataframe\">\n",
       "  <thead>\n",
       "    <tr style=\"text-align: right;\">\n",
       "      <th></th>\n",
       "      <th>AGEP</th>\n",
       "      <th>BATH</th>\n",
       "      <th>BDSP</th>\n",
       "      <th>ELEP</th>\n",
       "      <th>FESRP</th>\n",
       "      <th>FKITP</th>\n",
       "      <th>FSCHP</th>\n",
       "      <th>FTAXP</th>\n",
       "      <th>GASP</th>\n",
       "      <th>HINCP</th>\n",
       "      <th>NRC</th>\n",
       "      <th>R18</th>\n",
       "      <th>RMSP</th>\n",
       "      <th>RWAT</th>\n",
       "      <th>VALP</th>\n",
       "      <th>VALP_B1</th>\n",
       "      <th>ACCESS_1.0</th>\n",
       "      <th>ACCESS_2.0</th>\n",
       "      <th>ACCESS_3.0</th>\n",
       "      <th>ACR_1.0</th>\n",
       "      <th>ACR_2.0</th>\n",
       "      <th>ACR_3.0</th>\n",
       "      <th>BLD_2.0</th>\n",
       "      <th>BLD_3.0</th>\n",
       "      <th>COW_0</th>\n",
       "      <th>COW_1</th>\n",
       "      <th>COW_2</th>\n",
       "      <th>COW_3</th>\n",
       "      <th>COW_4</th>\n",
       "      <th>COW_5</th>\n",
       "      <th>COW_6</th>\n",
       "      <th>COW_7</th>\n",
       "      <th>COW_8</th>\n",
       "      <th>COW_9</th>\n",
       "      <th>FPARC_0</th>\n",
       "      <th>FPARC_1</th>\n",
       "      <th>FPARC_2</th>\n",
       "      <th>FPARC_3</th>\n",
       "      <th>FPARC_4</th>\n",
       "      <th>HHL_1.0</th>\n",
       "      <th>HHL_2.0</th>\n",
       "      <th>HHL_3.0</th>\n",
       "      <th>HHL_4.0</th>\n",
       "      <th>HHL_5.0</th>\n",
       "      <th>HHT_1.0</th>\n",
       "      <th>HHT_2.0</th>\n",
       "      <th>HHT_3.0</th>\n",
       "      <th>HHT_4.0</th>\n",
       "      <th>HHT_5.0</th>\n",
       "      <th>HHT_6.0</th>\n",
       "      <th>HHT_7.0</th>\n",
       "      <th>LANX_0</th>\n",
       "      <th>LANX_1</th>\n",
       "      <th>LANX_2</th>\n",
       "      <th>MAR_1</th>\n",
       "      <th>MAR_2</th>\n",
       "      <th>MAR_3</th>\n",
       "      <th>MAR_4</th>\n",
       "      <th>MAR_5</th>\n",
       "      <th>MV_1.0</th>\n",
       "      <th>MV_2.0</th>\n",
       "      <th>MV_3.0</th>\n",
       "      <th>MV_4.0</th>\n",
       "      <th>MV_5.0</th>\n",
       "      <th>MV_6.0</th>\n",
       "      <th>MV_7.0</th>\n",
       "      <th>R65_0.0</th>\n",
       "      <th>R65_1.0</th>\n",
       "      <th>R65_2.0</th>\n",
       "      <th>RAC1P_1</th>\n",
       "      <th>RAC1P_2</th>\n",
       "      <th>RAC1P_3</th>\n",
       "      <th>RAC1P_4</th>\n",
       "      <th>RAC1P_5</th>\n",
       "      <th>RAC1P_6</th>\n",
       "      <th>RAC1P_7</th>\n",
       "      <th>RAC1P_8</th>\n",
       "      <th>RAC1P_9</th>\n",
       "      <th>SCH_0</th>\n",
       "      <th>SCH_1</th>\n",
       "      <th>SCH_2</th>\n",
       "      <th>SCH_3</th>\n",
       "      <th>SCHL_0</th>\n",
       "      <th>SCHL_1</th>\n",
       "      <th>SCHL_2</th>\n",
       "      <th>SCHL_3</th>\n",
       "      <th>SCHL_4</th>\n",
       "      <th>SCHL_5</th>\n",
       "      <th>SCHL_6</th>\n",
       "      <th>SCHL_7</th>\n",
       "      <th>SCHL_8</th>\n",
       "      <th>SCHL_9</th>\n",
       "      <th>SCHL_10</th>\n",
       "      <th>SCHL_11</th>\n",
       "      <th>SCHL_12</th>\n",
       "      <th>SCHL_13</th>\n",
       "      <th>SCHL_14</th>\n",
       "      <th>SCHL_15</th>\n",
       "      <th>SCHL_16</th>\n",
       "      <th>SCHL_17</th>\n",
       "      <th>SCHL_18</th>\n",
       "      <th>SCHL_19</th>\n",
       "      <th>SCHL_20</th>\n",
       "      <th>SCHL_21</th>\n",
       "      <th>SCHL_22</th>\n",
       "      <th>SCHL_23</th>\n",
       "      <th>SCHL_24</th>\n",
       "      <th>SEX_1</th>\n",
       "      <th>SEX_2</th>\n",
       "    </tr>\n",
       "  </thead>\n",
       "  <tbody>\n",
       "    <tr>\n",
       "      <th>0</th>\n",
       "      <td>74</td>\n",
       "      <td>1.00</td>\n",
       "      <td>3.00</td>\n",
       "      <td>140.00</td>\n",
       "      <td>0</td>\n",
       "      <td>0.00</td>\n",
       "      <td>0</td>\n",
       "      <td>0.00</td>\n",
       "      <td>50.00</td>\n",
       "      <td>33400.00</td>\n",
       "      <td>0.00</td>\n",
       "      <td>0.00</td>\n",
       "      <td>5.00</td>\n",
       "      <td>1.00</td>\n",
       "      <td>200000.00</td>\n",
       "      <td>1.00</td>\n",
       "      <td>1</td>\n",
       "      <td>0</td>\n",
       "      <td>0</td>\n",
       "      <td>1</td>\n",
       "      <td>0</td>\n",
       "      <td>0</td>\n",
       "      <td>1</td>\n",
       "      <td>0</td>\n",
       "      <td>1</td>\n",
       "      <td>0</td>\n",
       "      <td>0</td>\n",
       "      <td>0</td>\n",
       "      <td>0</td>\n",
       "      <td>0</td>\n",
       "      <td>0</td>\n",
       "      <td>0</td>\n",
       "      <td>0</td>\n",
       "      <td>0</td>\n",
       "      <td>1</td>\n",
       "      <td>0</td>\n",
       "      <td>0</td>\n",
       "      <td>0</td>\n",
       "      <td>0</td>\n",
       "      <td>1</td>\n",
       "      <td>0</td>\n",
       "      <td>0</td>\n",
       "      <td>0</td>\n",
       "      <td>0</td>\n",
       "      <td>0</td>\n",
       "      <td>0</td>\n",
       "      <td>0</td>\n",
       "      <td>0</td>\n",
       "      <td>0</td>\n",
       "      <td>1</td>\n",
       "      <td>0</td>\n",
       "      <td>0</td>\n",
       "      <td>0</td>\n",
       "      <td>1</td>\n",
       "      <td>0</td>\n",
       "      <td>0</td>\n",
       "      <td>1</td>\n",
       "      <td>0</td>\n",
       "      <td>0</td>\n",
       "      <td>0</td>\n",
       "      <td>0</td>\n",
       "      <td>1</td>\n",
       "      <td>0</td>\n",
       "      <td>0</td>\n",
       "      <td>0</td>\n",
       "      <td>0</td>\n",
       "      <td>0</td>\n",
       "      <td>1</td>\n",
       "      <td>0</td>\n",
       "      <td>1</td>\n",
       "      <td>0</td>\n",
       "      <td>0</td>\n",
       "      <td>0</td>\n",
       "      <td>0</td>\n",
       "      <td>0</td>\n",
       "      <td>0</td>\n",
       "      <td>0</td>\n",
       "      <td>0</td>\n",
       "      <td>0</td>\n",
       "      <td>1</td>\n",
       "      <td>0</td>\n",
       "      <td>0</td>\n",
       "      <td>0</td>\n",
       "      <td>0</td>\n",
       "      <td>0</td>\n",
       "      <td>0</td>\n",
       "      <td>0</td>\n",
       "      <td>0</td>\n",
       "      <td>0</td>\n",
       "      <td>0</td>\n",
       "      <td>0</td>\n",
       "      <td>0</td>\n",
       "      <td>0</td>\n",
       "      <td>0</td>\n",
       "      <td>0</td>\n",
       "      <td>0</td>\n",
       "      <td>0</td>\n",
       "      <td>0</td>\n",
       "      <td>0</td>\n",
       "      <td>0</td>\n",
       "      <td>0</td>\n",
       "      <td>0</td>\n",
       "      <td>0</td>\n",
       "      <td>1</td>\n",
       "      <td>0</td>\n",
       "      <td>0</td>\n",
       "      <td>0</td>\n",
       "      <td>0</td>\n",
       "      <td>1</td>\n",
       "    </tr>\n",
       "    <tr>\n",
       "      <th>1</th>\n",
       "      <td>46</td>\n",
       "      <td>1.00</td>\n",
       "      <td>3.00</td>\n",
       "      <td>280.00</td>\n",
       "      <td>0</td>\n",
       "      <td>0.00</td>\n",
       "      <td>0</td>\n",
       "      <td>0.00</td>\n",
       "      <td>3.00</td>\n",
       "      <td>105000.00</td>\n",
       "      <td>0.00</td>\n",
       "      <td>0.00</td>\n",
       "      <td>6.00</td>\n",
       "      <td>1.00</td>\n",
       "      <td>850000.00</td>\n",
       "      <td>1.00</td>\n",
       "      <td>1</td>\n",
       "      <td>0</td>\n",
       "      <td>0</td>\n",
       "      <td>0</td>\n",
       "      <td>0</td>\n",
       "      <td>1</td>\n",
       "      <td>1</td>\n",
       "      <td>0</td>\n",
       "      <td>0</td>\n",
       "      <td>1</td>\n",
       "      <td>0</td>\n",
       "      <td>0</td>\n",
       "      <td>0</td>\n",
       "      <td>0</td>\n",
       "      <td>0</td>\n",
       "      <td>0</td>\n",
       "      <td>0</td>\n",
       "      <td>0</td>\n",
       "      <td>0</td>\n",
       "      <td>0</td>\n",
       "      <td>0</td>\n",
       "      <td>0</td>\n",
       "      <td>1</td>\n",
       "      <td>1</td>\n",
       "      <td>0</td>\n",
       "      <td>0</td>\n",
       "      <td>0</td>\n",
       "      <td>0</td>\n",
       "      <td>1</td>\n",
       "      <td>0</td>\n",
       "      <td>0</td>\n",
       "      <td>0</td>\n",
       "      <td>0</td>\n",
       "      <td>0</td>\n",
       "      <td>0</td>\n",
       "      <td>0</td>\n",
       "      <td>0</td>\n",
       "      <td>1</td>\n",
       "      <td>1</td>\n",
       "      <td>0</td>\n",
       "      <td>0</td>\n",
       "      <td>0</td>\n",
       "      <td>0</td>\n",
       "      <td>0</td>\n",
       "      <td>0</td>\n",
       "      <td>0</td>\n",
       "      <td>1</td>\n",
       "      <td>0</td>\n",
       "      <td>0</td>\n",
       "      <td>0</td>\n",
       "      <td>1</td>\n",
       "      <td>0</td>\n",
       "      <td>0</td>\n",
       "      <td>1</td>\n",
       "      <td>0</td>\n",
       "      <td>0</td>\n",
       "      <td>0</td>\n",
       "      <td>0</td>\n",
       "      <td>0</td>\n",
       "      <td>0</td>\n",
       "      <td>0</td>\n",
       "      <td>0</td>\n",
       "      <td>0</td>\n",
       "      <td>1</td>\n",
       "      <td>0</td>\n",
       "      <td>0</td>\n",
       "      <td>0</td>\n",
       "      <td>0</td>\n",
       "      <td>0</td>\n",
       "      <td>0</td>\n",
       "      <td>0</td>\n",
       "      <td>0</td>\n",
       "      <td>0</td>\n",
       "      <td>0</td>\n",
       "      <td>0</td>\n",
       "      <td>0</td>\n",
       "      <td>0</td>\n",
       "      <td>0</td>\n",
       "      <td>0</td>\n",
       "      <td>0</td>\n",
       "      <td>0</td>\n",
       "      <td>0</td>\n",
       "      <td>1</td>\n",
       "      <td>0</td>\n",
       "      <td>0</td>\n",
       "      <td>0</td>\n",
       "      <td>0</td>\n",
       "      <td>0</td>\n",
       "      <td>0</td>\n",
       "      <td>0</td>\n",
       "      <td>0</td>\n",
       "      <td>0</td>\n",
       "      <td>1</td>\n",
       "    </tr>\n",
       "    <tr>\n",
       "      <th>2</th>\n",
       "      <td>45</td>\n",
       "      <td>1.00</td>\n",
       "      <td>3.00</td>\n",
       "      <td>280.00</td>\n",
       "      <td>0</td>\n",
       "      <td>0.00</td>\n",
       "      <td>0</td>\n",
       "      <td>0.00</td>\n",
       "      <td>3.00</td>\n",
       "      <td>105000.00</td>\n",
       "      <td>0.00</td>\n",
       "      <td>0.00</td>\n",
       "      <td>6.00</td>\n",
       "      <td>1.00</td>\n",
       "      <td>850000.00</td>\n",
       "      <td>1.00</td>\n",
       "      <td>1</td>\n",
       "      <td>0</td>\n",
       "      <td>0</td>\n",
       "      <td>0</td>\n",
       "      <td>0</td>\n",
       "      <td>1</td>\n",
       "      <td>1</td>\n",
       "      <td>0</td>\n",
       "      <td>0</td>\n",
       "      <td>1</td>\n",
       "      <td>0</td>\n",
       "      <td>0</td>\n",
       "      <td>0</td>\n",
       "      <td>0</td>\n",
       "      <td>0</td>\n",
       "      <td>0</td>\n",
       "      <td>0</td>\n",
       "      <td>0</td>\n",
       "      <td>0</td>\n",
       "      <td>0</td>\n",
       "      <td>0</td>\n",
       "      <td>0</td>\n",
       "      <td>1</td>\n",
       "      <td>1</td>\n",
       "      <td>0</td>\n",
       "      <td>0</td>\n",
       "      <td>0</td>\n",
       "      <td>0</td>\n",
       "      <td>1</td>\n",
       "      <td>0</td>\n",
       "      <td>0</td>\n",
       "      <td>0</td>\n",
       "      <td>0</td>\n",
       "      <td>0</td>\n",
       "      <td>0</td>\n",
       "      <td>0</td>\n",
       "      <td>0</td>\n",
       "      <td>1</td>\n",
       "      <td>1</td>\n",
       "      <td>0</td>\n",
       "      <td>0</td>\n",
       "      <td>0</td>\n",
       "      <td>0</td>\n",
       "      <td>0</td>\n",
       "      <td>0</td>\n",
       "      <td>0</td>\n",
       "      <td>1</td>\n",
       "      <td>0</td>\n",
       "      <td>0</td>\n",
       "      <td>0</td>\n",
       "      <td>1</td>\n",
       "      <td>0</td>\n",
       "      <td>0</td>\n",
       "      <td>1</td>\n",
       "      <td>0</td>\n",
       "      <td>0</td>\n",
       "      <td>0</td>\n",
       "      <td>0</td>\n",
       "      <td>0</td>\n",
       "      <td>0</td>\n",
       "      <td>0</td>\n",
       "      <td>0</td>\n",
       "      <td>0</td>\n",
       "      <td>1</td>\n",
       "      <td>0</td>\n",
       "      <td>0</td>\n",
       "      <td>0</td>\n",
       "      <td>0</td>\n",
       "      <td>0</td>\n",
       "      <td>0</td>\n",
       "      <td>0</td>\n",
       "      <td>0</td>\n",
       "      <td>0</td>\n",
       "      <td>0</td>\n",
       "      <td>0</td>\n",
       "      <td>0</td>\n",
       "      <td>0</td>\n",
       "      <td>0</td>\n",
       "      <td>0</td>\n",
       "      <td>0</td>\n",
       "      <td>0</td>\n",
       "      <td>0</td>\n",
       "      <td>1</td>\n",
       "      <td>0</td>\n",
       "      <td>0</td>\n",
       "      <td>0</td>\n",
       "      <td>0</td>\n",
       "      <td>0</td>\n",
       "      <td>0</td>\n",
       "      <td>0</td>\n",
       "      <td>0</td>\n",
       "      <td>1</td>\n",
       "      <td>0</td>\n",
       "    </tr>\n",
       "  </tbody>\n",
       "</table>\n",
       "</div>"
      ],
      "text/plain": [
       "   AGEP  BATH  BDSP   ELEP  FESRP  FKITP  FSCHP  FTAXP  GASP     HINCP  NRC  \\\n",
       "0    74  1.00  3.00 140.00      0   0.00      0   0.00 50.00  33400.00 0.00   \n",
       "1    46  1.00  3.00 280.00      0   0.00      0   0.00  3.00 105000.00 0.00   \n",
       "2    45  1.00  3.00 280.00      0   0.00      0   0.00  3.00 105000.00 0.00   \n",
       "\n",
       "   R18  RMSP  RWAT      VALP  VALP_B1  ACCESS_1.0  ACCESS_2.0  ACCESS_3.0  \\\n",
       "0 0.00  5.00  1.00 200000.00     1.00           1           0           0   \n",
       "1 0.00  6.00  1.00 850000.00     1.00           1           0           0   \n",
       "2 0.00  6.00  1.00 850000.00     1.00           1           0           0   \n",
       "\n",
       "   ACR_1.0  ACR_2.0  ACR_3.0  BLD_2.0  BLD_3.0  COW_0  COW_1  COW_2  COW_3  \\\n",
       "0        1        0        0        1        0      1      0      0      0   \n",
       "1        0        0        1        1        0      0      1      0      0   \n",
       "2        0        0        1        1        0      0      1      0      0   \n",
       "\n",
       "   COW_4  COW_5  COW_6  COW_7  COW_8  COW_9  FPARC_0  FPARC_1  FPARC_2  \\\n",
       "0      0      0      0      0      0      0        1        0        0   \n",
       "1      0      0      0      0      0      0        0        0        0   \n",
       "2      0      0      0      0      0      0        0        0        0   \n",
       "\n",
       "   FPARC_3  FPARC_4  HHL_1.0  HHL_2.0  HHL_3.0  HHL_4.0  HHL_5.0  HHT_1.0  \\\n",
       "0        0        0        1        0        0        0        0        0   \n",
       "1        0        1        1        0        0        0        0        1   \n",
       "2        0        1        1        0        0        0        0        1   \n",
       "\n",
       "   HHT_2.0  HHT_3.0  HHT_4.0  HHT_5.0  HHT_6.0  HHT_7.0  LANX_0  LANX_1  \\\n",
       "0        0        0        0        0        1        0       0       0   \n",
       "1        0        0        0        0        0        0       0       0   \n",
       "2        0        0        0        0        0        0       0       0   \n",
       "\n",
       "   LANX_2  MAR_1  MAR_2  MAR_3  MAR_4  MAR_5  MV_1.0  MV_2.0  MV_3.0  MV_4.0  \\\n",
       "0       1      0      0      1      0      0       0       0       1       0   \n",
       "1       1      1      0      0      0      0       0       0       0       1   \n",
       "2       1      1      0      0      0      0       0       0       0       1   \n",
       "\n",
       "   MV_5.0  MV_6.0  MV_7.0  R65_0.0  R65_1.0  R65_2.0  RAC1P_1  RAC1P_2  \\\n",
       "0       0       0       0        0        1        0        1        0   \n",
       "1       0       0       0        1        0        0        1        0   \n",
       "2       0       0       0        1        0        0        1        0   \n",
       "\n",
       "   RAC1P_3  RAC1P_4  RAC1P_5  RAC1P_6  RAC1P_7  RAC1P_8  RAC1P_9  SCH_0  \\\n",
       "0        0        0        0        0        0        0        0      0   \n",
       "1        0        0        0        0        0        0        0      0   \n",
       "2        0        0        0        0        0        0        0      0   \n",
       "\n",
       "   SCH_1  SCH_2  SCH_3  SCHL_0  SCHL_1  SCHL_2  SCHL_3  SCHL_4  SCHL_5  \\\n",
       "0      1      0      0       0       0       0       0       0       0   \n",
       "1      1      0      0       0       0       0       0       0       0   \n",
       "2      1      0      0       0       0       0       0       0       0   \n",
       "\n",
       "   SCHL_6  SCHL_7  SCHL_8  SCHL_9  SCHL_10  SCHL_11  SCHL_12  SCHL_13  \\\n",
       "0       0       0       0       0        0        0        0        0   \n",
       "1       0       0       0       0        0        0        0        0   \n",
       "2       0       0       0       0        0        0        0        0   \n",
       "\n",
       "   SCHL_14  SCHL_15  SCHL_16  SCHL_17  SCHL_18  SCHL_19  SCHL_20  SCHL_21  \\\n",
       "0        0        0        0        0        0        0        0        1   \n",
       "1        0        0        1        0        0        0        0        0   \n",
       "2        0        0        1        0        0        0        0        0   \n",
       "\n",
       "   SCHL_22  SCHL_23  SCHL_24  SEX_1  SEX_2  \n",
       "0        0        0        0      0      1  \n",
       "1        0        0        0      0      1  \n",
       "2        0        0        0      1      0  "
      ]
     },
     "execution_count": 11,
     "metadata": {},
     "output_type": "execute_result"
    }
   ],
   "source": [
    "df1.head(3)"
   ]
  },
  {
   "cell_type": "code",
   "execution_count": 68,
   "metadata": {},
   "outputs": [
    {
     "data": {
      "text/plain": [
       "(20495, 109)"
      ]
     },
     "execution_count": 68,
     "metadata": {},
     "output_type": "execute_result"
    }
   ],
   "source": [
    "df1.shape"
   ]
  },
  {
   "cell_type": "code",
   "execution_count": 17,
   "metadata": {},
   "outputs": [
    {
     "data": {
      "text/plain": [
       "['AGEP',\n",
       " 'BATH',\n",
       " 'BDSP',\n",
       " 'ELEP',\n",
       " 'FESRP',\n",
       " 'FKITP',\n",
       " 'FSCHP',\n",
       " 'FTAXP',\n",
       " 'GASP',\n",
       " 'HINCP',\n",
       " 'NRC',\n",
       " 'R18',\n",
       " 'RMSP',\n",
       " 'RWAT',\n",
       " 'VALP',\n",
       " 'VALP_B1',\n",
       " 'ACCESS_1.0',\n",
       " 'ACCESS_2.0',\n",
       " 'ACR_1.0',\n",
       " 'ACR_2.0',\n",
       " 'BLD_2.0',\n",
       " 'COW_0',\n",
       " 'COW_1',\n",
       " 'COW_2',\n",
       " 'COW_3',\n",
       " 'COW_4',\n",
       " 'COW_5',\n",
       " 'COW_6',\n",
       " 'COW_7',\n",
       " 'COW_8',\n",
       " 'FPARC_0',\n",
       " 'FPARC_1',\n",
       " 'FPARC_2',\n",
       " 'FPARC_3',\n",
       " 'HHL_1.0',\n",
       " 'HHL_2.0',\n",
       " 'HHL_3.0',\n",
       " 'HHL_4.0',\n",
       " 'HHT_1.0',\n",
       " 'HHT_2.0',\n",
       " 'HHT_3.0',\n",
       " 'HHT_4.0',\n",
       " 'HHT_5.0',\n",
       " 'HHT_6.0',\n",
       " 'LANX_0',\n",
       " 'LANX_1',\n",
       " 'MAR_1',\n",
       " 'MAR_2',\n",
       " 'MAR_3',\n",
       " 'MAR_4',\n",
       " 'MV_1.0',\n",
       " 'MV_2.0',\n",
       " 'MV_3.0',\n",
       " 'MV_4.0',\n",
       " 'MV_5.0',\n",
       " 'MV_6.0',\n",
       " 'R65_1.0',\n",
       " 'R65_2.0',\n",
       " 'RAC1P_1',\n",
       " 'RAC1P_2',\n",
       " 'RAC1P_3',\n",
       " 'RAC1P_4',\n",
       " 'RAC1P_5',\n",
       " 'RAC1P_6',\n",
       " 'RAC1P_7',\n",
       " 'RAC1P_9',\n",
       " 'SCH_0',\n",
       " 'SCH_2',\n",
       " 'SCH_3',\n",
       " 'SCHL_0',\n",
       " 'SCHL_2',\n",
       " 'SCHL_3',\n",
       " 'SCHL_4',\n",
       " 'SCHL_5',\n",
       " 'SCHL_6',\n",
       " 'SCHL_7',\n",
       " 'SCHL_8',\n",
       " 'SCHL_9',\n",
       " 'SCHL_10',\n",
       " 'SCHL_11',\n",
       " 'SCHL_12',\n",
       " 'SCHL_13',\n",
       " 'SCHL_14',\n",
       " 'SCHL_15',\n",
       " 'SCHL_16',\n",
       " 'SCHL_17',\n",
       " 'SCHL_18',\n",
       " 'SCHL_19',\n",
       " 'SCHL_20',\n",
       " 'SCHL_21',\n",
       " 'SCHL_22',\n",
       " 'SCHL_23',\n",
       " 'SCHL_24',\n",
       " 'SEX_2']"
      ]
     },
     "execution_count": 17,
     "metadata": {},
     "output_type": "execute_result"
    }
   ],
   "source": [
    "# 참조 코딩\n",
    "list(df1.columns)"
   ]
  },
  {
   "cell_type": "code",
   "execution_count": 12,
   "metadata": {},
   "outputs": [
    {
     "data": {
      "text/plain": [
       "(20495, 94)"
      ]
     },
     "execution_count": 12,
     "metadata": {},
     "output_type": "execute_result"
    }
   ],
   "source": [
    "# 기준 더미 변수(base dummy variable)로 정한 15개 더미 변수명을 cols2에 저장\n",
    "cols2 = ['ACCESS_3.0','ACR_3.0','BLD_3.0','COW_9','FPARC_4','HHL_5.0','HHT_7.0','LANX_2',\n",
    "         'MAR_5','MV_7.0','R65_0.0','RAC1P_8','SCH_1','SCHL_1','SEX_1']\n",
    "\n",
    "df1.drop(cols2, axis=1, inplace=True)   # cols2에 저장된 15개 더미 변수명을 데이터프레임에서 제거\n",
    "df1.shape"
   ]
  },
  {
   "cell_type": "code",
   "execution_count": 13,
   "metadata": {},
   "outputs": [
    {
     "data": {
      "text/plain": [
       "(20495, 93)"
      ]
     },
     "execution_count": 13,
     "metadata": {},
     "output_type": "execute_result"
    }
   ],
   "source": [
    "# 더미 변수까지만 처리하고 변수의 스케일 조정을 하지 않은 데이터프레임 df1에서 \n",
    "# 연속형 타겟변수 VALP를 데이터프레임에서 제거하고 이진값 타겟변수 VALP_B1은 남김\n",
    "df1_VALP_B1 = df1.drop('VALP', axis=1)   \n",
    "df1_VALP_B1.shape"
   ]
  },
  {
   "cell_type": "code",
   "execution_count": 14,
   "metadata": {},
   "outputs": [
    {
     "data": {
      "text/plain": [
       "(20495, 93)"
      ]
     },
     "execution_count": 14,
     "metadata": {},
     "output_type": "execute_result"
    }
   ],
   "source": [
    "# 더미 변수까지만 처리하고 변수의 스케일 조정을 하지 않은 데이터프레임 df1에서 \n",
    "# 이진값 타겟변수 VALP_B1을 데이터프레임에서 제거하고 연속형 타겟변수 VALP는 남김\n",
    "df1_VALP = df1.drop('VALP_B1', axis=1)   \n",
    "df1_VALP.shape"
   ]
  },
  {
   "cell_type": "code",
   "execution_count": 16,
   "metadata": {},
   "outputs": [],
   "source": [
    "df1_VALP_B1.to_csv('house-unscaled.csv', index=False)\n",
    "df1_VALP.to_csv('house-unscaled-VALP.csv', index=False)"
   ]
  },
  {
   "cell_type": "markdown",
   "metadata": {},
   "source": [
    "# 스케일 표준화(StandardScaler) 파일 생성 및 저장"
   ]
  },
  {
   "cell_type": "code",
   "execution_count": 19,
   "metadata": {},
   "outputs": [
    {
     "data": {
      "text/html": [
       "<div>\n",
       "<style scoped>\n",
       "    .dataframe tbody tr th:only-of-type {\n",
       "        vertical-align: middle;\n",
       "    }\n",
       "\n",
       "    .dataframe tbody tr th {\n",
       "        vertical-align: top;\n",
       "    }\n",
       "\n",
       "    .dataframe thead th {\n",
       "        text-align: right;\n",
       "    }\n",
       "</style>\n",
       "<table border=\"1\" class=\"dataframe\">\n",
       "  <thead>\n",
       "    <tr style=\"text-align: right;\">\n",
       "      <th></th>\n",
       "      <th>AGEP</th>\n",
       "      <th>BDSP</th>\n",
       "      <th>ELEP</th>\n",
       "      <th>GASP</th>\n",
       "      <th>HINCP</th>\n",
       "      <th>NRC</th>\n",
       "      <th>RMSP</th>\n",
       "      <th>VALP</th>\n",
       "    </tr>\n",
       "  </thead>\n",
       "  <tbody>\n",
       "    <tr>\n",
       "      <th>0</th>\n",
       "      <td>1.28</td>\n",
       "      <td>-0.19</td>\n",
       "      <td>-0.22</td>\n",
       "      <td>-0.03</td>\n",
       "      <td>-0.86</td>\n",
       "      <td>-0.76</td>\n",
       "      <td>-0.78</td>\n",
       "      <td>0.40</td>\n",
       "    </tr>\n",
       "    <tr>\n",
       "      <th>1</th>\n",
       "      <td>0.12</td>\n",
       "      <td>-0.19</td>\n",
       "      <td>1.55</td>\n",
       "      <td>-1.03</td>\n",
       "      <td>0.54</td>\n",
       "      <td>-0.76</td>\n",
       "      <td>-0.26</td>\n",
       "      <td>6.19</td>\n",
       "    </tr>\n",
       "    <tr>\n",
       "      <th>2</th>\n",
       "      <td>0.07</td>\n",
       "      <td>-0.19</td>\n",
       "      <td>1.55</td>\n",
       "      <td>-1.03</td>\n",
       "      <td>0.54</td>\n",
       "      <td>-0.76</td>\n",
       "      <td>-0.26</td>\n",
       "      <td>6.19</td>\n",
       "    </tr>\n",
       "    <tr>\n",
       "      <th>3</th>\n",
       "      <td>0.95</td>\n",
       "      <td>-0.19</td>\n",
       "      <td>-0.98</td>\n",
       "      <td>-0.24</td>\n",
       "      <td>-0.56</td>\n",
       "      <td>-0.76</td>\n",
       "      <td>-0.26</td>\n",
       "      <td>-0.58</td>\n",
       "    </tr>\n",
       "    <tr>\n",
       "      <th>4</th>\n",
       "      <td>0.99</td>\n",
       "      <td>-0.19</td>\n",
       "      <td>0.29</td>\n",
       "      <td>2.09</td>\n",
       "      <td>0.05</td>\n",
       "      <td>-0.76</td>\n",
       "      <td>0.26</td>\n",
       "      <td>-0.04</td>\n",
       "    </tr>\n",
       "  </tbody>\n",
       "</table>\n",
       "</div>"
      ],
      "text/plain": [
       "   AGEP  BDSP  ELEP  GASP  HINCP   NRC  RMSP  VALP\n",
       "0  1.28 -0.19 -0.22 -0.03  -0.86 -0.76 -0.78  0.40\n",
       "1  0.12 -0.19  1.55 -1.03   0.54 -0.76 -0.26  6.19\n",
       "2  0.07 -0.19  1.55 -1.03   0.54 -0.76 -0.26  6.19\n",
       "3  0.95 -0.19 -0.98 -0.24  -0.56 -0.76 -0.26 -0.58\n",
       "4  0.99 -0.19  0.29  2.09   0.05 -0.76  0.26 -0.04"
      ]
     },
     "execution_count": 19,
     "metadata": {},
     "output_type": "execute_result"
    }
   ],
   "source": [
    "# 구간 변수들만 별도로 모아 데이터프레임 df_num을 만들며 연속형 타겟변수 VALP도 포함\n",
    "numeric_cols = ['AGEP', 'BDSP', 'ELEP', 'GASP', 'HINCP', 'NRC', 'RMSP', 'VALP']\n",
    "df_num = df1[numeric_cols]\n",
    "\n",
    "# StandardScaler( )로 데이터 스케일 표준화를 실행하고 결과를 데이터프레임 형태로 저장\n",
    "from sklearn.preprocessing import StandardScaler\n",
    "scaler = StandardScaler()\n",
    "df_num_standard = pd.DataFrame(scaler.fit_transform(df_num))\n",
    "\n",
    "# StandardScaler( )는 변수명을 삭제하기 때문에, 새로 만든 데이터프레임에 다시 변수명을 입력\n",
    "df_num_standard.columns = df_num.columns\n",
    "df_num_standard.head()"
   ]
  },
  {
   "cell_type": "code",
   "execution_count": 20,
   "metadata": {},
   "outputs": [
    {
     "data": {
      "text/plain": [
       "Index(['BATH', 'FESRP', 'FKITP', 'FSCHP', 'FTAXP', 'R18', 'RWAT', 'VALP_B1',\n",
       "       'ACCESS_1.0', 'ACCESS_2.0', 'ACR_1.0', 'ACR_2.0', 'BLD_2.0', 'COW_0',\n",
       "       'COW_1', 'COW_2', 'COW_3', 'COW_4', 'COW_5', 'COW_6', 'COW_7', 'COW_8',\n",
       "       'FPARC_0', 'FPARC_1', 'FPARC_2', 'FPARC_3', 'HHL_1.0', 'HHL_2.0',\n",
       "       'HHL_3.0', 'HHL_4.0', 'HHT_1.0', 'HHT_2.0', 'HHT_3.0', 'HHT_4.0',\n",
       "       'HHT_5.0', 'HHT_6.0', 'LANX_0', 'LANX_1', 'MAR_1', 'MAR_2', 'MAR_3',\n",
       "       'MAR_4', 'MV_1.0', 'MV_2.0', 'MV_3.0', 'MV_4.0', 'MV_5.0', 'MV_6.0',\n",
       "       'R65_1.0', 'R65_2.0', 'RAC1P_1', 'RAC1P_2', 'RAC1P_3', 'RAC1P_4',\n",
       "       'RAC1P_5', 'RAC1P_6', 'RAC1P_7', 'RAC1P_9', 'SCH_0', 'SCH_2', 'SCH_3',\n",
       "       'SCHL_0', 'SCHL_2', 'SCHL_3', 'SCHL_4', 'SCHL_5', 'SCHL_6', 'SCHL_7',\n",
       "       'SCHL_8', 'SCHL_9', 'SCHL_10', 'SCHL_11', 'SCHL_12', 'SCHL_13',\n",
       "       'SCHL_14', 'SCHL_15', 'SCHL_16', 'SCHL_17', 'SCHL_18', 'SCHL_19',\n",
       "       'SCHL_20', 'SCHL_21', 'SCHL_22', 'SCHL_23', 'SCHL_24', 'SEX_2'],\n",
       "      dtype='object')"
      ]
     },
     "execution_count": 20,
     "metadata": {},
     "output_type": "execute_result"
    }
   ],
   "source": [
    "df_cat = df1.drop(numeric_cols, axis=1) # 데이터프레임 df1에서 구간변수들을 제거하여 df_num에 저장\n",
    "df_cat.columns                          # df_cat의 변수명을 나열(이진값 타겟변수 VALP_B1 포함)"
   ]
  },
  {
   "cell_type": "code",
   "execution_count": 21,
   "metadata": {},
   "outputs": [
    {
     "data": {
      "text/plain": [
       "Index(['AGEP', 'BDSP', 'ELEP', 'GASP', 'HINCP', 'NRC', 'RMSP', 'VALP', 'BATH',\n",
       "       'FESRP', 'FKITP', 'FSCHP', 'FTAXP', 'R18', 'RWAT', 'VALP_B1',\n",
       "       'ACCESS_1.0', 'ACCESS_2.0', 'ACR_1.0', 'ACR_2.0', 'BLD_2.0', 'COW_0',\n",
       "       'COW_1', 'COW_2', 'COW_3', 'COW_4', 'COW_5', 'COW_6', 'COW_7', 'COW_8',\n",
       "       'FPARC_0', 'FPARC_1', 'FPARC_2', 'FPARC_3', 'HHL_1.0', 'HHL_2.0',\n",
       "       'HHL_3.0', 'HHL_4.0', 'HHT_1.0', 'HHT_2.0', 'HHT_3.0', 'HHT_4.0',\n",
       "       'HHT_5.0', 'HHT_6.0', 'LANX_0', 'LANX_1', 'MAR_1', 'MAR_2', 'MAR_3',\n",
       "       'MAR_4', 'MV_1.0', 'MV_2.0', 'MV_3.0', 'MV_4.0', 'MV_5.0', 'MV_6.0',\n",
       "       'R65_1.0', 'R65_2.0', 'RAC1P_1', 'RAC1P_2', 'RAC1P_3', 'RAC1P_4',\n",
       "       'RAC1P_5', 'RAC1P_6', 'RAC1P_7', 'RAC1P_9', 'SCH_0', 'SCH_2', 'SCH_3',\n",
       "       'SCHL_0', 'SCHL_2', 'SCHL_3', 'SCHL_4', 'SCHL_5', 'SCHL_6', 'SCHL_7',\n",
       "       'SCHL_8', 'SCHL_9', 'SCHL_10', 'SCHL_11', 'SCHL_12', 'SCHL_13',\n",
       "       'SCHL_14', 'SCHL_15', 'SCHL_16', 'SCHL_17', 'SCHL_18', 'SCHL_19',\n",
       "       'SCHL_20', 'SCHL_21', 'SCHL_22', 'SCHL_23', 'SCHL_24', 'SEX_2'],\n",
       "      dtype='object')"
      ]
     },
     "execution_count": 21,
     "metadata": {},
     "output_type": "execute_result"
    }
   ],
   "source": [
    "# 구간변수 스케일을 표준화한 df_num_standard와 범주형 변수만 모아 둔 df_cat을 병합\n",
    "dfu_standard = pd.concat([df_num_standard, df_cat], axis=1)\n",
    "dfu_standard.columns   # dfu의 변수명을 나열"
   ]
  },
  {
   "cell_type": "code",
   "execution_count": 22,
   "metadata": {},
   "outputs": [
    {
     "data": {
      "text/plain": [
       "(20495, 94)"
      ]
     },
     "execution_count": 22,
     "metadata": {},
     "output_type": "execute_result"
    }
   ],
   "source": [
    "dfu_standard.shape"
   ]
  },
  {
   "cell_type": "code",
   "execution_count": 23,
   "metadata": {},
   "outputs": [
    {
     "data": {
      "text/plain": [
       "(20495, 93)"
      ]
     },
     "execution_count": 23,
     "metadata": {},
     "output_type": "execute_result"
    }
   ],
   "source": [
    "# 연속형 타겟변수 VALP를 데이터프레임에서 제거하고 이진값 타겟변수 VALP_B1은 남김\n",
    "dfu_standard_VALP_B1 = dfu_standard.drop('VALP', axis=1)   \n",
    "dfu_standard_VALP_B1.shape"
   ]
  },
  {
   "cell_type": "code",
   "execution_count": 24,
   "metadata": {},
   "outputs": [
    {
     "data": {
      "text/plain": [
       "(20495, 93)"
      ]
     },
     "execution_count": 24,
     "metadata": {},
     "output_type": "execute_result"
    }
   ],
   "source": [
    "# 이진값 타겟변수 VALP_B1을 데이터프레임에서 제거하고 연속형 타겟변수 VALP는 남김\n",
    "dfu_standard_VALP = dfu_standard.drop('VALP_B1', axis=1)   \n",
    "dfu_standard_VALP.shape"
   ]
  },
  {
   "cell_type": "code",
   "execution_count": 25,
   "metadata": {},
   "outputs": [],
   "source": [
    "# 데이터프레임을 csv 형태로 저장\n",
    "dfu_standard_VALP_B1.to_csv('house-standard.csv', index=False)  \n",
    "dfu_standard_VALP.to_csv('house-standard-VALP.csv', index=False) "
   ]
  },
  {
   "cell_type": "code",
   "execution_count": null,
   "metadata": {},
   "outputs": [],
   "source": []
  },
  {
   "cell_type": "markdown",
   "metadata": {},
   "source": [
    "# 스케일 로그 변환 파일 생성 및 저장"
   ]
  },
  {
   "cell_type": "code",
   "execution_count": null,
   "metadata": {},
   "outputs": [],
   "source": [
    "# StandardScaler( )에 의한 표준화하지 않은 데이터프레임인 df1을 사용한다는데 주의!"
   ]
  },
  {
   "cell_type": "code",
   "execution_count": 29,
   "metadata": {},
   "outputs": [
    {
     "data": {
      "text/plain": [
       "ELEP       490.00\n",
       "GASP       290.00\n",
       "HINCP   319000.00\n",
       "VALP    855000.00\n",
       "dtype: float64"
      ]
     },
     "execution_count": 29,
     "metadata": {},
     "output_type": "execute_result"
    }
   ],
   "source": [
    "col_money = ['ELEP', 'GASP', 'HINCP','VALP'] # 달러 표시 변수들 \n",
    "df1[col_money].max()"
   ]
  },
  {
   "cell_type": "code",
   "execution_count": 30,
   "metadata": {},
   "outputs": [
    {
     "data": {
      "text/html": [
       "<div>\n",
       "<style scoped>\n",
       "    .dataframe tbody tr th:only-of-type {\n",
       "        vertical-align: middle;\n",
       "    }\n",
       "\n",
       "    .dataframe tbody tr th {\n",
       "        vertical-align: top;\n",
       "    }\n",
       "\n",
       "    .dataframe thead th {\n",
       "        text-align: right;\n",
       "    }\n",
       "</style>\n",
       "<table border=\"1\" class=\"dataframe\">\n",
       "  <thead>\n",
       "    <tr style=\"text-align: right;\">\n",
       "      <th></th>\n",
       "      <th>ELEP</th>\n",
       "      <th>GASP</th>\n",
       "      <th>HINCP</th>\n",
       "      <th>VALP</th>\n",
       "    </tr>\n",
       "  </thead>\n",
       "  <tbody>\n",
       "    <tr>\n",
       "      <th>count</th>\n",
       "      <td>20495.00</td>\n",
       "      <td>20495.00</td>\n",
       "      <td>20495.00</td>\n",
       "      <td>20495.00</td>\n",
       "    </tr>\n",
       "    <tr>\n",
       "      <th>mean</th>\n",
       "      <td>4.92</td>\n",
       "      <td>3.34</td>\n",
       "      <td>10.95</td>\n",
       "      <td>11.69</td>\n",
       "    </tr>\n",
       "    <tr>\n",
       "      <th>std</th>\n",
       "      <td>0.62</td>\n",
       "      <td>1.32</td>\n",
       "      <td>1.13</td>\n",
       "      <td>0.80</td>\n",
       "    </tr>\n",
       "    <tr>\n",
       "      <th>min</th>\n",
       "      <td>0.69</td>\n",
       "      <td>0.69</td>\n",
       "      <td>0.00</td>\n",
       "      <td>6.91</td>\n",
       "    </tr>\n",
       "    <tr>\n",
       "      <th>25%</th>\n",
       "      <td>4.62</td>\n",
       "      <td>1.39</td>\n",
       "      <td>10.59</td>\n",
       "      <td>11.29</td>\n",
       "    </tr>\n",
       "    <tr>\n",
       "      <th>50%</th>\n",
       "      <td>4.95</td>\n",
       "      <td>3.93</td>\n",
       "      <td>11.13</td>\n",
       "      <td>11.78</td>\n",
       "    </tr>\n",
       "    <tr>\n",
       "      <th>75%</th>\n",
       "      <td>5.30</td>\n",
       "      <td>4.26</td>\n",
       "      <td>11.56</td>\n",
       "      <td>12.21</td>\n",
       "    </tr>\n",
       "    <tr>\n",
       "      <th>max</th>\n",
       "      <td>6.20</td>\n",
       "      <td>5.67</td>\n",
       "      <td>12.67</td>\n",
       "      <td>13.66</td>\n",
       "    </tr>\n",
       "  </tbody>\n",
       "</table>\n",
       "</div>"
      ],
      "text/plain": [
       "          ELEP     GASP    HINCP     VALP\n",
       "count 20495.00 20495.00 20495.00 20495.00\n",
       "mean      4.92     3.34    10.95    11.69\n",
       "std       0.62     1.32     1.13     0.80\n",
       "min       0.69     0.69     0.00     6.91\n",
       "25%       4.62     1.39    10.59    11.29\n",
       "50%       4.95     3.93    11.13    11.78\n",
       "75%       5.30     4.26    11.56    12.21\n",
       "max       6.20     5.67    12.67    13.66"
      ]
     },
     "execution_count": 30,
     "metadata": {},
     "output_type": "execute_result"
    }
   ],
   "source": [
    "df_money_log = df1[col_money].transform(lambda x: np.log(x+1))   # 데이터프레임에 로그 변환 적용 \n",
    "df_money_log.describe()"
   ]
  },
  {
   "cell_type": "code",
   "execution_count": null,
   "metadata": {},
   "outputs": [],
   "source": [
    "# 주피터 노트북 버전마다 seaborn 버전이 달라서 histplot이 작동 안할 때 다음과 같이 업데이팅!\n",
    "!pip install -U seaborn"
   ]
  },
  {
   "cell_type": "code",
   "execution_count": 31,
   "metadata": {},
   "outputs": [
    {
     "data": {
      "image/png": "[encoded data removed]",
      "text/plain": [
       "<Figure size 1296x288 with 4 Axes>"
      ]
     },
     "metadata": {
      "needs_background": "light"
     },
     "output_type": "display_data"
    }
   ],
   "source": [
    "# 로그 변환전 달러 표시 변수의 히스토그램\n",
    "from matplotlib import pyplot as plt\n",
    "import seaborn as sns\n",
    "\n",
    "fig, axes = plt.subplots(1, 4, figsize=(18, 4))\n",
    "\n",
    "sns.histplot(ax=axes[0], data=df1, x=\"ELEP\", kde=True, bins=23)\n",
    "sns.histplot(ax=axes[1], data=df1, x=\"GASP\", kde=True, bins=23)\n",
    "sns.histplot(ax=axes[2], data=df1, x=\"HINCP\", kde=True, bins=23)\n",
    "sns.histplot(ax=axes[3], data=df1, x=\"VALP\", kde=True, bins=23);"
   ]
  },
  {
   "cell_type": "code",
   "execution_count": 32,
   "metadata": {},
   "outputs": [
    {
     "data": {
      "image/png": "[encoded data removed]",
      "text/plain": [
       "<Figure size 1296x288 with 4 Axes>"
      ]
     },
     "metadata": {
      "needs_background": "light"
     },
     "output_type": "display_data"
    }
   ],
   "source": [
    "# 로그 변환후 달러 표시 변수의 히스토그램\n",
    "fig, axes = plt.subplots(1, 4, figsize=(18, 4))\n",
    "\n",
    "sns.histplot(ax=axes[0], data=df_money_log, x=\"ELEP\", kde=True, bins=23)\n",
    "sns.histplot(ax=axes[1], data=df_money_log, x=\"GASP\", kde=True, bins=23)\n",
    "sns.histplot(ax=axes[2], data=df_money_log, x=\"HINCP\", kde=True, bins=23)\n",
    "sns.histplot(ax=axes[3], data=df_money_log, x=\"VALP\", kde=True, bins=23);"
   ]
  },
  {
   "cell_type": "code",
   "execution_count": 33,
   "metadata": {},
   "outputs": [
    {
     "data": {
      "image/png": "[encoded data removed]",
      "text/plain": [
       "<Figure size 1296x288 with 4 Axes>"
      ]
     },
     "metadata": {
      "needs_background": "light"
     },
     "output_type": "display_data"
    }
   ],
   "source": [
    "# 로그 변환전 나머지 4개 구간변수 히스토그램\n",
    "fig, axes = plt.subplots(1, 4, figsize=(18, 4))\n",
    "\n",
    "sns.histplot(ax=axes[0], data=df1, x=\"AGEP\", kde=True, bins=23)\n",
    "sns.histplot(ax=axes[1], data=df1, x=\"BDSP\", kde=True, bins=23)\n",
    "sns.histplot(ax=axes[2], data=df1, x=\"NRC\", kde=True, bins=23)\n",
    "sns.histplot(ax=axes[3], data=df1, x=\"RMSP\", kde=True, bins=23);"
   ]
  },
  {
   "cell_type": "code",
   "execution_count": 34,
   "metadata": {},
   "outputs": [
    {
     "data": {
      "image/png": "[encoded data removed]",
      "text/plain": [
       "<Figure size 432x288 with 1 Axes>"
      ]
     },
     "metadata": {
      "needs_background": "light"
     },
     "output_type": "display_data"
    }
   ],
   "source": [
    "df1['AGEP_log']= df1['AGEP'].transform(lambda x: np.log(x+1))   # 로그 변환 적용\n",
    "\n",
    "sns.histplot(data=df1, x=\"AGEP_log\", kde=True, bins=23);"
   ]
  },
  {
   "cell_type": "code",
   "execution_count": 35,
   "metadata": {},
   "outputs": [
    {
     "data": {
      "text/html": [
       "<div>\n",
       "<style scoped>\n",
       "    .dataframe tbody tr th:only-of-type {\n",
       "        vertical-align: middle;\n",
       "    }\n",
       "\n",
       "    .dataframe tbody tr th {\n",
       "        vertical-align: top;\n",
       "    }\n",
       "\n",
       "    .dataframe thead th {\n",
       "        text-align: right;\n",
       "    }\n",
       "</style>\n",
       "<table border=\"1\" class=\"dataframe\">\n",
       "  <thead>\n",
       "    <tr style=\"text-align: right;\">\n",
       "      <th></th>\n",
       "      <th>AGEP</th>\n",
       "      <th>AGEP10th</th>\n",
       "    </tr>\n",
       "  </thead>\n",
       "  <tbody>\n",
       "    <tr>\n",
       "      <th>0</th>\n",
       "      <td>74</td>\n",
       "      <td>7.40</td>\n",
       "    </tr>\n",
       "    <tr>\n",
       "      <th>1</th>\n",
       "      <td>46</td>\n",
       "      <td>4.60</td>\n",
       "    </tr>\n",
       "    <tr>\n",
       "      <th>2</th>\n",
       "      <td>45</td>\n",
       "      <td>4.50</td>\n",
       "    </tr>\n",
       "  </tbody>\n",
       "</table>\n",
       "</div>"
      ],
      "text/plain": [
       "   AGEP  AGEP10th\n",
       "0    74      7.40\n",
       "1    46      4.60\n",
       "2    45      4.50"
      ]
     },
     "execution_count": 35,
     "metadata": {},
     "output_type": "execute_result"
    }
   ],
   "source": [
    "df1['AGEP10th'] = df1['AGEP']/10\n",
    "df1[['AGEP','AGEP10th']].head(3)"
   ]
  },
  {
   "cell_type": "code",
   "execution_count": 36,
   "metadata": {},
   "outputs": [],
   "source": [
    "df1.drop('AGEP_log', axis=1, inplace=True)"
   ]
  },
  {
   "cell_type": "code",
   "execution_count": 37,
   "metadata": {},
   "outputs": [],
   "source": [
    "# df1의 구간변수 중 달러 표기가 아닌 변수들을 df_num에 저장\n",
    "# 이때 기존 구간변수 AGEP를 1/10로 스케일 조정한 AGEP10th로 대체\n",
    "df_num = df1[['AGEP10th', 'BDSP', 'NRC', 'RMSP']]"
   ]
  },
  {
   "cell_type": "code",
   "execution_count": 38,
   "metadata": {},
   "outputs": [
    {
     "data": {
      "text/plain": [
       "Index(['ELEP', 'GASP', 'HINCP', 'VALP'], dtype='object')"
      ]
     },
     "execution_count": 38,
     "metadata": {},
     "output_type": "execute_result"
    }
   ],
   "source": [
    "# 달러 표기된 변수명이 df_money_log에 담겨있는지 확인\n",
    "df_money_log.columns"
   ]
  },
  {
   "cell_type": "code",
   "execution_count": 39,
   "metadata": {},
   "outputs": [
    {
     "data": {
      "text/plain": [
       "(20495, 94)"
      ]
     },
     "execution_count": 39,
     "metadata": {},
     "output_type": "execute_result"
    }
   ],
   "source": [
    "# 스케일을 변경하지 않은 구간변수를 모든 df_num, \n",
    "# 스케일을 로그변환한 구간변수를 담은 df_money_log,\n",
    "# 그리고 범주형 변수를 모은 df_cat을 병합\n",
    "dfu_log = pd.concat([df_num, df_money_log, df_cat], axis=1)\n",
    "dfu_log.shape"
   ]
  },
  {
   "cell_type": "code",
   "execution_count": 40,
   "metadata": {
    "scrolled": true
   },
   "outputs": [
    {
     "data": {
      "text/plain": [
       "Index(['AGEP10th', 'BDSP', 'NRC', 'RMSP', 'ELEP', 'GASP', 'HINCP', 'VALP',\n",
       "       'BATH', 'FESRP', 'FKITP', 'FSCHP', 'FTAXP', 'R18', 'RWAT', 'VALP_B1',\n",
       "       'ACCESS_1.0', 'ACCESS_2.0', 'ACR_1.0', 'ACR_2.0', 'BLD_2.0', 'COW_0',\n",
       "       'COW_1', 'COW_2', 'COW_3', 'COW_4', 'COW_5', 'COW_6', 'COW_7', 'COW_8',\n",
       "       'FPARC_0', 'FPARC_1', 'FPARC_2', 'FPARC_3', 'HHL_1.0', 'HHL_2.0',\n",
       "       'HHL_3.0', 'HHL_4.0', 'HHT_1.0', 'HHT_2.0', 'HHT_3.0', 'HHT_4.0',\n",
       "       'HHT_5.0', 'HHT_6.0', 'LANX_0', 'LANX_1', 'MAR_1', 'MAR_2', 'MAR_3',\n",
       "       'MAR_4', 'MV_1.0', 'MV_2.0', 'MV_3.0', 'MV_4.0', 'MV_5.0', 'MV_6.0',\n",
       "       'R65_1.0', 'R65_2.0', 'RAC1P_1', 'RAC1P_2', 'RAC1P_3', 'RAC1P_4',\n",
       "       'RAC1P_5', 'RAC1P_6', 'RAC1P_7', 'RAC1P_9', 'SCH_0', 'SCH_2', 'SCH_3',\n",
       "       'SCHL_0', 'SCHL_2', 'SCHL_3', 'SCHL_4', 'SCHL_5', 'SCHL_6', 'SCHL_7',\n",
       "       'SCHL_8', 'SCHL_9', 'SCHL_10', 'SCHL_11', 'SCHL_12', 'SCHL_13',\n",
       "       'SCHL_14', 'SCHL_15', 'SCHL_16', 'SCHL_17', 'SCHL_18', 'SCHL_19',\n",
       "       'SCHL_20', 'SCHL_21', 'SCHL_22', 'SCHL_23', 'SCHL_24', 'SEX_2'],\n",
       "      dtype='object')"
      ]
     },
     "execution_count": 40,
     "metadata": {},
     "output_type": "execute_result"
    }
   ],
   "source": [
    "# 참조 코드\n",
    "dfu_log.columns"
   ]
  },
  {
   "cell_type": "code",
   "execution_count": 41,
   "metadata": {},
   "outputs": [
    {
     "data": {
      "text/plain": [
       "(20495, 93)"
      ]
     },
     "execution_count": 41,
     "metadata": {},
     "output_type": "execute_result"
    }
   ],
   "source": [
    "# 연속형 타겟변수 VALP를 데이터프레임에서 제거하고 이진값 타겟변수 VALP_B1은 남김\n",
    "dfu_log_VALP_B1 = dfu_log.drop('VALP', axis=1)   \n",
    "dfu_log_VALP_B1.shape"
   ]
  },
  {
   "cell_type": "code",
   "execution_count": 42,
   "metadata": {},
   "outputs": [
    {
     "data": {
      "text/plain": [
       "(20495, 93)"
      ]
     },
     "execution_count": 42,
     "metadata": {},
     "output_type": "execute_result"
    }
   ],
   "source": [
    "# 이진값 타겟변수 VALP_B1을 데이터프레임에서 제거하고 연속형 타겟변수 VALP는 남김\n",
    "dfu_log_VALP = dfu_log.drop('VALP_B1', axis=1)   \n",
    "dfu_log_VALP.shape"
   ]
  },
  {
   "cell_type": "code",
   "execution_count": 43,
   "metadata": {},
   "outputs": [],
   "source": [
    "dfu_log_VALP_B1.to_csv('house-log.csv', index=False)\n",
    "dfu_log_VALP.to_csv('house-log-VALP.csv', index=False)"
   ]
  },
  {
   "cell_type": "code",
   "execution_count": null,
   "metadata": {},
   "outputs": [],
   "source": []
  }
 ],
 "metadata": {
  "kernelspec": {
   "display_name": "Python 3 (ipykernel)",
   "language": "python",
   "name": "python3"
  },
  "language_info": {
   "codemirror_mode": {
    "name": "ipython",
    "version": 3
   },
   "file_extension": ".py",
   "mimetype": "text/x-python",
   "name": "python",
   "nbconvert_exporter": "python",
   "pygments_lexer": "ipython3",
   "version": "3.9.7"
  }
 },
 "nbformat": 4,
 "nbformat_minor": 2
}
