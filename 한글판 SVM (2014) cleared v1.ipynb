{
 "cells": [
  {
   "cell_type": "code",
   "execution_count": 1,
   "metadata": {},
   "outputs": [
    {
     "data": {
      "text/plain": [
       "(12417, 193)"
      ]
     },
     "execution_count": 1,
     "metadata": {},
     "output_type": "execute_result"
    }
   ],
   "source": [
    "import pandas as pd\n",
    "import numpy as np\n",
    "df = pd.read_csv('2014DC2_dummy_indicator_friendly.csv')   \n",
    "df.shape"
   ]
  },
  {
   "cell_type": "code",
   "execution_count": 2,
   "metadata": {},
   "outputs": [
    {
     "name": "stdout",
     "output_type": "stream",
     "text": [
      "X_train2 shape: (6208, 214)\n",
      "X_test2 shape: (6209, 214)\n"
     ]
    }
   ],
   "source": [
    "# Imputation indicator가 생성됨에 주의.\n",
    "\n",
    "data = df.drop(['EBizSystem2'], axis=1)   # 타겟변수를 제외한 변수만 data 데이터프레임에 저장.\n",
    "target = df['EBizSystem2']                # 타겟변수만 target 데이터프레임에 저장.\n",
    "\n",
    "# 50:50 data partition.\n",
    "from sklearn.model_selection import train_test_split \n",
    "X_train, X_test, y_train, y_test = train_test_split( \n",
    "    data, target, test_size=0.5, random_state=42)   # test_size=0.5임에 주의. \n",
    "\n",
    "# interval 변수의 null value를 평균(mean)으로 impute 및 add_indicator 포함 \n",
    "from sklearn.impute import SimpleImputer\n",
    "imp= SimpleImputer(strategy = 'mean', add_indicator=True)  \n",
    "X_train2= imp.fit_transform(X_train) \n",
    "X_test2= imp.fit_transform(X_test)   # X_train과 and X_test 둘 다 imputation 적용해야 함에 유의.\n",
    "\n",
    "print(\"X_train2 shape:\", X_train2.shape) \n",
    "print(\"X_test2 shape:\", X_test2.shape) "
   ]
  },
  {
   "cell_type": "code",
   "execution_count": 3,
   "metadata": {},
   "outputs": [
    {
     "name": "stdout",
     "output_type": "stream",
     "text": [
      "Accuracy on training set: 0.74533\n",
      "Accuracy on test set: 0.73635\n"
     ]
    }
   ],
   "source": [
    "# linear SVM.\n",
    "\n",
    "from sklearn.svm import SVC \n",
    "svm = SVC(kernel='linear', C=1).fit(X_train2, y_train) \n",
    "\n",
    "print (\"Accuracy on training set: {:.5f}\".format(svm.score( X_train2 , y_train ))) \n",
    "print (\"Accuracy on test set: {:.5f}\".format(svm.score( X_test2 , y_test ))) "
   ]
  },
  {
   "cell_type": "code",
   "execution_count": null,
   "metadata": {},
   "outputs": [],
   "source": []
  },
  {
   "cell_type": "code",
   "execution_count": 6,
   "metadata": {},
   "outputs": [],
   "source": [
    "# SVM model (default 모델)\n",
    "\n",
    "from sklearn.svm import SVC \n",
    "from sklearn.metrics import accuracy_score\n",
    "clf_svm = SVC(kernel='rbf', C=1, gamma = 'auto', random_state=0, probability=True) \n",
    "                                                                # probability=True 에 주의.\n",
    "clf_svm.fit(X_train2, y_train)\n",
    "pred = clf_svm.predict(X_test2)  # 학습된 Classifier로 테스트 데이터셋 자료이용해서 타겟변수 예측값 생성.\n",
    "accuracy = accuracy_score(y_test, pred)"
   ]
  },
  {
   "cell_type": "code",
   "execution_count": 9,
   "metadata": {},
   "outputs": [
    {
     "name": "stdout",
     "output_type": "stream",
     "text": [
      "GridSearchCV max accuracy:0.71714\n",
      "GridSearchCV best parameter: {'C': 10, 'gamma': 'scale', 'kernel': 'rbf'}\n",
      "Runtime of the program is 531.2303531169891\n"
     ]
    }
   ],
   "source": [
    "import time\n",
    "start = time.time()\n",
    "\n",
    "from sklearn.model_selection import GridSearchCV\n",
    "params = {'kernel':['rbf','sigmoid'], 'C':[0.0001, 0.001, 0.01, 0.1, 1, 10, 100],\\\n",
    "         'gamma':['scale','auto']}\n",
    "\n",
    "grid_svm = GridSearchCV(clf_svm, param_grid=params, scoring='accuracy', cv=3, n_jobs=-1)\n",
    "grid_svm.fit(X_train2, y_train)\n",
    "\n",
    "print(\"GridSearchCV max accuracy:{:.5f}\".format(grid_svm.best_score_))\n",
    "print(\"GridSearchCV best parameter:\", (grid_svm.best_params_))\n",
    "\n",
    "end = time.time()\n",
    "print(f\"Runtime of the program is {end - start}\")"
   ]
  },
  {
   "cell_type": "code",
   "execution_count": 10,
   "metadata": {},
   "outputs": [
    {
     "name": "stdout",
     "output_type": "stream",
     "text": [
      "Accuracy on test set:0.72492\n"
     ]
    }
   ],
   "source": [
    "best_clf = grid_svm.best_estimator_\n",
    "pred = best_clf.predict(X_test2)\n",
    "print(\"Accuracy on test set:{:.5f}\".format(accuracy_score(y_test, pred)))"
   ]
  },
  {
   "cell_type": "code",
   "execution_count": null,
   "metadata": {},
   "outputs": [],
   "source": []
  },
  {
   "cell_type": "code",
   "execution_count": 7,
   "metadata": {},
   "outputs": [
    {
     "name": "stdout",
     "output_type": "stream",
     "text": [
      "GridSearchCV max accuracy:0.71972\n",
      "GridSearchCV best parameter: {'C': 0.1, 'kernel': 'linear'}\n",
      "Runtime of the program is 400.68917083740234\n"
     ]
    }
   ],
   "source": [
    "import time\n",
    "start = time.time()\n",
    "\n",
    "from sklearn.model_selection import GridSearchCV\n",
    "params = {'kernel':['linear'], 'C':[0.0001, 0.001, 0.01, 0.1, 1, 10]} \n",
    "                                # C=100을 주면 프로그램 구동이 끝없이 이어져서 부득이 해당값은 배제.  \n",
    "\n",
    "grid_svm2 = GridSearchCV(clf_svm, param_grid=params, scoring='accuracy', cv=3, n_jobs=-1)\n",
    "grid_svm2.fit(X_train2, y_train)\n",
    "\n",
    "print(\"GridSearchCV max accuracy:{:.5f}\".format(grid_svm2.best_score_))\n",
    "print(\"GridSearchCV best parameter:\", (grid_svm2.best_params_))\n",
    "\n",
    "end = time.time()\n",
    "print(f\"Runtime of the program is {end - start}\")"
   ]
  },
  {
   "cell_type": "code",
   "execution_count": 8,
   "metadata": {},
   "outputs": [
    {
     "name": "stdout",
     "output_type": "stream",
     "text": [
      "Accuracy on test set:0.73555\n",
      "ROC AUC on test set:0.79058\n"
     ]
    }
   ],
   "source": [
    "best_clf = grid_svm2.best_estimator_\n",
    "pred = best_clf.predict(X_test2)\n",
    "print(\"Accuracy on test set:{:.5f}\".format(accuracy_score(y_test, pred)))\n",
    "\n",
    "from sklearn.metrics import roc_auc_score\n",
    "ROC_AUC = roc_auc_score(y_test,best_clf.predict_proba(X_test2)[:, 1])\n",
    "print(\"ROC AUC on test set:{:.5f}\".format(ROC_AUC))"
   ]
  },
  {
   "cell_type": "code",
   "execution_count": 8,
   "metadata": {
    "collapsed": true
   },
   "outputs": [
    {
     "name": "stdout",
     "output_type": "stream",
     "text": [
      "회귀계수 [[ 4.91855948e-02  1.62280316e-02  1.63918942e-03  2.81831997e-02\n",
      "  -1.10194365e-02 -1.64127953e-02  2.37904968e-02 -4.80028045e-02\n",
      "  -3.59409264e-03  1.40587610e-02 -2.29128426e-02 -1.19322843e-02\n",
      "  -4.09133460e-02  6.45977470e-02  1.24617920e-02 -1.63342892e-02\n",
      "   1.33456189e-01  3.22110168e-02 -1.27284969e-02  6.06922117e-02\n",
      "   1.35846124e-03  7.33931205e-04 -1.08070904e-02  5.25112262e-02\n",
      "   4.14153688e-03  2.71502072e-03  4.42642847e-04 -9.43377489e-03\n",
      "  -7.66832132e-03  1.60894072e-02  1.08302641e-02  1.63286029e-02\n",
      "  -6.51998889e-03  1.18677162e-01  5.95108393e-02 -1.05762507e-02\n",
      "   2.73058668e-01 -2.10716639e-02  2.93385046e-01 -2.91641201e-01\n",
      "   9.97692520e-02  2.58649540e-01  2.22729812e-01 -1.23207942e+00\n",
      "  -1.02115200e-02 -2.36369496e-02  3.80489891e-02 -4.16475187e-01\n",
      "   1.33680015e-01  2.38777147e-01 -3.74575381e-02  9.75295529e-02\n",
      "  -8.65182682e-02  1.73038378e-01  1.42777466e-01  1.01667441e-01\n",
      "  -2.09988806e-01  7.87863119e-02  9.33365325e-02 -1.10812210e-01\n",
      "  -1.24636049e-01 -1.25580897e-01  5.80746423e-01  2.88339142e-01\n",
      "   1.97633391e-01  2.85212383e-02  2.54979018e-02 -6.73494000e-02\n",
      "  -7.12437163e-02  2.85703168e-01 -1.79692950e-01 -1.11843345e-01\n",
      "   2.31955932e-01  8.39826561e-02 -1.84069570e-01  2.05941439e-02\n",
      "   8.38217033e-02  3.29164019e-01  2.62554888e-01  4.14275539e-02\n",
      "   2.09757787e-02 -5.93992035e-02  2.72175784e-02 -2.86401925e-01\n",
      "  -5.65704453e-02  3.12493661e-02  2.00000000e-01  5.93545765e-02\n",
      "   1.95944752e-01  2.51112544e-03  1.70185048e-01  1.62308933e-01\n",
      "   2.69995162e-01  8.43688602e-02  8.72346665e-02  8.16686232e-02\n",
      "   2.37527874e-01 -7.35889841e-02  2.82108941e-02  2.77932810e-01\n",
      "  -1.00000000e-01 -4.27662402e-02 -1.00000000e-01  0.00000000e+00\n",
      "   0.00000000e+00  1.00000000e-01  3.72842487e-03 -1.00000000e-01\n",
      "   0.00000000e+00  1.00000000e-01 -1.51037288e-01 -4.88293843e-02\n",
      "  -1.00000000e-01 -2.23613865e-01  5.63019447e-02 -3.11646763e-01\n",
      "  -1.04601358e-02 -2.42380552e-01 -2.52770966e-01 -2.00000000e-01\n",
      "  -1.45204128e-02 -1.40589072e-01  2.51021488e-01  2.22947466e-02\n",
      "   1.65773730e-01  3.13844603e-01  1.26418069e-01  1.27573295e-01\n",
      "   1.51353398e-01  3.80242000e-01  1.32159510e-01  1.29153232e-01\n",
      "   4.00000000e-01 -1.75100840e-01 -2.23109751e-01 -2.00000000e-01\n",
      "  -1.25214087e-01  2.00000000e-01 -4.23115345e-02 -3.26447263e-02\n",
      "   1.00518687e-01  3.02595864e-01 -3.62210036e-01 -3.52902142e-02\n",
      "  -2.34257575e-02  0.00000000e+00  2.00113757e-01  7.20583651e-02\n",
      "   5.59122368e-02 -1.57480018e-01 -6.99056492e-02  4.94125949e-02\n",
      "   1.78513034e-01 -3.40805016e-02 -8.13380098e-02 -2.06157313e-01\n",
      "   8.45254781e-02 -1.80308336e-03 -1.24747562e-01  3.00000000e-01\n",
      "   3.50742720e-02  3.88360283e-01 -3.27370385e-01 -2.91271423e-01\n",
      "   1.04517184e-02  2.79243094e-01 -2.29267260e-01  0.00000000e+00\n",
      "  -1.92623815e-01 -7.57695547e-02  5.50029557e-02  1.35323177e-01\n",
      "  -1.61391171e-01  2.56283844e-01  6.51518349e-02  1.03728425e-01\n",
      "   0.00000000e+00  3.85186738e-01 -2.23109751e-01 -1.25214087e-01\n",
      "  -7.49562608e-02  4.09045144e-02  1.41397785e-01  1.27970602e-01\n",
      "  -1.14878550e-01 -1.23434918e-01  1.75252438e-01 -1.95207253e-01\n",
      "  -2.29267260e-01 -1.92623815e-01 -2.07665990e-02  3.53231774e-02\n",
      "  -2.20322148e-01 -1.64269597e-01 -2.08149899e-01  0.00000000e+00\n",
      "   0.00000000e+00 -2.28662114e-01  3.00000000e-01  2.85160593e-01\n",
      "  -2.80347347e-01  4.27380189e-02 -1.13036686e-03 -1.18508263e-01\n",
      "  -3.74056358e-02 -1.39362284e-01 -1.17042015e-01 -2.17042015e-01\n",
      "  -1.17042015e-01  1.82957985e-01  6.06377161e-02 -8.03473471e-02\n",
      "  -1.09526824e-01 -1.74915352e-01]]\n"
     ]
    }
   ],
   "source": [
    "print('회귀계수', best_clf.coef_)"
   ]
  },
  {
   "cell_type": "code",
   "execution_count": null,
   "metadata": {},
   "outputs": [],
   "source": []
  },
  {
   "cell_type": "code",
   "execution_count": 4,
   "metadata": {
    "collapsed": true
   },
   "outputs": [
    {
     "ename": "KeyboardInterrupt",
     "evalue": "",
     "output_type": "error",
     "traceback": [
      "\u001b[0;31m---------------------------------------------------------------------------\u001b[0m",
      "\u001b[0;31mKeyboardInterrupt\u001b[0m                         Traceback (most recent call last)",
      "\u001b[0;32m<ipython-input-4-2b274e74efc6>\u001b[0m in \u001b[0;36m<module>\u001b[0;34m\u001b[0m\n\u001b[1;32m      6\u001b[0m \u001b[0;34m\u001b[0m\u001b[0m\n\u001b[1;32m      7\u001b[0m \u001b[0mgrid_svm3\u001b[0m \u001b[0;34m=\u001b[0m \u001b[0mGridSearchCV\u001b[0m\u001b[0;34m(\u001b[0m\u001b[0mclf_svm\u001b[0m\u001b[0;34m,\u001b[0m \u001b[0mparam_grid\u001b[0m\u001b[0;34m=\u001b[0m\u001b[0mparams\u001b[0m\u001b[0;34m,\u001b[0m \u001b[0mscoring\u001b[0m\u001b[0;34m=\u001b[0m\u001b[0;34m'accuracy'\u001b[0m\u001b[0;34m,\u001b[0m \u001b[0mcv\u001b[0m\u001b[0;34m=\u001b[0m\u001b[0;36m3\u001b[0m\u001b[0;34m,\u001b[0m \u001b[0mn_jobs\u001b[0m\u001b[0;34m=\u001b[0m\u001b[0;34m-\u001b[0m\u001b[0;36m1\u001b[0m\u001b[0;34m)\u001b[0m\u001b[0;34m\u001b[0m\u001b[0;34m\u001b[0m\u001b[0m\n\u001b[0;32m----> 8\u001b[0;31m \u001b[0mgrid_svm3\u001b[0m\u001b[0;34m.\u001b[0m\u001b[0mfit\u001b[0m\u001b[0;34m(\u001b[0m\u001b[0mX_train2\u001b[0m\u001b[0;34m,\u001b[0m \u001b[0my_train\u001b[0m\u001b[0;34m)\u001b[0m\u001b[0;34m\u001b[0m\u001b[0;34m\u001b[0m\u001b[0m\n\u001b[0m\u001b[1;32m      9\u001b[0m \u001b[0;34m\u001b[0m\u001b[0m\n\u001b[1;32m     10\u001b[0m \u001b[0mprint\u001b[0m\u001b[0;34m(\u001b[0m\u001b[0;34m\"GridSearchCV max accuracy:{:.5f}\"\u001b[0m\u001b[0;34m.\u001b[0m\u001b[0mformat\u001b[0m\u001b[0;34m(\u001b[0m\u001b[0mgrid_svm3\u001b[0m\u001b[0;34m.\u001b[0m\u001b[0mbest_score_\u001b[0m\u001b[0;34m)\u001b[0m\u001b[0;34m)\u001b[0m\u001b[0;34m\u001b[0m\u001b[0;34m\u001b[0m\u001b[0m\n",
      "\u001b[0;32m~/opt/anaconda3/lib/python3.7/site-packages/sklearn/model_selection/_search.py\u001b[0m in \u001b[0;36mfit\u001b[0;34m(self, X, y, groups, **fit_params)\u001b[0m\n\u001b[1;32m    686\u001b[0m                 \u001b[0;32mreturn\u001b[0m \u001b[0mresults\u001b[0m\u001b[0;34m\u001b[0m\u001b[0;34m\u001b[0m\u001b[0m\n\u001b[1;32m    687\u001b[0m \u001b[0;34m\u001b[0m\u001b[0m\n\u001b[0;32m--> 688\u001b[0;31m             \u001b[0mself\u001b[0m\u001b[0;34m.\u001b[0m\u001b[0m_run_search\u001b[0m\u001b[0;34m(\u001b[0m\u001b[0mevaluate_candidates\u001b[0m\u001b[0;34m)\u001b[0m\u001b[0;34m\u001b[0m\u001b[0;34m\u001b[0m\u001b[0m\n\u001b[0m\u001b[1;32m    689\u001b[0m \u001b[0;34m\u001b[0m\u001b[0m\n\u001b[1;32m    690\u001b[0m         \u001b[0;31m# For multi-metric evaluation, store the best_index_, best_params_ and\u001b[0m\u001b[0;34m\u001b[0m\u001b[0;34m\u001b[0m\u001b[0;34m\u001b[0m\u001b[0m\n",
      "\u001b[0;32m~/opt/anaconda3/lib/python3.7/site-packages/sklearn/model_selection/_search.py\u001b[0m in \u001b[0;36m_run_search\u001b[0;34m(self, evaluate_candidates)\u001b[0m\n\u001b[1;32m   1147\u001b[0m     \u001b[0;32mdef\u001b[0m \u001b[0m_run_search\u001b[0m\u001b[0;34m(\u001b[0m\u001b[0mself\u001b[0m\u001b[0;34m,\u001b[0m \u001b[0mevaluate_candidates\u001b[0m\u001b[0;34m)\u001b[0m\u001b[0;34m:\u001b[0m\u001b[0;34m\u001b[0m\u001b[0;34m\u001b[0m\u001b[0m\n\u001b[1;32m   1148\u001b[0m         \u001b[0;34m\"\"\"Search all candidates in param_grid\"\"\"\u001b[0m\u001b[0;34m\u001b[0m\u001b[0;34m\u001b[0m\u001b[0m\n\u001b[0;32m-> 1149\u001b[0;31m         \u001b[0mevaluate_candidates\u001b[0m\u001b[0;34m(\u001b[0m\u001b[0mParameterGrid\u001b[0m\u001b[0;34m(\u001b[0m\u001b[0mself\u001b[0m\u001b[0;34m.\u001b[0m\u001b[0mparam_grid\u001b[0m\u001b[0;34m)\u001b[0m\u001b[0;34m)\u001b[0m\u001b[0;34m\u001b[0m\u001b[0;34m\u001b[0m\u001b[0m\n\u001b[0m\u001b[1;32m   1150\u001b[0m \u001b[0;34m\u001b[0m\u001b[0m\n\u001b[1;32m   1151\u001b[0m \u001b[0;34m\u001b[0m\u001b[0m\n",
      "\u001b[0;32m~/opt/anaconda3/lib/python3.7/site-packages/sklearn/model_selection/_search.py\u001b[0m in \u001b[0;36mevaluate_candidates\u001b[0;34m(candidate_params)\u001b[0m\n\u001b[1;32m    665\u001b[0m                                \u001b[0;32mfor\u001b[0m \u001b[0mparameters\u001b[0m\u001b[0;34m,\u001b[0m \u001b[0;34m(\u001b[0m\u001b[0mtrain\u001b[0m\u001b[0;34m,\u001b[0m \u001b[0mtest\u001b[0m\u001b[0;34m)\u001b[0m\u001b[0;34m\u001b[0m\u001b[0;34m\u001b[0m\u001b[0m\n\u001b[1;32m    666\u001b[0m                                in product(candidate_params,\n\u001b[0;32m--> 667\u001b[0;31m                                           cv.split(X, y, groups)))\n\u001b[0m\u001b[1;32m    668\u001b[0m \u001b[0;34m\u001b[0m\u001b[0m\n\u001b[1;32m    669\u001b[0m                 \u001b[0;32mif\u001b[0m \u001b[0mlen\u001b[0m\u001b[0;34m(\u001b[0m\u001b[0mout\u001b[0m\u001b[0;34m)\u001b[0m \u001b[0;34m<\u001b[0m \u001b[0;36m1\u001b[0m\u001b[0;34m:\u001b[0m\u001b[0;34m\u001b[0m\u001b[0;34m\u001b[0m\u001b[0m\n",
      "\u001b[0;32m~/opt/anaconda3/lib/python3.7/site-packages/joblib/parallel.py\u001b[0m in \u001b[0;36m__call__\u001b[0;34m(self, iterable)\u001b[0m\n\u001b[1;32m    932\u001b[0m \u001b[0;34m\u001b[0m\u001b[0m\n\u001b[1;32m    933\u001b[0m             \u001b[0;32mwith\u001b[0m \u001b[0mself\u001b[0m\u001b[0;34m.\u001b[0m\u001b[0m_backend\u001b[0m\u001b[0;34m.\u001b[0m\u001b[0mretrieval_context\u001b[0m\u001b[0;34m(\u001b[0m\u001b[0;34m)\u001b[0m\u001b[0;34m:\u001b[0m\u001b[0;34m\u001b[0m\u001b[0;34m\u001b[0m\u001b[0m\n\u001b[0;32m--> 934\u001b[0;31m                 \u001b[0mself\u001b[0m\u001b[0;34m.\u001b[0m\u001b[0mretrieve\u001b[0m\u001b[0;34m(\u001b[0m\u001b[0;34m)\u001b[0m\u001b[0;34m\u001b[0m\u001b[0;34m\u001b[0m\u001b[0m\n\u001b[0m\u001b[1;32m    935\u001b[0m             \u001b[0;31m# Make sure that we get a last message telling us we are done\u001b[0m\u001b[0;34m\u001b[0m\u001b[0;34m\u001b[0m\u001b[0;34m\u001b[0m\u001b[0m\n\u001b[1;32m    936\u001b[0m             \u001b[0melapsed_time\u001b[0m \u001b[0;34m=\u001b[0m \u001b[0mtime\u001b[0m\u001b[0;34m.\u001b[0m\u001b[0mtime\u001b[0m\u001b[0;34m(\u001b[0m\u001b[0;34m)\u001b[0m \u001b[0;34m-\u001b[0m \u001b[0mself\u001b[0m\u001b[0;34m.\u001b[0m\u001b[0m_start_time\u001b[0m\u001b[0;34m\u001b[0m\u001b[0;34m\u001b[0m\u001b[0m\n",
      "\u001b[0;32m~/opt/anaconda3/lib/python3.7/site-packages/joblib/parallel.py\u001b[0m in \u001b[0;36mretrieve\u001b[0;34m(self)\u001b[0m\n\u001b[1;32m    831\u001b[0m             \u001b[0;32mtry\u001b[0m\u001b[0;34m:\u001b[0m\u001b[0;34m\u001b[0m\u001b[0;34m\u001b[0m\u001b[0m\n\u001b[1;32m    832\u001b[0m                 \u001b[0;32mif\u001b[0m \u001b[0mgetattr\u001b[0m\u001b[0;34m(\u001b[0m\u001b[0mself\u001b[0m\u001b[0;34m.\u001b[0m\u001b[0m_backend\u001b[0m\u001b[0;34m,\u001b[0m \u001b[0;34m'supports_timeout'\u001b[0m\u001b[0;34m,\u001b[0m \u001b[0;32mFalse\u001b[0m\u001b[0;34m)\u001b[0m\u001b[0;34m:\u001b[0m\u001b[0;34m\u001b[0m\u001b[0;34m\u001b[0m\u001b[0m\n\u001b[0;32m--> 833\u001b[0;31m                     \u001b[0mself\u001b[0m\u001b[0;34m.\u001b[0m\u001b[0m_output\u001b[0m\u001b[0;34m.\u001b[0m\u001b[0mextend\u001b[0m\u001b[0;34m(\u001b[0m\u001b[0mjob\u001b[0m\u001b[0;34m.\u001b[0m\u001b[0mget\u001b[0m\u001b[0;34m(\u001b[0m\u001b[0mtimeout\u001b[0m\u001b[0;34m=\u001b[0m\u001b[0mself\u001b[0m\u001b[0;34m.\u001b[0m\u001b[0mtimeout\u001b[0m\u001b[0;34m)\u001b[0m\u001b[0;34m)\u001b[0m\u001b[0;34m\u001b[0m\u001b[0;34m\u001b[0m\u001b[0m\n\u001b[0m\u001b[1;32m    834\u001b[0m                 \u001b[0;32melse\u001b[0m\u001b[0;34m:\u001b[0m\u001b[0;34m\u001b[0m\u001b[0;34m\u001b[0m\u001b[0m\n\u001b[1;32m    835\u001b[0m                     \u001b[0mself\u001b[0m\u001b[0;34m.\u001b[0m\u001b[0m_output\u001b[0m\u001b[0;34m.\u001b[0m\u001b[0mextend\u001b[0m\u001b[0;34m(\u001b[0m\u001b[0mjob\u001b[0m\u001b[0;34m.\u001b[0m\u001b[0mget\u001b[0m\u001b[0;34m(\u001b[0m\u001b[0;34m)\u001b[0m\u001b[0;34m)\u001b[0m\u001b[0;34m\u001b[0m\u001b[0;34m\u001b[0m\u001b[0m\n",
      "\u001b[0;32m~/opt/anaconda3/lib/python3.7/site-packages/joblib/_parallel_backends.py\u001b[0m in \u001b[0;36mwrap_future_result\u001b[0;34m(future, timeout)\u001b[0m\n\u001b[1;32m    519\u001b[0m         AsyncResults.get from multiprocessing.\"\"\"\n\u001b[1;32m    520\u001b[0m         \u001b[0;32mtry\u001b[0m\u001b[0;34m:\u001b[0m\u001b[0;34m\u001b[0m\u001b[0;34m\u001b[0m\u001b[0m\n\u001b[0;32m--> 521\u001b[0;31m             \u001b[0;32mreturn\u001b[0m \u001b[0mfuture\u001b[0m\u001b[0;34m.\u001b[0m\u001b[0mresult\u001b[0m\u001b[0;34m(\u001b[0m\u001b[0mtimeout\u001b[0m\u001b[0;34m=\u001b[0m\u001b[0mtimeout\u001b[0m\u001b[0;34m)\u001b[0m\u001b[0;34m\u001b[0m\u001b[0;34m\u001b[0m\u001b[0m\n\u001b[0m\u001b[1;32m    522\u001b[0m         \u001b[0;32mexcept\u001b[0m \u001b[0mLokyTimeoutError\u001b[0m\u001b[0;34m:\u001b[0m\u001b[0;34m\u001b[0m\u001b[0;34m\u001b[0m\u001b[0m\n\u001b[1;32m    523\u001b[0m             \u001b[0;32mraise\u001b[0m \u001b[0mTimeoutError\u001b[0m\u001b[0;34m(\u001b[0m\u001b[0;34m)\u001b[0m\u001b[0;34m\u001b[0m\u001b[0;34m\u001b[0m\u001b[0m\n",
      "\u001b[0;32m~/opt/anaconda3/lib/python3.7/concurrent/futures/_base.py\u001b[0m in \u001b[0;36mresult\u001b[0;34m(self, timeout)\u001b[0m\n\u001b[1;32m    428\u001b[0m                 \u001b[0;32mreturn\u001b[0m \u001b[0mself\u001b[0m\u001b[0;34m.\u001b[0m\u001b[0m__get_result\u001b[0m\u001b[0;34m(\u001b[0m\u001b[0;34m)\u001b[0m\u001b[0;34m\u001b[0m\u001b[0;34m\u001b[0m\u001b[0m\n\u001b[1;32m    429\u001b[0m \u001b[0;34m\u001b[0m\u001b[0m\n\u001b[0;32m--> 430\u001b[0;31m             \u001b[0mself\u001b[0m\u001b[0;34m.\u001b[0m\u001b[0m_condition\u001b[0m\u001b[0;34m.\u001b[0m\u001b[0mwait\u001b[0m\u001b[0;34m(\u001b[0m\u001b[0mtimeout\u001b[0m\u001b[0;34m)\u001b[0m\u001b[0;34m\u001b[0m\u001b[0;34m\u001b[0m\u001b[0m\n\u001b[0m\u001b[1;32m    431\u001b[0m \u001b[0;34m\u001b[0m\u001b[0m\n\u001b[1;32m    432\u001b[0m             \u001b[0;32mif\u001b[0m \u001b[0mself\u001b[0m\u001b[0;34m.\u001b[0m\u001b[0m_state\u001b[0m \u001b[0;32min\u001b[0m \u001b[0;34m[\u001b[0m\u001b[0mCANCELLED\u001b[0m\u001b[0;34m,\u001b[0m \u001b[0mCANCELLED_AND_NOTIFIED\u001b[0m\u001b[0;34m]\u001b[0m\u001b[0;34m:\u001b[0m\u001b[0;34m\u001b[0m\u001b[0;34m\u001b[0m\u001b[0m\n",
      "\u001b[0;32m~/opt/anaconda3/lib/python3.7/threading.py\u001b[0m in \u001b[0;36mwait\u001b[0;34m(self, timeout)\u001b[0m\n\u001b[1;32m    294\u001b[0m         \u001b[0;32mtry\u001b[0m\u001b[0;34m:\u001b[0m    \u001b[0;31m# restore state no matter what (e.g., KeyboardInterrupt)\u001b[0m\u001b[0;34m\u001b[0m\u001b[0;34m\u001b[0m\u001b[0m\n\u001b[1;32m    295\u001b[0m             \u001b[0;32mif\u001b[0m \u001b[0mtimeout\u001b[0m \u001b[0;32mis\u001b[0m \u001b[0;32mNone\u001b[0m\u001b[0;34m:\u001b[0m\u001b[0;34m\u001b[0m\u001b[0;34m\u001b[0m\u001b[0m\n\u001b[0;32m--> 296\u001b[0;31m                 \u001b[0mwaiter\u001b[0m\u001b[0;34m.\u001b[0m\u001b[0macquire\u001b[0m\u001b[0;34m(\u001b[0m\u001b[0;34m)\u001b[0m\u001b[0;34m\u001b[0m\u001b[0;34m\u001b[0m\u001b[0m\n\u001b[0m\u001b[1;32m    297\u001b[0m                 \u001b[0mgotit\u001b[0m \u001b[0;34m=\u001b[0m \u001b[0;32mTrue\u001b[0m\u001b[0;34m\u001b[0m\u001b[0;34m\u001b[0m\u001b[0m\n\u001b[1;32m    298\u001b[0m             \u001b[0;32melse\u001b[0m\u001b[0;34m:\u001b[0m\u001b[0;34m\u001b[0m\u001b[0;34m\u001b[0m\u001b[0m\n",
      "\u001b[0;31mKeyboardInterrupt\u001b[0m: "
     ]
    }
   ],
   "source": [
    "### 단순 참조. 커널이 linear일 때 c=100을 주면 프로그램 구동이 끝없이 이어진다.\n",
    "### 아래 코드는 실행시키지 말 것.\n",
    "\n",
    "import time\n",
    "start = time.time()\n",
    "\n",
    "from sklearn.model_selection import GridSearchCV\n",
    "params = {'kernel':['linear'], 'C':[100]}\n",
    "\n",
    "grid_svm3 = GridSearchCV(clf_svm, param_grid=params, scoring='accuracy', cv=3, n_jobs=-1)\n",
    "grid_svm3.fit(X_train2, y_train)\n",
    "\n",
    "print(\"GridSearchCV max accuracy:{:.5f}\".format(grid_svm3.best_score_))\n",
    "print(\"GridSearchCV best parameter:\", (grid_svm3.best_params_))\n",
    "\n",
    "end = time.time()\n",
    "print(f\"Runtime of the program is {end - start}\")"
   ]
  },
  {
   "cell_type": "code",
   "execution_count": null,
   "metadata": {},
   "outputs": [],
   "source": []
  },
  {
   "cell_type": "code",
   "execution_count": null,
   "metadata": {},
   "outputs": [],
   "source": []
  },
  {
   "cell_type": "code",
   "execution_count": null,
   "metadata": {},
   "outputs": [],
   "source": []
  },
  {
   "cell_type": "code",
   "execution_count": null,
   "metadata": {},
   "outputs": [],
   "source": []
  }
 ],
 "metadata": {
  "kernelspec": {
   "display_name": "Python 3",
   "language": "python",
   "name": "python3"
  },
  "language_info": {
   "codemirror_mode": {
    "name": "ipython",
    "version": 3
   },
   "file_extension": ".py",
   "mimetype": "text/x-python",
   "name": "python",
   "nbconvert_exporter": "python",
   "pygments_lexer": "ipython3",
   "version": "3.7.4"
  }
 },
 "nbformat": 4,
 "nbformat_minor": 2
}
