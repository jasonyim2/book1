{
 "cells": [
  {
   "cell_type": "markdown",
   "metadata": {},
   "source": [
    "# D.2 자주 쓰이는 파이썬 기능 요약"
   ]
  },
  {
   "cell_type": "code",
   "execution_count": 1,
   "metadata": {},
   "outputs": [
    {
     "data": {
      "text/plain": [
       "(20771, 30)"
      ]
     },
     "execution_count": 1,
     "metadata": {},
     "output_type": "execute_result"
    }
   ],
   "source": [
    "import pandas as pd\n",
    "import numpy as np\n",
    "df = pd.read_csv('2017DC1.csv')   # 데이터 불러오기\n",
    "df.shape"
   ]
  },
  {
   "cell_type": "code",
   "execution_count": 2,
   "metadata": {},
   "outputs": [
    {
     "data": {
      "text/html": [
       "<div>\n",
       "<style scoped>\n",
       "    .dataframe tbody tr th:only-of-type {\n",
       "        vertical-align: middle;\n",
       "    }\n",
       "\n",
       "    .dataframe tbody tr th {\n",
       "        vertical-align: top;\n",
       "    }\n",
       "\n",
       "    .dataframe thead th {\n",
       "        text-align: right;\n",
       "    }\n",
       "</style>\n",
       "<table border=\"1\" class=\"dataframe\">\n",
       "  <thead>\n",
       "    <tr style=\"text-align: right;\">\n",
       "      <th></th>\n",
       "      <th>ACCESS</th>\n",
       "      <th>ACR</th>\n",
       "      <th>AGEP</th>\n",
       "    </tr>\n",
       "  </thead>\n",
       "  <tbody>\n",
       "    <tr>\n",
       "      <td>0</td>\n",
       "      <td>1.0</td>\n",
       "      <td>1.0</td>\n",
       "      <td>74</td>\n",
       "    </tr>\n",
       "    <tr>\n",
       "      <td>1</td>\n",
       "      <td>1.0</td>\n",
       "      <td>3.0</td>\n",
       "      <td>46</td>\n",
       "    </tr>\n",
       "    <tr>\n",
       "      <td>2</td>\n",
       "      <td>1.0</td>\n",
       "      <td>3.0</td>\n",
       "      <td>45</td>\n",
       "    </tr>\n",
       "  </tbody>\n",
       "</table>\n",
       "</div>"
      ],
      "text/plain": [
       "   ACCESS  ACR  AGEP\n",
       "0     1.0  1.0    74\n",
       "1     1.0  3.0    46\n",
       "2     1.0  3.0    45"
      ]
     },
     "execution_count": 2,
     "metadata": {},
     "output_type": "execute_result"
    }
   ],
   "source": [
    "# 컬럼 세 개 df를 생성\n",
    "df = df[['ACCESS', 'ACR', 'AGEP']]\n",
    "df.head(3)"
   ]
  },
  {
   "cell_type": "code",
   "execution_count": 3,
   "metadata": {},
   "outputs": [
    {
     "data": {
      "text/html": [
       "<div>\n",
       "<style scoped>\n",
       "    .dataframe tbody tr th:only-of-type {\n",
       "        vertical-align: middle;\n",
       "    }\n",
       "\n",
       "    .dataframe tbody tr th {\n",
       "        vertical-align: top;\n",
       "    }\n",
       "\n",
       "    .dataframe thead th {\n",
       "        text-align: right;\n",
       "    }\n",
       "</style>\n",
       "<table border=\"1\" class=\"dataframe\">\n",
       "  <thead>\n",
       "    <tr style=\"text-align: right;\">\n",
       "      <th></th>\n",
       "      <th>A</th>\n",
       "      <th>B</th>\n",
       "      <th>C</th>\n",
       "    </tr>\n",
       "  </thead>\n",
       "  <tbody>\n",
       "    <tr>\n",
       "      <td>0</td>\n",
       "      <td>1.0</td>\n",
       "      <td>1.0</td>\n",
       "      <td>74</td>\n",
       "    </tr>\n",
       "    <tr>\n",
       "      <td>1</td>\n",
       "      <td>1.0</td>\n",
       "      <td>3.0</td>\n",
       "      <td>46</td>\n",
       "    </tr>\n",
       "    <tr>\n",
       "      <td>2</td>\n",
       "      <td>1.0</td>\n",
       "      <td>3.0</td>\n",
       "      <td>45</td>\n",
       "    </tr>\n",
       "  </tbody>\n",
       "</table>\n",
       "</div>"
      ],
      "text/plain": [
       "     A    B   C\n",
       "0  1.0  1.0  74\n",
       "1  1.0  3.0  46\n",
       "2  1.0  3.0  45"
      ]
     },
     "execution_count": 3,
     "metadata": {},
     "output_type": "execute_result"
    }
   ],
   "source": [
    "# 컬럼명을 간략화 하기 위해 ACCESS, ACR, AGEP를 A, B, C로 고침\n",
    "\n",
    "df = df.rename(columns={\"ACCESS\": \"A\", \"ACR\": \"B\", \"AGEP\":\"C\"})\n",
    "df.head(3)"
   ]
  },
  {
   "cell_type": "code",
   "execution_count": 4,
   "metadata": {},
   "outputs": [
    {
     "data": {
      "text/html": [
       "<div>\n",
       "<style scoped>\n",
       "    .dataframe tbody tr th:only-of-type {\n",
       "        vertical-align: middle;\n",
       "    }\n",
       "\n",
       "    .dataframe tbody tr th {\n",
       "        vertical-align: top;\n",
       "    }\n",
       "\n",
       "    .dataframe thead th {\n",
       "        text-align: right;\n",
       "    }\n",
       "</style>\n",
       "<table border=\"1\" class=\"dataframe\">\n",
       "  <thead>\n",
       "    <tr style=\"text-align: right;\">\n",
       "      <th></th>\n",
       "      <th>A</th>\n",
       "      <th>B</th>\n",
       "      <th>C</th>\n",
       "    </tr>\n",
       "  </thead>\n",
       "  <tbody>\n",
       "    <tr>\n",
       "      <td>count</td>\n",
       "      <td>20771.000000</td>\n",
       "      <td>20771.000000</td>\n",
       "      <td>20771.000000</td>\n",
       "    </tr>\n",
       "    <tr>\n",
       "      <td>mean</td>\n",
       "      <td>1.276154</td>\n",
       "      <td>1.471475</td>\n",
       "      <td>43.267777</td>\n",
       "    </tr>\n",
       "    <tr>\n",
       "      <td>std</td>\n",
       "      <td>0.673095</td>\n",
       "      <td>0.702216</td>\n",
       "      <td>24.081518</td>\n",
       "    </tr>\n",
       "    <tr>\n",
       "      <td>min</td>\n",
       "      <td>1.000000</td>\n",
       "      <td>1.000000</td>\n",
       "      <td>0.000000</td>\n",
       "    </tr>\n",
       "    <tr>\n",
       "      <td>25%</td>\n",
       "      <td>1.000000</td>\n",
       "      <td>1.000000</td>\n",
       "      <td>21.000000</td>\n",
       "    </tr>\n",
       "    <tr>\n",
       "      <td>50%</td>\n",
       "      <td>1.000000</td>\n",
       "      <td>1.000000</td>\n",
       "      <td>46.000000</td>\n",
       "    </tr>\n",
       "    <tr>\n",
       "      <td>75%</td>\n",
       "      <td>1.000000</td>\n",
       "      <td>2.000000</td>\n",
       "      <td>63.000000</td>\n",
       "    </tr>\n",
       "    <tr>\n",
       "      <td>max</td>\n",
       "      <td>3.000000</td>\n",
       "      <td>3.000000</td>\n",
       "      <td>93.000000</td>\n",
       "    </tr>\n",
       "  </tbody>\n",
       "</table>\n",
       "</div>"
      ],
      "text/plain": [
       "                  A             B             C\n",
       "count  20771.000000  20771.000000  20771.000000\n",
       "mean       1.276154      1.471475     43.267777\n",
       "std        0.673095      0.702216     24.081518\n",
       "min        1.000000      1.000000      0.000000\n",
       "25%        1.000000      1.000000     21.000000\n",
       "50%        1.000000      1.000000     46.000000\n",
       "75%        1.000000      2.000000     63.000000\n",
       "max        3.000000      3.000000     93.000000"
      ]
     },
     "execution_count": 4,
     "metadata": {},
     "output_type": "execute_result"
    }
   ],
   "source": [
    "df.describe()"
   ]
  },
  {
   "cell_type": "code",
   "execution_count": 6,
   "metadata": {},
   "outputs": [
    {
     "data": {
      "text/plain": [
       "1.0    17664\n",
       "3.0     2629\n",
       "2.0      478\n",
       "Name: A, dtype: int64"
      ]
     },
     "execution_count": 6,
     "metadata": {},
     "output_type": "execute_result"
    }
   ],
   "source": [
    "df['A'].value_counts()"
   ]
  },
  {
   "cell_type": "code",
   "execution_count": null,
   "metadata": {},
   "outputs": [],
   "source": [
    "# pd.read_csv()                    # 원본 데이터 abc.csv 파일 불러오기\n",
    "import pandas as pd                # pandas와 numpy 라이브러리는 처음부터 같이 불러오는 것을 권장\n",
    "import numpy as np  \n",
    "df = pd.read_csv('abc.csv')        "
   ]
  },
  {
   "cell_type": "code",
   "execution_count": 8,
   "metadata": {
    "scrolled": true
   },
   "outputs": [],
   "source": [
    "# df.astype()\n",
    "df['A'] = df['A'].astype(np.int64) # 컬럼(변수) A의 dtype을 np.int64로 교체"
   ]
  },
  {
   "cell_type": "code",
   "execution_count": null,
   "metadata": {},
   "outputs": [],
   "source": [
    "# df.describe()\n",
    "df['A'].describe()                 # 컬럼 A의 요약 통계 디스플레이    "
   ]
  },
  {
   "cell_type": "code",
   "execution_count": null,
   "metadata": {},
   "outputs": [],
   "source": [
    "# df.drop()\n",
    "df.drop('C',axis=1,inplace=True)   # 컬럼 C를 데이터프레임 df에서 제거"
   ]
  },
  {
   "cell_type": "code",
   "execution_count": null,
   "metadata": {},
   "outputs": [],
   "source": [
    "# df.dtypes\n",
    "df['A'].dtypes                     # 컬럼(변수) A의 dtype 디스플레이"
   ]
  },
  {
   "cell_type": "code",
   "execution_count": 15,
   "metadata": {},
   "outputs": [],
   "source": [
    "# df.fillna(0).astype()\n",
    "df['A'] = df['A'].fillna(0).astype(np.int64)   \n",
    "                                   # 컬럼(변수) A의 결측값을 0으로 메우고 dtype을 교체"
   ]
  },
  {
   "cell_type": "code",
   "execution_count": null,
   "metadata": {},
   "outputs": [],
   "source": [
    "# df.head()\n",
    "df.head(3)                         # 데이터프레임을 3행까지 디스플레이. 숫자가 없으면 5행까지 디스플레이"
   ]
  },
  {
   "cell_type": "code",
   "execution_count": null,
   "metadata": {},
   "outputs": [],
   "source": [
    "# df.isna()\n",
    "df.isna().any()[lambda x: x]       # 결측값을 갖고 있는 변수명(컬럼명) 찾기"
   ]
  },
  {
   "cell_type": "code",
   "execution_count": null,
   "metadata": {},
   "outputs": [],
   "source": [
    "# df.isnull().mean()\n",
    "df.isnull().mean().sort_values(ascending=False) \n",
    "                                   # 데이터프레임내 모든 변수의 결측값 비율을 내림차순으로 디스플레이"
   ]
  },
  {
   "cell_type": "code",
   "execution_count": null,
   "metadata": {},
   "outputs": [],
   "source": [
    "# df.isnull.sum()\n",
    "df['A'].isnull().sum()             # 컬럼 A의 결측값 개수 디스플레이"
   ]
  },
  {
   "cell_type": "code",
   "execution_count": null,
   "metadata": {},
   "outputs": [],
   "source": [
    "# list(df.columns)\n",
    "list(df.columns)                   # 데이터프레임 df내 모든 컬럼명 디스플레이"
   ]
  },
  {
   "cell_type": "code",
   "execution_count": null,
   "metadata": {},
   "outputs": [],
   "source": [
    "# pd.DataFrame()\n",
    "df = pd.DataFrame('d')             # Series 형식인 데이터 d를 데이터프레임 df로 만들기"
   ]
  },
  {
   "cell_type": "code",
   "execution_count": null,
   "metadata": {},
   "outputs": [],
   "source": [
    "# df.replace()\n",
    "df['A'] = df['A'].replace('.',np.nan) # 컬럼 A의 점(.)을 결측값으로 표기"
   ]
  },
  {
   "cell_type": "code",
   "execution_count": null,
   "metadata": {},
   "outputs": [],
   "source": [
    "# df.shape\n",
    "df.shape                           # 데이터프레임 df의 행과 열 차원 디스플레이"
   ]
  },
  {
   "cell_type": "code",
   "execution_count": null,
   "metadata": {},
   "outputs": [],
   "source": [
    "# time.time()                      \n",
    "# 런타임 디스플레이\n",
    "\n",
    "import time\n",
    "start = time.time()\n",
    "\n",
    "# 런타임을 알고자 하는 프로그래밍 구문 삽입\n",
    "\n",
    "end = time.time()\n",
    "print(f\"Runtime of the program is {end - start}\")"
   ]
  },
  {
   "cell_type": "code",
   "execution_count": null,
   "metadata": {},
   "outputs": [],
   "source": [
    "# df.to_csv()\n",
    "df.to_csv('abc.csv', index=False)  # 데이터프레임 df를 abc.csv로 저장"
   ]
  },
  {
   "cell_type": "code",
   "execution_count": null,
   "metadata": {},
   "outputs": [],
   "source": [
    "# df.value_counts()\n",
    "df['A'].value_counts(dropna=False)                 # 컬럼 A의 값별로 개수를 디스플레이\n",
    "df['A'].value_counts(dropna=False, normalize=True) # 컬럼 A의 값별로 개수 비율을 디스플레이"
   ]
  },
  {
   "cell_type": "code",
   "execution_count": null,
   "metadata": {},
   "outputs": [],
   "source": []
  },
  {
   "cell_type": "code",
   "execution_count": null,
   "metadata": {},
   "outputs": [],
   "source": [
    "# df1.append(df2)\n",
    "df3 = df1.append(df2)        # 데이터프레임 df1과 df2를 위아래(수직) 방향으로 병합(merging)하여 df3로 저장"
   ]
  },
  {
   "cell_type": "code",
   "execution_count": 43,
   "metadata": {},
   "outputs": [],
   "source": [
    "# pd.concat(df1, df2, axis=1)\n",
    "df3 = pd.concat(df1, df2, axis=0) # 데이터프레임 df1과 df2를 위아래(수직) 방향으로 병합하여 df3로 저장\n",
    "df3 = pd.concat(df1, df2, axis=1) # 데이터프레임 df1과 df2를 옆(수평) 방향으로 병합하여 df3로 저장"
   ]
  },
  {
   "cell_type": "code",
   "execution_count": null,
   "metadata": {},
   "outputs": [],
   "source": []
  },
  {
   "cell_type": "code",
   "execution_count": null,
   "metadata": {},
   "outputs": [],
   "source": [
    "# df.loc\n",
    "# 기존 변수를 활용하여 새로운 타겟 변수 생성\n",
    "df.loc[df['A'] >= 2, \"Target\"] = 1  # 변수 A값이  2 이상이면 타겟변수 Target 값은 1\n",
    "df.loc[df['A'] <  2, \"Target\"] = 0  # 변수 A값이  2 미만이면 타겟변수 Target 값은 1\n",
    "# 참고로 위의 예에서 숫자 2는 A값의 범위 내의 그 어떤 숫자로 연구자가 대체해도 되나, \n",
    "# 대체적으로 변수 A의 분포가 정규분포에 가까우면 평균값, 그렇지 않으면 중위수를 선택해서 입력하는 것이 무난함 "
   ]
  },
  {
   "cell_type": "code",
   "execution_count": null,
   "metadata": {},
   "outputs": [],
   "source": [
    "# np.where()\n",
    "df['A_indicator'] = np.where(df['A'].isnull(),1,0)\n",
    "# SimpleImputer()의 add_indicator=True 기능으로 missing value indicator를 자동으로 생성하지 않고,\n",
    "# 데이터프레임에서 직접 missing value indicator를 수동으로 작성할 때 쓰임"
   ]
  },
  {
   "cell_type": "code",
   "execution_count": null,
   "metadata": {},
   "outputs": [],
   "source": []
  }
 ],
 "metadata": {
  "kernelspec": {
   "display_name": "Python 3 (ipykernel)",
   "language": "python",
   "name": "python3"
  },
  "language_info": {
   "codemirror_mode": {
    "name": "ipython",
    "version": 3
   },
   "file_extension": ".py",
   "mimetype": "text/x-python",
   "name": "python",
   "nbconvert_exporter": "python",
   "pygments_lexer": "ipython3",
   "version": "3.9.7"
  }
 },
 "nbformat": 4,
 "nbformat_minor": 2
}
