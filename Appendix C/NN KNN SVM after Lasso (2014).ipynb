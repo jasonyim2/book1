{
 "cells": [
  {
   "cell_type": "markdown",
   "metadata": {},
   "source": [
    "# C.7.15 라쏘 변수를 이용한 모델 재실행"
   ]
  },
  {
   "cell_type": "code",
   "execution_count": 23,
   "metadata": {},
   "outputs": [
    {
     "data": {
      "text/plain": [
       "(12417, 73)"
      ]
     },
     "execution_count": 23,
     "metadata": {},
     "output_type": "execute_result"
    }
   ],
   "source": [
    "import pandas as pd\n",
    "import numpy as np\n",
    "df = pd.read_csv('Lasso_select_ERP.csv')   \n",
    "df.shape"
   ]
  },
  {
   "cell_type": "code",
   "execution_count": 24,
   "metadata": {},
   "outputs": [
    {
     "name": "stdout",
     "output_type": "stream",
     "text": [
      "X_train2 shape: (6208, 72)\n",
      "X_test2 shape: (6209, 72)\n"
     ]
    }
   ],
   "source": [
    "# SimpleInputer의 add_indicator 옵션을 제거한 버전\n",
    "\n",
    "data = df.drop(['EBizSystem2'], axis=1)   # 타겟변수를 제외한 입력변수를 data에 저장\n",
    "target = df['EBizSystem2']                # 타겟변수만 target에 저장\n",
    "\n",
    "# 50:50 data partition.\n",
    "from sklearn.model_selection import train_test_split \n",
    "X_train, X_test, y_train, y_test = train_test_split( \n",
    "    data, target, test_size=0.5, random_state=42)   # test_size=0.5임에 주의 \n",
    "\n",
    "# interval 변수의 null value를 평균(mean)으로 impute. \n",
    "from sklearn.impute import SimpleImputer\n",
    "imp= SimpleImputer(strategy = 'mean')  \n",
    "X_train2= imp.fit_transform(X_train) \n",
    "X_test2= imp.fit_transform(X_test)   # X_train과 and X_test 둘 다 imputation 적용해야 함에 유의\n",
    "\n",
    "print(\"X_train2 shape:\", X_train2.shape) \n",
    "print(\"X_test2 shape:\", X_test2.shape) "
   ]
  },
  {
   "cell_type": "code",
   "execution_count": 25,
   "metadata": {},
   "outputs": [],
   "source": [
    "# Neural Network 모델 (Default 모델)\n",
    "from sklearn.neural_network import MLPClassifier \n",
    "from sklearn.metrics import accuracy_score\n",
    "mlp = MLPClassifier(max_iter = 1000, random_state = 0)"
   ]
  },
  {
   "cell_type": "code",
   "execution_count": 8,
   "metadata": {},
   "outputs": [
    {
     "name": "stdout",
     "output_type": "stream",
     "text": [
      "GridSearchCV max accuracy:0.66302\n",
      "GridSearchCV best parameter: {'activation': 'tanh', 'alpha': 1, 'solver': 'lbfgs'}\n"
     ]
    },
    {
     "name": "stderr",
     "output_type": "stream",
     "text": [
      "C:\\Users\\jason\\anaconda3\\lib\\site-packages\\sklearn\\neural_network\\_multilayer_perceptron.py:500: ConvergenceWarning: lbfgs failed to converge (status=1):\n",
      "STOP: TOTAL NO. of ITERATIONS REACHED LIMIT.\n",
      "\n",
      "Increase the number of iterations (max_iter) or scale the data as shown in:\n",
      "    https://scikit-learn.org/stable/modules/preprocessing.html\n",
      "  self.n_iter_ = _check_optimize_result(\"lbfgs\", opt_res, self.max_iter)\n"
     ]
    }
   ],
   "source": [
    "# 참조 코딩\n",
    "mlp = MLPClassifier(max_iter = 1000, random_state = 0)\n",
    "\n",
    "from sklearn.model_selection import GridSearchCV\n",
    "from sklearn.model_selection import StratifiedKFold  \n",
    "\n",
    "# StratifiedKFold의 random_state 옵션값을 특정 숫자(예: 0)로 고정\n",
    "cross_validation = StratifiedKFold(n_splits=3, shuffle=True, random_state=0)\n",
    "params = {'solver':['lbfgs'], 'alpha':[1],\n",
    "         'activation':['tanh','relu', 'logistic']}\n",
    "\n",
    "grid_mlp = GridSearchCV(mlp, param_grid=params, scoring='accuracy', cv=cross_validation, n_jobs=-1)\n",
    "grid_mlp.fit(X_train2, y_train)\n",
    "\n",
    "print(\"GridSearchCV max accuracy:{:.5f}\".format(grid_mlp.best_score_))\n",
    "print(\"GridSearchCV best parameter:\", (grid_mlp.best_params_)) "
   ]
  },
  {
   "cell_type": "code",
   "execution_count": 9,
   "metadata": {},
   "outputs": [
    {
     "name": "stdout",
     "output_type": "stream",
     "text": [
      "GridSearchCV max accuracy:0.72052\n",
      "GridSearchCV best parameter: {'activation': 'logistic', 'alpha': 1, 'max_iter': 1000, 'solver': 'sgd'}\n"
     ]
    }
   ],
   "source": [
    "# 참조 코딩\n",
    "mlp = MLPClassifier(max_iter = 1000, random_state = 0)\n",
    "\n",
    "from sklearn.model_selection import GridSearchCV\n",
    "from sklearn.model_selection import StratifiedKFold  \n",
    "\n",
    "# StratifiedKFold의 random_state 옵션값을 특정 숫자(예: 0)로 고정\n",
    "cross_validation = StratifiedKFold(n_splits=3, shuffle=True, random_state=0)\n",
    "params = {'solver':['sgd'], 'alpha':[1], 'max_iter':[1000],\n",
    "         'activation':['tanh','relu', 'logistic']}\n",
    "\n",
    "grid_mlp = GridSearchCV(mlp, param_grid=params, scoring='accuracy', cv=cross_validation, n_jobs=-1)\n",
    "grid_mlp.fit(X_train2, y_train)\n",
    "\n",
    "print(\"GridSearchCV max accuracy:{:.5f}\".format(grid_mlp.best_score_))\n",
    "print(\"GridSearchCV best parameter:\", (grid_mlp.best_params_)) "
   ]
  },
  {
   "cell_type": "code",
   "execution_count": 11,
   "metadata": {},
   "outputs": [
    {
     "name": "stdout",
     "output_type": "stream",
     "text": [
      "GridSearchCV max accuracy:0.71923\n",
      "GridSearchCV best parameter: {'activation': 'tanh', 'alpha': 1, 'solver': 'adam'}\n"
     ]
    }
   ],
   "source": [
    "# 참조 코딩\n",
    "mlp = MLPClassifier(max_iter = 1000, random_state = 0)\n",
    "\n",
    "from sklearn.model_selection import GridSearchCV\n",
    "from sklearn.model_selection import StratifiedKFold  \n",
    "\n",
    "# StratifiedKFold의 random_state 옵션값을 특정 숫자(예: 0)로 고정\n",
    "cross_validation = StratifiedKFold(n_splits=3, shuffle=True, random_state=0)\n",
    "params = {'solver':['adam'], 'alpha':[1],\n",
    "         'activation':['tanh','relu', 'logistic']}\n",
    "\n",
    "grid_mlp = GridSearchCV(mlp, param_grid=params, scoring='accuracy', cv=cross_validation, n_jobs=-1)\n",
    "grid_mlp.fit(X_train2, y_train)\n",
    "\n",
    "print(\"GridSearchCV max accuracy:{:.5f}\".format(grid_mlp.best_score_))\n",
    "print(\"GridSearchCV best parameter:\", (grid_mlp.best_params_)) "
   ]
  },
  {
   "cell_type": "code",
   "execution_count": 26,
   "metadata": {},
   "outputs": [
    {
     "name": "stdout",
     "output_type": "stream",
     "text": [
      "GridSearchCV max accuracy:0.72052\n",
      "GridSearchCV best parameter: {'activation': 'logistic', 'alpha': 1, 'max_iter': 1000, 'solver': 'sgd'}\n",
      "Runtime of the program is 499.63975501060486\n"
     ]
    }
   ],
   "source": [
    "import time\n",
    "start = time.time()\n",
    "\n",
    "mlp = MLPClassifier(max_iter = 1000, random_state = 0)\n",
    "\n",
    "from sklearn.model_selection import GridSearchCV\n",
    "from sklearn.model_selection import StratifiedKFold  \n",
    "\n",
    "# StratifiedKFold의 random_state 옵션값을 특정 숫자(예: 0)로 고정\n",
    "cross_validation = StratifiedKFold(n_splits=3, shuffle=True, random_state=0)\n",
    "params = {'solver':['adam','lbfgs', 'sgd'], 'alpha':[0.0001, 0.001, 0.01, 0.1, 1],\n",
    "          'max_iter':[1000],'activation':['tanh','logistic']}\n",
    "\n",
    "grid_mlp = GridSearchCV(mlp, param_grid=params, scoring='accuracy', cv=cross_validation, n_jobs=-1)\n",
    "grid_mlp.fit(X_train2, y_train)\n",
    "\n",
    "print(\"GridSearchCV max accuracy:{:.5f}\".format(grid_mlp.best_score_))\n",
    "print(\"GridSearchCV best parameter:\", (grid_mlp.best_params_)) \n",
    "\n",
    "end = time.time()\n",
    "print(f\"Runtime of the program is {end - start}\")"
   ]
  },
  {
   "cell_type": "code",
   "execution_count": 27,
   "metadata": {},
   "outputs": [
    {
     "name": "stdout",
     "output_type": "stream",
     "text": [
      "Accuracy on test set:0.72411\n",
      "ROC AUC on test set:0.78041\n"
     ]
    }
   ],
   "source": [
    "best_clf = grid_mlp.best_estimator_\n",
    "pred = best_clf.predict(X_test2)\n",
    "print(\"Accuracy on test set:{:.5f}\".format(accuracy_score(y_test, pred)))\n",
    "\n",
    "from sklearn.metrics import roc_auc_score\n",
    "ROC_AUC = roc_auc_score(y_test,best_clf.predict_proba(X_test2)[:, 1])\n",
    "print(\"ROC AUC on test set:{:.5f}\".format(ROC_AUC))"
   ]
  },
  {
   "cell_type": "code",
   "execution_count": null,
   "metadata": {},
   "outputs": [],
   "source": []
  },
  {
   "cell_type": "code",
   "execution_count": 14,
   "metadata": {},
   "outputs": [],
   "source": [
    "# KNN 모델 (Default 모델 with n_neighbors=3).\n",
    "from sklearn.neighbors import KNeighborsClassifier\n",
    "knn = KNeighborsClassifier(n_neighbors=3) # random_state 파라미터가 없음에 주의!"
   ]
  },
  {
   "cell_type": "code",
   "execution_count": 15,
   "metadata": {},
   "outputs": [
    {
     "name": "stdout",
     "output_type": "stream",
     "text": [
      "GridSearchCV max accuracy:0.68944\n",
      "GridSearchCV best parameter: {'n_neighbors': 35}\n"
     ]
    }
   ],
   "source": [
    "# GridSearchCV.\n",
    "\n",
    "from sklearn.model_selection import GridSearchCV\n",
    "from sklearn.model_selection import StratifiedKFold  \n",
    "\n",
    "# StratifiedKFold의 random_state 옵션값을 특정 숫자(예: 0)로 고정\n",
    "cross_validation = StratifiedKFold(n_splits=3, shuffle=True, random_state=0)\n",
    "params = {'n_neighbors': range(3, 51)}\n",
    "\n",
    "grid_knn = GridSearchCV(knn, param_grid=params, scoring='accuracy', cv=cross_validation, n_jobs=-1)\n",
    "grid_knn.fit(X_train2, y_train)\n",
    "\n",
    "print(\"GridSearchCV max accuracy:{:.5f}\".format(grid_knn.best_score_))\n",
    "print(\"GridSearchCV best parameter:\", (grid_knn.best_params_)) "
   ]
  },
  {
   "cell_type": "code",
   "execution_count": 16,
   "metadata": {},
   "outputs": [
    {
     "name": "stdout",
     "output_type": "stream",
     "text": [
      "Accuracy on test set:0.68578\n",
      "ROC AUC on test set:0.74090\n"
     ]
    }
   ],
   "source": [
    "best_clf = grid_knn.best_estimator_\n",
    "pred = best_clf.predict(X_test2)\n",
    "print(\"Accuracy on test set:{:.5f}\".format(accuracy_score(y_test, pred)))\n",
    "\n",
    "from sklearn.metrics import roc_auc_score\n",
    "ROC_AUC = roc_auc_score(y_test,best_clf.predict_proba(X_test2)[:, 1])\n",
    "print(\"ROC AUC on test set:{:.5f}\".format(ROC_AUC))"
   ]
  },
  {
   "cell_type": "code",
   "execution_count": null,
   "metadata": {},
   "outputs": [],
   "source": []
  },
  {
   "cell_type": "code",
   "execution_count": 17,
   "metadata": {},
   "outputs": [],
   "source": [
    "# SVM model (default 모델)\n",
    "from sklearn.svm import SVC \n",
    "svm = SVC(kernel='rbf', C=1, gamma = 'auto', random_state=0, probability=True) \n",
    "                                                             # probability=True 에 주의"
   ]
  },
  {
   "cell_type": "code",
   "execution_count": 19,
   "metadata": {},
   "outputs": [
    {
     "name": "stdout",
     "output_type": "stream",
     "text": [
      "GridSearchCV max accuracy:0.71795\n",
      "GridSearchCV best parameter: {'C': 10, 'gamma': 'scale', 'kernel': 'rbf'}\n",
      "Runtime of the program is 357.224942445755\n"
     ]
    }
   ],
   "source": [
    "# 참조 코딩\n",
    "import time\n",
    "start = time.time()\n",
    "\n",
    "# SVM model (default 모델)\n",
    "svm = SVC(kernel='rbf', C=1, gamma = 'auto', random_state=0, probability=True) \n",
    "                                                             # probability=True 에 주의\n",
    "\n",
    "from sklearn.model_selection import GridSearchCV\n",
    "from sklearn.model_selection import StratifiedKFold  \n",
    "\n",
    "# StratifiedKFold의 random_state 옵션값을 특정 숫자(예: 0)로 고정\n",
    "cross_validation = StratifiedKFold(n_splits=3, shuffle=True, random_state=0)\n",
    "params = {'kernel':['rbf','sigmoid'], 'C':[0.0001, 0.001, 0.01, 0.1, 1, 10, 100],\n",
    "         'gamma':['scale','auto']}\n",
    "\n",
    "grid_svm = GridSearchCV(svm, param_grid=params, scoring='accuracy', cv=cross_validation, n_jobs=-1)\n",
    "grid_svm.fit(X_train2, y_train)\n",
    "\n",
    "print(\"GridSearchCV max accuracy:{:.5f}\".format(grid_svm.best_score_))\n",
    "print(\"GridSearchCV best parameter:\", (grid_svm.best_params_))\n",
    "\n",
    "end = time.time()\n",
    "print(f\"Runtime of the program is {end - start}\")"
   ]
  },
  {
   "cell_type": "code",
   "execution_count": 20,
   "metadata": {},
   "outputs": [
    {
     "name": "stdout",
     "output_type": "stream",
     "text": [
      "Accuracy on test set:0.72282\n",
      "ROC AUC on test set:0.78370\n"
     ]
    }
   ],
   "source": [
    "# 참조 코딩\n",
    "best_clf = grid_svm.best_estimator_\n",
    "pred = best_clf.predict(X_test2)\n",
    "print(\"Accuracy on test set:{:.5f}\".format(accuracy_score(y_test, pred)))\n",
    "\n",
    "from sklearn.metrics import roc_auc_score\n",
    "ROC_AUC = roc_auc_score(y_test,best_clf.predict_proba(X_test2)[:, 1])\n",
    "print(\"ROC AUC on test set:{:.5f}\".format(ROC_AUC))"
   ]
  },
  {
   "cell_type": "code",
   "execution_count": 21,
   "metadata": {},
   "outputs": [
    {
     "name": "stdout",
     "output_type": "stream",
     "text": [
      "GridSearchCV max accuracy:0.72713\n",
      "GridSearchCV best parameter: {'C': 0.01, 'kernel': 'linear'}\n",
      "Runtime of the program is 317.0663228034973\n"
     ]
    }
   ],
   "source": [
    "import time\n",
    "start = time.time()\n",
    "\n",
    "# SVM model (default 모델)\n",
    "svm = SVC(kernel='rbf', C=1, gamma = 'auto', random_state=0, probability=True) \n",
    "                                                             # probability=True 에 주의\n",
    "from sklearn.model_selection import GridSearchCV\n",
    "from sklearn.model_selection import StratifiedKFold  \n",
    "\n",
    "# StratifiedKFold의 random_state 옵션값을 특정 숫자(예: 0)로 고정\n",
    "cross_validation = StratifiedKFold(n_splits=3, shuffle=True, random_state=0)\n",
    "params = {'kernel':['linear'], 'C':[0.0001, 0.001, 0.01, 0.1, 1, 10]} \n",
    "                                # C=100을 주면 프로그램 구동이 끝없이 이어져서 부득이 해당값은 배제  \n",
    "\n",
    "grid_svm2 = GridSearchCV(svm, param_grid=params, scoring='accuracy', cv=cross_validation, n_jobs=-1)\n",
    "grid_svm2.fit(X_train2, y_train)\n",
    "\n",
    "print(\"GridSearchCV max accuracy:{:.5f}\".format(grid_svm2.best_score_))\n",
    "print(\"GridSearchCV best parameter:\", (grid_svm2.best_params_))\n",
    "\n",
    "end = time.time()\n",
    "print(f\"Runtime of the program is {end - start}\")"
   ]
  },
  {
   "cell_type": "code",
   "execution_count": 22,
   "metadata": {},
   "outputs": [
    {
     "name": "stdout",
     "output_type": "stream",
     "text": [
      "Accuracy on test set:0.73297\n",
      "ROC AUC on test set:0.78946\n"
     ]
    }
   ],
   "source": [
    "best_clf = grid_svm2.best_estimator_\n",
    "pred = best_clf.predict(X_test2)\n",
    "print(\"Accuracy on test set:{:.5f}\".format(accuracy_score(y_test, pred)))\n",
    "\n",
    "from sklearn.metrics import roc_auc_score\n",
    "ROC_AUC = roc_auc_score(y_test,best_clf.predict_proba(X_test2)[:, 1])\n",
    "print(\"ROC AUC on test set:{:.5f}\".format(ROC_AUC))"
   ]
  },
  {
   "cell_type": "code",
   "execution_count": null,
   "metadata": {},
   "outputs": [],
   "source": []
  }
 ],
 "metadata": {
  "kernelspec": {
   "display_name": "Python 3 (ipykernel)",
   "language": "python",
   "name": "python3"
  },
  "language_info": {
   "codemirror_mode": {
    "name": "ipython",
    "version": 3
   },
   "file_extension": ".py",
   "mimetype": "text/x-python",
   "name": "python",
   "nbconvert_exporter": "python",
   "pygments_lexer": "ipython3",
   "version": "3.9.7"
  }
 },
 "nbformat": 4,
 "nbformat_minor": 2
}
