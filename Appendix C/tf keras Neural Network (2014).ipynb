{
 "cells": [
  {
   "cell_type": "markdown",
   "metadata": {
    "id": "ywG5GFotIpE4"
   },
   "source": [
    "# C.7.12 텐서플로 케라스 신경망 모델"
   ]
  },
  {
   "cell_type": "markdown",
   "metadata": {
    "id": "0qjWazsmIuF9"
   },
   "source": [
    "# 이 절은 구글 코랩에서 실행해야 함에 유의"
   ]
  },
  {
   "cell_type": "markdown",
   "metadata": {
    "id": "hfWMc7IjIxh_"
   },
   "source": [
    "# 2014DC2_dummy_indicator_friendly.csv 파일을 구글 드라이브에 업로딩하고 이를 구글 코랩에서 불러오기 위해서는 \u001d",
    "책 본문의 안내 사항 준수 필요"
   ]
  },
  {
   "cell_type": "code",
   "execution_count": null,
   "metadata": {
    "id": "8QNHTa1JI69K"
   },
   "outputs": [],
   "source": [
    "from google.colab import drive\n",
    "drive.mount('/content/drive')"
   ]
  },
  {
   "cell_type": "code",
   "execution_count": null,
   "metadata": {
    "colab": {
     "base_uri": "https://localhost:8080/",
     "height": 236
    },
    "executionInfo": {
     "elapsed": 995,
     "status": "ok",
     "timestamp": 1640966873451,
     "user": {
      "displayName": "Jason SJ Yim",
      "photoUrl": "https://lh3.googleusercontent.com/a/default-user=s64",
      "userId": "00334139127424328539"
     },
     "user_tz": -540
    },
    "id": "Wd-VaXQLcue8",
    "outputId": "de28ec6a-f788-464a-8984-50d03783dd24"
   },
   "outputs": [
    {
     "data": {
      "text/html": [
       "\n",
       "  <div id=\"df-4afb4f23-9b4c-4c21-af5a-5b3dbe7100e0\">\n",
       "    <div class=\"colab-df-container\">\n",
       "      <div>\n",
       "<style scoped>\n",
       "    .dataframe tbody tr th:only-of-type {\n",
       "        vertical-align: middle;\n",
       "    }\n",
       "\n",
       "    .dataframe tbody tr th {\n",
       "        vertical-align: top;\n",
       "    }\n",
       "\n",
       "    .dataframe thead th {\n",
       "        text-align: right;\n",
       "    }\n",
       "</style>\n",
       "<table border=\"1\" class=\"dataframe\">\n",
       "  <thead>\n",
       "    <tr style=\"text-align: right;\">\n",
       "      <th></th>\n",
       "      <th>Asset2</th>\n",
       "      <th>Asset7</th>\n",
       "      <th>Asset9</th>\n",
       "      <th>B2B_purchase1</th>\n",
       "      <th>Capital1</th>\n",
       "      <th>CapitalRatio1</th>\n",
       "      <th>Cost1</th>\n",
       "      <th>Cost11</th>\n",
       "      <th>Cost12</th>\n",
       "      <th>Cost13</th>\n",
       "      <th>Cost14</th>\n",
       "      <th>Cost16</th>\n",
       "      <th>Cost17</th>\n",
       "      <th>Cost2</th>\n",
       "      <th>Cost9</th>\n",
       "      <th>Design1</th>\n",
       "      <th>Emp_total</th>\n",
       "      <th>EquityShareCapital</th>\n",
       "      <th>ITAssetC</th>\n",
       "      <th>Liability2</th>\n",
       "      <th>Liability3</th>\n",
       "      <th>NProfitB4Tax</th>\n",
       "      <th>OutsourcingCost</th>\n",
       "      <th>Patent1</th>\n",
       "      <th>RNDcost1</th>\n",
       "      <th>RevProfit2</th>\n",
       "      <th>TAssetC1</th>\n",
       "      <th>TAssetC2</th>\n",
       "      <th>TAssetC3</th>\n",
       "      <th>TAssetC4</th>\n",
       "      <th>TAssetC5</th>\n",
       "      <th>TAssetC6</th>\n",
       "      <th>TAssetC8</th>\n",
       "      <th>TradeMark1</th>\n",
       "      <th>emp6</th>\n",
       "      <th>emp66</th>\n",
       "      <th>EBizSystem2</th>\n",
       "      <th>EBizSystem3</th>\n",
       "      <th>EBizSystem4</th>\n",
       "      <th>EBizSystem5</th>\n",
       "      <th>...</th>\n",
       "      <th>IndCategory2_61</th>\n",
       "      <th>IndCategory2_62</th>\n",
       "      <th>IndCategory2_63</th>\n",
       "      <th>IndCategory2_64</th>\n",
       "      <th>IndCategory2_65</th>\n",
       "      <th>IndCategory2_66</th>\n",
       "      <th>IndCategory2_68</th>\n",
       "      <th>IndCategory2_69</th>\n",
       "      <th>IndCategory2_70</th>\n",
       "      <th>IndCategory2_71</th>\n",
       "      <th>IndCategory2_72</th>\n",
       "      <th>IndCategory2_73</th>\n",
       "      <th>IndCategory2_74</th>\n",
       "      <th>IndCategory2_75</th>\n",
       "      <th>IndCategory2_85</th>\n",
       "      <th>IndCategory2_86</th>\n",
       "      <th>IndCategory2_87</th>\n",
       "      <th>IndCategory2_90</th>\n",
       "      <th>IndCategory2_91</th>\n",
       "      <th>IndCategory2_95</th>\n",
       "      <th>StockMktListing_1</th>\n",
       "      <th>StockMktListing_2</th>\n",
       "      <th>StockMktListing_4</th>\n",
       "      <th>IndCategory1_encoded_1.0</th>\n",
       "      <th>IndCategory1_encoded_2.0</th>\n",
       "      <th>IndCategory1_encoded_3.0</th>\n",
       "      <th>IndCategory1_encoded_4.0</th>\n",
       "      <th>IndCategory1_encoded_5.0</th>\n",
       "      <th>IndCategory1_encoded_6.0</th>\n",
       "      <th>IndCategory1_encoded_7.0</th>\n",
       "      <th>IndCategory1_encoded_8.0</th>\n",
       "      <th>IndCategory1_encoded_9.0</th>\n",
       "      <th>IndCategory1_encoded_10.0</th>\n",
       "      <th>IndCategory1_encoded_11.0</th>\n",
       "      <th>IndCategory1_encoded_12.0</th>\n",
       "      <th>IndCategory1_encoded_13.0</th>\n",
       "      <th>IndCategory1_encoded_14.0</th>\n",
       "      <th>IndCategory1_encoded_15.0</th>\n",
       "      <th>IndCategory1_encoded_16.0</th>\n",
       "      <th>IndCategory1_encoded_17.0</th>\n",
       "    </tr>\n",
       "  </thead>\n",
       "  <tbody>\n",
       "    <tr>\n",
       "      <th>0</th>\n",
       "      <td>9.945205</td>\n",
       "      <td>9.474088</td>\n",
       "      <td>6.298949</td>\n",
       "      <td>10.365774</td>\n",
       "      <td>10.410305</td>\n",
       "      <td>0.0</td>\n",
       "      <td>11.588830</td>\n",
       "      <td>6.167516</td>\n",
       "      <td>2.639057</td>\n",
       "      <td>3.218876</td>\n",
       "      <td>10.583625</td>\n",
       "      <td>7.522400</td>\n",
       "      <td>3.295837</td>\n",
       "      <td>9.057422</td>\n",
       "      <td>5.351858</td>\n",
       "      <td>NaN</td>\n",
       "      <td>5.476464</td>\n",
       "      <td>9.918327</td>\n",
       "      <td>0.0</td>\n",
       "      <td>10.126831</td>\n",
       "      <td>10.585801</td>\n",
       "      <td>0.000000</td>\n",
       "      <td>NaN</td>\n",
       "      <td>NaN</td>\n",
       "      <td>NaN</td>\n",
       "      <td>8.977273</td>\n",
       "      <td>6.146329</td>\n",
       "      <td>0.000000</td>\n",
       "      <td>0.000000</td>\n",
       "      <td>0.0</td>\n",
       "      <td>0.000000</td>\n",
       "      <td>4.595120</td>\n",
       "      <td>5.877736</td>\n",
       "      <td>NaN</td>\n",
       "      <td>3.688879</td>\n",
       "      <td>0.0</td>\n",
       "      <td>1</td>\n",
       "      <td>0</td>\n",
       "      <td>0</td>\n",
       "      <td>0</td>\n",
       "      <td>...</td>\n",
       "      <td>0</td>\n",
       "      <td>0</td>\n",
       "      <td>0</td>\n",
       "      <td>0</td>\n",
       "      <td>0</td>\n",
       "      <td>0</td>\n",
       "      <td>0</td>\n",
       "      <td>0</td>\n",
       "      <td>0</td>\n",
       "      <td>0</td>\n",
       "      <td>0</td>\n",
       "      <td>0</td>\n",
       "      <td>0</td>\n",
       "      <td>0</td>\n",
       "      <td>0</td>\n",
       "      <td>0</td>\n",
       "      <td>0</td>\n",
       "      <td>0</td>\n",
       "      <td>0</td>\n",
       "      <td>0</td>\n",
       "      <td>1</td>\n",
       "      <td>0</td>\n",
       "      <td>0</td>\n",
       "      <td>1</td>\n",
       "      <td>0</td>\n",
       "      <td>0</td>\n",
       "      <td>0</td>\n",
       "      <td>0</td>\n",
       "      <td>0</td>\n",
       "      <td>0</td>\n",
       "      <td>0</td>\n",
       "      <td>0</td>\n",
       "      <td>0</td>\n",
       "      <td>0</td>\n",
       "      <td>0</td>\n",
       "      <td>0</td>\n",
       "      <td>0</td>\n",
       "      <td>0</td>\n",
       "      <td>0</td>\n",
       "      <td>0</td>\n",
       "    </tr>\n",
       "    <tr>\n",
       "      <th>1</th>\n",
       "      <td>11.776105</td>\n",
       "      <td>12.201834</td>\n",
       "      <td>9.355133</td>\n",
       "      <td>11.795771</td>\n",
       "      <td>12.966430</td>\n",
       "      <td>0.0</td>\n",
       "      <td>12.199682</td>\n",
       "      <td>7.108244</td>\n",
       "      <td>2.484907</td>\n",
       "      <td>0.000000</td>\n",
       "      <td>11.231358</td>\n",
       "      <td>7.021084</td>\n",
       "      <td>7.058758</td>\n",
       "      <td>10.823890</td>\n",
       "      <td>7.142827</td>\n",
       "      <td>0.000000</td>\n",
       "      <td>6.318968</td>\n",
       "      <td>8.987322</td>\n",
       "      <td>0.0</td>\n",
       "      <td>10.964952</td>\n",
       "      <td>9.896866</td>\n",
       "      <td>10.177096</td>\n",
       "      <td>5.105945</td>\n",
       "      <td>0.000000</td>\n",
       "      <td>NaN</td>\n",
       "      <td>10.164081</td>\n",
       "      <td>4.875197</td>\n",
       "      <td>0.000000</td>\n",
       "      <td>0.000000</td>\n",
       "      <td>0.0</td>\n",
       "      <td>0.000000</td>\n",
       "      <td>0.000000</td>\n",
       "      <td>4.488636</td>\n",
       "      <td>1.791759</td>\n",
       "      <td>5.068904</td>\n",
       "      <td>0.0</td>\n",
       "      <td>1</td>\n",
       "      <td>0</td>\n",
       "      <td>0</td>\n",
       "      <td>0</td>\n",
       "      <td>...</td>\n",
       "      <td>0</td>\n",
       "      <td>0</td>\n",
       "      <td>0</td>\n",
       "      <td>0</td>\n",
       "      <td>0</td>\n",
       "      <td>0</td>\n",
       "      <td>0</td>\n",
       "      <td>0</td>\n",
       "      <td>0</td>\n",
       "      <td>0</td>\n",
       "      <td>0</td>\n",
       "      <td>0</td>\n",
       "      <td>0</td>\n",
       "      <td>0</td>\n",
       "      <td>0</td>\n",
       "      <td>0</td>\n",
       "      <td>0</td>\n",
       "      <td>0</td>\n",
       "      <td>0</td>\n",
       "      <td>0</td>\n",
       "      <td>1</td>\n",
       "      <td>0</td>\n",
       "      <td>0</td>\n",
       "      <td>1</td>\n",
       "      <td>0</td>\n",
       "      <td>0</td>\n",
       "      <td>0</td>\n",
       "      <td>0</td>\n",
       "      <td>0</td>\n",
       "      <td>0</td>\n",
       "      <td>0</td>\n",
       "      <td>0</td>\n",
       "      <td>0</td>\n",
       "      <td>0</td>\n",
       "      <td>0</td>\n",
       "      <td>0</td>\n",
       "      <td>0</td>\n",
       "      <td>0</td>\n",
       "      <td>0</td>\n",
       "      <td>0</td>\n",
       "    </tr>\n",
       "    <tr>\n",
       "      <th>2</th>\n",
       "      <td>9.295325</td>\n",
       "      <td>9.871119</td>\n",
       "      <td>3.218876</td>\n",
       "      <td>10.485033</td>\n",
       "      <td>9.842144</td>\n",
       "      <td>0.0</td>\n",
       "      <td>11.471541</td>\n",
       "      <td>6.184149</td>\n",
       "      <td>1.098612</td>\n",
       "      <td>0.000000</td>\n",
       "      <td>10.752313</td>\n",
       "      <td>7.288244</td>\n",
       "      <td>3.526361</td>\n",
       "      <td>8.491260</td>\n",
       "      <td>0.000000</td>\n",
       "      <td>0.693147</td>\n",
       "      <td>4.919981</td>\n",
       "      <td>7.937732</td>\n",
       "      <td>0.0</td>\n",
       "      <td>10.959662</td>\n",
       "      <td>7.610358</td>\n",
       "      <td>7.932003</td>\n",
       "      <td>0.000000</td>\n",
       "      <td>1.098612</td>\n",
       "      <td>NaN</td>\n",
       "      <td>8.201386</td>\n",
       "      <td>5.726848</td>\n",
       "      <td>4.770685</td>\n",
       "      <td>0.693147</td>\n",
       "      <td>0.0</td>\n",
       "      <td>5.056246</td>\n",
       "      <td>2.890372</td>\n",
       "      <td>0.000000</td>\n",
       "      <td>3.258097</td>\n",
       "      <td>3.951244</td>\n",
       "      <td>0.0</td>\n",
       "      <td>1</td>\n",
       "      <td>0</td>\n",
       "      <td>0</td>\n",
       "      <td>0</td>\n",
       "      <td>...</td>\n",
       "      <td>0</td>\n",
       "      <td>0</td>\n",
       "      <td>0</td>\n",
       "      <td>0</td>\n",
       "      <td>0</td>\n",
       "      <td>0</td>\n",
       "      <td>0</td>\n",
       "      <td>0</td>\n",
       "      <td>0</td>\n",
       "      <td>0</td>\n",
       "      <td>0</td>\n",
       "      <td>0</td>\n",
       "      <td>0</td>\n",
       "      <td>0</td>\n",
       "      <td>0</td>\n",
       "      <td>0</td>\n",
       "      <td>0</td>\n",
       "      <td>0</td>\n",
       "      <td>0</td>\n",
       "      <td>0</td>\n",
       "      <td>0</td>\n",
       "      <td>0</td>\n",
       "      <td>0</td>\n",
       "      <td>1</td>\n",
       "      <td>0</td>\n",
       "      <td>0</td>\n",
       "      <td>0</td>\n",
       "      <td>0</td>\n",
       "      <td>0</td>\n",
       "      <td>0</td>\n",
       "      <td>0</td>\n",
       "      <td>0</td>\n",
       "      <td>0</td>\n",
       "      <td>0</td>\n",
       "      <td>0</td>\n",
       "      <td>0</td>\n",
       "      <td>0</td>\n",
       "      <td>0</td>\n",
       "      <td>0</td>\n",
       "      <td>0</td>\n",
       "    </tr>\n",
       "  </tbody>\n",
       "</table>\n",
       "<p>3 rows × 193 columns</p>\n",
       "</div>\n",
       "      <button class=\"colab-df-convert\" onclick=\"convertToInteractive('df-4afb4f23-9b4c-4c21-af5a-5b3dbe7100e0')\"\n",
       "              title=\"Convert this dataframe to an interactive table.\"\n",
       "              style=\"display:none;\">\n",
       "        \n",
       "  <svg xmlns=\"http://www.w3.org/2000/svg\" height=\"24px\"viewBox=\"0 0 24 24\"\n",
       "       width=\"24px\">\n",
       "    <path d=\"M0 0h24v24H0V0z\" fill=\"none\"/>\n",
       "    <path d=\"M18.56 5.44l.94 2.06.94-2.06 2.06-.94-2.06-.94-.94-2.06-.94 2.06-2.06.94zm-11 1L8.5 8.5l.94-2.06 2.06-.94-2.06-.94L8.5 2.5l-.94 2.06-2.06.94zm10 10l.94 2.06.94-2.06 2.06-.94-2.06-.94-.94-2.06-.94 2.06-2.06.94z\"/><path d=\"M17.41 7.96l-1.37-1.37c-.4-.4-.92-.59-1.43-.59-.52 0-1.04.2-1.43.59L10.3 9.45l-7.72 7.72c-.78.78-.78 2.05 0 2.83L4 21.41c.39.39.9.59 1.41.59.51 0 1.02-.2 1.41-.59l7.78-7.78 2.81-2.81c.8-.78.8-2.07 0-2.86zM5.41 20L4 18.59l7.72-7.72 1.47 1.35L5.41 20z\"/>\n",
       "  </svg>\n",
       "      </button>\n",
       "      \n",
       "  <style>\n",
       "    .colab-df-container {\n",
       "      display:flex;\n",
       "      flex-wrap:wrap;\n",
       "      gap: 12px;\n",
       "    }\n",
       "\n",
       "    .colab-df-convert {\n",
       "      background-color: #E8F0FE;\n",
       "      border: none;\n",
       "      border-radius: 50%;\n",
       "      cursor: pointer;\n",
       "      display: none;\n",
       "      fill: #1967D2;\n",
       "      height: 32px;\n",
       "      padding: 0 0 0 0;\n",
       "      width: 32px;\n",
       "    }\n",
       "\n",
       "    .colab-df-convert:hover {\n",
       "      background-color: #E2EBFA;\n",
       "      box-shadow: 0px 1px 2px rgba(60, 64, 67, 0.3), 0px 1px 3px 1px rgba(60, 64, 67, 0.15);\n",
       "      fill: #174EA6;\n",
       "    }\n",
       "\n",
       "    [theme=dark] .colab-df-convert {\n",
       "      background-color: #3B4455;\n",
       "      fill: #D2E3FC;\n",
       "    }\n",
       "\n",
       "    [theme=dark] .colab-df-convert:hover {\n",
       "      background-color: #434B5C;\n",
       "      box-shadow: 0px 1px 3px 1px rgba(0, 0, 0, 0.15);\n",
       "      filter: drop-shadow(0px 1px 2px rgba(0, 0, 0, 0.3));\n",
       "      fill: #FFFFFF;\n",
       "    }\n",
       "  </style>\n",
       "\n",
       "      <script>\n",
       "        const buttonEl =\n",
       "          document.querySelector('#df-4afb4f23-9b4c-4c21-af5a-5b3dbe7100e0 button.colab-df-convert');\n",
       "        buttonEl.style.display =\n",
       "          google.colab.kernel.accessAllowed ? 'block' : 'none';\n",
       "\n",
       "        async function convertToInteractive(key) {\n",
       "          const element = document.querySelector('#df-4afb4f23-9b4c-4c21-af5a-5b3dbe7100e0');\n",
       "          const dataTable =\n",
       "            await google.colab.kernel.invokeFunction('convertToInteractive',\n",
       "                                                     [key], {});\n",
       "          if (!dataTable) return;\n",
       "\n",
       "          const docLinkHtml = 'Like what you see? Visit the ' +\n",
       "            '<a target=\"_blank\" href=https://colab.research.google.com/notebooks/data_table.ipynb>data table notebook</a>'\n",
       "            + ' to learn more about interactive tables.';\n",
       "          element.innerHTML = '';\n",
       "          dataTable['output_type'] = 'display_data';\n",
       "          await google.colab.output.renderOutput(dataTable, element);\n",
       "          const docLink = document.createElement('div');\n",
       "          docLink.innerHTML = docLinkHtml;\n",
       "          element.appendChild(docLink);\n",
       "        }\n",
       "      </script>\n",
       "    </div>\n",
       "  </div>\n",
       "  "
      ],
      "text/plain": [
       "      Asset2     Asset7  ...  IndCategory1_encoded_16.0  IndCategory1_encoded_17.0\n",
       "0   9.945205   9.474088  ...                          0                          0\n",
       "1  11.776105  12.201834  ...                          0                          0\n",
       "2   9.295325   9.871119  ...                          0                          0\n",
       "\n",
       "[3 rows x 193 columns]"
      ]
     },
     "execution_count": 18,
     "metadata": {},
     "output_type": "execute_result"
    }
   ],
   "source": [
    "import pandas as pd\n",
    "import numpy as np\n",
    "df = pd.read_csv('/content/drive/MyDrive/Data/2014DC2_dummy_indicator_friendly.csv')\n",
    "df.head(3)"
   ]
  },
  {
   "cell_type": "code",
   "execution_count": null,
   "metadata": {
    "colab": {
     "base_uri": "https://localhost:8080/"
    },
    "executionInfo": {
     "elapsed": 3,
     "status": "ok",
     "timestamp": 1640960904669,
     "user": {
      "displayName": "Jason SJ Yim",
      "photoUrl": "https://lh3.googleusercontent.com/a/default-user=s64",
      "userId": "00334139127424328539"
     },
     "user_tz": -540
    },
    "id": "KwmGHzfTRDx-",
    "outputId": "fc300586-3d20-4524-de8d-5320d19ea56c"
   },
   "outputs": [
    {
     "data": {
      "text/plain": [
       "(12417, 193)"
      ]
     },
     "execution_count": 3,
     "metadata": {},
     "output_type": "execute_result"
    }
   ],
   "source": [
    "df.shape"
   ]
  },
  {
   "cell_type": "code",
   "execution_count": null,
   "metadata": {
    "colab": {
     "base_uri": "https://localhost:8080/"
    },
    "executionInfo": {
     "elapsed": 410,
     "status": "ok",
     "timestamp": 1640960929609,
     "user": {
      "displayName": "Jason SJ Yim",
      "photoUrl": "https://lh3.googleusercontent.com/a/default-user=s64",
      "userId": "00334139127424328539"
     },
     "user_tz": -540
    },
    "id": "Znqs1P77_evY",
    "outputId": "6af723f8-af7e-403f-d3b4-010ee914069f"
   },
   "outputs": [
    {
     "data": {
      "text/plain": [
       "Asset2                          0\n",
       "Asset7                       1528\n",
       "Asset9                       3521\n",
       "B2B_purchase1                3247\n",
       "Capital1                        0\n",
       "                             ... \n",
       "IndCategory1_encoded_13.0       0\n",
       "IndCategory1_encoded_14.0       0\n",
       "IndCategory1_encoded_15.0       0\n",
       "IndCategory1_encoded_16.0       0\n",
       "IndCategory1_encoded_17.0       0\n",
       "Length: 193, dtype: int64"
      ]
     },
     "execution_count": 4,
     "metadata": {},
     "output_type": "execute_result"
    }
   ],
   "source": [
    "df.isnull().sum()"
   ]
  },
  {
   "cell_type": "code",
   "execution_count": null,
   "metadata": {
    "colab": {
     "base_uri": "https://localhost:8080/"
    },
    "executionInfo": {
     "elapsed": 421,
     "status": "ok",
     "timestamp": 1640960934074,
     "user": {
      "displayName": "Jason SJ Yim",
      "photoUrl": "https://lh3.googleusercontent.com/a/default-user=s64",
      "userId": "00334139127424328539"
     },
     "user_tz": -540
    },
    "id": "WJJbU27f_wrY",
    "outputId": "a3dfa7b6-f715-48d0-b106-86959d49e786"
   },
   "outputs": [
    {
     "data": {
      "text/plain": [
       "Asset7             True\n",
       "Asset9             True\n",
       "B2B_purchase1      True\n",
       "Cost12             True\n",
       "Cost13             True\n",
       "Cost16             True\n",
       "Cost17             True\n",
       "Design1            True\n",
       "ITAssetC           True\n",
       "Liability3         True\n",
       "OutsourcingCost    True\n",
       "Patent1            True\n",
       "RNDcost1           True\n",
       "TAssetC1           True\n",
       "TAssetC2           True\n",
       "TAssetC3           True\n",
       "TAssetC4           True\n",
       "TAssetC5           True\n",
       "TAssetC6           True\n",
       "TAssetC8           True\n",
       "TradeMark1         True\n",
       "emp66              True\n",
       "dtype: bool"
      ]
     },
     "execution_count": 5,
     "metadata": {},
     "output_type": "execute_result"
    }
   ],
   "source": [
    "df.isna().any()[lambda x: x]   # 결측값을 갖고 있는 변수명(컬럼명) 찾기"
   ]
  },
  {
   "cell_type": "code",
   "execution_count": null,
   "metadata": {
    "colab": {
     "base_uri": "https://localhost:8080/"
    },
    "executionInfo": {
     "elapsed": 416,
     "status": "ok",
     "timestamp": 1640967714259,
     "user": {
      "displayName": "Jason SJ Yim",
      "photoUrl": "https://lh3.googleusercontent.com/a/default-user=s64",
      "userId": "00334139127424328539"
     },
     "user_tz": -540
    },
    "id": "MZIVxusCB2X1",
    "outputId": "2e8ae47a-a41a-4f7a-c42d-d6aa2be1b416"
   },
   "outputs": [
    {
     "name": "stdout",
     "output_type": "stream",
     "text": [
      "X_train2 shape: (6208, 214)\n",
      "X_test2 shape: (6209, 214)\n"
     ]
    }
   ],
   "source": [
    "# Imputation indicator가 생성됨에 주의\n",
    "\n",
    "data = df.drop(['EBizSystem2'], axis=1)   # 타겟변수를 제외한 입력변수를 data에 저장\n",
    "target = df['EBizSystem2']                # 타겟변수만 target에 저장\n",
    "\n",
    "# 50:50 data partition\n",
    "from sklearn.model_selection import train_test_split \n",
    "X_train, X_test, y_train, y_test = train_test_split( \n",
    "    data, target, test_size=0.5, random_state=42)   # test_size=0.5임에 주의 \n",
    "\n",
    "# interval 변수의 null value를 평균(mean)으로 impute 및 add_indicator 포함 \n",
    "from sklearn.impute import SimpleImputer\n",
    "imp= SimpleImputer(strategy = 'mean', add_indicator=True)  \n",
    "X_train2= imp.fit_transform(X_train) \n",
    "X_test2= imp.fit_transform(X_test)   # X_train과 and X_test 둘 다 imputation 적용해야 함에 유의\n",
    "\n",
    "print(\"X_train2 shape:\", X_train2.shape) \n",
    "print(\"X_test2 shape:\", X_test2.shape) "
   ]
  },
  {
   "cell_type": "code",
   "execution_count": null,
   "metadata": {
    "colab": {
     "base_uri": "https://localhost:8080/"
    },
    "executionInfo": {
     "elapsed": 437,
     "status": "ok",
     "timestamp": 1640961241330,
     "user": {
      "displayName": "Jason SJ Yim",
      "photoUrl": "https://lh3.googleusercontent.com/a/default-user=s64",
      "userId": "00334139127424328539"
     },
     "user_tz": -540
    },
    "id": "ON8B0uou6UDZ",
    "outputId": "1ce360fe-5e0e-4541-c6c0-8153ee9f7adb"
   },
   "outputs": [
    {
     "data": {
      "text/plain": [
       "numpy.ndarray"
      ]
     },
     "execution_count": 7,
     "metadata": {},
     "output_type": "execute_result"
    }
   ],
   "source": [
    "type(X_train2)"
   ]
  },
  {
   "cell_type": "code",
   "execution_count": null,
   "metadata": {
    "colab": {
     "base_uri": "https://localhost:8080/"
    },
    "executionInfo": {
     "elapsed": 427,
     "status": "ok",
     "timestamp": 1640961405115,
     "user": {
      "displayName": "Jason SJ Yim",
      "photoUrl": "https://lh3.googleusercontent.com/a/default-user=s64",
      "userId": "00334139127424328539"
     },
     "user_tz": -540
    },
    "id": "S9mI55kt68H0",
    "outputId": "23428179-8c44-4367-ce3b-acd2af0ed943"
   },
   "outputs": [
    {
     "data": {
      "text/plain": [
       "pandas.core.series.Series"
      ]
     },
     "execution_count": 8,
     "metadata": {},
     "output_type": "execute_result"
    }
   ],
   "source": [
    "type(y_train)"
   ]
  },
  {
   "cell_type": "code",
   "execution_count": null,
   "metadata": {
    "id": "UrQ86Dq2657q"
   },
   "outputs": [],
   "source": [
    "y_train_np = y_train.to_numpy()\n",
    "y_test_np = y_test.to_numpy()"
   ]
  },
  {
   "cell_type": "code",
   "execution_count": null,
   "metadata": {
    "colab": {
     "base_uri": "https://localhost:8080/"
    },
    "executionInfo": {
     "elapsed": 414,
     "status": "ok",
     "timestamp": 1640961591367,
     "user": {
      "displayName": "Jason SJ Yim",
      "photoUrl": "https://lh3.googleusercontent.com/a/default-user=s64",
      "userId": "00334139127424328539"
     },
     "user_tz": -540
    },
    "id": "FAfHze5T-DWx",
    "outputId": "e740d987-2478-4ae0-ea05-9555b0674520"
   },
   "outputs": [
    {
     "name": "stdout",
     "output_type": "stream",
     "text": [
      "[[8.24170316 6.77992191 5.48506567 ... 0.         0.         0.        ]\n",
      " [7.79028238 2.94443898 4.58496748 ... 0.         0.         0.        ]\n",
      " [8.79346036 5.63835467 4.39444915 ... 0.         0.         1.        ]\n",
      " ...\n",
      " [8.6881167  7.00578902 5.25749537 ... 0.         0.         0.        ]\n",
      " [9.49280888 6.48463524 6.99850964 ... 0.         0.         0.        ]\n",
      " [8.45977592 7.34601021 5.48506567 ... 0.         0.         0.        ]]\n"
     ]
    }
   ],
   "source": [
    "# 참조 코딩\n",
    "print(X_train2) "
   ]
  },
  {
   "cell_type": "code",
   "execution_count": null,
   "metadata": {
    "colab": {
     "base_uri": "https://localhost:8080/"
    },
    "executionInfo": {
     "elapsed": 416,
     "status": "ok",
     "timestamp": 1640961605662,
     "user": {
      "displayName": "Jason SJ Yim",
      "photoUrl": "https://lh3.googleusercontent.com/a/default-user=s64",
      "userId": "00334139127424328539"
     },
     "user_tz": -540
    },
    "id": "zo2AiSRmeSlD",
    "outputId": "04ec37cd-501c-4681-d79a-61c5e7d7c328"
   },
   "outputs": [
    {
     "data": {
      "text/plain": [
       "(6208, 214)"
      ]
     },
     "execution_count": 12,
     "metadata": {},
     "output_type": "execute_result"
    }
   ],
   "source": [
    "# 참조 코딩\n",
    "X_train2.shape"
   ]
  },
  {
   "cell_type": "code",
   "execution_count": null,
   "metadata": {
    "colab": {
     "base_uri": "https://localhost:8080/"
    },
    "executionInfo": {
     "elapsed": 415,
     "status": "ok",
     "timestamp": 1640961615737,
     "user": {
      "displayName": "Jason SJ Yim",
      "photoUrl": "https://lh3.googleusercontent.com/a/default-user=s64",
      "userId": "00334139127424328539"
     },
     "user_tz": -540
    },
    "id": "WzJVyUAR-Lmj",
    "outputId": "116d5a36-2346-4a4b-8807-8a40212415d2"
   },
   "outputs": [
    {
     "name": "stdout",
     "output_type": "stream",
     "text": [
      "[0 1 0 ... 1 1 1]\n"
     ]
    }
   ],
   "source": [
    "# 참조 코딩\n",
    "print(y_train_np)"
   ]
  },
  {
   "cell_type": "code",
   "execution_count": null,
   "metadata": {
    "id": "MMYt0n8QjcQd"
   },
   "outputs": [],
   "source": [
    "import tensorflow as tf\n",
    "from tensorflow.keras import layers"
   ]
  },
  {
   "cell_type": "code",
   "execution_count": null,
   "metadata": {
    "id": "1l-LpDGljsgj"
   },
   "outputs": [],
   "source": [
    "# 은닉 층 활성화 함수 relu, 옵티마이저 adam, input_shape 지정시\n",
    "# 매번 결과가 미묘하게 다른 것은 초기에 가중치 조건 등이 달라지는 것에 기인\n",
    "model = tf.keras.Sequential([\n",
    "  layers.Dense(100, activation='relu', input_shape=(214,)),\n",
    "  layers.Dropout(.5),\n",
    "  layers.Dense(100, activation='relu'),\n",
    "  layers.Dropout(.5),\n",
    "  layers.Dense(1, activation = 'sigmoid')\n",
    "])\n",
    "\n",
    "model.compile(optimizer='adam',\n",
    "              loss=tf.keras.losses.BinaryCrossentropy(),\n",
    "              metrics=['accuracy'])"
   ]
  },
  {
   "cell_type": "code",
   "execution_count": null,
   "metadata": {
    "colab": {
     "base_uri": "https://localhost:8080/"
    },
    "executionInfo": {
     "elapsed": 251,
     "status": "ok",
     "timestamp": 1630511926845,
     "user": {
      "displayName": "Jason SJ Yim",
      "photoUrl": "",
      "userId": "00334139127424328539"
     },
     "user_tz": -540
    },
    "id": "Nhk6GqDtji8d",
    "outputId": "09fd1955-53e6-4d5e-9278-c3c16214c916"
   },
   "outputs": [
    {
     "name": "stdout",
     "output_type": "stream",
     "text": [
      "Model: \"sequential\"\n",
      "_________________________________________________________________\n",
      "Layer (type)                 Output Shape              Param #   \n",
      "=================================================================\n",
      "dense (Dense)                (None, 100)               21500     \n",
      "_________________________________________________________________\n",
      "dropout (Dropout)            (None, 100)               0         \n",
      "_________________________________________________________________\n",
      "dense_1 (Dense)              (None, 100)               10100     \n",
      "_________________________________________________________________\n",
      "dropout_1 (Dropout)          (None, 100)               0         \n",
      "_________________________________________________________________\n",
      "dense_2 (Dense)              (None, 1)                 101       \n",
      "=================================================================\n",
      "Total params: 31,701\n",
      "Trainable params: 31,701\n",
      "Non-trainable params: 0\n",
      "_________________________________________________________________\n"
     ]
    }
   ],
   "source": [
    "model.summary()"
   ]
  },
  {
   "cell_type": "code",
   "execution_count": null,
   "metadata": {
    "id": "DiMuWqgMj3Hr"
   },
   "outputs": [],
   "source": [
    "# 활성화 함수 relu, 옵티마이저 adam\n",
    "model = tf.keras.Sequential([\n",
    "  layers.Dense(100, activation='relu'),\n",
    "  layers.Dropout(.5),\n",
    "  layers.Dense(100, activation='relu'),\n",
    "  layers.Dropout(.5),\n",
    "  layers.Dense(1, activation = 'sigmoid')\n",
    "])\n",
    "\n",
    "model.compile(optimizer='adam',\n",
    "              loss=tf.keras.losses.BinaryCrossentropy(),\n",
    "              metrics=['accuracy'])"
   ]
  },
  {
   "cell_type": "code",
   "execution_count": null,
   "metadata": {
    "id": "VmltMrEbj3lR"
   },
   "outputs": [],
   "source": []
  },
  {
   "cell_type": "code",
   "execution_count": null,
   "metadata": {
    "id": "1nmHcc4-Vak4"
   },
   "outputs": [],
   "source": [
    "# tf.keras는 옵티마이저로 adam과 sgd을 제공\n",
    "# tf.keras의 활성화 함수 중 relu와 tanh를 고려. tf.keras는 활성화 함수로 logistic을 두지 않음에 유의\n",
    "\n",
    "# 2개의 옵티마이저, 2개의 활성화 함수의 각 조합을 각기 5회씩 실행"
   ]
  },
  {
   "cell_type": "code",
   "execution_count": null,
   "metadata": {
    "id": "_A8zacStqHg9"
   },
   "outputs": [],
   "source": [
    "### 활성화 함수 및 옵티마이저 조합 성능 비교"
   ]
  },
  {
   "cell_type": "code",
   "execution_count": null,
   "metadata": {
    "id": "b56JGD0JhhVT"
   },
   "outputs": [],
   "source": [
    "import random as python_random\n",
    "\n",
    "np.random.seed(123)\n",
    "python_random.seed(123)\n",
    "tf.random.set_seed(1234)"
   ]
  },
  {
   "cell_type": "code",
   "execution_count": null,
   "metadata": {
    "id": "uE6aE6azVkNZ"
   },
   "outputs": [],
   "source": [
    "# 비교안 1) 활성화 함수 relu, 옵티마이저 sgd\n",
    "model = tf.keras.Sequential([\n",
    "  layers.Dense(100, activation='relu'),\n",
    "  layers.Dropout(.5),\n",
    "  layers.Dense(100, activation='relu'),\n",
    "  layers.Dropout(.5),\n",
    "  layers.Dense(1, activation = 'sigmoid')\n",
    "])\n",
    "\n",
    "model.compile(optimizer='sgd',\n",
    "              loss=tf.keras.losses.BinaryCrossentropy(),\n",
    "              metrics=['accuracy'])"
   ]
  },
  {
   "cell_type": "code",
   "execution_count": null,
   "metadata": {
    "id": "wLTmqzTqVnIQ"
   },
   "outputs": [],
   "source": [
    "# 비교안 2) 활성화 함수 tanh, 옵티마이저 sgd\n",
    "model = tf.keras.Sequential([\n",
    "  layers.Dense(100, activation='tanh'),\n",
    "  layers.Dropout(.5),\n",
    "  layers.Dense(100, activation='tanh'),\n",
    "  layers.Dropout(.5),\n",
    "  layers.Dense(1, activation = 'sigmoid')\n",
    "])\n",
    "\n",
    "model.compile(optimizer='sgd',\n",
    "              loss=tf.keras.losses.BinaryCrossentropy(),\n",
    "              metrics=['accuracy'])"
   ]
  },
  {
   "cell_type": "code",
   "execution_count": null,
   "metadata": {
    "id": "Gaj_XHMkZ1rA"
   },
   "outputs": [],
   "source": [
    "# 비교안 3) 활성화 함수 relu, 옵티마이저 adam\n",
    "model = tf.keras.Sequential([\n",
    "  layers.Dense(100, activation='relu'),\n",
    "  layers.Dropout(.5),\n",
    "  layers.Dense(100, activation='relu'),\n",
    "  layers.Dropout(.5),\n",
    "  layers.Dense(1, activation = 'sigmoid')\n",
    "])\n",
    "\n",
    "model.compile(optimizer='adam',\n",
    "              loss=tf.keras.losses.BinaryCrossentropy(),\n",
    "              metrics=['accuracy'])"
   ]
  },
  {
   "cell_type": "code",
   "execution_count": null,
   "metadata": {
    "id": "5kZRi05TZ2uw"
   },
   "outputs": [],
   "source": [
    "# 비교안 4) 활성화 함수 tanh, 옵티마이저 adam\n",
    "#from tensorflow.keras import initializers\n",
    "\n",
    "model = tf.keras.Sequential([\n",
    "  layers.Dense(100, activation='tanh'),\n",
    "  layers.Dropout(.5),\n",
    "  layers.Dense(100, activation='tanh'),\n",
    "  layers.Dropout(.5),\n",
    "  layers.Dense(1, activation = 'sigmoid')\n",
    "])\n",
    "\n",
    "model.compile(optimizer='adam',\n",
    "              loss=tf.keras.losses.BinaryCrossentropy(),\n",
    "              metrics=['accuracy'])"
   ]
  },
  {
   "cell_type": "code",
   "execution_count": null,
   "metadata": {
    "colab": {
     "base_uri": "https://localhost:8080/"
    },
    "executionInfo": {
     "elapsed": 16422,
     "status": "ok",
     "timestamp": 1640968818374,
     "user": {
      "displayName": "Jason SJ Yim",
      "photoUrl": "https://lh3.googleusercontent.com/a/default-user=s64",
      "userId": "00334139127424328539"
     },
     "user_tz": -540
    },
    "id": "vMPFL_POV7b-",
    "outputId": "55dad96c-c4c4-4da3-cad0-ccd32b629790"
   },
   "outputs": [
    {
     "name": "stdout",
     "output_type": "stream",
     "text": [
      "Epoch 1/30\n",
      "126/146 [========================>.....] - ETA: 0s - loss: 0.7188 - accuracy: 0.6039INFO:tensorflow:Assets written to: Ch9-NN2.tf/assets\n",
      "146/146 [==============================] - 2s 12ms/step - loss: 0.7135 - accuracy: 0.6072 - val_loss: 0.6001 - val_accuracy: 0.6811\n",
      "Epoch 2/30\n",
      "144/146 [============================>.] - ETA: 0s - loss: 0.6583 - accuracy: 0.6395INFO:tensorflow:Assets written to: Ch9-NN2.tf/assets\n",
      "146/146 [==============================] - 2s 15ms/step - loss: 0.6583 - accuracy: 0.6390 - val_loss: 0.5945 - val_accuracy: 0.6920\n",
      "Epoch 3/30\n",
      "136/146 [==========================>...] - ETA: 0s - loss: 0.6318 - accuracy: 0.6645INFO:tensorflow:Assets written to: Ch9-NN2.tf/assets\n",
      "146/146 [==============================] - 1s 9ms/step - loss: 0.6308 - accuracy: 0.6654 - val_loss: 0.5905 - val_accuracy: 0.6849\n",
      "Epoch 4/30\n",
      "124/146 [========================>.....] - ETA: 0s - loss: 0.5999 - accuracy: 0.6860INFO:tensorflow:Assets written to: Ch9-NN2.tf/assets\n",
      "146/146 [==============================] - 1s 9ms/step - loss: 0.5996 - accuracy: 0.6875 - val_loss: 0.5689 - val_accuracy: 0.7120\n",
      "Epoch 5/30\n",
      "126/146 [========================>.....] - ETA: 0s - loss: 0.5885 - accuracy: 0.7006INFO:tensorflow:Assets written to: Ch9-NN2.tf/assets\n",
      "146/146 [==============================] - 1s 9ms/step - loss: 0.5882 - accuracy: 0.6995 - val_loss: 0.5636 - val_accuracy: 0.7081\n",
      "Epoch 6/30\n",
      "144/146 [============================>.] - ETA: 0s - loss: 0.5783 - accuracy: 0.7044INFO:tensorflow:Assets written to: Ch9-NN2.tf/assets\n",
      "146/146 [==============================] - 1s 9ms/step - loss: 0.5800 - accuracy: 0.7027 - val_loss: 0.5613 - val_accuracy: 0.7139\n",
      "Epoch 7/30\n",
      "146/146 [==============================] - 0s 3ms/step - loss: 0.5704 - accuracy: 0.7030 - val_loss: 0.5650 - val_accuracy: 0.7197\n",
      "Epoch 8/30\n",
      "146/146 [==============================] - 0s 3ms/step - loss: 0.5612 - accuracy: 0.7199 - val_loss: 0.5871 - val_accuracy: 0.7068\n",
      "Epoch 9/30\n",
      "146/146 [==============================] - 0s 3ms/step - loss: 0.5600 - accuracy: 0.7148 - val_loss: 0.5783 - val_accuracy: 0.7139\n",
      "Epoch 10/30\n",
      "129/146 [=========================>....] - ETA: 0s - loss: 0.5570 - accuracy: 0.7151INFO:tensorflow:Assets written to: Ch9-NN2.tf/assets\n",
      "146/146 [==============================] - 1s 9ms/step - loss: 0.5571 - accuracy: 0.7169 - val_loss: 0.5558 - val_accuracy: 0.7255\n",
      "Epoch 11/30\n",
      "146/146 [==============================] - 0s 3ms/step - loss: 0.5522 - accuracy: 0.7212 - val_loss: 0.5819 - val_accuracy: 0.6920\n",
      "Epoch 12/30\n",
      "146/146 [==============================] - 0s 3ms/step - loss: 0.5518 - accuracy: 0.7189 - val_loss: 0.5577 - val_accuracy: 0.7165\n",
      "Epoch 13/30\n",
      "146/146 [==============================] - 0s 3ms/step - loss: 0.5461 - accuracy: 0.7257 - val_loss: 0.5645 - val_accuracy: 0.7133\n",
      "Epoch 14/30\n",
      "146/146 [==============================] - 0s 3ms/step - loss: 0.5417 - accuracy: 0.7335 - val_loss: 0.5595 - val_accuracy: 0.7178\n",
      "Epoch 15/30\n",
      "145/146 [============================>.] - ETA: 0s - loss: 0.5401 - accuracy: 0.7338INFO:tensorflow:Assets written to: Ch9-NN2.tf/assets\n",
      "146/146 [==============================] - 2s 11ms/step - loss: 0.5400 - accuracy: 0.7341 - val_loss: 0.5520 - val_accuracy: 0.7216\n"
     ]
    }
   ],
   "source": [
    "from tensorflow import keras\n",
    "from keras.callbacks import ModelCheckpoint\n",
    "checkpointer = ModelCheckpoint('NN2.tf', save_best_only=True)\n",
    "early_stopping_cb = keras.callbacks.EarlyStopping(patience=5, monitor='val_accuracy',\\\n",
    "                                                  restore_best_weights=True)\n",
    "\n",
    "history = model.fit(X_train2, y_train_np,\n",
    "                    validation_split=0.25,\n",
    "                    shuffle=True,\n",
    "                    epochs=30,\n",
    "                    callbacks = [checkpointer, early_stopping_cb]\n",
    "                    )"
   ]
  },
  {
   "cell_type": "code",
   "execution_count": null,
   "metadata": {
    "colab": {
     "base_uri": "https://localhost:8080/"
    },
    "executionInfo": {
     "elapsed": 414,
     "status": "ok",
     "timestamp": 1640968396507,
     "user": {
      "displayName": "Jason SJ Yim",
      "photoUrl": "https://lh3.googleusercontent.com/a/default-user=s64",
      "userId": "00334139127424328539"
     },
     "user_tz": -540
    },
    "id": "0F4xU2Oovj-x",
    "outputId": "7a1206c1-3bf6-42f8-d924-b1e77e21243c"
   },
   "outputs": [
    {
     "data": {
      "text/plain": [
       "0.6904"
      ]
     },
     "execution_count": 31,
     "metadata": {},
     "output_type": "execute_result"
    }
   ],
   "source": [
    "# 비교안 1) 활성화 함수 relu, 옵티마이저 sgd 모델을 5회 시행하여 회차별 최대 검증 정확도(val_accuarcy)의 평균값을 구함\n",
    "(0.6946+0.6862)/2"
   ]
  },
  {
   "cell_type": "code",
   "execution_count": null,
   "metadata": {
    "colab": {
     "base_uri": "https://localhost:8080/"
    },
    "executionInfo": {
     "elapsed": 414,
     "status": "ok",
     "timestamp": 1640968503862,
     "user": {
      "displayName": "Jason SJ Yim",
      "photoUrl": "https://lh3.googleusercontent.com/a/default-user=s64",
      "userId": "00334139127424328539"
     },
     "user_tz": -540
    },
    "id": "rnGtmKpP3i9a",
    "outputId": "4f6ad210-3149-4f00-b3c9-c9f3c25512bf"
   },
   "outputs": [
    {
     "data": {
      "text/plain": [
       "0.6903999999999999"
      ]
     },
     "execution_count": 36,
     "metadata": {},
     "output_type": "execute_result"
    }
   ],
   "source": [
    "# 비교안 2) 활성화 함수 tanh, 옵티마이저 sgd 모델 5회 시행하여 회차별 최대 검증 정확도(val_accuarcy)의 평균값을 구함\n",
    "(0.6869+0.6939)/2"
   ]
  },
  {
   "cell_type": "code",
   "execution_count": null,
   "metadata": {
    "colab": {
     "base_uri": "https://localhost:8080/"
    },
    "executionInfo": {
     "elapsed": 411,
     "status": "ok",
     "timestamp": 1640968705689,
     "user": {
      "displayName": "Jason SJ Yim",
      "photoUrl": "https://lh3.googleusercontent.com/a/default-user=s64",
      "userId": "00334139127424328539"
     },
     "user_tz": -540
    },
    "id": "M0wf9UAoW4_O",
    "outputId": "68788ef3-b805-4d13-bc30-e3c27570f88b"
   },
   "outputs": [
    {
     "data": {
      "text/plain": [
       "0.71715"
      ]
     },
     "execution_count": 41,
     "metadata": {},
     "output_type": "execute_result"
    }
   ],
   "source": [
    "# 비교안 3) 활성화 함수 relu, 옵티마이저 adam 모델 5회 시행하여 회차별 최대 검증 정확도(val_accuarcy)의 평균값을 구함\n",
    "(0.7204+0.7139)/2"
   ]
  },
  {
   "cell_type": "code",
   "execution_count": null,
   "metadata": {
    "colab": {
     "base_uri": "https://localhost:8080/"
    },
    "executionInfo": {
     "elapsed": 431,
     "status": "ok",
     "timestamp": 1640968833698,
     "user": {
      "displayName": "Jason SJ Yim",
      "photoUrl": "https://lh3.googleusercontent.com/a/default-user=s64",
      "userId": "00334139127424328539"
     },
     "user_tz": -540
    },
    "id": "FGyTIz-a0qMc",
    "outputId": "2fac5612-768c-4409-9a72-8c586209e596"
   },
   "outputs": [
    {
     "data": {
      "text/plain": [
       "0.72645"
      ]
     },
     "execution_count": 46,
     "metadata": {},
     "output_type": "execute_result"
    }
   ],
   "source": [
    "# 비교안 4) 활성화 함수 tanh, 옵티마이저 adam 모델 5회 시행하여 회차별 최대 검증 정확도(val_accuarcy)의 평균값을 구함\n",
    "(0.7274+0.7255)/2"
   ]
  },
  {
   "cell_type": "code",
   "execution_count": null,
   "metadata": {
    "id": "ZAJKLoeNgrly"
   },
   "outputs": [],
   "source": []
  },
  {
   "cell_type": "code",
   "execution_count": null,
   "metadata": {
    "id": "xjQ8hw9k19iU"
   },
   "outputs": [],
   "source": [
    "# 위의 검증 정확도 평균값에 의하면 Best 조합은 비교안 4) 활성화 함수 tanh, 옵티마이저 adam 모델임"
   ]
  },
  {
   "cell_type": "code",
   "execution_count": null,
   "metadata": {
    "id": "fi8waDT2gqUj"
   },
   "outputs": [],
   "source": [
    "# 본문에 들어간 최종안\n",
    "# 비교안 4) 활성화 함수 tanh, 옵티마이저 adam\n",
    "# from tensorflow.keras import initializers\n",
    "\n",
    "model = tf.keras.Sequential([\n",
    "  layers.Dense(100, activation='tanh', input_shape=[214]),\n",
    "  layers.Dropout(.5),\n",
    "  layers.Dense(100, activation='tanh'),\n",
    "  layers.Dropout(.5),\n",
    "  layers.Dense(1, activation = 'sigmoid')\n",
    "])\n",
    "\n",
    "model.compile(optimizer='adam',\n",
    "              loss=tf.keras.losses.BinaryCrossentropy(),\n",
    "              metrics=['accuracy'])"
   ]
  },
  {
   "cell_type": "code",
   "execution_count": null,
   "metadata": {
    "colab": {
     "base_uri": "https://localhost:8080/"
    },
    "executionInfo": {
     "elapsed": 15908,
     "status": "ok",
     "timestamp": 1640968863908,
     "user": {
      "displayName": "Jason SJ Yim",
      "photoUrl": "https://lh3.googleusercontent.com/a/default-user=s64",
      "userId": "00334139127424328539"
     },
     "user_tz": -540
    },
    "id": "jmh5imIag5vo",
    "outputId": "5577bf4d-f642-420e-8bd4-01a9a54c9ff3"
   },
   "outputs": [
    {
     "name": "stdout",
     "output_type": "stream",
     "text": [
      "Epoch 1/30\n",
      "131/146 [=========================>....] - ETA: 0s - loss: 0.7378 - accuracy: 0.5883INFO:tensorflow:Assets written to: Ch9-NN2.tf/assets\n",
      "146/146 [==============================] - 2s 10ms/step - loss: 0.7312 - accuracy: 0.5951 - val_loss: 0.5905 - val_accuracy: 0.6843\n",
      "Epoch 2/30\n",
      "130/146 [=========================>....] - ETA: 0s - loss: 0.6535 - accuracy: 0.6589INFO:tensorflow:Assets written to: Ch9-NN2.tf/assets\n",
      "146/146 [==============================] - 1s 9ms/step - loss: 0.6541 - accuracy: 0.6579 - val_loss: 0.5850 - val_accuracy: 0.6939\n",
      "Epoch 3/30\n",
      "145/146 [============================>.] - ETA: 0s - loss: 0.6261 - accuracy: 0.6657INFO:tensorflow:Assets written to: Ch9-NN2.tf/assets\n",
      "146/146 [==============================] - 1s 9ms/step - loss: 0.6266 - accuracy: 0.6652 - val_loss: 0.5779 - val_accuracy: 0.6985\n",
      "Epoch 4/30\n",
      "129/146 [=========================>....] - ETA: 0s - loss: 0.6061 - accuracy: 0.6851INFO:tensorflow:Assets written to: Ch9-NN2.tf/assets\n",
      "146/146 [==============================] - 1s 9ms/step - loss: 0.6074 - accuracy: 0.6811 - val_loss: 0.5707 - val_accuracy: 0.7094\n",
      "Epoch 5/30\n",
      "137/146 [===========================>..] - ETA: 0s - loss: 0.5878 - accuracy: 0.6964INFO:tensorflow:Assets written to: Ch9-NN2.tf/assets\n",
      "146/146 [==============================] - 1s 9ms/step - loss: 0.5868 - accuracy: 0.6974 - val_loss: 0.5685 - val_accuracy: 0.7055\n",
      "Epoch 6/30\n",
      "135/146 [==========================>...] - ETA: 0s - loss: 0.5794 - accuracy: 0.6975INFO:tensorflow:Assets written to: Ch9-NN2.tf/assets\n",
      "146/146 [==============================] - 1s 9ms/step - loss: 0.5804 - accuracy: 0.6982 - val_loss: 0.5579 - val_accuracy: 0.7178\n",
      "Epoch 7/30\n",
      "146/146 [==============================] - 0s 3ms/step - loss: 0.5688 - accuracy: 0.7023 - val_loss: 0.5735 - val_accuracy: 0.7101\n",
      "Epoch 8/30\n",
      "146/146 [==============================] - 0s 3ms/step - loss: 0.5657 - accuracy: 0.7116 - val_loss: 0.5606 - val_accuracy: 0.7101\n",
      "Epoch 9/30\n",
      "146/146 [==============================] - 0s 3ms/step - loss: 0.5581 - accuracy: 0.7206 - val_loss: 0.5636 - val_accuracy: 0.7204\n",
      "Epoch 10/30\n",
      "146/146 [==============================] - 0s 3ms/step - loss: 0.5485 - accuracy: 0.7259 - val_loss: 0.5602 - val_accuracy: 0.7184\n",
      "Epoch 11/30\n",
      "132/146 [==========================>...] - ETA: 0s - loss: 0.5559 - accuracy: 0.7214INFO:tensorflow:Assets written to: Ch9-NN2.tf/assets\n",
      "146/146 [==============================] - 2s 11ms/step - loss: 0.5574 - accuracy: 0.7193 - val_loss: 0.5577 - val_accuracy: 0.7159\n",
      "Epoch 12/30\n",
      "134/146 [==========================>...] - ETA: 0s - loss: 0.5467 - accuracy: 0.7278INFO:tensorflow:Assets written to: Ch9-NN2.tf/assets\n",
      "146/146 [==============================] - 1s 9ms/step - loss: 0.5491 - accuracy: 0.7268 - val_loss: 0.5531 - val_accuracy: 0.7236\n",
      "Epoch 13/30\n",
      "146/146 [==============================] - 0s 3ms/step - loss: 0.5540 - accuracy: 0.7199 - val_loss: 0.5599 - val_accuracy: 0.7171\n",
      "Epoch 14/30\n",
      "146/146 [==============================] - 0s 3ms/step - loss: 0.5453 - accuracy: 0.7302 - val_loss: 0.5636 - val_accuracy: 0.7223\n",
      "Epoch 15/30\n",
      "146/146 [==============================] - 0s 3ms/step - loss: 0.5443 - accuracy: 0.7292 - val_loss: 0.5634 - val_accuracy: 0.7159\n",
      "Epoch 16/30\n",
      "146/146 [==============================] - 0s 3ms/step - loss: 0.5455 - accuracy: 0.7287 - val_loss: 0.5666 - val_accuracy: 0.7049\n",
      "Epoch 17/30\n",
      "146/146 [==============================] - 0s 3ms/step - loss: 0.5427 - accuracy: 0.7279 - val_loss: 0.5714 - val_accuracy: 0.7030\n"
     ]
    }
   ],
   "source": [
    "from tensorflow import keras\n",
    "from keras.callbacks import ModelCheckpoint\n",
    "checkpointer = ModelCheckpoint('NN2.tf', save_best_only=True)\n",
    "early_stopping_cb = keras.callbacks.EarlyStopping(patience=5, monitor='val_accuracy',\n",
    "                                                  restore_best_weights=True)\n",
    "\n",
    "history = model.fit(X_train2, y_train_np,\n",
    "                    validation_split=0.25,\n",
    "                    shuffle=True,\n",
    "                    epochs=30,\n",
    "                    callbacks = [checkpointer, early_stopping_cb]\n",
    "                    )"
   ]
  },
  {
   "cell_type": "code",
   "execution_count": null,
   "metadata": {
    "id": "Jph3vPfbEaoq"
   },
   "outputs": [],
   "source": [
    "# X_train 행수 6208의 0.75가 training에 0.25는 validation에 쓰임\n",
    "# 6208*0.75 = 4656. 이제 위의 결과창의 146로 4656를 나누면 약 32가 나옴. 즉 기본 배치 사이즈가 32가 적용됐음을 알 수 있음"
   ]
  },
  {
   "cell_type": "code",
   "execution_count": null,
   "metadata": {
    "colab": {
     "base_uri": "https://localhost:8080/"
    },
    "executionInfo": {
     "elapsed": 407,
     "status": "ok",
     "timestamp": 1640968884304,
     "user": {
      "displayName": "Jason SJ Yim",
      "photoUrl": "https://lh3.googleusercontent.com/a/default-user=s64",
      "userId": "00334139127424328539"
     },
     "user_tz": -540
    },
    "id": "W9S1Wzh65ixu",
    "outputId": "2a02cc18-b7b8-41f9-f593-05ce9bf0e004"
   },
   "outputs": [
    {
     "name": "stdout",
     "output_type": "stream",
     "text": [
      "Model: \"sequential_10\"\n",
      "_________________________________________________________________\n",
      " Layer (type)                Output Shape              Param #   \n",
      "=================================================================\n",
      " dense_30 (Dense)            (None, 100)               21500     \n",
      "                                                                 \n",
      " dropout_20 (Dropout)        (None, 100)               0         \n",
      "                                                                 \n",
      " dense_31 (Dense)            (None, 100)               10100     \n",
      "                                                                 \n",
      " dropout_21 (Dropout)        (None, 100)               0         \n",
      "                                                                 \n",
      " dense_32 (Dense)            (None, 1)                 101       \n",
      "                                                                 \n",
      "=================================================================\n",
      "Total params: 31,701\n",
      "Trainable params: 31,701\n",
      "Non-trainable params: 0\n",
      "_________________________________________________________________\n"
     ]
    }
   ],
   "source": [
    "# 참조 코딩\n",
    "model.summary()"
   ]
  },
  {
   "cell_type": "code",
   "execution_count": null,
   "metadata": {
    "colab": {
     "base_uri": "https://localhost:8080/",
     "height": 336
    },
    "executionInfo": {
     "elapsed": 713,
     "status": "ok",
     "timestamp": 1640968921096,
     "user": {
      "displayName": "Jason SJ Yim",
      "photoUrl": "https://lh3.googleusercontent.com/a/default-user=s64",
      "userId": "00334139127424328539"
     },
     "user_tz": -540
    },
    "id": "2eThv1Pz3suW",
    "outputId": "75d60bd2-35c7-4ed6-b1d7-905ab4171803"
   },
   "outputs": [
    {
     "data": {
      "image/png": "[encoded data removed]",
      "text/plain": [
       "<Figure size 720x360 with 2 Axes>"
      ]
     },
     "metadata": {
      "needs_background": "light"
     },
     "output_type": "display_data"
    }
   ],
   "source": [
    "# 매 epochs마다 모델 정확도와 손실을 그래프로 그리기\n",
    "import matplotlib.pyplot as plt\n",
    "\n",
    "acc = history.history['accuracy']         # 모델의 학습 정확도를 변수 acc에 기록  \n",
    "val_acc = history.history['val_accuracy'] # 모델의 검증 정확도를 변수 val_acc에 기록\n",
    "\n",
    "loss=history.history['loss']              # 모델의 학습 손실을 변수 loss에 기록  \n",
    "val_loss=history.history['val_loss']      # 모델의 검증 손실을 변수 val_loss에 기록    \n",
    "\n",
    "# epochs가 17회가 아닌 다른 결과(예:15회)로 나오면 아래 줄 17을 해당 숫자인 15로 바꿔주야 함에 유의\n",
    "epochs_range = range(1, 17+1)             # epochs가 17회까지만 수행된 것을 반영\n",
    "\n",
    "# 학습 정확도와 검증 정확도를 그립니다.\n",
    "plt.figure(figsize=(10, 5))\n",
    "plt.subplot(1, 2, 1)\n",
    "plt.plot(epochs_range, acc, label='Training Accuracy')\n",
    "plt.plot(epochs_range, val_acc, label='Validation Accuracy')\n",
    "plt.legend(loc='lower right')\n",
    "plt.title('Training and Validation Accuracy')\n",
    "\n",
    "# 학습 손실와 검증 손실을 그립니다.\n",
    "plt.subplot(1, 2, 2)\n",
    "plt.plot(epochs_range, loss, label='Training Loss')\n",
    "plt.plot(epochs_range, val_loss, label='Validation Loss')\n",
    "plt.legend(loc='upper right')\n",
    "plt.title('Training and Validation Loss')\n",
    "plt.show()"
   ]
  },
  {
   "cell_type": "code",
   "execution_count": null,
   "metadata": {
    "colab": {
     "base_uri": "https://localhost:8080/"
    },
    "executionInfo": {
     "elapsed": 403,
     "status": "ok",
     "timestamp": 1640969541876,
     "user": {
      "displayName": "Jason SJ Yim",
      "photoUrl": "https://lh3.googleusercontent.com/a/default-user=s64",
      "userId": "00334139127424328539"
     },
     "user_tz": -540
    },
    "id": "3AIRg7bAZ6m5",
    "outputId": "2c43aa8d-af8d-4987-df95-d7c7b7519999"
   },
   "outputs": [
    {
     "data": {
      "text/plain": [
       "<tensorflow.python.training.tracking.util.CheckpointLoadStatus at 0x7f9e1beb9a10>"
      ]
     },
     "execution_count": 57,
     "metadata": {},
     "output_type": "execute_result"
    }
   ],
   "source": [
    "# model.fit() 실행시 검증 정확도가 가장 높은 에포크에 해당하는 모델 가중치 계수들 불러오기\n",
    "model.load_weights('Ch9-NN2.tf')"
   ]
  },
  {
   "cell_type": "code",
   "execution_count": null,
   "metadata": {
    "colab": {
     "base_uri": "https://localhost:8080/"
    },
    "executionInfo": {
     "elapsed": 949,
     "status": "ok",
     "timestamp": 1640969547378,
     "user": {
      "displayName": "Jason SJ Yim",
      "photoUrl": "https://lh3.googleusercontent.com/a/default-user=s64",
      "userId": "00334139127424328539"
     },
     "user_tz": -540
    },
    "id": "1AU8PDIKhPCq",
    "outputId": "4224895f-348a-4ad0-e638-e1e0396ca9d5"
   },
   "outputs": [
    {
     "name": "stdout",
     "output_type": "stream",
     "text": [
      "195/195 [==============================] - 0s 2ms/step - loss: 0.5518 - accuracy: 0.7296\n",
      "Accuracy 0.7295860648155212\n"
     ]
    }
   ],
   "source": [
    "# 비교안 4) 활성화 함수 tanh, 옵티마이저 adam 모델 테스트 셋 accuracy\n",
    "# 결과창의 195로 X_test 행수 6208를 나누면 약 32가 나옴. 즉 기본 배치값 32가 적용됐음을 알 수 있음\n",
    "\n",
    "loss, accuracy = model.evaluate(X_test2, y_test)\n",
    "print(\"Accuracy\", accuracy)"
   ]
  },
  {
   "cell_type": "code",
   "execution_count": null,
   "metadata": {
    "colab": {
     "base_uri": "https://localhost:8080/"
    },
    "executionInfo": {
     "elapsed": 395,
     "status": "ok",
     "timestamp": 1640968992385,
     "user": {
      "displayName": "Jason SJ Yim",
      "photoUrl": "https://lh3.googleusercontent.com/a/default-user=s64",
      "userId": "00334139127424328539"
     },
     "user_tz": -540
    },
    "id": "VStL2h-r4DEJ",
    "outputId": "92dafac6-54e4-446e-fa65-8fffe250d01b"
   },
   "outputs": [
    {
     "data": {
      "text/plain": [
       "array([[0.4 ],\n",
       "       [0.36],\n",
       "       [0.71],\n",
       "       [0.3 ],\n",
       "       [0.58],\n",
       "       [0.09],\n",
       "       [0.72],\n",
       "       [0.75],\n",
       "       [0.5 ],\n",
       "       [0.42]], dtype=float32)"
      ]
     },
     "execution_count": 52,
     "metadata": {},
     "output_type": "execute_result"
    }
   ],
   "source": [
    "# 참고 코딩\n",
    "X_new = X_test2[:10]\n",
    "y_prob = model.predict(X_new)\n",
    "y_prob.round(2)"
   ]
  },
  {
   "cell_type": "code",
   "execution_count": null,
   "metadata": {
    "colab": {
     "base_uri": "https://localhost:8080/"
    },
    "executionInfo": {
     "elapsed": 408,
     "status": "ok",
     "timestamp": 1640969020573,
     "user": {
      "displayName": "Jason SJ Yim",
      "photoUrl": "https://lh3.googleusercontent.com/a/default-user=s64",
      "userId": "00334139127424328539"
     },
     "user_tz": -540
    },
    "id": "3oVGEV5D4IrR",
    "outputId": "7bd9446d-8cd8-473d-b576-6fb208d90b27"
   },
   "outputs": [
    {
     "data": {
      "text/plain": [
       "10637    0\n",
       "2333     1\n",
       "8557     0\n",
       "4081     0\n",
       "1421     1\n",
       "5100     0\n",
       "8456     1\n",
       "1602     1\n",
       "8799     1\n",
       "11294    0\n",
       "Name: EBizSystem2, dtype: int64"
      ]
     },
     "execution_count": 53,
     "metadata": {},
     "output_type": "execute_result"
    }
   ],
   "source": [
    "# 참고 코딩\n",
    "y_new = y_test[:10]\n",
    "y_new"
   ]
  },
  {
   "cell_type": "code",
   "execution_count": null,
   "metadata": {
    "colab": {
     "base_uri": "https://localhost:8080/"
    },
    "executionInfo": {
     "elapsed": 400,
     "status": "ok",
     "timestamp": 1640969029372,
     "user": {
      "displayName": "Jason SJ Yim",
      "photoUrl": "https://lh3.googleusercontent.com/a/default-user=s64",
      "userId": "00334139127424328539"
     },
     "user_tz": -540
    },
    "id": "Dl3eyoWp4QYv",
    "outputId": "14143881-c089-429a-8cf1-8eb387b2cdd5"
   },
   "outputs": [
    {
     "data": {
      "text/plain": [
       "array([[0.91],\n",
       "       [0.51],\n",
       "       [0.92],\n",
       "       [0.78],\n",
       "       [0.33],\n",
       "       [0.79],\n",
       "       [0.84],\n",
       "       [0.72],\n",
       "       [0.59],\n",
       "       [0.36]], dtype=float32)"
      ]
     },
     "execution_count": 54,
     "metadata": {},
     "output_type": "execute_result"
    }
   ],
   "source": [
    "# 참고 코딩\n",
    "X_new = X_test2[-10:]\n",
    "y_prob = model.predict(X_new)\n",
    "y_prob.round(2)"
   ]
  },
  {
   "cell_type": "code",
   "execution_count": null,
   "metadata": {
    "colab": {
     "base_uri": "https://localhost:8080/"
    },
    "executionInfo": {
     "elapsed": 574,
     "status": "ok",
     "timestamp": 1640969034396,
     "user": {
      "displayName": "Jason SJ Yim",
      "photoUrl": "https://lh3.googleusercontent.com/a/default-user=s64",
      "userId": "00334139127424328539"
     },
     "user_tz": -540
    },
    "id": "iHOjsG3I4n4a",
    "outputId": "577a67c1-2ecd-4af1-efbc-3c294685414d"
   },
   "outputs": [
    {
     "data": {
      "text/plain": [
       "8380     1\n",
       "7034     0\n",
       "220      1\n",
       "11404    1\n",
       "7292     1\n",
       "9729     0\n",
       "10328    1\n",
       "7847     0\n",
       "7250     1\n",
       "10006    0\n",
       "Name: EBizSystem2, dtype: int64"
      ]
     },
     "execution_count": 55,
     "metadata": {},
     "output_type": "execute_result"
    }
   ],
   "source": [
    "# 참고 코딩\n",
    "y_new = y_test[-10:]\n",
    "y_new"
   ]
  },
  {
   "cell_type": "code",
   "execution_count": null,
   "metadata": {
    "colab": {
     "base_uri": "https://localhost:8080/"
    },
    "executionInfo": {
     "elapsed": 404,
     "status": "ok",
     "timestamp": 1640969560541,
     "user": {
      "displayName": "Jason SJ Yim",
      "photoUrl": "https://lh3.googleusercontent.com/a/default-user=s64",
      "userId": "00334139127424328539"
     },
     "user_tz": -540
    },
    "id": "W9pA2xJQ4rRi",
    "outputId": "76c21b7c-e679-4bcb-91d9-0cea00476ea3"
   },
   "outputs": [
    {
     "name": "stdout",
     "output_type": "stream",
     "text": [
      "ROC AUC on test set:0.78577\n"
     ]
    }
   ],
   "source": [
    "from sklearn.metrics import roc_auc_score\n",
    "\n",
    "y_prob = model.predict(X_test2)\n",
    "ROC_AUC = roc_auc_score(y_test, y_prob)\n",
    "print(\"ROC AUC on test set:{:.5f}\".format(ROC_AUC))"
   ]
  },
  {
   "cell_type": "code",
   "execution_count": null,
   "metadata": {
    "id": "CEehdBOHYbXS"
   },
   "outputs": [],
   "source": []
  }
 ],
 "metadata": {
  "colab": {
   "authorship_tag": "ABX9TyM8nrqAdM04USEClAYovxT2",
   "collapsed_sections": [],
   "name": "Ch9 (9-7-12) tf keras Neural Network final",
   "provenance": [
    {
     "file_id": "1lq9unDQjuUrmvXOi8mENQUhsS4ETMM__",
     "timestamp": 1630486037038
    },
    {
     "file_id": "1cIB8oFw88dQ2UuyNKcXyvLNUghLLSexd",
     "timestamp": 1630465202152
    },
    {
     "file_id": "1F9VcL4FckPFfpO-UM3LlX0U2RUfvEdC3",
     "timestamp": 1630407640037
    },
    {
     "file_id": "1Jn0x00cxjqatGSLBmqA239WTtYXEr9-U",
     "timestamp": 1630407172628
    },
    {
     "file_id": "1zHiFeyeZJ1hOiaNk8kaVKCOg-xZBFj8I",
     "timestamp": 1630405976871
    },
    {
     "file_id": "1XekjHBeBII2yWQsMokZRi185ib218Bdb",
     "timestamp": 1629983531895
    }
   ]
  },
  "kernelspec": {
   "display_name": "Python 3 (ipykernel)",
   "language": "python",
   "name": "python3"
  },
  "language_info": {
   "codemirror_mode": {
    "name": "ipython",
    "version": 3
   },
   "file_extension": ".py",
   "mimetype": "text/x-python",
   "name": "python",
   "nbconvert_exporter": "python",
   "pygments_lexer": "ipython3",
   "version": "3.9.7"
  }
 },
 "nbformat": 4,
 "nbformat_minor": 1
}
