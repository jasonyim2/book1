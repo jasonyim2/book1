{
 "cells": [
  {
   "cell_type": "markdown",
   "metadata": {},
   "source": [
    "# C.7.10 Neural Network 모델"
   ]
  },
  {
   "cell_type": "code",
   "execution_count": 17,
   "metadata": {},
   "outputs": [
    {
     "data": {
      "text/plain": [
       "(12417, 193)"
      ]
     },
     "execution_count": 17,
     "metadata": {},
     "output_type": "execute_result"
    }
   ],
   "source": [
    "import pandas as pd\n",
    "import numpy as np\n",
    "df = pd.read_csv('2014DC2_dummy_indicator_friendly.csv')   \n",
    "df.shape"
   ]
  },
  {
   "cell_type": "code",
   "execution_count": 2,
   "metadata": {},
   "outputs": [
    {
     "name": "stdout",
     "output_type": "stream",
     "text": [
      "X_train2 shape: (6208, 214)\n",
      "X_test2 shape: (6209, 214)\n"
     ]
    }
   ],
   "source": [
    "# Imputation indicator가 생성됨에 주의\n",
    "\n",
    "data = df.drop(['EBizSystem2'], axis=1)   # 타겟변수를 제외한 입력변수를 data에 저장\n",
    "target = df['EBizSystem2']                # 타겟변수만 target에 저장\n",
    "\n",
    "# 50:50 data partition.\n",
    "from sklearn.model_selection import train_test_split \n",
    "X_train, X_test, y_train, y_test = train_test_split( \n",
    "    data, target, test_size=0.5, random_state=42)   # test_size=0.5임에 주의 \n",
    "\n",
    "# interval 변수의 null value를 평균(mean)으로 impute 및 add_indicator 포함 \n",
    "from sklearn.impute import SimpleImputer\n",
    "imp= SimpleImputer(strategy = 'mean', add_indicator=True)  \n",
    "X_train2= imp.fit_transform(X_train) \n",
    "X_test2= imp.fit_transform(X_test)   # X_train과 and X_test 둘 다 imputation 적용해야 함에 유의\n",
    "\n",
    "print(\"X_train2 shape:\", X_train2.shape) \n",
    "print(\"X_test2 shape:\", X_test2.shape) \n"
   ]
  },
  {
   "cell_type": "code",
   "execution_count": 18,
   "metadata": {},
   "outputs": [
    {
     "name": "stdout",
     "output_type": "stream",
     "text": [
      "Neural Network1 Accuracy on training set:1.00000\n",
      "Neural Network1 Accuracy on test set:0.66645\n"
     ]
    }
   ],
   "source": [
    "# Neural Network model \n",
    "\n",
    "from sklearn.neural_network import MLPClassifier \n",
    "from sklearn.metrics import accuracy_score\n",
    "mlp = MLPClassifier(max_iter = 500, random_state = 0)\n",
    "model = mlp.fit(X_train2, y_train) \n",
    "pred = model.predict(X_test2)  # 학습된 Classifier로 테스트 데이터셋 자료를 투입해서 타겟변수 예측값 생성\n",
    "accuracy = accuracy_score(y_test, pred)\n",
    "\n",
    "print(\"Neural Network1 Accuracy on training set:{:.5f}\".format(model.score(X_train2, y_train)))\n",
    "print(\"Neural Network1 Accuracy on test set:{:.5f}\".format(accuracy_score(y_test, pred)))"
   ]
  },
  {
   "cell_type": "code",
   "execution_count": 19,
   "metadata": {},
   "outputs": [
    {
     "name": "stdout",
     "output_type": "stream",
     "text": [
      "Neural Network1 Accuracy on training set:0.67494\n",
      "Neural Network1 Accuracy on test set:0.66098\n"
     ]
    }
   ],
   "source": [
    "# 참조 코딩\n",
    "# Neural Network model \n",
    "\n",
    "from sklearn.neural_network import MLPClassifier \n",
    "mlp = MLPClassifier(solver='sgd', max_iter = 500, random_state = 0)\n",
    "model = mlp.fit(X_train2, y_train) \n",
    "pred = model.predict(X_test2)  # 학습된 Classifier로 테스트 데이터셋 자료를 투입해서 타겟변수 예측값 생성.\n",
    "accuracy = accuracy_score(y_test, pred)\n",
    "\n",
    "print(\"Neural Network1 Accuracy on training set:{:.5f}\".format(model.score(X_train2, y_train)))\n",
    "print(\"Neural Network1 Accuracy on test set:{:.5f}\".format(accuracy_score(y_test, pred)))"
   ]
  },
  {
   "cell_type": "code",
   "execution_count": 20,
   "metadata": {},
   "outputs": [
    {
     "name": "stdout",
     "output_type": "stream",
     "text": [
      "Neural Network1 Accuracy on training set:0.89803\n",
      "Neural Network1 Accuracy on test set:0.66677\n"
     ]
    },
    {
     "name": "stderr",
     "output_type": "stream",
     "text": [
      "C:\\Users\\jason\\anaconda3\\lib\\site-packages\\sklearn\\neural_network\\_multilayer_perceptron.py:500: ConvergenceWarning: lbfgs failed to converge (status=1):\n",
      "STOP: TOTAL NO. of ITERATIONS REACHED LIMIT.\n",
      "\n",
      "Increase the number of iterations (max_iter) or scale the data as shown in:\n",
      "    https://scikit-learn.org/stable/modules/preprocessing.html\n",
      "  self.n_iter_ = _check_optimize_result(\"lbfgs\", opt_res, self.max_iter)\n"
     ]
    }
   ],
   "source": [
    "# 참조 코딩\n",
    "# Neural Network model \n",
    "\n",
    "from sklearn.neural_network import MLPClassifier \n",
    "mlp = MLPClassifier(solver='lbfgs', max_iter = 500, random_state = 0)\n",
    "model = mlp.fit(X_train2, y_train) \n",
    "pred = model.predict(X_test2)  # 학습된 Classifier로 테스트 데이터셋 자료를 투입해서 타겟변수 예측값 생성.\n",
    "accuracy = accuracy_score(y_test, pred)\n",
    "\n",
    "print(\"Neural Network1 Accuracy on training set:{:.5f}\".format(model.score(X_train2, y_train)))\n",
    "print(\"Neural Network1 Accuracy on test set:{:.5f}\".format(accuracy_score(y_test, pred)))"
   ]
  },
  {
   "cell_type": "code",
   "execution_count": 4,
   "metadata": {},
   "outputs": [],
   "source": [
    "# Neural Network 모델 (Default 모델)\n",
    "from sklearn.neural_network import MLPClassifier \n",
    "mlp = MLPClassifier(max_iter = 500, random_state = 0)"
   ]
  },
  {
   "cell_type": "code",
   "execution_count": 13,
   "metadata": {},
   "outputs": [
    {
     "name": "stdout",
     "output_type": "stream",
     "text": [
      "GridSearchCV max accuracy:0.71956\n",
      "GridSearchCV best parameter: {'activation': 'relu', 'alpha': 1, 'solver': 'sgd'}\n"
     ]
    },
    {
     "name": "stderr",
     "output_type": "stream",
     "text": [
      "/Users/sunjipyim2/opt/anaconda3/lib/python3.7/site-packages/sklearn/neural_network/multilayer_perceptron.py:566: ConvergenceWarning: Stochastic Optimizer: Maximum iterations (400) reached and the optimization hasn't converged yet.\n",
      "  % self.max_iter, ConvergenceWarning)\n"
     ]
    }
   ],
   "source": [
    "# 참조 코딩\n",
    "# 시간이 15분 이상 소요되며 수렴 경고문까지 나와서 Params 설정 단순화 필요\n",
    "\n",
    "from sklearn.model_selection import GridSearchCV\n",
    "params = {'solver':['lbfgs','sgd','adam'], 'alpha':[0.0001, 0.001, 0.01, 0.1, 1],\n",
    "          'activation':['logistic','tanh','relu']}\n",
    "\n",
    "grid_mlp = GridSearchCV(mlp, param_grid=params, scoring='accuracy', cv=5, n_jobs=-1)\n",
    "grid_mlp.fit(X_train2, y_train)\n",
    "\n",
    "print(\"GridSearchCV max accuracy:{:.5f}\".format(grid_mlp.best_score_))\n",
    "print(\"GridSearchCV best parameter:\", (grid_mlp.best_params_)) "
   ]
  },
  {
   "cell_type": "code",
   "execution_count": null,
   "metadata": {},
   "outputs": [],
   "source": [
    "# alpha=0.0001이 default값임."
   ]
  },
  {
   "cell_type": "code",
   "execution_count": 21,
   "metadata": {},
   "outputs": [
    {
     "name": "stdout",
     "output_type": "stream",
     "text": [
      "Neural Network1 Accuracy on training set:0.95683\n",
      "Neural Network1 Accuracy on test set:0.67982\n"
     ]
    }
   ],
   "source": [
    "# alpha=0.01 옵션 추가. 이는 중간 정도의 regularization on weights를 의미함\n",
    "\n",
    "mlp = MLPClassifier(max_iter = 500, alpha = 0.1, random_state = 0)\n",
    "model = mlp.fit(X_train2, y_train) \n",
    "pred = model.predict(X_test2)  # 학습된 Classifier로 테스트 데이터셋 자료를 투입해서 타겟변수 예측값 생성\n",
    "accuracy = accuracy_score(y_test, pred)\n",
    "\n",
    "print(\"Neural Network1 Accuracy on training set:{:.5f}\".format(model.score(X_train2, y_train)))\n",
    "print(\"Neural Network1 Accuracy on test set:{:.5f}\".format(accuracy_score(y_test, pred)))"
   ]
  },
  {
   "cell_type": "code",
   "execution_count": 22,
   "metadata": {},
   "outputs": [
    {
     "name": "stdout",
     "output_type": "stream",
     "text": [
      "Neural Network1 Accuracy on training set:0.75515\n",
      "Neural Network1 Accuracy on test set:0.72717\n"
     ]
    }
   ],
   "source": [
    "# alpha=1 옵션 추가. 이는 stronger regularization on weights를 의미함\n",
    "\n",
    "mlp = MLPClassifier(max_iter = 500, alpha = 1, random_state = 0)\n",
    "model = mlp.fit(X_train2, y_train) \n",
    "pred = model.predict(X_test2)  # 학습된 Classifier로 테스트 데이터셋 자료를 투입해서 타겟변수 예측값 생성\n",
    "accuracy = accuracy_score(y_test, pred)\n",
    "\n",
    "print(\"Neural Network1 Accuracy on training set:{:.5f}\".format(model.score(X_train2, y_train)))\n",
    "print(\"Neural Network1 Accuracy on test set:{:.5f}\".format(accuracy_score(y_test, pred)))"
   ]
  },
  {
   "cell_type": "code",
   "execution_count": null,
   "metadata": {},
   "outputs": [],
   "source": []
  },
  {
   "cell_type": "code",
   "execution_count": 23,
   "metadata": {},
   "outputs": [],
   "source": [
    "# Neural Network 모델 (Default 모델)\n",
    "mlp = MLPClassifier(max_iter = 500, random_state = 0)"
   ]
  },
  {
   "cell_type": "code",
   "execution_count": 24,
   "metadata": {},
   "outputs": [
    {
     "name": "stdout",
     "output_type": "stream",
     "text": [
      "GridSearchCV max accuracy:0.66640\n",
      "GridSearchCV best parameter: {'activation': 'relu', 'alpha': 1, 'solver': 'lbfgs'}\n"
     ]
    },
    {
     "name": "stderr",
     "output_type": "stream",
     "text": [
      "C:\\Users\\jason\\anaconda3\\lib\\site-packages\\sklearn\\neural_network\\_multilayer_perceptron.py:500: ConvergenceWarning: lbfgs failed to converge (status=1):\n",
      "STOP: TOTAL NO. of ITERATIONS REACHED LIMIT.\n",
      "\n",
      "Increase the number of iterations (max_iter) or scale the data as shown in:\n",
      "    https://scikit-learn.org/stable/modules/preprocessing.html\n",
      "  self.n_iter_ = _check_optimize_result(\"lbfgs\", opt_res, self.max_iter)\n"
     ]
    }
   ],
   "source": [
    "# Neural Network 모델 (Default 모델)\n",
    "mlp = MLPClassifier(max_iter = 500, random_state = 0)\n",
    "\n",
    "from sklearn.model_selection import GridSearchCV\n",
    "from sklearn.model_selection import StratifiedKFold  \n",
    "\n",
    "# StratifiedKFold의 random_state 옵션값을 특정 숫자(예: 0)로 고정\n",
    "cross_validation = StratifiedKFold(n_splits=3, shuffle=True, random_state=0)\n",
    "params = {'solver':['lbfgs'], 'alpha':[1],\n",
    "          'activation':['tanh','relu', 'logistic']}\n",
    "\n",
    "grid_mlp = GridSearchCV(mlp, param_grid=params, scoring='accuracy', cv=cross_validation, n_jobs=-1)\n",
    "grid_mlp.fit(X_train2, y_train)\n",
    "\n",
    "print(\"GridSearchCV max accuracy:{:.5f}\".format(grid_mlp.best_score_))\n",
    "print(\"GridSearchCV best parameter:\", (grid_mlp.best_params_)) "
   ]
  },
  {
   "cell_type": "code",
   "execution_count": 25,
   "metadata": {},
   "outputs": [
    {
     "name": "stdout",
     "output_type": "stream",
     "text": [
      "GridSearchCV max accuracy:0.71843\n",
      "GridSearchCV best parameter: {'activation': 'logistic', 'alpha': 1, 'max_iter': 1000, 'solver': 'sgd'}\n"
     ]
    }
   ],
   "source": [
    "# Neural Network 모델 (Default 모델)\n",
    "mlp = MLPClassifier(max_iter = 500, random_state = 0)\n",
    "\n",
    "from sklearn.model_selection import GridSearchCV\n",
    "from sklearn.model_selection import StratifiedKFold  \n",
    "\n",
    "# StratifiedKFold의 random_state 옵션값을 특정 숫자(예: 0)로 고정\n",
    "cross_validation = StratifiedKFold(n_splits=3, shuffle=True, random_state=0)\n",
    "params = {'solver':['sgd'], 'alpha':[1], 'max_iter':[1000],\\\n",
    "         'activation':['tanh','relu', 'logistic']}\n",
    "\n",
    "grid_mlp = GridSearchCV(mlp, param_grid=params, scoring='accuracy', cv=cross_validation, n_jobs=-1)\n",
    "grid_mlp.fit(X_train2, y_train)\n",
    "\n",
    "print(\"GridSearchCV max accuracy:{:.5f}\".format(grid_mlp.best_score_))\n",
    "print(\"GridSearchCV best parameter:\", (grid_mlp.best_params_)) "
   ]
  },
  {
   "cell_type": "code",
   "execution_count": 26,
   "metadata": {},
   "outputs": [
    {
     "name": "stdout",
     "output_type": "stream",
     "text": [
      "GridSearchCV max accuracy:0.72117\n",
      "GridSearchCV best parameter: {'activation': 'logistic', 'alpha': 1, 'solver': 'adam'}\n"
     ]
    }
   ],
   "source": [
    "# Neural Network 모델 (Default 모델)\n",
    "mlp = MLPClassifier(max_iter = 500, random_state = 0)\n",
    "\n",
    "from sklearn.model_selection import GridSearchCV\n",
    "from sklearn.model_selection import StratifiedKFold  \n",
    "\n",
    "# StratifiedKFold의 random_state 옵션값을 특정 숫자(예: 0)로 고정\n",
    "cross_validation = StratifiedKFold(n_splits=3, shuffle=True, random_state=0)\n",
    "params = {'solver':['adam'], 'alpha':[1],\\\n",
    "         'activation':['tanh','relu', 'logistic']}\n",
    "\n",
    "grid_mlp = GridSearchCV(mlp, param_grid=params, scoring='accuracy', cv=cross_validation, n_jobs=-1)\n",
    "grid_mlp.fit(X_train2, y_train)\n",
    "\n",
    "print(\"GridSearchCV max accuracy:{:.5f}\".format(grid_mlp.best_score_))\n",
    "print(\"GridSearchCV best parameter:\", (grid_mlp.best_params_)) "
   ]
  },
  {
   "cell_type": "code",
   "execution_count": 27,
   "metadata": {},
   "outputs": [
    {
     "name": "stdout",
     "output_type": "stream",
     "text": [
      "GridSearchCV max accuracy:0.72117\n",
      "GridSearchCV best parameter: {'activation': 'logistic', 'alpha': 1, 'hidden_layer_sizes': (100,), 'max_iter': 1000, 'solver': 'adam'}\n",
      "Runtime of the program is 224.51609778404236\n"
     ]
    }
   ],
   "source": [
    "### adam 설정 최종 그리드서치\n",
    "import time\n",
    "start = time.time()\n",
    "\n",
    "# Neural Network 모델 (Default 모델)\n",
    "mlp = MLPClassifier(max_iter = 500, random_state = 0)\n",
    "\n",
    "from sklearn.model_selection import GridSearchCV\n",
    "from sklearn.model_selection import StratifiedKFold  \n",
    "\n",
    "# StratifiedKFold의 random_state 옵션값을 특정 숫자(예: 0)로 고정\n",
    "cross_validation = StratifiedKFold(n_splits=3, shuffle=True, random_state=0)\n",
    "\n",
    "params = {'solver':['adam'],\n",
    "          'alpha':[0.0001, 0.001, 0.01, 0.1, 1],\n",
    "          'max_iter':[1000],\n",
    "          'activation':['logistic'],\n",
    "          'hidden_layer_sizes': [(100,), (100,100)]\n",
    "         }\n",
    "\n",
    "grid_mlp = GridSearchCV(mlp, param_grid=params, scoring='accuracy', cv=cross_validation, n_jobs=-1)\n",
    "grid_mlp.fit(X_train2, y_train)\n",
    "\n",
    "print(\"GridSearchCV max accuracy:{:.5f}\".format(grid_mlp.best_score_))\n",
    "print(\"GridSearchCV best parameter:\", (grid_mlp.best_params_)) \n",
    "\n",
    "end = time.time()\n",
    "print(f\"Runtime of the program is {end - start}\")"
   ]
  },
  {
   "cell_type": "code",
   "execution_count": 28,
   "metadata": {},
   "outputs": [
    {
     "name": "stdout",
     "output_type": "stream",
     "text": [
      "Accuracy on test set:0.70575\n",
      "ROC AUC on test set:0.78030\n"
     ]
    }
   ],
   "source": [
    "best_clf = grid_mlp.best_estimator_\n",
    "pred = best_clf.predict(X_test2)\n",
    "print(\"Accuracy on test set:{:.5f}\".format(accuracy_score(y_test, pred)))\n",
    "\n",
    "from sklearn.metrics import roc_auc_score\n",
    "ROC_AUC = roc_auc_score(y_test,best_clf.predict_proba(X_test2)[:, 1])\n",
    "print(\"ROC AUC on test set:{:.5f}\".format(ROC_AUC))"
   ]
  },
  {
   "cell_type": "code",
   "execution_count": null,
   "metadata": {},
   "outputs": [],
   "source": []
  },
  {
   "cell_type": "code",
   "execution_count": 29,
   "metadata": {},
   "outputs": [
    {
     "name": "stdout",
     "output_type": "stream",
     "text": [
      "GridSearchCV max accuracy:0.72149\n",
      "GridSearchCV best parameter: {'activation': 'logistic', 'alpha': 0.1, 'hidden_layer_sizes': (100, 100), 'max_iter': 1000, 'solver': 'sgd'}\n",
      "Runtime of the program is 424.24806213378906\n"
     ]
    }
   ],
   "source": [
    "### sgd 설정 최종 그리드서치\n",
    "import time\n",
    "start = time.time()\n",
    "\n",
    "# Neural Network 모델 (Default 모델).\n",
    "mlp = MLPClassifier(max_iter = 500, random_state = 0)\n",
    "\n",
    "from sklearn.model_selection import GridSearchCV\n",
    "from sklearn.model_selection import StratifiedKFold  \n",
    "\n",
    "# StratifiedKFold의 random_state 옵션값을 특정 숫자(예: 0)로 고정합니다.\n",
    "cross_validation = StratifiedKFold(n_splits=3, shuffle=True, random_state=0)\n",
    "\n",
    "params = {'solver':['sgd'],\n",
    "          'alpha':[0.0001, 0.001, 0.01, 0.1, 1],\n",
    "          'max_iter':[1000],\n",
    "          'activation':['logistic'],\n",
    "          'hidden_layer_sizes': [(100,), (100,100)]\n",
    "         }\n",
    "\n",
    "grid_mlp = GridSearchCV(mlp, param_grid=params, scoring='accuracy', cv=cross_validation, n_jobs=-1)\n",
    "grid_mlp.fit(X_train2, y_train)\n",
    "\n",
    "print(\"GridSearchCV max accuracy:{:.5f}\".format(grid_mlp.best_score_))\n",
    "print(\"GridSearchCV best parameter:\", (grid_mlp.best_params_)) \n",
    "\n",
    "end = time.time()\n",
    "print(f\"Runtime of the program is {end - start}\")"
   ]
  },
  {
   "cell_type": "code",
   "execution_count": 30,
   "metadata": {},
   "outputs": [
    {
     "name": "stdout",
     "output_type": "stream",
     "text": [
      "Accuracy on test set:0.73104\n",
      "ROC AUC on test set:0.78526\n"
     ]
    }
   ],
   "source": [
    "best_clf = grid_mlp.best_estimator_\n",
    "pred = best_clf.predict(X_test2)\n",
    "print(\"Accuracy on test set:{:.5f}\".format(accuracy_score(y_test, pred)))\n",
    "\n",
    "from sklearn.metrics import roc_auc_score\n",
    "ROC_AUC = roc_auc_score(y_test,best_clf.predict_proba(X_test2)[:, 1])\n",
    "print(\"ROC AUC on test set:{:.5f}\".format(ROC_AUC))"
   ]
  },
  {
   "cell_type": "code",
   "execution_count": null,
   "metadata": {},
   "outputs": [],
   "source": []
  }
 ],
 "metadata": {
  "kernelspec": {
   "display_name": "Python 3 (ipykernel)",
   "language": "python",
   "name": "python3"
  },
  "language_info": {
   "codemirror_mode": {
    "name": "ipython",
    "version": 3
   },
   "file_extension": ".py",
   "mimetype": "text/x-python",
   "name": "python",
   "nbconvert_exporter": "python",
   "pygments_lexer": "ipython3",
   "version": "3.9.7"
  }
 },
 "nbformat": 4,
 "nbformat_minor": 2
}
