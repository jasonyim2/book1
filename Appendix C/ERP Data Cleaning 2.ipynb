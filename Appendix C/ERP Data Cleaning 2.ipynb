{
 "cells": [
  {
   "cell_type": "markdown",
   "metadata": {},
   "source": [
    "# C.4.6 기타 변수 데이터 처리 3"
   ]
  },
  {
   "cell_type": "code",
   "execution_count": 1,
   "metadata": {},
   "outputs": [
    {
     "name": "stderr",
     "output_type": "stream",
     "text": [
      "C:\\ProgramData\\Anaconda3\\lib\\site-packages\\IPython\\core\\interactiveshell.py:3165: DtypeWarning: Columns (101,106,123,124,125,126,127,128,129,130,131,132,133,134,135,136,137,138,139,140,141,142,143,144,145,157,161,162,163,164,165,166,167,168,169,170,171,172,173,174,175,176,177,178,179,180,181,182,183,184,185,186,187,188,189,190,191,192,193,194,195,196,197,198,199,200,201,202) have mixed types.Specify dtype option on import or set low_memory=False.\n",
      "  has_raised = await self.run_ast_nodes(code_ast.body, cell_name,\n"
     ]
    },
    {
     "data": {
      "text/plain": [
       "(100247, 253)"
      ]
     },
     "execution_count": 1,
     "metadata": {},
     "output_type": "execute_result"
    }
   ],
   "source": [
    "import pandas as pd\n",
    "import numpy as np\n",
    "import matplotlib as plt\n",
    "pd.set_option('display.max_columns', None)\n",
    "pd.set_option('display.max_rows', None)\n",
    "df = pd.read_csv('2006_2014_DC1.csv')   # 앞 절까지 처리한 데이터를 다시 불러온다.\n",
    "df.shape"
   ]
  },
  {
   "cell_type": "code",
   "execution_count": 2,
   "metadata": {},
   "outputs": [
    {
     "data": {
      "text/plain": [
       "Year                    int64\n",
       "Area                    int64\n",
       "IndCategory1           object\n",
       "IndCategory2            int64\n",
       "CompanyID               int64\n",
       "StockMktListing         int64\n",
       "Emp_total               int64\n",
       "Emp_male              float64\n",
       "Emp_female            float64\n",
       "emp1                  float64\n",
       "emp2                    int64\n",
       "emp3                  float64\n",
       "emp4                  float64\n",
       "emp5                  float64\n",
       "emp6                    int64\n",
       "emp7                  float64\n",
       "emp8                  float64\n",
       "emp9                  float64\n",
       "emp10                 float64\n",
       "emp11                 float64\n",
       "emp12                 float64\n",
       "emp13                 float64\n",
       "emp14                 float64\n",
       "emp15                 float64\n",
       "emp16                 float64\n",
       "emp17                 float64\n",
       "emp18                 float64\n",
       "emp19                 float64\n",
       "emp20                 float64\n",
       "emp21                 float64\n",
       "emp22                 float64\n",
       "emp23                 float64\n",
       "emp24                 float64\n",
       "emp25                 float64\n",
       "emp26                 float64\n",
       "emp27                 float64\n",
       "emp28                 float64\n",
       "emp29                 float64\n",
       "emp30                 float64\n",
       "emp31                 float64\n",
       "emp32                 float64\n",
       "emp33                 float64\n",
       "emp34                 float64\n",
       "emp35                 float64\n",
       "emp36                 float64\n",
       "emp37                 float64\n",
       "emp38                 float64\n",
       "emp39                 float64\n",
       "emp40                 float64\n",
       "emp41                 float64\n",
       "emp42                 float64\n",
       "emp43                 float64\n",
       "emp44                 float64\n",
       "emp45                 float64\n",
       "emp46                 float64\n",
       "emp47                 float64\n",
       "emp48                 float64\n",
       "emp49                 float64\n",
       "emp50                 float64\n",
       "emp51                 float64\n",
       "emp52                 float64\n",
       "emp53                 float64\n",
       "emp54                 float64\n",
       "emp55                 float64\n",
       "emp56                 float64\n",
       "emp57                 float64\n",
       "emp58                 float64\n",
       "emp59                 float64\n",
       "emp60                 float64\n",
       "emp61                 float64\n",
       "emp62                 float64\n",
       "emp63                 float64\n",
       "emp64                 float64\n",
       "emp65                 float64\n",
       "emp66                 float64\n",
       "emp67                 float64\n",
       "emp68                 float64\n",
       "emp69                 float64\n",
       "emp70                 float64\n",
       "emp71                 float64\n",
       "TAssetC1              float64\n",
       "TAssetC2              float64\n",
       "TAssetC3              float64\n",
       "TAssetC4              float64\n",
       "TAssetC5              float64\n",
       "TAssetC6              float64\n",
       "TAssetC7              float64\n",
       "TAssetC8              float64\n",
       "ITAssetC              float64\n",
       "Patent1               float64\n",
       "Patent2               float64\n",
       "Patent3               float64\n",
       "UMR1                  float64\n",
       "UMR2                  float64\n",
       "UMR3                  float64\n",
       "Design1               float64\n",
       "Design2               float64\n",
       "Design3               float64\n",
       "TradeMark1            float64\n",
       "TradeMark2            float64\n",
       "TradeMark3            float64\n",
       "Subsidiary1            object\n",
       "Subsidiary2           float64\n",
       "Subsidiary3           float64\n",
       "Subsidiary4           float64\n",
       "Subsidiary5           float64\n",
       "ParentCompany1         object\n",
       "ParentCompany2        float64\n",
       "ParentCompany3        float64\n",
       "ParentCompany4        float64\n",
       "B2B_revenue           float64\n",
       "B2B_export1           float64\n",
       "B2B_export2           float64\n",
       "B2B_purchase1         float64\n",
       "B2B_purchase2         float64\n",
       "B2B_import1           float64\n",
       "B2B_import2           float64\n",
       "OutsourcingCost       float64\n",
       "RNDcost1              float64\n",
       "RNDcost2              float64\n",
       "RNDcost3              float64\n",
       "RNDcost4              float64\n",
       "RNDcost5              float64\n",
       "Outsourcing1           object\n",
       "Outsourcing2           object\n",
       "Outsourcing3           object\n",
       "Outsourcing4           object\n",
       "Outsourcing5           object\n",
       "Outsourcing6           object\n",
       "Outsourcing7           object\n",
       "Outsourcing8           object\n",
       "Outsourcing9           object\n",
       "Outsourcing10          object\n",
       "Outsourcing11          object\n",
       "Outsourcing12          object\n",
       "Outsourcing13          object\n",
       "EBizSystem1            object\n",
       "EBizSystem2            object\n",
       "EBizSystem3            object\n",
       "EBizSystem4            object\n",
       "EBizSystem5            object\n",
       "EBizSystem6            object\n",
       "EBizSystem7            object\n",
       "EBizSystem8            object\n",
       "EBizSystem9            object\n",
       "EBizSystem10           object\n",
       "Franchise1              int64\n",
       "Franchise2            float64\n",
       "Overseas1               int64\n",
       "Overseas2             float64\n",
       "Overseas3             float64\n",
       "Overseas4             float64\n",
       "Overseas5             float64\n",
       "Overseas6             float64\n",
       "Overseas7             float64\n",
       "Overseas8             float64\n",
       "Overseas9             float64\n",
       "NewEntry3              object\n",
       "NewEntry1             float64\n",
       "NewEntry2             float64\n",
       "SAlliance1              int64\n",
       "SAlliance2             object\n",
       "SAlliance3             object\n",
       "SAlliance4             object\n",
       "SAlliance5             object\n",
       "SAlliance6             object\n",
       "SAlliance7             object\n",
       "SAlliance8             object\n",
       "SAlliance9             object\n",
       "SAlliance10            object\n",
       "SAlliance11            object\n",
       "SAlliance12            object\n",
       "SAlliance13            object\n",
       "SAlliance14            object\n",
       "SAlliance15            object\n",
       "SAlliance16            object\n",
       "SAlliance17            object\n",
       "SAlliance18            object\n",
       "SAlliance19            object\n",
       "SAlliance20            object\n",
       "SAlliance21            object\n",
       "SAlliance22            object\n",
       "SAlliance23            object\n",
       "SAlliance24            object\n",
       "SAlliance25            object\n",
       "SAlliance26            object\n",
       "SAlliance27            object\n",
       "SAlliance28            object\n",
       "SAlliance29            object\n",
       "SAlliance30            object\n",
       "SAlliance31            object\n",
       "SAlliance32            object\n",
       "SAlliance33            object\n",
       "SAlliance34            object\n",
       "SAlliance35            object\n",
       "SAlliance36            object\n",
       "SAlliance37            object\n",
       "SAlliance38            object\n",
       "SAlliance39            object\n",
       "SAlliance40            object\n",
       "SAlliance41            object\n",
       "SAlliance42            object\n",
       "SAlliance43            object\n",
       "Compensation1         float64\n",
       "Compensation2         float64\n",
       "Compensation3         float64\n",
       "Compensation4         float64\n",
       "EquityShareCapital    float64\n",
       "Asset1                  int64\n",
       "Asset2                  int64\n",
       "Asset3                float64\n",
       "Asset4                float64\n",
       "Asset5                float64\n",
       "Asset6                float64\n",
       "Asset7                float64\n",
       "Asset8                float64\n",
       "Asset9                float64\n",
       "Liability1              int64\n",
       "Liability2            float64\n",
       "Liability3            float64\n",
       "Capital1                int64\n",
       "Capital2              float64\n",
       "RevProfit1              int64\n",
       "Cost1                   int64\n",
       "Cost2                   int64\n",
       "RevProfit2              int64\n",
       "Cost3                   int64\n",
       "NProfitB4Tax            int64\n",
       "Cost4                 float64\n",
       "Cost5                 float64\n",
       "Cost6                 float64\n",
       "Cost7                 float64\n",
       "Cost8                   int64\n",
       "Cost9                   int64\n",
       "Cost10                  int64\n",
       "Cost11                float64\n",
       "Cost12                float64\n",
       "Cost13                float64\n",
       "Cost14                  int64\n",
       "Cost15                float64\n",
       "Cost16                float64\n",
       "Cost17                float64\n",
       "EBIZSystem2005_1      float64\n",
       "EBIZSystem2005_2      float64\n",
       "EBIZSystem2005_3      float64\n",
       "EBIZSystem2005_4      float64\n",
       "EBIZSystem2005_5      float64\n",
       "EBIZSystem2005_6      float64\n",
       "EBIZSystem2005_7      float64\n",
       "EBIZSystem2005_8      float64\n",
       "EBIZSystem2005_9      float64\n",
       "EBIZSystem2005_10     float64\n",
       "CapitalRatio1         float64\n",
       "dtype: object"
      ]
     },
     "execution_count": 2,
     "metadata": {},
     "output_type": "execute_result"
    }
   ],
   "source": [
    "df.dtypes"
   ]
  },
  {
   "cell_type": "code",
   "execution_count": 3,
   "metadata": {},
   "outputs": [
    {
     "data": {
      "text/plain": [
       "0"
      ]
     },
     "execution_count": 3,
     "metadata": {},
     "output_type": "execute_result"
    }
   ],
   "source": [
    "df['Subsidiary1'].isnull().sum() #값은 0"
   ]
  },
  {
   "cell_type": "code",
   "execution_count": 4,
   "metadata": {},
   "outputs": [
    {
     "data": {
      "text/plain": [
       "2    48731\n",
       "1    33493\n",
       "N     6756\n",
       "0     5735\n",
       "Y     3868\n",
       "0      837\n",
       "1      827\n",
       "Name: Subsidiary1, dtype: int64"
      ]
     },
     "execution_count": 4,
     "metadata": {},
     "output_type": "execute_result"
    }
   ],
   "source": [
    "df['Subsidiary1'].value_counts(dropna=False) #N, Y, 0, 1, 2가 섞여 있음 "
   ]
  },
  {
   "cell_type": "code",
   "execution_count": 5,
   "metadata": {},
   "outputs": [
    {
     "data": {
      "text/plain": [
       "52422"
      ]
     },
     "execution_count": 5,
     "metadata": {},
     "output_type": "execute_result"
    }
   ],
   "source": [
    "df['Outsourcing1'].isnull().sum() # null value 갯수를 찾았더니 52,422개 나옴."
   ]
  },
  {
   "cell_type": "code",
   "execution_count": 6,
   "metadata": {},
   "outputs": [
    {
     "data": {
      "text/plain": [
       "NaN    52422\n",
       "0.0    22874\n",
       "1.0    20856\n",
       "Y       2469\n",
       "0       1331\n",
       "1        295\n",
       "Name: Outsourcing1, dtype: int64"
      ]
     },
     "execution_count": 6,
     "metadata": {},
     "output_type": "execute_result"
    }
   ],
   "source": [
    "df['Outsourcing1'].value_counts(dropna=False) # NaN, 0, 1, Y가 섞여 있음   \n",
    "                                              # 이것은 더미 변수이므로 NaN은 0, Y는 1로 정리해 주어야 함."
   ]
  },
  {
   "cell_type": "code",
   "execution_count": 2,
   "metadata": {},
   "outputs": [],
   "source": [
    "df['Outsourcing1']  = df['Outsourcing1'].replace('Y', 1).fillna(0).astype(np.int64)\n",
    "df['Outsourcing2']  = df['Outsourcing2'].replace('Y', 1).fillna(0).astype(np.int64)\n",
    "df['Outsourcing3']  = df['Outsourcing3'].replace('Y', 1).fillna(0).astype(np.int64)\n",
    "df['Outsourcing4']  = df['Outsourcing4'].replace('Y', 1).fillna(0).astype(np.int64)\n",
    "df['Outsourcing5']  = df['Outsourcing5'].replace('Y', 1).fillna(0).astype(np.int64)\n",
    "df['Outsourcing6']  = df['Outsourcing6'].replace('Y', 1).fillna(0).astype(np.int64)\n",
    "df['Outsourcing7']  = df['Outsourcing7'].replace('Y', 1).fillna(0).astype(np.int64)\n",
    "df['Outsourcing8']  = df['Outsourcing8'].replace('Y', 1).fillna(0).astype(np.int64)\n",
    "df['Outsourcing9']  = df['Outsourcing9'].replace('Y', 1).fillna(0).astype(np.int64)\n",
    "df['Outsourcing10'] = df['Outsourcing10'].replace('Y', 1).fillna(0).astype(np.int64)\n",
    "df['Outsourcing11'] = df['Outsourcing11'].replace('Y', 1).fillna(0).astype(np.int64)\n",
    "df['Outsourcing12'] = df['Outsourcing12'].replace('Y', 1).fillna(0).astype(np.int64)\n",
    "df['Outsourcing13'] = df['Outsourcing13'].replace('Y', 1).fillna(0).astype(np.int64)"
   ]
  },
  {
   "cell_type": "code",
   "execution_count": 3,
   "metadata": {},
   "outputs": [
    {
     "data": {
      "text/plain": [
       "0    76627\n",
       "1    23620\n",
       "Name: Outsourcing1, dtype: int64"
      ]
     },
     "execution_count": 3,
     "metadata": {},
     "output_type": "execute_result"
    }
   ],
   "source": [
    "df['Outsourcing1'].value_counts(dropna=False)   # 이제 값이 0과 1로 통일돼 있고 dtype도 integer임 "
   ]
  },
  {
   "cell_type": "code",
   "execution_count": 9,
   "metadata": {},
   "outputs": [
    {
     "data": {
      "text/plain": [
       "34935"
      ]
     },
     "execution_count": 9,
     "metadata": {},
     "output_type": "execute_result"
    }
   ],
   "source": [
    "df['EBizSystem2'].isnull().sum()   # null value 갯수를 찾았더니 34,935개 나옴"
   ]
  },
  {
   "cell_type": "code",
   "execution_count": 10,
   "metadata": {},
   "outputs": [
    {
     "data": {
      "text/plain": [
       "1.0    45057\n",
       "NaN    34935\n",
       "0.0    13588\n",
       "Y       5036\n",
       "1       1044\n",
       "0        587\n",
       "Name: EBizSystem2, dtype: int64"
      ]
     },
     "execution_count": 10,
     "metadata": {},
     "output_type": "execute_result"
    }
   ],
   "source": [
    "df['EBizSystem2'].value_counts(dropna=False)   # 결과를 보면 NaN, 0, 1, Y가 섞여 있음 "
   ]
  },
  {
   "cell_type": "code",
   "execution_count": 4,
   "metadata": {},
   "outputs": [],
   "source": [
    "df['EBizSystem2'] = df['EBizSystem2'].replace('Y', 1).fillna(0).astype(np.int64) \n",
    "df['EBizSystem3'] = df['EBizSystem3'].replace('Y', 1).fillna(0).astype(np.int64) \n",
    "df['EBizSystem4'] = df['EBizSystem4'].replace('Y', 1).fillna(0).astype(np.int64) \n",
    "df['EBizSystem5'] = df['EBizSystem5'].replace('Y', 1).fillna(0).astype(np.int64) \n",
    "df['EBizSystem6'] = df['EBizSystem6'].replace('Y', 1).fillna(0).astype(np.int64) \n",
    "df['EBizSystem7'] = df['EBizSystem7'].replace('Y', 1).fillna(0).astype(np.int64) \n",
    "df['EBizSystem8'] = df['EBizSystem8'].replace('Y', 1).fillna(0).astype(np.int64) \n",
    "df['EBizSystem9'] = df['EBizSystem9'].replace('Y', 1).fillna(0).astype(np.int64) \n",
    "df['EBizSystem10'] = df['EBizSystem10'].replace('Y', 1).fillna(0).astype(np.int64) "
   ]
  },
  {
   "cell_type": "code",
   "execution_count": 5,
   "metadata": {},
   "outputs": [
    {
     "data": {
      "text/plain": [
       "1    51137\n",
       "0    49110\n",
       "Name: EBizSystem2, dtype: int64"
      ]
     },
     "execution_count": 5,
     "metadata": {},
     "output_type": "execute_result"
    }
   ],
   "source": [
    "df['EBizSystem2'].value_counts(dropna=False)   "
   ]
  },
  {
   "cell_type": "code",
   "execution_count": 6,
   "metadata": {},
   "outputs": [
    {
     "data": {
      "text/plain": [
       "0    70017\n",
       "1    30230\n",
       "Name: EBizSystem11, dtype: int64"
      ]
     },
     "execution_count": 6,
     "metadata": {},
     "output_type": "execute_result"
    }
   ],
   "source": [
    "# EBizSystem의 새로운 변수인 EBizSystem11생성 \n",
    "# EBizSystem3 to 10까지 모두 값이 0이면 0, 아니면 1\n",
    "\n",
    "c3 = df['EBizSystem3'] == 0\n",
    "c4 = df['EBizSystem4'] == 0\n",
    "c5 = df['EBizSystem5'] == 0\n",
    "c6 = df['EBizSystem6'] == 0\n",
    "c7 = df['EBizSystem7'] == 0\n",
    "c8 = df['EBizSystem8'] == 0\n",
    "c9 = df['EBizSystem9'] == 0\n",
    "c10 = df['EBizSystem10'] == 0\n",
    "\n",
    "df['EBizSystem11'] = np.where( (c3) & (c4) & (c5) & (c6) & (c7) & (c8) & (c9) & (c10), 0, 1)\n",
    "df['EBizSystem11'].value_counts(dropna=False)"
   ]
  },
  {
   "cell_type": "code",
   "execution_count": 7,
   "metadata": {},
   "outputs": [
    {
     "data": {
      "text/plain": [
       "0    70017\n",
       "1    20033\n",
       "2     6085\n",
       "3     2161\n",
       "4     1105\n",
       "5      472\n",
       "6      225\n",
       "7      140\n",
       "8        9\n",
       "Name: EBizSystem12, dtype: int64"
      ]
     },
     "execution_count": 7,
     "metadata": {},
     "output_type": "execute_result"
    }
   ],
   "source": [
    "#EBizSystem의 새로운 변수인 EBizSystem12생성하되 EBizSystem3 to 10까지 값들의 합계로 설정\n",
    "\n",
    "df['EBizSystem12'] =  df['EBizSystem3'] + df['EBizSystem4'] + df['EBizSystem5'] + df['EBizSystem6'] \\\n",
    "                     + df['EBizSystem7'] + df['EBizSystem8'] + df['EBizSystem9'] + df['EBizSystem10']\n",
    "df['EBizSystem12'].value_counts()"
   ]
  },
  {
   "cell_type": "code",
   "execution_count": 8,
   "metadata": {},
   "outputs": [
    {
     "data": {
      "text/plain": [
       "(100247, 255)"
      ]
     },
     "execution_count": 8,
     "metadata": {},
     "output_type": "execute_result"
    }
   ],
   "source": [
    "df.shape"
   ]
  },
  {
   "cell_type": "code",
   "execution_count": 9,
   "metadata": {},
   "outputs": [],
   "source": [
    "# drop(inplace=True)가 들어간 코딩문은 한 번만 실행해야 함에 유의\n",
    "\n",
    "df.drop(['EBizSystem1'], axis=1, inplace=True)"
   ]
  },
  {
   "cell_type": "code",
   "execution_count": 10,
   "metadata": {},
   "outputs": [
    {
     "data": {
      "text/plain": [
       "(100247, 254)"
      ]
     },
     "execution_count": 10,
     "metadata": {},
     "output_type": "execute_result"
    }
   ],
   "source": [
    "df.shape"
   ]
  },
  {
   "cell_type": "code",
   "execution_count": 18,
   "metadata": {
    "collapsed": true
   },
   "outputs": [
    {
     "data": {
      "text/plain": [
       "SAlliance38    0.978992\n",
       "SAlliance32    0.978034\n",
       "SAlliance26    0.976777\n",
       "SAlliance20    0.975181\n",
       "SAlliance8     0.972478\n",
       "SAlliance2     0.969934\n",
       "SAlliance14    0.967999\n",
       "SAlliance43    0.875448\n",
       "SAlliance41    0.875288\n",
       "SAlliance42    0.875268\n",
       "SAlliance40    0.875099\n",
       "SAlliance39    0.874809\n",
       "SAlliance37    0.768252\n",
       "SAlliance31    0.768163\n",
       "SAlliance13    0.768133\n",
       "SAlliance29    0.768043\n",
       "SAlliance35    0.767913\n",
       "SAlliance7     0.767893\n",
       "SAlliance19    0.767784\n",
       "SAlliance36    0.767514\n",
       "SAlliance23    0.767474\n",
       "SAlliance25    0.767424\n",
       "SAlliance30    0.767185\n",
       "SAlliance34    0.767045\n",
       "SAlliance21    0.767025\n",
       "SAlliance17    0.767015\n",
       "SAlliance33    0.766826\n",
       "SAlliance22    0.766796\n",
       "SAlliance11    0.766696\n",
       "SAlliance27    0.766527\n",
       "SAlliance12    0.766437\n",
       "SAlliance6     0.766257\n",
       "SAlliance5     0.766088\n",
       "SAlliance28    0.765769\n",
       "SAlliance16    0.763644\n",
       "SAlliance10    0.763205\n",
       "SAlliance3     0.763005\n",
       "SAlliance15    0.762955\n",
       "SAlliance24    0.762955\n",
       "SAlliance18    0.762886\n",
       "SAlliance4     0.762646\n",
       "SAlliance9     0.762138\n",
       "dtype: float64"
      ]
     },
     "execution_count": 18,
     "metadata": {},
     "output_type": "execute_result"
    }
   ],
   "source": [
    "df1 = df.loc[:,'SAlliance2':'SAlliance43']       # SAlliance2부터 43까지 컬럼을 df1에 모음\n",
    "df1.isnull().mean().sort_values(ascending=False) # 결측값 비율을 내림차순으로 보여주기"
   ]
  },
  {
   "cell_type": "code",
   "execution_count": 11,
   "metadata": {},
   "outputs": [],
   "source": [
    "df2006 = df.loc[df['Year'] == 2006]   # Year 변수가 2006을 값으로 갖는 행은 모두 df2006에 저장\n",
    "df2007 = df.loc[df['Year'] == 2007]   # 이하 2007년부터 2014년까지 동일 과정 수행\n",
    "df2008 = df.loc[df['Year'] == 2008]\n",
    "df2009 = df.loc[df['Year'] == 2009]\n",
    "df2010 = df.loc[df['Year'] == 2010]\n",
    "df2011 = df.loc[df['Year'] == 2011]\n",
    "df2012 = df.loc[df['Year'] == 2012]\n",
    "df2013 = df.loc[df['Year'] == 2013]\n",
    "df2014 = df.loc[df['Year'] == 2014]"
   ]
  },
  {
   "cell_type": "code",
   "execution_count": 12,
   "metadata": {},
   "outputs": [
    {
     "data": {
      "text/plain": [
       "(12417, 254)"
      ]
     },
     "execution_count": 12,
     "metadata": {},
     "output_type": "execute_result"
    }
   ],
   "source": [
    "df2014.shape"
   ]
  },
  {
   "cell_type": "code",
   "execution_count": 13,
   "metadata": {},
   "outputs": [
    {
     "data": {
      "text/plain": [
       "Year                    int64\n",
       "Area                    int64\n",
       "IndCategory1           object\n",
       "IndCategory2            int64\n",
       "CompanyID               int64\n",
       "StockMktListing         int64\n",
       "Emp_total               int64\n",
       "Emp_male              float64\n",
       "Emp_female            float64\n",
       "emp1                  float64\n",
       "emp2                    int64\n",
       "emp3                  float64\n",
       "emp4                  float64\n",
       "emp5                  float64\n",
       "emp6                    int64\n",
       "emp7                  float64\n",
       "emp8                  float64\n",
       "emp9                  float64\n",
       "emp10                 float64\n",
       "emp11                 float64\n",
       "emp12                 float64\n",
       "emp13                 float64\n",
       "emp14                 float64\n",
       "emp15                 float64\n",
       "emp16                 float64\n",
       "emp17                 float64\n",
       "emp18                 float64\n",
       "emp19                 float64\n",
       "emp20                 float64\n",
       "emp21                 float64\n",
       "emp22                 float64\n",
       "emp23                 float64\n",
       "emp24                 float64\n",
       "emp25                 float64\n",
       "emp26                 float64\n",
       "emp27                 float64\n",
       "emp28                 float64\n",
       "emp29                 float64\n",
       "emp30                 float64\n",
       "emp31                 float64\n",
       "emp32                 float64\n",
       "emp33                 float64\n",
       "emp34                 float64\n",
       "emp35                 float64\n",
       "emp36                 float64\n",
       "emp37                 float64\n",
       "emp38                 float64\n",
       "emp39                 float64\n",
       "emp40                 float64\n",
       "emp41                 float64\n",
       "emp42                 float64\n",
       "emp43                 float64\n",
       "emp44                 float64\n",
       "emp45                 float64\n",
       "emp46                 float64\n",
       "emp47                 float64\n",
       "emp48                 float64\n",
       "emp49                 float64\n",
       "emp50                 float64\n",
       "emp51                 float64\n",
       "emp52                 float64\n",
       "emp53                 float64\n",
       "emp54                 float64\n",
       "emp55                 float64\n",
       "emp56                 float64\n",
       "emp57                 float64\n",
       "emp58                 float64\n",
       "emp59                 float64\n",
       "emp60                 float64\n",
       "emp61                 float64\n",
       "emp62                 float64\n",
       "emp63                 float64\n",
       "emp64                 float64\n",
       "emp65                 float64\n",
       "emp66                 float64\n",
       "emp67                 float64\n",
       "emp68                 float64\n",
       "emp69                 float64\n",
       "emp70                 float64\n",
       "emp71                 float64\n",
       "TAssetC1              float64\n",
       "TAssetC2              float64\n",
       "TAssetC3              float64\n",
       "TAssetC4              float64\n",
       "TAssetC5              float64\n",
       "TAssetC6              float64\n",
       "TAssetC7              float64\n",
       "TAssetC8              float64\n",
       "ITAssetC              float64\n",
       "Patent1               float64\n",
       "Patent2               float64\n",
       "Patent3               float64\n",
       "UMR1                  float64\n",
       "UMR2                  float64\n",
       "UMR3                  float64\n",
       "Design1               float64\n",
       "Design2               float64\n",
       "Design3               float64\n",
       "TradeMark1            float64\n",
       "TradeMark2            float64\n",
       "TradeMark3            float64\n",
       "Subsidiary1            object\n",
       "Subsidiary2           float64\n",
       "Subsidiary3           float64\n",
       "Subsidiary4           float64\n",
       "Subsidiary5           float64\n",
       "ParentCompany1         object\n",
       "ParentCompany2        float64\n",
       "ParentCompany3        float64\n",
       "ParentCompany4        float64\n",
       "B2B_revenue           float64\n",
       "B2B_export1           float64\n",
       "B2B_export2           float64\n",
       "B2B_purchase1         float64\n",
       "B2B_purchase2         float64\n",
       "B2B_import1           float64\n",
       "B2B_import2           float64\n",
       "OutsourcingCost       float64\n",
       "RNDcost1              float64\n",
       "RNDcost2              float64\n",
       "RNDcost3              float64\n",
       "RNDcost4              float64\n",
       "RNDcost5              float64\n",
       "Outsourcing1            int64\n",
       "Outsourcing2            int64\n",
       "Outsourcing3            int64\n",
       "Outsourcing4            int64\n",
       "Outsourcing5            int64\n",
       "Outsourcing6            int64\n",
       "Outsourcing7            int64\n",
       "Outsourcing8            int64\n",
       "Outsourcing9            int64\n",
       "Outsourcing10           int64\n",
       "Outsourcing11           int64\n",
       "Outsourcing12           int64\n",
       "Outsourcing13           int64\n",
       "EBizSystem2             int64\n",
       "EBizSystem3             int64\n",
       "EBizSystem4             int64\n",
       "EBizSystem5             int64\n",
       "EBizSystem6             int64\n",
       "EBizSystem7             int64\n",
       "EBizSystem8             int64\n",
       "EBizSystem9             int64\n",
       "EBizSystem10            int64\n",
       "Franchise1              int64\n",
       "Franchise2            float64\n",
       "Overseas1               int64\n",
       "Overseas2             float64\n",
       "Overseas3             float64\n",
       "Overseas4             float64\n",
       "Overseas5             float64\n",
       "Overseas6             float64\n",
       "Overseas7             float64\n",
       "Overseas8             float64\n",
       "Overseas9             float64\n",
       "NewEntry3              object\n",
       "NewEntry1             float64\n",
       "NewEntry2             float64\n",
       "SAlliance1              int64\n",
       "SAlliance2             object\n",
       "SAlliance3             object\n",
       "SAlliance4             object\n",
       "SAlliance5             object\n",
       "SAlliance6             object\n",
       "SAlliance7             object\n",
       "SAlliance8             object\n",
       "SAlliance9             object\n",
       "SAlliance10            object\n",
       "SAlliance11            object\n",
       "SAlliance12            object\n",
       "SAlliance13            object\n",
       "SAlliance14            object\n",
       "SAlliance15            object\n",
       "SAlliance16            object\n",
       "SAlliance17            object\n",
       "SAlliance18            object\n",
       "SAlliance19            object\n",
       "SAlliance20            object\n",
       "SAlliance21            object\n",
       "SAlliance22            object\n",
       "SAlliance23            object\n",
       "SAlliance24            object\n",
       "SAlliance25            object\n",
       "SAlliance26            object\n",
       "SAlliance27            object\n",
       "SAlliance28            object\n",
       "SAlliance29            object\n",
       "SAlliance30            object\n",
       "SAlliance31            object\n",
       "SAlliance32            object\n",
       "SAlliance33            object\n",
       "SAlliance34            object\n",
       "SAlliance35            object\n",
       "SAlliance36            object\n",
       "SAlliance37            object\n",
       "SAlliance38            object\n",
       "SAlliance39            object\n",
       "SAlliance40            object\n",
       "SAlliance41            object\n",
       "SAlliance42            object\n",
       "SAlliance43            object\n",
       "Compensation1         float64\n",
       "Compensation2         float64\n",
       "Compensation3         float64\n",
       "Compensation4         float64\n",
       "EquityShareCapital    float64\n",
       "Asset1                  int64\n",
       "Asset2                  int64\n",
       "Asset3                float64\n",
       "Asset4                float64\n",
       "Asset5                float64\n",
       "Asset6                float64\n",
       "Asset7                float64\n",
       "Asset8                float64\n",
       "Asset9                float64\n",
       "Liability1              int64\n",
       "Liability2            float64\n",
       "Liability3            float64\n",
       "Capital1                int64\n",
       "Capital2              float64\n",
       "RevProfit1              int64\n",
       "Cost1                   int64\n",
       "Cost2                   int64\n",
       "RevProfit2              int64\n",
       "Cost3                   int64\n",
       "NProfitB4Tax            int64\n",
       "Cost4                 float64\n",
       "Cost5                 float64\n",
       "Cost6                 float64\n",
       "Cost7                 float64\n",
       "Cost8                   int64\n",
       "Cost9                   int64\n",
       "Cost10                  int64\n",
       "Cost11                float64\n",
       "Cost12                float64\n",
       "Cost13                float64\n",
       "Cost14                  int64\n",
       "Cost15                float64\n",
       "Cost16                float64\n",
       "Cost17                float64\n",
       "EBIZSystem2005_1      float64\n",
       "EBIZSystem2005_2      float64\n",
       "EBIZSystem2005_3      float64\n",
       "EBIZSystem2005_4      float64\n",
       "EBIZSystem2005_5      float64\n",
       "EBIZSystem2005_6      float64\n",
       "EBIZSystem2005_7      float64\n",
       "EBIZSystem2005_8      float64\n",
       "EBIZSystem2005_9      float64\n",
       "EBIZSystem2005_10     float64\n",
       "CapitalRatio1         float64\n",
       "EBizSystem11            int32\n",
       "EBizSystem12            int64\n",
       "dtype: object"
      ]
     },
     "execution_count": 13,
     "metadata": {},
     "output_type": "execute_result"
    }
   ],
   "source": [
    "df2014.dtypes"
   ]
  },
  {
   "cell_type": "code",
   "execution_count": 22,
   "metadata": {},
   "outputs": [
    {
     "data": {
      "text/plain": [
       "Subsidiary1       object\n",
       "ParentCompany1    object\n",
       "NewEntry3         object\n",
       "dtype: object"
      ]
     },
     "execution_count": 22,
     "metadata": {},
     "output_type": "execute_result"
    }
   ],
   "source": [
    "df2014[['Subsidiary1','ParentCompany1','NewEntry3' ]].dtypes"
   ]
  },
  {
   "cell_type": "code",
   "execution_count": 15,
   "metadata": {},
   "outputs": [
    {
     "data": {
      "text/plain": [
       "2    7424\n",
       "1    4993\n",
       "Name: Subsidiary1, dtype: int64"
      ]
     },
     "execution_count": 15,
     "metadata": {},
     "output_type": "execute_result"
    }
   ],
   "source": [
    "df2014['Subsidiary1'].value_counts(dropna=False)"
   ]
  },
  {
   "cell_type": "code",
   "execution_count": 16,
   "metadata": {},
   "outputs": [
    {
     "data": {
      "text/plain": [
       "2    9543\n",
       "1    2874\n",
       "Name: ParentCompany1, dtype: int64"
      ]
     },
     "execution_count": 16,
     "metadata": {},
     "output_type": "execute_result"
    }
   ],
   "source": [
    "df2014['ParentCompany1'].value_counts(dropna=False)"
   ]
  },
  {
   "cell_type": "code",
   "execution_count": 18,
   "metadata": {},
   "outputs": [
    {
     "data": {
      "text/plain": [
       "2    12063\n",
       "1      354\n",
       "Name: NewEntry3, dtype: int64"
      ]
     },
     "execution_count": 18,
     "metadata": {},
     "output_type": "execute_result"
    }
   ],
   "source": [
    "df2014['NewEntry3'].value_counts(dropna=False)"
   ]
  },
  {
   "cell_type": "code",
   "execution_count": 25,
   "metadata": {},
   "outputs": [
    {
     "name": "stderr",
     "output_type": "stream",
     "text": [
      "<ipython-input-25-ed16abfc10aa>:1: SettingWithCopyWarning: \n",
      "A value is trying to be set on a copy of a slice from a DataFrame.\n",
      "Try using .loc[row_indexer,col_indexer] = value instead\n",
      "\n",
      "See the caveats in the documentation: https://pandas.pydata.org/pandas-docs/stable/user_guide/indexing.html#returning-a-view-versus-a-copy\n",
      "  df2014['Subsidiary1'] = df2014['Subsidiary1'].astype(np.int64)\n",
      "<ipython-input-25-ed16abfc10aa>:2: SettingWithCopyWarning: \n",
      "A value is trying to be set on a copy of a slice from a DataFrame.\n",
      "Try using .loc[row_indexer,col_indexer] = value instead\n",
      "\n",
      "See the caveats in the documentation: https://pandas.pydata.org/pandas-docs/stable/user_guide/indexing.html#returning-a-view-versus-a-copy\n",
      "  df2014['ParentCompany1'] = df2014['ParentCompany1'].astype(np.int64)\n",
      "<ipython-input-25-ed16abfc10aa>:3: SettingWithCopyWarning: \n",
      "A value is trying to be set on a copy of a slice from a DataFrame.\n",
      "Try using .loc[row_indexer,col_indexer] = value instead\n",
      "\n",
      "See the caveats in the documentation: https://pandas.pydata.org/pandas-docs/stable/user_guide/indexing.html#returning-a-view-versus-a-copy\n",
      "  df2014['NewEntry3'] = df2014['NewEntry3'].astype(np.int64)\n"
     ]
    }
   ],
   "source": [
    "df2014['Subsidiary1'] = df2014['Subsidiary1'].astype(np.int64)\n",
    "df2014['ParentCompany1'] = df2014['ParentCompany1'].astype(np.int64)\n",
    "df2014['NewEntry3'] = df2014['NewEntry3'].astype(np.int64)"
   ]
  },
  {
   "cell_type": "code",
   "execution_count": 26,
   "metadata": {},
   "outputs": [
    {
     "data": {
      "text/plain": [
       "Subsidiary1       int64\n",
       "ParentCompany1    int64\n",
       "NewEntry3         int64\n",
       "dtype: object"
      ]
     },
     "execution_count": 26,
     "metadata": {},
     "output_type": "execute_result"
    }
   ],
   "source": [
    "df2014[['Subsidiary1','ParentCompany1','NewEntry3' ]].dtypes"
   ]
  },
  {
   "cell_type": "code",
   "execution_count": 19,
   "metadata": {},
   "outputs": [
    {
     "data": {
      "text/plain": [
       "SAlliance2     1.000000\n",
       "SAlliance14    1.000000\n",
       "SAlliance38    1.000000\n",
       "SAlliance37    1.000000\n",
       "SAlliance32    1.000000\n",
       "SAlliance26    1.000000\n",
       "SAlliance8     1.000000\n",
       "SAlliance20    1.000000\n",
       "SAlliance43    0.999919\n",
       "SAlliance41    0.999839\n",
       "SAlliance42    0.999597\n",
       "SAlliance31    0.999597\n",
       "SAlliance13    0.999356\n",
       "SAlliance29    0.999356\n",
       "SAlliance40    0.999114\n",
       "SAlliance7     0.998953\n",
       "SAlliance39    0.998470\n",
       "SAlliance19    0.998389\n",
       "SAlliance23    0.998228\n",
       "SAlliance35    0.998148\n",
       "SAlliance36    0.997826\n",
       "SAlliance25    0.997584\n",
       "SAlliance21    0.997584\n",
       "SAlliance22    0.997342\n",
       "SAlliance17    0.997101\n",
       "SAlliance33    0.996134\n",
       "SAlliance30    0.995973\n",
       "SAlliance11    0.995973\n",
       "SAlliance34    0.995893\n",
       "SAlliance12    0.995410\n",
       "SAlliance6     0.995007\n",
       "SAlliance27    0.994443\n",
       "SAlliance5     0.993960\n",
       "SAlliance28    0.993155\n",
       "SAlliance16    0.986470\n",
       "SAlliance18    0.986390\n",
       "SAlliance24    0.986067\n",
       "SAlliance3     0.985745\n",
       "SAlliance15    0.985504\n",
       "SAlliance4     0.985343\n",
       "SAlliance10    0.985262\n",
       "SAlliance9     0.983168\n",
       "dtype: float64"
      ]
     },
     "execution_count": 19,
     "metadata": {},
     "output_type": "execute_result"
    }
   ],
   "source": [
    "# 참조 코딩\n",
    "df2014t = df2014.loc[:,'SAlliance2':'SAlliance43']       # SAlliance2부터 43까지 컬럼을 df1에 모음\n",
    "df2014t.isnull().mean().sort_values(ascending=False)     # 결측값 비율을 내림차순으로 보여주기"
   ]
  },
  {
   "cell_type": "code",
   "execution_count": 27,
   "metadata": {},
   "outputs": [],
   "source": [
    "df2006.to_csv('2006DC1.csv', index=False) #각 연도별 파일을 연도별 csv 파일로 저장\n",
    "df2007.to_csv('2007DC1.csv', index=False)\n",
    "df2008.to_csv('2008DC1.csv', index=False)\n",
    "df2009.to_csv('2009DC1.csv', index=False)\n",
    "df2010.to_csv('2010DC1.csv', index=False)\n",
    "df2011.to_csv('2011DC1.csv', index=False)\n",
    "df2012.to_csv('2012DC1.csv', index=False)\n",
    "df2013.to_csv('2013DC1.csv', index=False)\n",
    "df2014.to_csv('2014DC1.csv', index=False)\n",
    "\n",
    "df.to_csv('2006_2014_DC2.csv', index=False) #전체 파일도 csv로 저장"
   ]
  },
  {
   "cell_type": "code",
   "execution_count": null,
   "metadata": {},
   "outputs": [],
   "source": []
  }
 ],
 "metadata": {
  "kernelspec": {
   "display_name": "Python 3 (ipykernel)",
   "language": "python",
   "name": "python3"
  },
  "language_info": {
   "codemirror_mode": {
    "name": "ipython",
    "version": 3
   },
   "file_extension": ".py",
   "mimetype": "text/x-python",
   "name": "python",
   "nbconvert_exporter": "python",
   "pygments_lexer": "ipython3",
   "version": "3.9.7"
  }
 },
 "nbformat": 4,
 "nbformat_minor": 2
}
