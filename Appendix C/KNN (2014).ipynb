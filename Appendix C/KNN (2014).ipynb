{
 "cells": [
  {
   "cell_type": "markdown",
   "metadata": {},
   "source": [
    "# C.7.13 K Nearest Neighbor 모델"
   ]
  },
  {
   "cell_type": "code",
   "execution_count": 1,
   "metadata": {},
   "outputs": [
    {
     "data": {
      "text/plain": [
       "(12417, 193)"
      ]
     },
     "execution_count": 1,
     "metadata": {},
     "output_type": "execute_result"
    }
   ],
   "source": [
    "import pandas as pd\n",
    "import numpy as np\n",
    "df = pd.read_csv('2014DC2_dummy_indicator_friendly.csv')   \n",
    "df.shape"
   ]
  },
  {
   "cell_type": "code",
   "execution_count": 2,
   "metadata": {},
   "outputs": [
    {
     "name": "stdout",
     "output_type": "stream",
     "text": [
      "X_train2 shape: (6208, 214)\n",
      "X_test2 shape: (6209, 214)\n"
     ]
    }
   ],
   "source": [
    "# Imputation indicator가 생성됨에 주의\n",
    "\n",
    "data = df.drop(['EBizSystem2'], axis=1)   # 타겟변수를 제외한 입력변수를 data에 저장\n",
    "target = df['EBizSystem2']                # 타겟변수만 target에 저장\n",
    "\n",
    "# 50:50 data partition.\n",
    "from sklearn.model_selection import train_test_split \n",
    "X_train, X_test, y_train, y_test = train_test_split( \n",
    "    data, target, test_size=0.5, random_state=42)   # test_size=0.5임에 주의 \n",
    "\n",
    "# interval 변수의 null value를 평균(mean)으로 impute 및 add_indicator 포함 \n",
    "from sklearn.impute import SimpleImputer\n",
    "imp= SimpleImputer(strategy = 'mean', add_indicator=True)  \n",
    "X_train2= imp.fit_transform(X_train) \n",
    "X_test2= imp.fit_transform(X_test)   # X_train과 and X_test 둘 다 imputation 적용해야 함에 유의\n",
    "\n",
    "print(\"X_train2 shape:\", X_train2.shape) \n",
    "print(\"X_test2 shape:\", X_test2.shape) "
   ]
  },
  {
   "cell_type": "code",
   "execution_count": 3,
   "metadata": {},
   "outputs": [
    {
     "name": "stdout",
     "output_type": "stream",
     "text": [
      "KNN Training set score:0.80944\n",
      "KNN Test set score:0.64970\n"
     ]
    }
   ],
   "source": [
    "# KNN 모델 (Default 모델 with n_neighbors=3).\n",
    "from sklearn.neighbors import KNeighborsClassifier\n",
    "from sklearn.metrics import accuracy_score\n",
    "\n",
    "knn = KNeighborsClassifier(n_neighbors=3) # random_state 파라미터가 없음에 주의!\n",
    "model = knn.fit(X_train2, y_train)\n",
    "pred = model.predict(X_test2)   # 학습된 Classifier로 테스트 데이터셋 자료를 투입해서 타겟변수 예측값 생성\n",
    "accuracy = accuracy_score(y_test, pred)\n",
    "\n",
    "print (\"KNN Training set score:{:.5f}\".format(model.score(X_train2, y_train))) \n",
    "print (\"KNN Test set score:{:.5f}\".format(accuracy_score(y_test, pred)))"
   ]
  },
  {
   "cell_type": "code",
   "execution_count": 4,
   "metadata": {},
   "outputs": [],
   "source": [
    "# KNN 모델 (Default 모델 with n_neighbors=3)\n",
    "knn = KNeighborsClassifier(n_neighbors=3) # random_state 파라미터가 없음에 주의!"
   ]
  },
  {
   "cell_type": "code",
   "execution_count": 5,
   "metadata": {},
   "outputs": [
    {
     "name": "stdout",
     "output_type": "stream",
     "text": [
      "GridSearchCV max accuracy:0.69185\n",
      "GridSearchCV best parameter: {'n_neighbors': 39}\n"
     ]
    }
   ],
   "source": [
    "# GridSearchCV\n",
    "\n",
    "from sklearn.model_selection import GridSearchCV\n",
    "from sklearn.model_selection import StratifiedKFold  \n",
    "\n",
    "# StratifiedKFold의 random_state 옵션값을 특정 숫자(예: 0)로 고정\n",
    "cross_validation = StratifiedKFold(n_splits=3, shuffle=True, random_state=0)\n",
    "\n",
    "params = {'n_neighbors': range(3, 51)}\n",
    "\n",
    "grid_knn = GridSearchCV(knn, param_grid=params, scoring='accuracy', cv=cross_validation, n_jobs=-1)\n",
    "grid_knn.fit(X_train2, y_train)\n",
    "\n",
    "print(\"GridSearchCV max accuracy:{:.5f}\".format(grid_knn.best_score_))\n",
    "print(\"GridSearchCV best parameter:\", (grid_knn.best_params_)) "
   ]
  },
  {
   "cell_type": "code",
   "execution_count": 6,
   "metadata": {},
   "outputs": [
    {
     "name": "stdout",
     "output_type": "stream",
     "text": [
      "Accuracy on test set:0.68385\n",
      "ROC AUC on test set:0.74104\n"
     ]
    }
   ],
   "source": [
    "best_clf = grid_knn.best_estimator_\n",
    "pred = best_clf.predict(X_test2)\n",
    "print(\"Accuracy on test set:{:.5f}\".format(accuracy_score(y_test, pred)))\n",
    "\n",
    "from sklearn.metrics import roc_auc_score\n",
    "ROC_AUC = roc_auc_score(y_test,best_clf.predict_proba(X_test2)[:, 1])\n",
    "print(\"ROC AUC on test set:{:.5f}\".format(ROC_AUC))"
   ]
  },
  {
   "cell_type": "code",
   "execution_count": null,
   "metadata": {},
   "outputs": [],
   "source": []
  }
 ],
 "metadata": {
  "kernelspec": {
   "display_name": "Python 3 (ipykernel)",
   "language": "python",
   "name": "python3"
  },
  "language_info": {
   "codemirror_mode": {
    "name": "ipython",
    "version": 3
   },
   "file_extension": ".py",
   "mimetype": "text/x-python",
   "name": "python",
   "nbconvert_exporter": "python",
   "pygments_lexer": "ipython3",
   "version": "3.9.7"
  }
 },
 "nbformat": 4,
 "nbformat_minor": 2
}
