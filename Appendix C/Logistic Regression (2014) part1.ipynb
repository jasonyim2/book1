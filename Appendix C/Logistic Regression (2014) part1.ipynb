{
 "cells": [
  {
   "cell_type": "markdown",
   "metadata": {},
   "source": [
    "# C.7.9 Logistic Regression 모델"
   ]
  },
  {
   "cell_type": "code",
   "execution_count": 1,
   "metadata": {},
   "outputs": [
    {
     "data": {
      "text/plain": [
       "(12417, 75)"
      ]
     },
     "execution_count": 1,
     "metadata": {},
     "output_type": "execute_result"
    }
   ],
   "source": [
    "import pandas as pd\n",
    "import numpy as np\n",
    "df = pd.read_csv('2014DC2.csv')   \n",
    "df.shape"
   ]
  },
  {
   "cell_type": "code",
   "execution_count": 3,
   "metadata": {
    "collapsed": true
   },
   "outputs": [
    {
     "data": {
      "text/plain": [
       "Asset7             True\n",
       "Asset9             True\n",
       "B2B_purchase1      True\n",
       "Cost11             True\n",
       "Cost12             True\n",
       "Cost13             True\n",
       "Cost16             True\n",
       "Cost17             True\n",
       "Design1            True\n",
       "ITAssetC           True\n",
       "Liability3         True\n",
       "OutsourcingCost    True\n",
       "Patent1            True\n",
       "RNDcost1           True\n",
       "TAssetC1           True\n",
       "TAssetC2           True\n",
       "TAssetC3           True\n",
       "TAssetC4           True\n",
       "TAssetC5           True\n",
       "TAssetC6           True\n",
       "TAssetC8           True\n",
       "TradeMark1         True\n",
       "emp66              True\n",
       "dtype: bool"
      ]
     },
     "execution_count": 3,
     "metadata": {},
     "output_type": "execute_result"
    }
   ],
   "source": [
    "# 참조 코딩\n",
    "# Finding the columns which have null values.\n",
    "df.isna().any()[lambda x: x]"
   ]
  },
  {
   "cell_type": "code",
   "execution_count": 4,
   "metadata": {},
   "outputs": [
    {
     "name": "stdout",
     "output_type": "stream",
     "text": [
      "RNDcost1           43.67\n",
      "OutsourcingCost    37.66\n",
      "Asset9             28.36\n",
      "B2B_purchase1      26.15\n",
      "Asset7             12.31\n",
      "                   ...  \n",
      "EBizSystem11        0.00\n",
      "EBizSystem12        0.00\n",
      "Franchise1          0.00\n",
      "IndCategory2        0.00\n",
      "Asset2              0.00\n",
      "Length: 75, dtype: float64\n"
     ]
    }
   ],
   "source": [
    "# 참조 코딩\n",
    "def missing(dft):\n",
    "    print (round((dft.isnull().sum() * 100/ len(dft)),2).sort_values(ascending=False))\n",
    "\n",
    "missing(df)"
   ]
  },
  {
   "cell_type": "code",
   "execution_count": null,
   "metadata": {},
   "outputs": [],
   "source": [
    "### *** Regression 기반의 모형 (Logistic Regresssion, LAR, LASSO 등 포함)은\n",
    "### *** 카테고리 변수를 모두 dummy 변수로 바꾸어야 하며 그래야 Odds ratio가 제대로 구해짐"
   ]
  },
  {
   "cell_type": "code",
   "execution_count": 5,
   "metadata": {},
   "outputs": [],
   "source": [
    "# dtype이 category인 변수들인 cols.\n",
    "cols = ['Area', 'Compensation1', 'Compensation2', 'Compensation3', 'Compensation4', 'EBizSystem2','EBizSystem3',\\\n",
    "        'EBizSystem4','EBizSystem5','EBizSystem6','EBizSystem7','EBizSystem8','EBizSystem9','EBizSystem10',\\\n",
    "        'EBizSystem11','EBizSystem12','Franchise1','IndCategory2','NewEntry3',\\\n",
    "        'Outsourcing1', 'Outsourcing2', 'Outsourcing3', 'Outsourcing4', 'Outsourcing5', 'Outsourcing6',\\\n",
    "        'Outsourcing7','Outsourcing8', 'Outsourcing9', 'Outsourcing10', 'Outsourcing11', 'Outsourcing12',\\\n",
    "        'Outsourcing13','Overseas1','Overseas5','ParentCompany1','SAlliance1','StockMktListing','Subsidiary1',\\\n",
    "        'IndCategory1_encoded']"
   ]
  },
  {
   "cell_type": "code",
   "execution_count": 6,
   "metadata": {
    "scrolled": true
   },
   "outputs": [
    {
     "data": {
      "text/html": [
       "<div>\n",
       "<style scoped>\n",
       "    .dataframe tbody tr th:only-of-type {\n",
       "        vertical-align: middle;\n",
       "    }\n",
       "\n",
       "    .dataframe tbody tr th {\n",
       "        vertical-align: top;\n",
       "    }\n",
       "\n",
       "    .dataframe thead th {\n",
       "        text-align: right;\n",
       "    }\n",
       "</style>\n",
       "<table border=\"1\" class=\"dataframe\">\n",
       "  <thead>\n",
       "    <tr style=\"text-align: right;\">\n",
       "      <th></th>\n",
       "      <th>Area</th>\n",
       "      <th>Compensation1</th>\n",
       "      <th>Compensation2</th>\n",
       "      <th>Compensation3</th>\n",
       "      <th>Compensation4</th>\n",
       "      <th>EBizSystem2</th>\n",
       "      <th>EBizSystem3</th>\n",
       "      <th>EBizSystem4</th>\n",
       "      <th>EBizSystem5</th>\n",
       "      <th>EBizSystem6</th>\n",
       "      <th>...</th>\n",
       "      <th>Outsourcing11</th>\n",
       "      <th>Outsourcing12</th>\n",
       "      <th>Outsourcing13</th>\n",
       "      <th>Overseas1</th>\n",
       "      <th>Overseas5</th>\n",
       "      <th>ParentCompany1</th>\n",
       "      <th>SAlliance1</th>\n",
       "      <th>StockMktListing</th>\n",
       "      <th>Subsidiary1</th>\n",
       "      <th>IndCategory1_encoded</th>\n",
       "    </tr>\n",
       "  </thead>\n",
       "  <tbody>\n",
       "    <tr>\n",
       "      <td>count</td>\n",
       "      <td>12417.000000</td>\n",
       "      <td>12417.000000</td>\n",
       "      <td>12417.000000</td>\n",
       "      <td>12417.000000</td>\n",
       "      <td>12417.000000</td>\n",
       "      <td>12417.000000</td>\n",
       "      <td>12417.000000</td>\n",
       "      <td>12417.000000</td>\n",
       "      <td>12417.000000</td>\n",
       "      <td>12417.000000</td>\n",
       "      <td>...</td>\n",
       "      <td>12417.000000</td>\n",
       "      <td>12417.000000</td>\n",
       "      <td>12417.000000</td>\n",
       "      <td>12417.000000</td>\n",
       "      <td>12417.000000</td>\n",
       "      <td>12417.000000</td>\n",
       "      <td>12417.000000</td>\n",
       "      <td>12417.000000</td>\n",
       "      <td>12417.000000</td>\n",
       "      <td>12417.000000</td>\n",
       "    </tr>\n",
       "    <tr>\n",
       "      <td>mean</td>\n",
       "      <td>23.480309</td>\n",
       "      <td>1.202142</td>\n",
       "      <td>1.404123</td>\n",
       "      <td>3.529838</td>\n",
       "      <td>3.337118</td>\n",
       "      <td>0.571636</td>\n",
       "      <td>0.056133</td>\n",
       "      <td>0.038737</td>\n",
       "      <td>0.086253</td>\n",
       "      <td>0.110574</td>\n",
       "      <td>...</td>\n",
       "      <td>0.103004</td>\n",
       "      <td>0.028831</td>\n",
       "      <td>0.046549</td>\n",
       "      <td>1.726423</td>\n",
       "      <td>0.705887</td>\n",
       "      <td>1.768543</td>\n",
       "      <td>1.915197</td>\n",
       "      <td>2.817911</td>\n",
       "      <td>1.597890</td>\n",
       "      <td>5.852541</td>\n",
       "    </tr>\n",
       "    <tr>\n",
       "      <td>std</td>\n",
       "      <td>10.229595</td>\n",
       "      <td>0.757194</td>\n",
       "      <td>1.139162</td>\n",
       "      <td>1.661398</td>\n",
       "      <td>1.836346</td>\n",
       "      <td>0.494862</td>\n",
       "      <td>0.230187</td>\n",
       "      <td>0.192976</td>\n",
       "      <td>0.280748</td>\n",
       "      <td>0.313617</td>\n",
       "      <td>...</td>\n",
       "      <td>0.303976</td>\n",
       "      <td>0.167339</td>\n",
       "      <td>0.210679</td>\n",
       "      <td>0.445812</td>\n",
       "      <td>0.455661</td>\n",
       "      <td>0.421781</td>\n",
       "      <td>0.278600</td>\n",
       "      <td>0.515958</td>\n",
       "      <td>0.490344</td>\n",
       "      <td>3.930831</td>\n",
       "    </tr>\n",
       "    <tr>\n",
       "      <td>min</td>\n",
       "      <td>11.000000</td>\n",
       "      <td>1.000000</td>\n",
       "      <td>1.000000</td>\n",
       "      <td>1.000000</td>\n",
       "      <td>1.000000</td>\n",
       "      <td>0.000000</td>\n",
       "      <td>0.000000</td>\n",
       "      <td>0.000000</td>\n",
       "      <td>0.000000</td>\n",
       "      <td>0.000000</td>\n",
       "      <td>...</td>\n",
       "      <td>0.000000</td>\n",
       "      <td>0.000000</td>\n",
       "      <td>0.000000</td>\n",
       "      <td>1.000000</td>\n",
       "      <td>0.000000</td>\n",
       "      <td>1.000000</td>\n",
       "      <td>1.000000</td>\n",
       "      <td>1.000000</td>\n",
       "      <td>1.000000</td>\n",
       "      <td>0.000000</td>\n",
       "    </tr>\n",
       "    <tr>\n",
       "      <td>25%</td>\n",
       "      <td>11.000000</td>\n",
       "      <td>1.000000</td>\n",
       "      <td>1.000000</td>\n",
       "      <td>1.000000</td>\n",
       "      <td>1.000000</td>\n",
       "      <td>0.000000</td>\n",
       "      <td>0.000000</td>\n",
       "      <td>0.000000</td>\n",
       "      <td>0.000000</td>\n",
       "      <td>0.000000</td>\n",
       "      <td>...</td>\n",
       "      <td>0.000000</td>\n",
       "      <td>0.000000</td>\n",
       "      <td>0.000000</td>\n",
       "      <td>1.000000</td>\n",
       "      <td>0.000000</td>\n",
       "      <td>2.000000</td>\n",
       "      <td>2.000000</td>\n",
       "      <td>3.000000</td>\n",
       "      <td>1.000000</td>\n",
       "      <td>3.000000</td>\n",
       "    </tr>\n",
       "    <tr>\n",
       "      <td>50%</td>\n",
       "      <td>24.000000</td>\n",
       "      <td>1.000000</td>\n",
       "      <td>1.000000</td>\n",
       "      <td>4.000000</td>\n",
       "      <td>4.000000</td>\n",
       "      <td>1.000000</td>\n",
       "      <td>0.000000</td>\n",
       "      <td>0.000000</td>\n",
       "      <td>0.000000</td>\n",
       "      <td>0.000000</td>\n",
       "      <td>...</td>\n",
       "      <td>0.000000</td>\n",
       "      <td>0.000000</td>\n",
       "      <td>0.000000</td>\n",
       "      <td>2.000000</td>\n",
       "      <td>1.000000</td>\n",
       "      <td>2.000000</td>\n",
       "      <td>2.000000</td>\n",
       "      <td>3.000000</td>\n",
       "      <td>2.000000</td>\n",
       "      <td>3.000000</td>\n",
       "    </tr>\n",
       "    <tr>\n",
       "      <td>75%</td>\n",
       "      <td>31.000000</td>\n",
       "      <td>1.000000</td>\n",
       "      <td>1.000000</td>\n",
       "      <td>5.000000</td>\n",
       "      <td>5.000000</td>\n",
       "      <td>1.000000</td>\n",
       "      <td>0.000000</td>\n",
       "      <td>0.000000</td>\n",
       "      <td>0.000000</td>\n",
       "      <td>0.000000</td>\n",
       "      <td>...</td>\n",
       "      <td>0.000000</td>\n",
       "      <td>0.000000</td>\n",
       "      <td>0.000000</td>\n",
       "      <td>2.000000</td>\n",
       "      <td>1.000000</td>\n",
       "      <td>2.000000</td>\n",
       "      <td>2.000000</td>\n",
       "      <td>3.000000</td>\n",
       "      <td>2.000000</td>\n",
       "      <td>8.000000</td>\n",
       "    </tr>\n",
       "    <tr>\n",
       "      <td>max</td>\n",
       "      <td>39.000000</td>\n",
       "      <td>5.000000</td>\n",
       "      <td>5.000000</td>\n",
       "      <td>5.000000</td>\n",
       "      <td>5.000000</td>\n",
       "      <td>1.000000</td>\n",
       "      <td>1.000000</td>\n",
       "      <td>1.000000</td>\n",
       "      <td>1.000000</td>\n",
       "      <td>1.000000</td>\n",
       "      <td>...</td>\n",
       "      <td>1.000000</td>\n",
       "      <td>1.000000</td>\n",
       "      <td>1.000000</td>\n",
       "      <td>2.000000</td>\n",
       "      <td>1.000000</td>\n",
       "      <td>2.000000</td>\n",
       "      <td>2.000000</td>\n",
       "      <td>4.000000</td>\n",
       "      <td>2.000000</td>\n",
       "      <td>17.000000</td>\n",
       "    </tr>\n",
       "  </tbody>\n",
       "</table>\n",
       "<p>8 rows × 39 columns</p>\n",
       "</div>"
      ],
      "text/plain": [
       "               Area  Compensation1  Compensation2  Compensation3  \\\n",
       "count  12417.000000   12417.000000   12417.000000   12417.000000   \n",
       "mean      23.480309       1.202142       1.404123       3.529838   \n",
       "std       10.229595       0.757194       1.139162       1.661398   \n",
       "min       11.000000       1.000000       1.000000       1.000000   \n",
       "25%       11.000000       1.000000       1.000000       1.000000   \n",
       "50%       24.000000       1.000000       1.000000       4.000000   \n",
       "75%       31.000000       1.000000       1.000000       5.000000   \n",
       "max       39.000000       5.000000       5.000000       5.000000   \n",
       "\n",
       "       Compensation4   EBizSystem2   EBizSystem3   EBizSystem4   EBizSystem5  \\\n",
       "count   12417.000000  12417.000000  12417.000000  12417.000000  12417.000000   \n",
       "mean        3.337118      0.571636      0.056133      0.038737      0.086253   \n",
       "std         1.836346      0.494862      0.230187      0.192976      0.280748   \n",
       "min         1.000000      0.000000      0.000000      0.000000      0.000000   \n",
       "25%         1.000000      0.000000      0.000000      0.000000      0.000000   \n",
       "50%         4.000000      1.000000      0.000000      0.000000      0.000000   \n",
       "75%         5.000000      1.000000      0.000000      0.000000      0.000000   \n",
       "max         5.000000      1.000000      1.000000      1.000000      1.000000   \n",
       "\n",
       "        EBizSystem6  ...  Outsourcing11  Outsourcing12  Outsourcing13  \\\n",
       "count  12417.000000  ...   12417.000000   12417.000000   12417.000000   \n",
       "mean       0.110574  ...       0.103004       0.028831       0.046549   \n",
       "std        0.313617  ...       0.303976       0.167339       0.210679   \n",
       "min        0.000000  ...       0.000000       0.000000       0.000000   \n",
       "25%        0.000000  ...       0.000000       0.000000       0.000000   \n",
       "50%        0.000000  ...       0.000000       0.000000       0.000000   \n",
       "75%        0.000000  ...       0.000000       0.000000       0.000000   \n",
       "max        1.000000  ...       1.000000       1.000000       1.000000   \n",
       "\n",
       "          Overseas1     Overseas5  ParentCompany1    SAlliance1  \\\n",
       "count  12417.000000  12417.000000    12417.000000  12417.000000   \n",
       "mean       1.726423      0.705887        1.768543      1.915197   \n",
       "std        0.445812      0.455661        0.421781      0.278600   \n",
       "min        1.000000      0.000000        1.000000      1.000000   \n",
       "25%        1.000000      0.000000        2.000000      2.000000   \n",
       "50%        2.000000      1.000000        2.000000      2.000000   \n",
       "75%        2.000000      1.000000        2.000000      2.000000   \n",
       "max        2.000000      1.000000        2.000000      2.000000   \n",
       "\n",
       "       StockMktListing   Subsidiary1  IndCategory1_encoded  \n",
       "count     12417.000000  12417.000000          12417.000000  \n",
       "mean          2.817911      1.597890              5.852541  \n",
       "std           0.515958      0.490344              3.930831  \n",
       "min           1.000000      1.000000              0.000000  \n",
       "25%           3.000000      1.000000              3.000000  \n",
       "50%           3.000000      2.000000              3.000000  \n",
       "75%           3.000000      2.000000              8.000000  \n",
       "max           4.000000      2.000000             17.000000  \n",
       "\n",
       "[8 rows x 39 columns]"
      ]
     },
     "execution_count": 6,
     "metadata": {},
     "output_type": "execute_result"
    }
   ],
   "source": [
    "df[cols].describe()"
   ]
  },
  {
   "cell_type": "code",
   "execution_count": 7,
   "metadata": {},
   "outputs": [],
   "source": [
    "df1 = df.copy()\n",
    "cols1 = ['Franchise1','NewEntry3','Overseas1','ParentCompany1','SAlliance1','Subsidiary1']\n",
    "df1[cols1] = df1[cols1].replace(2,0)"
   ]
  },
  {
   "cell_type": "code",
   "execution_count": 8,
   "metadata": {},
   "outputs": [
    {
     "data": {
      "text/plain": [
       "0    12018\n",
       "1      399\n",
       "Name: Franchise1, dtype: int64"
      ]
     },
     "execution_count": 8,
     "metadata": {},
     "output_type": "execute_result"
    }
   ],
   "source": [
    "# 참조 코딩\n",
    "df1['Franchise1'].value_counts(dropna=False)"
   ]
  },
  {
   "cell_type": "code",
   "execution_count": 9,
   "metadata": {},
   "outputs": [],
   "source": [
    "cols2 = ['Area','Compensation1','Compensation2','Compensation3','Compensation4',\n",
    "         'EBizSystem12','IndCategory2','IndCategory1_encoded','StockMktListing']"
   ]
  },
  {
   "cell_type": "code",
   "execution_count": 10,
   "metadata": {},
   "outputs": [],
   "source": [
    "df2 = pd.get_dummies(df1, columns=cols2)   # cols2에 담긴 변수들의 더미변수를 생성 \n",
    "                                           # 이 명령은 더미변수를 생성한 원본변수는 제거함에 유의"
   ]
  },
  {
   "cell_type": "code",
   "execution_count": 11,
   "metadata": {},
   "outputs": [
    {
     "data": {
      "text/html": [
       "<div>\n",
       "<style scoped>\n",
       "    .dataframe tbody tr th:only-of-type {\n",
       "        vertical-align: middle;\n",
       "    }\n",
       "\n",
       "    .dataframe tbody tr th {\n",
       "        vertical-align: top;\n",
       "    }\n",
       "\n",
       "    .dataframe thead th {\n",
       "        text-align: right;\n",
       "    }\n",
       "</style>\n",
       "<table border=\"1\" class=\"dataframe\">\n",
       "  <thead>\n",
       "    <tr style=\"text-align: right;\">\n",
       "      <th></th>\n",
       "      <th>Asset2</th>\n",
       "      <th>Asset7</th>\n",
       "      <th>Asset9</th>\n",
       "      <th>B2B_purchase1</th>\n",
       "      <th>Capital1</th>\n",
       "      <th>CapitalRatio1</th>\n",
       "      <th>Cost1</th>\n",
       "      <th>Cost11</th>\n",
       "      <th>Cost12</th>\n",
       "      <th>Cost13</th>\n",
       "      <th>...</th>\n",
       "      <th>IndCategory1_encoded_8.0</th>\n",
       "      <th>IndCategory1_encoded_9.0</th>\n",
       "      <th>IndCategory1_encoded_10.0</th>\n",
       "      <th>IndCategory1_encoded_11.0</th>\n",
       "      <th>IndCategory1_encoded_12.0</th>\n",
       "      <th>IndCategory1_encoded_13.0</th>\n",
       "      <th>IndCategory1_encoded_14.0</th>\n",
       "      <th>IndCategory1_encoded_15.0</th>\n",
       "      <th>IndCategory1_encoded_16.0</th>\n",
       "      <th>IndCategory1_encoded_17.0</th>\n",
       "    </tr>\n",
       "  </thead>\n",
       "  <tbody>\n",
       "    <tr>\n",
       "      <td>0</td>\n",
       "      <td>9.945205</td>\n",
       "      <td>9.474088</td>\n",
       "      <td>6.298949</td>\n",
       "      <td>10.365774</td>\n",
       "      <td>10.410305</td>\n",
       "      <td>0.0</td>\n",
       "      <td>11.588830</td>\n",
       "      <td>6.167516</td>\n",
       "      <td>2.639057</td>\n",
       "      <td>3.218876</td>\n",
       "      <td>...</td>\n",
       "      <td>0</td>\n",
       "      <td>0</td>\n",
       "      <td>0</td>\n",
       "      <td>0</td>\n",
       "      <td>0</td>\n",
       "      <td>0</td>\n",
       "      <td>0</td>\n",
       "      <td>0</td>\n",
       "      <td>0</td>\n",
       "      <td>0</td>\n",
       "    </tr>\n",
       "    <tr>\n",
       "      <td>1</td>\n",
       "      <td>11.776105</td>\n",
       "      <td>12.201834</td>\n",
       "      <td>9.355133</td>\n",
       "      <td>11.795771</td>\n",
       "      <td>12.966430</td>\n",
       "      <td>0.0</td>\n",
       "      <td>12.199682</td>\n",
       "      <td>7.108244</td>\n",
       "      <td>2.484907</td>\n",
       "      <td>0.000000</td>\n",
       "      <td>...</td>\n",
       "      <td>0</td>\n",
       "      <td>0</td>\n",
       "      <td>0</td>\n",
       "      <td>0</td>\n",
       "      <td>0</td>\n",
       "      <td>0</td>\n",
       "      <td>0</td>\n",
       "      <td>0</td>\n",
       "      <td>0</td>\n",
       "      <td>0</td>\n",
       "    </tr>\n",
       "    <tr>\n",
       "      <td>2</td>\n",
       "      <td>9.295325</td>\n",
       "      <td>9.871119</td>\n",
       "      <td>3.218876</td>\n",
       "      <td>10.485033</td>\n",
       "      <td>9.842144</td>\n",
       "      <td>0.0</td>\n",
       "      <td>11.471541</td>\n",
       "      <td>6.184149</td>\n",
       "      <td>1.098612</td>\n",
       "      <td>0.000000</td>\n",
       "      <td>...</td>\n",
       "      <td>0</td>\n",
       "      <td>0</td>\n",
       "      <td>0</td>\n",
       "      <td>0</td>\n",
       "      <td>0</td>\n",
       "      <td>0</td>\n",
       "      <td>0</td>\n",
       "      <td>0</td>\n",
       "      <td>0</td>\n",
       "      <td>0</td>\n",
       "    </tr>\n",
       "    <tr>\n",
       "      <td>3</td>\n",
       "      <td>9.295325</td>\n",
       "      <td>5.793014</td>\n",
       "      <td>NaN</td>\n",
       "      <td>NaN</td>\n",
       "      <td>9.671177</td>\n",
       "      <td>0.0</td>\n",
       "      <td>10.951210</td>\n",
       "      <td>4.969813</td>\n",
       "      <td>2.397895</td>\n",
       "      <td>0.000000</td>\n",
       "      <td>...</td>\n",
       "      <td>0</td>\n",
       "      <td>0</td>\n",
       "      <td>0</td>\n",
       "      <td>0</td>\n",
       "      <td>0</td>\n",
       "      <td>0</td>\n",
       "      <td>0</td>\n",
       "      <td>0</td>\n",
       "      <td>0</td>\n",
       "      <td>0</td>\n",
       "    </tr>\n",
       "    <tr>\n",
       "      <td>4</td>\n",
       "      <td>7.577634</td>\n",
       "      <td>3.258097</td>\n",
       "      <td>2.833213</td>\n",
       "      <td>7.896925</td>\n",
       "      <td>8.199189</td>\n",
       "      <td>0.0</td>\n",
       "      <td>8.995537</td>\n",
       "      <td>4.094345</td>\n",
       "      <td>0.693147</td>\n",
       "      <td>0.000000</td>\n",
       "      <td>...</td>\n",
       "      <td>0</td>\n",
       "      <td>0</td>\n",
       "      <td>0</td>\n",
       "      <td>0</td>\n",
       "      <td>0</td>\n",
       "      <td>0</td>\n",
       "      <td>0</td>\n",
       "      <td>0</td>\n",
       "      <td>0</td>\n",
       "      <td>0</td>\n",
       "    </tr>\n",
       "  </tbody>\n",
       "</table>\n",
       "<p>5 rows × 202 columns</p>\n",
       "</div>"
      ],
      "text/plain": [
       "      Asset2     Asset7    Asset9  B2B_purchase1   Capital1  CapitalRatio1  \\\n",
       "0   9.945205   9.474088  6.298949      10.365774  10.410305            0.0   \n",
       "1  11.776105  12.201834  9.355133      11.795771  12.966430            0.0   \n",
       "2   9.295325   9.871119  3.218876      10.485033   9.842144            0.0   \n",
       "3   9.295325   5.793014       NaN            NaN   9.671177            0.0   \n",
       "4   7.577634   3.258097  2.833213       7.896925   8.199189            0.0   \n",
       "\n",
       "       Cost1    Cost11    Cost12    Cost13  ...  IndCategory1_encoded_8.0  \\\n",
       "0  11.588830  6.167516  2.639057  3.218876  ...                         0   \n",
       "1  12.199682  7.108244  2.484907  0.000000  ...                         0   \n",
       "2  11.471541  6.184149  1.098612  0.000000  ...                         0   \n",
       "3  10.951210  4.969813  2.397895  0.000000  ...                         0   \n",
       "4   8.995537  4.094345  0.693147  0.000000  ...                         0   \n",
       "\n",
       "   IndCategory1_encoded_9.0  IndCategory1_encoded_10.0  \\\n",
       "0                         0                          0   \n",
       "1                         0                          0   \n",
       "2                         0                          0   \n",
       "3                         0                          0   \n",
       "4                         0                          0   \n",
       "\n",
       "   IndCategory1_encoded_11.0  IndCategory1_encoded_12.0  \\\n",
       "0                          0                          0   \n",
       "1                          0                          0   \n",
       "2                          0                          0   \n",
       "3                          0                          0   \n",
       "4                          0                          0   \n",
       "\n",
       "   IndCategory1_encoded_13.0  IndCategory1_encoded_14.0  \\\n",
       "0                          0                          0   \n",
       "1                          0                          0   \n",
       "2                          0                          0   \n",
       "3                          0                          0   \n",
       "4                          0                          0   \n",
       "\n",
       "   IndCategory1_encoded_15.0  IndCategory1_encoded_16.0  \\\n",
       "0                          0                          0   \n",
       "1                          0                          0   \n",
       "2                          0                          0   \n",
       "3                          0                          0   \n",
       "4                          0                          0   \n",
       "\n",
       "   IndCategory1_encoded_17.0  \n",
       "0                          0  \n",
       "1                          0  \n",
       "2                          0  \n",
       "3                          0  \n",
       "4                          0  \n",
       "\n",
       "[5 rows x 202 columns]"
      ]
     },
     "execution_count": 11,
     "metadata": {},
     "output_type": "execute_result"
    }
   ],
   "source": [
    "# 참조 코딩\n",
    "df2.head()"
   ]
  },
  {
   "cell_type": "code",
   "execution_count": 12,
   "metadata": {},
   "outputs": [
    {
     "data": {
      "text/plain": [
       "(12417, 202)"
      ]
     },
     "execution_count": 12,
     "metadata": {},
     "output_type": "execute_result"
    }
   ],
   "source": [
    "df2.shape"
   ]
  },
  {
   "cell_type": "code",
   "execution_count": 13,
   "metadata": {
    "collapsed": true
   },
   "outputs": [
    {
     "data": {
      "text/plain": [
       "['Asset2',\n",
       " 'Asset7',\n",
       " 'Asset9',\n",
       " 'B2B_purchase1',\n",
       " 'Capital1',\n",
       " 'CapitalRatio1',\n",
       " 'Cost1',\n",
       " 'Cost11',\n",
       " 'Cost12',\n",
       " 'Cost13',\n",
       " 'Cost14',\n",
       " 'Cost16',\n",
       " 'Cost17',\n",
       " 'Cost2',\n",
       " 'Cost9',\n",
       " 'Design1',\n",
       " 'Emp_total',\n",
       " 'EquityShareCapital',\n",
       " 'ITAssetC',\n",
       " 'Liability2',\n",
       " 'Liability3',\n",
       " 'NProfitB4Tax',\n",
       " 'OutsourcingCost',\n",
       " 'Patent1',\n",
       " 'RNDcost1',\n",
       " 'RevProfit2',\n",
       " 'TAssetC1',\n",
       " 'TAssetC2',\n",
       " 'TAssetC3',\n",
       " 'TAssetC4',\n",
       " 'TAssetC5',\n",
       " 'TAssetC6',\n",
       " 'TAssetC8',\n",
       " 'TradeMark1',\n",
       " 'emp6',\n",
       " 'emp66',\n",
       " 'EBizSystem2',\n",
       " 'EBizSystem3',\n",
       " 'EBizSystem4',\n",
       " 'EBizSystem5',\n",
       " 'EBizSystem6',\n",
       " 'EBizSystem7',\n",
       " 'EBizSystem8',\n",
       " 'EBizSystem9',\n",
       " 'EBizSystem10',\n",
       " 'EBizSystem11',\n",
       " 'Franchise1',\n",
       " 'NewEntry3',\n",
       " 'Outsourcing1',\n",
       " 'Outsourcing2',\n",
       " 'Outsourcing3',\n",
       " 'Outsourcing4',\n",
       " 'Outsourcing5',\n",
       " 'Outsourcing6',\n",
       " 'Outsourcing7',\n",
       " 'Outsourcing8',\n",
       " 'Outsourcing9',\n",
       " 'Outsourcing10',\n",
       " 'Outsourcing11',\n",
       " 'Outsourcing12',\n",
       " 'Outsourcing13',\n",
       " 'Overseas1',\n",
       " 'Overseas5',\n",
       " 'ParentCompany1',\n",
       " 'SAlliance1',\n",
       " 'Subsidiary1',\n",
       " 'Area_11',\n",
       " 'Area_21',\n",
       " 'Area_22',\n",
       " 'Area_23',\n",
       " 'Area_24',\n",
       " 'Area_25',\n",
       " 'Area_26',\n",
       " 'Area_29',\n",
       " 'Area_31',\n",
       " 'Area_32',\n",
       " 'Area_33',\n",
       " 'Area_34',\n",
       " 'Area_35',\n",
       " 'Area_36',\n",
       " 'Area_37',\n",
       " 'Area_38',\n",
       " 'Area_39',\n",
       " 'Compensation1_1.0',\n",
       " 'Compensation1_2.0',\n",
       " 'Compensation1_3.0',\n",
       " 'Compensation1_4.0',\n",
       " 'Compensation1_5.0',\n",
       " 'Compensation2_1.0',\n",
       " 'Compensation2_2.0',\n",
       " 'Compensation2_3.0',\n",
       " 'Compensation2_4.0',\n",
       " 'Compensation2_5.0',\n",
       " 'Compensation3_1.0',\n",
       " 'Compensation3_2.0',\n",
       " 'Compensation3_3.0',\n",
       " 'Compensation3_4.0',\n",
       " 'Compensation3_5.0',\n",
       " 'Compensation4_1.0',\n",
       " 'Compensation4_2.0',\n",
       " 'Compensation4_3.0',\n",
       " 'Compensation4_4.0',\n",
       " 'Compensation4_5.0',\n",
       " 'EBizSystem12_0',\n",
       " 'EBizSystem12_1',\n",
       " 'EBizSystem12_2',\n",
       " 'EBizSystem12_3',\n",
       " 'EBizSystem12_4',\n",
       " 'EBizSystem12_5',\n",
       " 'EBizSystem12_6',\n",
       " 'EBizSystem12_7',\n",
       " 'EBizSystem12_8',\n",
       " 'IndCategory2_1',\n",
       " 'IndCategory2_3',\n",
       " 'IndCategory2_5',\n",
       " 'IndCategory2_6',\n",
       " 'IndCategory2_7',\n",
       " 'IndCategory2_10',\n",
       " 'IndCategory2_11',\n",
       " 'IndCategory2_12',\n",
       " 'IndCategory2_13',\n",
       " 'IndCategory2_14',\n",
       " 'IndCategory2_15',\n",
       " 'IndCategory2_16',\n",
       " 'IndCategory2_17',\n",
       " 'IndCategory2_18',\n",
       " 'IndCategory2_19',\n",
       " 'IndCategory2_20',\n",
       " 'IndCategory2_21',\n",
       " 'IndCategory2_22',\n",
       " 'IndCategory2_23',\n",
       " 'IndCategory2_24',\n",
       " 'IndCategory2_25',\n",
       " 'IndCategory2_26',\n",
       " 'IndCategory2_27',\n",
       " 'IndCategory2_28',\n",
       " 'IndCategory2_29',\n",
       " 'IndCategory2_30',\n",
       " 'IndCategory2_31',\n",
       " 'IndCategory2_32',\n",
       " 'IndCategory2_33',\n",
       " 'IndCategory2_35',\n",
       " 'IndCategory2_37',\n",
       " 'IndCategory2_38',\n",
       " 'IndCategory2_39',\n",
       " 'IndCategory2_41',\n",
       " 'IndCategory2_42',\n",
       " 'IndCategory2_45',\n",
       " 'IndCategory2_46',\n",
       " 'IndCategory2_47',\n",
       " 'IndCategory2_49',\n",
       " 'IndCategory2_50',\n",
       " 'IndCategory2_51',\n",
       " 'IndCategory2_52',\n",
       " 'IndCategory2_55',\n",
       " 'IndCategory2_56',\n",
       " 'IndCategory2_58',\n",
       " 'IndCategory2_59',\n",
       " 'IndCategory2_60',\n",
       " 'IndCategory2_61',\n",
       " 'IndCategory2_62',\n",
       " 'IndCategory2_63',\n",
       " 'IndCategory2_64',\n",
       " 'IndCategory2_65',\n",
       " 'IndCategory2_66',\n",
       " 'IndCategory2_68',\n",
       " 'IndCategory2_69',\n",
       " 'IndCategory2_70',\n",
       " 'IndCategory2_71',\n",
       " 'IndCategory2_72',\n",
       " 'IndCategory2_73',\n",
       " 'IndCategory2_74',\n",
       " 'IndCategory2_75',\n",
       " 'IndCategory2_85',\n",
       " 'IndCategory2_86',\n",
       " 'IndCategory2_87',\n",
       " 'IndCategory2_90',\n",
       " 'IndCategory2_91',\n",
       " 'IndCategory2_95',\n",
       " 'IndCategory2_96',\n",
       " 'StockMktListing_1',\n",
       " 'StockMktListing_2',\n",
       " 'StockMktListing_3',\n",
       " 'StockMktListing_4',\n",
       " 'IndCategory1_encoded_0.0',\n",
       " 'IndCategory1_encoded_1.0',\n",
       " 'IndCategory1_encoded_2.0',\n",
       " 'IndCategory1_encoded_3.0',\n",
       " 'IndCategory1_encoded_4.0',\n",
       " 'IndCategory1_encoded_5.0',\n",
       " 'IndCategory1_encoded_6.0',\n",
       " 'IndCategory1_encoded_7.0',\n",
       " 'IndCategory1_encoded_8.0',\n",
       " 'IndCategory1_encoded_9.0',\n",
       " 'IndCategory1_encoded_10.0',\n",
       " 'IndCategory1_encoded_11.0',\n",
       " 'IndCategory1_encoded_12.0',\n",
       " 'IndCategory1_encoded_13.0',\n",
       " 'IndCategory1_encoded_14.0',\n",
       " 'IndCategory1_encoded_15.0',\n",
       " 'IndCategory1_encoded_16.0',\n",
       " 'IndCategory1_encoded_17.0']"
      ]
     },
     "execution_count": 13,
     "metadata": {},
     "output_type": "execute_result"
    }
   ],
   "source": [
    "list(df2.columns)"
   ]
  },
  {
   "cell_type": "code",
   "execution_count": 14,
   "metadata": {},
   "outputs": [
    {
     "data": {
      "text/plain": [
       "(12417, 193)"
      ]
     },
     "execution_count": 14,
     "metadata": {},
     "output_type": "execute_result"
    }
   ],
   "source": [
    "cols3 = ['Area_39','Compensation1_1.0','Compensation2_1.0','Compensation3_1.0',\n",
    "         'Compensation4_1.0','EBizSystem12_0','IndCategory2_96',\n",
    "         'IndCategory1_encoded_0.0','StockMktListing_3']\n",
    "df3 = df2.drop(cols3, axis=1)\n",
    "df3.shape"
   ]
  },
  {
   "cell_type": "code",
   "execution_count": 15,
   "metadata": {},
   "outputs": [],
   "source": [
    "df3.to_csv('2014DC2_dummy.csv', index=False)"
   ]
  },
  {
   "cell_type": "code",
   "execution_count": 16,
   "metadata": {},
   "outputs": [
    {
     "data": {
      "text/plain": [
       "(12417, 193)"
      ]
     },
     "execution_count": 16,
     "metadata": {},
     "output_type": "execute_result"
    }
   ],
   "source": [
    "import pandas as pd\n",
    "import numpy as np\n",
    "df = pd.read_csv('2014DC2_dummy.csv')   \n",
    "df.shape"
   ]
  },
  {
   "cell_type": "code",
   "execution_count": 18,
   "metadata": {},
   "outputs": [
    {
     "name": "stdout",
     "output_type": "stream",
     "text": [
      "X_train2 shape: (6208, 192)\n",
      "X_test2 shape: (6209, 192)\n"
     ]
    }
   ],
   "source": [
    "# 참조 코딩\n",
    "# imputation indicator 없는 imputation\n",
    "\n",
    "data = df.drop(['EBizSystem2'], axis=1)   # 타겟변수를 제외한 변수만 data 데이터프레임에 저장\n",
    "target = df['EBizSystem2']                # 타겟변수만 target 데이터프레임에 저장\n",
    "\n",
    "# 50:50 data partition\n",
    "from sklearn.model_selection import train_test_split \n",
    "X_train, X_test, y_train, y_test = train_test_split( \n",
    "    data, target, test_size=0.5, random_state=42)   # test_size=0.5임에 주의 \n",
    "\n",
    "# interval 변수의 null value를 평균(mean)으로 impute \n",
    "from sklearn.impute import SimpleImputer\n",
    "imp= SimpleImputer(strategy = 'mean')  \n",
    "X_train2= imp.fit_transform(X_train) \n",
    "X_test2= imp.fit_transform(X_test)   # X_train과 and X_test 둘 다 imputation 적용해야 함에 유의\n",
    "\n",
    "print(\"X_train2 shape:\", X_train2.shape) \n",
    "print(\"X_test2 shape:\", X_test2.shape) "
   ]
  },
  {
   "cell_type": "code",
   "execution_count": 17,
   "metadata": {
    "scrolled": true
   },
   "outputs": [
    {
     "name": "stdout",
     "output_type": "stream",
     "text": [
      "X_train2 shape: (6208, 214)\n",
      "X_test2 shape: (6209, 215)\n"
     ]
    }
   ],
   "source": [
    "# imputation indicator 생성을 포함한 imputation\n",
    "\n",
    "data = df.drop(['EBizSystem2'], axis=1)   # 타겟변수를 제외한 입력변수를 data에 저장\n",
    "target = df['EBizSystem2']                # 타겟변수만 target에 저장\n",
    "\n",
    "# 50:50 data partition.\n",
    "from sklearn.model_selection import train_test_split \n",
    "X_train, X_test, y_train, y_test = train_test_split( \n",
    "    data, target, test_size=0.5, random_state=42)   # test_size=0.5임에 주의 \n",
    "\n",
    "# interval 변수의 null value를 평균(mean)으로 impute 및 add_indicator 포함 \n",
    "from sklearn.impute import SimpleImputer\n",
    "imp= SimpleImputer(strategy = 'mean', add_indicator=True)  \n",
    "X_train2= imp.fit_transform(X_train) \n",
    "X_test2= imp.fit_transform(X_test)   # X_train과 and X_test 둘 다 imputation 적용해야 함에 유의\n",
    "\n",
    "print(\"X_train2 shape:\", X_train2.shape) \n",
    "print(\"X_test2 shape:\", X_test2.shape) "
   ]
  },
  {
   "cell_type": "code",
   "execution_count": 18,
   "metadata": {},
   "outputs": [
    {
     "name": "stdout",
     "output_type": "stream",
     "text": [
      "[ 1  2  3  8  9 11 12 15 18 20 22 23 24 26 27 28 29 30 31 32 33 35]\n"
     ]
    }
   ],
   "source": [
    "simple_imputer = SimpleImputer(strategy = 'mean', add_indicator=True)\n",
    "simple_imputer.fit(X_train)\n",
    "print(simple_imputer.indicator_.features_)"
   ]
  },
  {
   "cell_type": "code",
   "execution_count": 19,
   "metadata": {
    "scrolled": true
   },
   "outputs": [
    {
     "name": "stdout",
     "output_type": "stream",
     "text": [
      "[ 1  2  3  7  8  9 11 12 15 18 20 22 23 24 26 27 28 29 30 31 32 33 35]\n"
     ]
    }
   ],
   "source": [
    "simple_imputer = SimpleImputer(strategy = 'mean', add_indicator=True)\n",
    "simple_imputer.fit(X_test)\n",
    "print(simple_imputer.indicator_.features_)"
   ]
  },
  {
   "cell_type": "code",
   "execution_count": 20,
   "metadata": {},
   "outputs": [
    {
     "data": {
      "text/plain": [
       "'Cost11'"
      ]
     },
     "execution_count": 20,
     "metadata": {},
     "output_type": "execute_result"
    }
   ],
   "source": [
    "df.columns.to_numpy()[7]"
   ]
  },
  {
   "cell_type": "code",
   "execution_count": 21,
   "metadata": {},
   "outputs": [
    {
     "data": {
      "text/plain": [
       "2"
      ]
     },
     "execution_count": 21,
     "metadata": {},
     "output_type": "execute_result"
    }
   ],
   "source": [
    "df['Cost11'].isnull().sum()"
   ]
  },
  {
   "cell_type": "code",
   "execution_count": 22,
   "metadata": {},
   "outputs": [
    {
     "data": {
      "text/plain": [
       "0.016106950148989288"
      ]
     },
     "execution_count": 22,
     "metadata": {},
     "output_type": "execute_result"
    }
   ],
   "source": [
    "# 참조 코딩\n",
    "(df['Cost11'].isnull().sum()* 100) / len(df['Cost11'])"
   ]
  },
  {
   "cell_type": "code",
   "execution_count": 23,
   "metadata": {},
   "outputs": [
    {
     "data": {
      "text/plain": [
       "4.972271200054787"
      ]
     },
     "execution_count": 23,
     "metadata": {},
     "output_type": "execute_result"
    }
   ],
   "source": [
    "df['Cost11'].mean()"
   ]
  },
  {
   "cell_type": "code",
   "execution_count": 24,
   "metadata": {},
   "outputs": [
    {
     "data": {
      "text/plain": [
       "0"
      ]
     },
     "execution_count": 24,
     "metadata": {},
     "output_type": "execute_result"
    }
   ],
   "source": [
    "# Cost11은 수동으로 미리 imputation해서 기존 변수를 대체\n",
    "df['Cost11']= df['Cost11'].replace(np.NaN, 4.97227) \n",
    "df['Cost11'].isnull().sum()"
   ]
  },
  {
   "cell_type": "code",
   "execution_count": 25,
   "metadata": {},
   "outputs": [
    {
     "name": "stdout",
     "output_type": "stream",
     "text": [
      "X_train2 shape: (6208, 214)\n",
      "X_test2 shape: (6209, 214)\n"
     ]
    }
   ],
   "source": [
    "# imputation indicator 생성을 포함한 imputation\n",
    "\n",
    "data = df.drop(['EBizSystem2'], axis=1)   # 타겟변수를 제외한 입력변수를 data 데이터프레임 저장\n",
    "target = df['EBizSystem2']                # 타겟변수만 target에 저장\n",
    "\n",
    "# 50:50 data partition.\n",
    "from sklearn.model_selection import train_test_split \n",
    "X_train, X_test, y_train, y_test = train_test_split( \n",
    "    data, target, test_size=0.5, random_state=42)   # test_size=0.5임에 주의 \n",
    "\n",
    "# interval 변수의 null value를 평균(mean)으로 impute 및 add_indicator 포함 \n",
    "from sklearn.impute import SimpleImputer\n",
    "imp= SimpleImputer(strategy = 'mean', add_indicator=True)  \n",
    "X_train2= imp.fit_transform(X_train) \n",
    "X_test2= imp.fit_transform(X_test)   # X_train과 and X_test 둘 다 imputation 적용해야 함에 유의\n",
    "\n",
    "print(\"X_train2 shape:\", X_train2.shape) \n",
    "print(\"X_test2 shape:\", X_test2.shape) "
   ]
  },
  {
   "cell_type": "code",
   "execution_count": 26,
   "metadata": {},
   "outputs": [
    {
     "data": {
      "text/plain": [
       "(12417, 193)"
      ]
     },
     "execution_count": 26,
     "metadata": {},
     "output_type": "execute_result"
    }
   ],
   "source": [
    "df.shape"
   ]
  },
  {
   "cell_type": "code",
   "execution_count": 27,
   "metadata": {},
   "outputs": [],
   "source": [
    "df.to_csv('2014DC2_dummy_indicator_friendly.csv', index=False) "
   ]
  },
  {
   "cell_type": "code",
   "execution_count": null,
   "metadata": {},
   "outputs": [],
   "source": []
  },
  {
   "cell_type": "code",
   "execution_count": null,
   "metadata": {},
   "outputs": [],
   "source": [
    "# 본문 파이썬 팁 코딩 시작"
   ]
  },
  {
   "cell_type": "code",
   "execution_count": 2,
   "metadata": {},
   "outputs": [
    {
     "data": {
      "text/html": [
       "<div>\n",
       "<style scoped>\n",
       "    .dataframe tbody tr th:only-of-type {\n",
       "        vertical-align: middle;\n",
       "    }\n",
       "\n",
       "    .dataframe tbody tr th {\n",
       "        vertical-align: top;\n",
       "    }\n",
       "\n",
       "    .dataframe thead th {\n",
       "        text-align: right;\n",
       "    }\n",
       "</style>\n",
       "<table border=\"1\" class=\"dataframe\">\n",
       "  <thead>\n",
       "    <tr style=\"text-align: right;\">\n",
       "      <th></th>\n",
       "      <th>A</th>\n",
       "      <th>B</th>\n",
       "      <th>C</th>\n",
       "    </tr>\n",
       "  </thead>\n",
       "  <tbody>\n",
       "    <tr>\n",
       "      <th>0</th>\n",
       "      <td>Good</td>\n",
       "      <td>1</td>\n",
       "      <td>10</td>\n",
       "    </tr>\n",
       "    <tr>\n",
       "      <th>1</th>\n",
       "      <td>Bad</td>\n",
       "      <td>0</td>\n",
       "      <td>20</td>\n",
       "    </tr>\n",
       "    <tr>\n",
       "      <th>2</th>\n",
       "      <td>Good</td>\n",
       "      <td>1</td>\n",
       "      <td>30</td>\n",
       "    </tr>\n",
       "  </tbody>\n",
       "</table>\n",
       "</div>"
      ],
      "text/plain": [
       "      A  B   C\n",
       "0  Good  1  10\n",
       "1   Bad  0  20\n",
       "2  Good  1  30"
      ]
     },
     "execution_count": 2,
     "metadata": {},
     "output_type": "execute_result"
    }
   ],
   "source": [
    "dft = pd.DataFrame({'A':['Good','Bad','Good'], 'B':[1,0,1], 'C':[10,20,30]})\n",
    "dft"
   ]
  },
  {
   "cell_type": "code",
   "execution_count": 3,
   "metadata": {},
   "outputs": [
    {
     "data": {
      "text/plain": [
       "'B'"
      ]
     },
     "execution_count": 3,
     "metadata": {},
     "output_type": "execute_result"
    }
   ],
   "source": [
    "dft.columns.to_numpy()[1]"
   ]
  },
  {
   "cell_type": "code",
   "execution_count": null,
   "metadata": {},
   "outputs": [],
   "source": [
    "# 본문 파이썬 팁 코딩 끝"
   ]
  }
 ],
 "metadata": {
  "kernelspec": {
   "display_name": "Python 3 (ipykernel)",
   "language": "python",
   "name": "python3"
  },
  "language_info": {
   "codemirror_mode": {
    "name": "ipython",
    "version": 3
   },
   "file_extension": ".py",
   "mimetype": "text/x-python",
   "name": "python",
   "nbconvert_exporter": "python",
   "pygments_lexer": "ipython3",
   "version": "3.9.7"
  }
 },
 "nbformat": 4,
 "nbformat_minor": 2
}
