{
 "cells": [
  {
   "cell_type": "markdown",
   "metadata": {},
   "source": [
    "# 2-7-6. Neural Network 모델 (맛보기)"
   ]
  },
  {
   "cell_type": "markdown",
   "metadata": {},
   "source": [
    "# 데이터 불러오기"
   ]
  },
  {
   "cell_type": "code",
   "execution_count": 32,
   "metadata": {},
   "outputs": [
    {
     "data": {
      "text/plain": [
       "(4194, 16)"
      ]
     },
     "execution_count": 32,
     "metadata": {},
     "output_type": "execute_result"
    }
   ],
   "source": [
    "import pandas as pd\n",
    "import numpy as np\n",
    "df = pd.read_csv('healthcare-dataset-3-dummy.csv')\n",
    "df.shape"
   ]
  },
  {
   "cell_type": "markdown",
   "metadata": {},
   "source": [
    "# 데이터셋 들여다 보기"
   ]
  },
  {
   "cell_type": "code",
   "execution_count": 20,
   "metadata": {},
   "outputs": [
    {
     "data": {
      "text/html": [
       "<div>\n",
       "<style scoped>\n",
       "    .dataframe tbody tr th:only-of-type {\n",
       "        vertical-align: middle;\n",
       "    }\n",
       "\n",
       "    .dataframe tbody tr th {\n",
       "        vertical-align: top;\n",
       "    }\n",
       "\n",
       "    .dataframe thead th {\n",
       "        text-align: right;\n",
       "    }\n",
       "</style>\n",
       "<table border=\"1\" class=\"dataframe\">\n",
       "  <thead>\n",
       "    <tr style=\"text-align: right;\">\n",
       "      <th></th>\n",
       "      <th>age</th>\n",
       "      <th>hypertension</th>\n",
       "      <th>heart_disease</th>\n",
       "      <th>avg_glucose_level</th>\n",
       "      <th>bmi</th>\n",
       "      <th>stroke</th>\n",
       "      <th>ever_married_encoded</th>\n",
       "      <th>residence_type_encoded</th>\n",
       "      <th>gender_encoded_1.0</th>\n",
       "      <th>gender_encoded_2.0</th>\n",
       "      <th>work_type_encoded_0.0</th>\n",
       "      <th>work_type_encoded_2.0</th>\n",
       "      <th>work_type_encoded_3.0</th>\n",
       "      <th>smoking_status_encoded_0.0</th>\n",
       "      <th>smoking_status_encoded_1.0</th>\n",
       "      <th>smoking_status_encoded_3.0</th>\n",
       "    </tr>\n",
       "  </thead>\n",
       "  <tbody>\n",
       "    <tr>\n",
       "      <td>0</td>\n",
       "      <td>67.0</td>\n",
       "      <td>0</td>\n",
       "      <td>1</td>\n",
       "      <td>228.69</td>\n",
       "      <td>36.6</td>\n",
       "      <td>1</td>\n",
       "      <td>1.0</td>\n",
       "      <td>1.0</td>\n",
       "      <td>1</td>\n",
       "      <td>0</td>\n",
       "      <td>0</td>\n",
       "      <td>1</td>\n",
       "      <td>0</td>\n",
       "      <td>0</td>\n",
       "      <td>1</td>\n",
       "      <td>0</td>\n",
       "    </tr>\n",
       "    <tr>\n",
       "      <td>1</td>\n",
       "      <td>61.0</td>\n",
       "      <td>0</td>\n",
       "      <td>0</td>\n",
       "      <td>202.21</td>\n",
       "      <td>NaN</td>\n",
       "      <td>1</td>\n",
       "      <td>1.0</td>\n",
       "      <td>0.0</td>\n",
       "      <td>0</td>\n",
       "      <td>0</td>\n",
       "      <td>0</td>\n",
       "      <td>0</td>\n",
       "      <td>1</td>\n",
       "      <td>0</td>\n",
       "      <td>0</td>\n",
       "      <td>0</td>\n",
       "    </tr>\n",
       "    <tr>\n",
       "      <td>2</td>\n",
       "      <td>80.0</td>\n",
       "      <td>0</td>\n",
       "      <td>1</td>\n",
       "      <td>105.92</td>\n",
       "      <td>32.5</td>\n",
       "      <td>1</td>\n",
       "      <td>1.0</td>\n",
       "      <td>0.0</td>\n",
       "      <td>1</td>\n",
       "      <td>0</td>\n",
       "      <td>0</td>\n",
       "      <td>1</td>\n",
       "      <td>0</td>\n",
       "      <td>0</td>\n",
       "      <td>0</td>\n",
       "      <td>0</td>\n",
       "    </tr>\n",
       "    <tr>\n",
       "      <td>3</td>\n",
       "      <td>49.0</td>\n",
       "      <td>0</td>\n",
       "      <td>0</td>\n",
       "      <td>171.23</td>\n",
       "      <td>34.4</td>\n",
       "      <td>1</td>\n",
       "      <td>1.0</td>\n",
       "      <td>1.0</td>\n",
       "      <td>0</td>\n",
       "      <td>0</td>\n",
       "      <td>0</td>\n",
       "      <td>1</td>\n",
       "      <td>0</td>\n",
       "      <td>0</td>\n",
       "      <td>0</td>\n",
       "      <td>1</td>\n",
       "    </tr>\n",
       "    <tr>\n",
       "      <td>4</td>\n",
       "      <td>79.0</td>\n",
       "      <td>1</td>\n",
       "      <td>0</td>\n",
       "      <td>174.12</td>\n",
       "      <td>24.0</td>\n",
       "      <td>1</td>\n",
       "      <td>1.0</td>\n",
       "      <td>0.0</td>\n",
       "      <td>0</td>\n",
       "      <td>0</td>\n",
       "      <td>0</td>\n",
       "      <td>0</td>\n",
       "      <td>1</td>\n",
       "      <td>0</td>\n",
       "      <td>0</td>\n",
       "      <td>0</td>\n",
       "    </tr>\n",
       "  </tbody>\n",
       "</table>\n",
       "</div>"
      ],
      "text/plain": [
       "    age  hypertension  heart_disease  avg_glucose_level   bmi  stroke  \\\n",
       "0  67.0             0              1             228.69  36.6       1   \n",
       "1  61.0             0              0             202.21   NaN       1   \n",
       "2  80.0             0              1             105.92  32.5       1   \n",
       "3  49.0             0              0             171.23  34.4       1   \n",
       "4  79.0             1              0             174.12  24.0       1   \n",
       "\n",
       "   ever_married_encoded  residence_type_encoded  gender_encoded_1.0  \\\n",
       "0                   1.0                     1.0                   1   \n",
       "1                   1.0                     0.0                   0   \n",
       "2                   1.0                     0.0                   1   \n",
       "3                   1.0                     1.0                   0   \n",
       "4                   1.0                     0.0                   0   \n",
       "\n",
       "   gender_encoded_2.0  work_type_encoded_0.0  work_type_encoded_2.0  \\\n",
       "0                   0                      0                      1   \n",
       "1                   0                      0                      0   \n",
       "2                   0                      0                      1   \n",
       "3                   0                      0                      1   \n",
       "4                   0                      0                      0   \n",
       "\n",
       "   work_type_encoded_3.0  smoking_status_encoded_0.0  \\\n",
       "0                      0                           0   \n",
       "1                      1                           0   \n",
       "2                      0                           0   \n",
       "3                      0                           0   \n",
       "4                      1                           0   \n",
       "\n",
       "   smoking_status_encoded_1.0  smoking_status_encoded_3.0  \n",
       "0                           1                           0  \n",
       "1                           0                           0  \n",
       "2                           0                           0  \n",
       "3                           0                           1  \n",
       "4                           0                           0  "
      ]
     },
     "execution_count": 20,
     "metadata": {},
     "output_type": "execute_result"
    }
   ],
   "source": [
    "df.head() # bmi 값에 결측값(빈 칸, NaN)이 있음에 주의."
   ]
  },
  {
   "cell_type": "markdown",
   "metadata": {},
   "source": [
    "# bmi 변수에 결측값이 몇 개나 있는지 확인"
   ]
  },
  {
   "cell_type": "code",
   "execution_count": 21,
   "metadata": {},
   "outputs": [
    {
     "data": {
      "text/plain": [
       "NaN     180\n",
       "28.7     37\n",
       "28.4     36\n",
       "26.7     35\n",
       "27.7     35\n",
       "       ... \n",
       "49.9      1\n",
       "56.1      1\n",
       "48.7      1\n",
       "66.8      1\n",
       "14.1      1\n",
       "Name: bmi, Length: 381, dtype: int64"
      ]
     },
     "execution_count": 21,
     "metadata": {},
     "output_type": "execute_result"
    }
   ],
   "source": [
    "df['bmi'].value_counts(dropna=False) # NaN은 결측값(빈칸)을 의미함."
   ]
  },
  {
   "cell_type": "markdown",
   "metadata": {},
   "source": [
    "# 타겟 변수 stroke의 값 분포 확인"
   ]
  },
  {
   "cell_type": "code",
   "execution_count": 33,
   "metadata": {},
   "outputs": [
    {
     "data": {
      "text/plain": [
       "0    3947\n",
       "1     247\n",
       "Name: stroke, dtype: int64"
      ]
     },
     "execution_count": 33,
     "metadata": {},
     "output_type": "execute_result"
    }
   ],
   "source": [
    "df['stroke'].value_counts(dropna=False) # 1 값을 247개만 갖는 것에 주의."
   ]
  },
  {
   "cell_type": "markdown",
   "metadata": {},
   "source": [
    "# 데이터셋을 타겟변수(stroke)와 나머지 입력변수로 구분"
   ]
  },
  {
   "cell_type": "code",
   "execution_count": 22,
   "metadata": {},
   "outputs": [],
   "source": [
    "data = df.drop(['stroke'], axis=1)   # 타겟변수를 제외한 변수만 data에 저장.\n",
    "target = df['stroke']                # 타겟변수만 target에 저장.\n",
    "\n",
    "### 아래 구문은 이번 달 강의내 설명할 예정임.\n",
    "### 지금은 강의의 효율적 진행을 위해 설명하지 않고 넘어갑니다.\n",
    "\n",
    "from imblearn.under_sampling import RandomUnderSampler    # RandomUnderSampler를 import.\n",
    "undersample = RandomUnderSampler(sampling_strategy=0.333, random_state=2) \n",
    "                                                          # 타겟변수의 소수 클래스 및 다수 클래스를\n",
    "                                                          # 1:3의 비율(=1/3)로 언더샘플링.\n",
    "data_under, target_under = undersample.fit_resample(data, target)\n",
    "                                                          # data 및 target에 언더샘플링 적용."
   ]
  },
  {
   "cell_type": "markdown",
   "metadata": {},
   "source": [
    "# 데이터 50:50 분할"
   ]
  },
  {
   "cell_type": "code",
   "execution_count": 27,
   "metadata": {},
   "outputs": [
    {
     "name": "stdout",
     "output_type": "stream",
     "text": [
      "X_train shape: (494, 15)\n",
      "X_test shape: (494, 15)\n"
     ]
    }
   ],
   "source": [
    "# 50:50 Data partition\n",
    "from sklearn.model_selection import train_test_split \n",
    "X_train, X_test, y_train, y_test = train_test_split( \n",
    "    data_under, target_under, test_size=0.5, random_state=42, stratify=target_under)\n",
    "\n",
    "print(\"X_train shape:\", X_train.shape) \n",
    "print(\"X_test shape:\", X_test.shape) "
   ]
  },
  {
   "cell_type": "markdown",
   "metadata": {},
   "source": [
    "# 파이썬 라이브러리 Scikit-learn (sklearn) 결측값이 없어야 돌아감\n",
    "\n",
    "# 때문에 입력 변수의 결측값(NaN)을 해당 변수값의 평균(mean)으로 대체"
   ]
  },
  {
   "cell_type": "code",
   "execution_count": 28,
   "metadata": {},
   "outputs": [
    {
     "name": "stdout",
     "output_type": "stream",
     "text": [
      "X_train2 shape: (494, 15)\n",
      "X_test2 shape: (494, 15)\n"
     ]
    }
   ],
   "source": [
    "# interval 변수의 null value를 평균(mean)으로 impute. \n",
    "from sklearn.impute import SimpleImputer\n",
    "imp= SimpleImputer(strategy = 'mean')  \n",
    "X_train2= imp.fit_transform(X_train) \n",
    "X_test2= imp.fit_transform(X_test)   # X_train과 and X_test 둘 다 imputation 적용해야 함에 유의.\n",
    "\n",
    "print(\"X_train2 shape:\", X_train2.shape) \n",
    "print(\"X_test2 shape:\", X_test2.shape) "
   ]
  },
  {
   "cell_type": "markdown",
   "metadata": {},
   "source": [
    "# Neural Network 모델 수립 및 실행"
   ]
  },
  {
   "cell_type": "code",
   "execution_count": 29,
   "metadata": {},
   "outputs": [],
   "source": [
    "# Neural Network 모델 (Default 모델 with adam solver).\n",
    "from sklearn.neural_network import MLPClassifier \n",
    "from sklearn.metrics import accuracy_score\n",
    "clf_mlp = MLPClassifier(max_iter = 1000, random_state = 0)\n",
    "clf_mlp.fit(X_train2, y_train)\n",
    "pred = clf_mlp.predict(X_test2)  # 학습된 Classifier로 테스트 데이터셋 자료이용해서 타겟변수 예측값 생성."
   ]
  },
  {
   "cell_type": "markdown",
   "metadata": {},
   "source": [
    "# Neural Network 모델 결과 측정"
   ]
  },
  {
   "cell_type": "code",
   "execution_count": 30,
   "metadata": {},
   "outputs": [
    {
     "name": "stdout",
     "output_type": "stream",
     "text": [
      "Accuracy on test set:0.72065\n"
     ]
    }
   ],
   "source": [
    "print(\"Accuracy on test set:{:.5f}\".format(accuracy_score(y_test, pred)))"
   ]
  },
  {
   "cell_type": "markdown",
   "metadata": {},
   "source": [
    "# Neural Network 모델 끝! 이렇게 간단히? --> Yes!"
   ]
  }
 ],
 "metadata": {
  "kernelspec": {
   "display_name": "Python 3",
   "language": "python",
   "name": "python3"
  },
  "language_info": {
   "codemirror_mode": {
    "name": "ipython",
    "version": 3
   },
   "file_extension": ".py",
   "mimetype": "text/x-python",
   "name": "python",
   "nbconvert_exporter": "python",
   "pygments_lexer": "ipython3",
   "version": "3.7.4"
  }
 },
 "nbformat": 4,
 "nbformat_minor": 2
}
