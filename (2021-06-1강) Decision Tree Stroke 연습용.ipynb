{
 "cells": [
  {
   "cell_type": "markdown",
   "metadata": {},
   "source": [
    "# 2-7-1. 데이터 추가 처리"
   ]
  },
  {
   "cell_type": "code",
   "execution_count": 2,
   "metadata": {},
   "outputs": [
    {
     "data": {
      "text/plain": [
       "(4194, 12)"
      ]
     },
     "execution_count": 2,
     "metadata": {},
     "output_type": "execute_result"
    }
   ],
   "source": [
    "# 데이터셋 healthcare-dataset-2.csv 불러오기.\n",
    "\n"
   ]
  },
  {
   "cell_type": "code",
   "execution_count": 3,
   "metadata": {},
   "outputs": [
    {
     "data": {
      "text/plain": [
       "id                     int64\n",
       "gender                object\n",
       "age                  float64\n",
       "hypertension           int64\n",
       "heart_disease          int64\n",
       "ever_married          object\n",
       "work_type             object\n",
       "residence_type        object\n",
       "avg_glucose_level    float64\n",
       "bmi                  float64\n",
       "smoking_status        object\n",
       "stroke                 int64\n",
       "dtype: object"
      ]
     },
     "execution_count": 3,
     "metadata": {},
     "output_type": "execute_result"
    }
   ],
   "source": [
    "# 변수 데이터 타입 확인.\n"
   ]
  },
  {
   "cell_type": "code",
   "execution_count": 4,
   "metadata": {},
   "outputs": [
    {
     "data": {
      "text/plain": [
       "Female    2543\n",
       "Male      1650\n",
       "Other        1\n",
       "Name: gender, dtype: int64"
      ]
     },
     "execution_count": 4,
     "metadata": {},
     "output_type": "execute_result"
    }
   ],
   "source": [
    "# 성별(gender) 개수 기준 분포 구하기.\n",
    "\n"
   ]
  },
  {
   "cell_type": "code",
   "execution_count": 5,
   "metadata": {},
   "outputs": [
    {
     "data": {
      "text/plain": [
       "Female    0.606342\n",
       "Male      0.393419\n",
       "Other     0.000238\n",
       "Name: gender, dtype: float64"
      ]
     },
     "execution_count": 5,
     "metadata": {},
     "output_type": "execute_result"
    }
   ],
   "source": [
    "# 성별(gender) 비율 기준 분포 구하기.\n",
    "\n"
   ]
  },
  {
   "cell_type": "code",
   "execution_count": null,
   "metadata": {},
   "outputs": [],
   "source": [
    "# 위의 gender 변수에 대한 작업을 나머지 범주형 변수에 대해 다 해 줘야 함.\n",
    "# 이를 위해 아래 코딩을 고안함."
   ]
  },
  {
   "cell_type": "code",
   "execution_count": 6,
   "metadata": {},
   "outputs": [
    {
     "name": "stdout",
     "output_type": "stream",
     "text": [
      "\n",
      "---- gender ---\n",
      "Female    0.606342\n",
      "Male      0.393419\n",
      "Other     0.000238\n",
      "Name: gender, dtype: float64\n",
      "\n",
      "---- hypertension ---\n",
      "0    0.881497\n",
      "1    0.118503\n",
      "Name: hypertension, dtype: float64\n",
      "\n",
      "---- heart_disease ---\n",
      "0    0.93443\n",
      "1    0.06557\n",
      "Name: heart_disease, dtype: float64\n",
      "\n",
      "---- ever_married ---\n",
      "Yes    0.799237\n",
      "No     0.200763\n",
      "Name: ever_married, dtype: float64\n",
      "\n",
      "---- work_type ---\n",
      "Private          0.653314\n",
      "Self-employed    0.191702\n",
      "Govt_job         0.154506\n",
      "Never_worked     0.000477\n",
      "Name: work_type, dtype: float64\n",
      "\n",
      "---- residence_type ---\n",
      "Urban    0.510491\n",
      "Rural    0.489509\n",
      "Name: residence_type, dtype: float64\n",
      "\n",
      "---- smoking_status ---\n",
      "never smoked       0.411779\n",
      "formerly smoked    0.204340\n",
      "Unknown            0.199094\n",
      "smokes             0.184788\n",
      "Name: smoking_status, dtype: float64\n"
     ]
    }
   ],
   "source": [
    "# 범주형 변수를 cols1에 저장.\n",
    "\n",
    "\n",
    "\n",
    "# 데이터프레임 df1안의 컬럼명을 순차적으로 value_counts() 구문에 넣어서 결과 출력.\n",
    "\n",
    "\n",
    "\n"
   ]
  },
  {
   "cell_type": "code",
   "execution_count": 7,
   "metadata": {},
   "outputs": [
    {
     "data": {
      "text/plain": [
       "['id',\n",
       " 'gender',\n",
       " 'age',\n",
       " 'hypertension',\n",
       " 'heart_disease',\n",
       " 'ever_married',\n",
       " 'work_type',\n",
       " 'residence_type',\n",
       " 'avg_glucose_level',\n",
       " 'bmi',\n",
       " 'smoking_status',\n",
       " 'stroke']"
      ]
     },
     "execution_count": 7,
     "metadata": {},
     "output_type": "execute_result"
    }
   ],
   "source": [
    "# 데이터프레임 df의 변수명 열거.\n"
   ]
  },
  {
   "cell_type": "code",
   "execution_count": 8,
   "metadata": {},
   "outputs": [
    {
     "data": {
      "text/plain": [
       "Yes    3353\n",
       "No     1757\n",
       "Name: ever_married, dtype: int64"
      ]
     },
     "execution_count": 8,
     "metadata": {},
     "output_type": "execute_result"
    }
   ],
   "source": [
    "# 결혼 유무(ever_married) 값 개수 비교.\n"
   ]
  },
  {
   "cell_type": "code",
   "execution_count": null,
   "metadata": {},
   "outputs": [],
   "source": [
    "# 범주형 변수 값이 문자형(Character) 값인 것들을 숫자형으로 대체해야 함.\n",
    "# 사유는 머신러닝에서 사용할 Scikit-learn 라이브러리는 숫자형 데이터만 다룸."
   ]
  },
  {
   "cell_type": "code",
   "execution_count": 8,
   "metadata": {},
   "outputs": [
    {
     "data": {
      "text/plain": [
       "ever_married  ever_married_encoded\n",
       "No            0.0                      842\n",
       "Yes           1.0                     3352\n",
       "dtype: int64"
      ]
     },
     "execution_count": 8,
     "metadata": {},
     "output_type": "execute_result"
    }
   ],
   "source": [
    "# OrdinalEncoder를 통해 위의 작업을 변수별로 수행.\n",
    "\n"
   ]
  },
  {
   "cell_type": "code",
   "execution_count": 9,
   "metadata": {},
   "outputs": [
    {
     "data": {
      "text/plain": [
       "gender  gender_encoded\n",
       "Female  0.0               2543\n",
       "Male    1.0               1650\n",
       "Other   2.0                  1\n",
       "dtype: int64"
      ]
     },
     "execution_count": 9,
     "metadata": {},
     "output_type": "execute_result"
    }
   ],
   "source": [
    "df['gender_encoded'] = OrdinalEncoder().fit_transform(df['gender'].values.reshape(-1,1))\n",
    "df.groupby(['gender', 'gender_encoded']).size()   # 변경전후 변수값 비교표 디스플레이."
   ]
  },
  {
   "cell_type": "code",
   "execution_count": 10,
   "metadata": {},
   "outputs": [
    {
     "data": {
      "text/plain": [
       "work_type      work_type_encoded\n",
       "Govt_job       0.0                   648\n",
       "Never_worked   1.0                     2\n",
       "Private        2.0                  2740\n",
       "Self-employed  3.0                   804\n",
       "dtype: int64"
      ]
     },
     "execution_count": 10,
     "metadata": {},
     "output_type": "execute_result"
    }
   ],
   "source": [
    "df['work_type_encoded'] = OrdinalEncoder().fit_transform(df['work_type'].values.reshape(-1,1))\n",
    "df.groupby(['work_type', 'work_type_encoded']).size()   # 변경전후 변수값 비교표 디스플레이."
   ]
  },
  {
   "cell_type": "code",
   "execution_count": 11,
   "metadata": {},
   "outputs": [
    {
     "data": {
      "text/plain": [
       "residence_type  residence_type_encoded\n",
       "Rural           0.0                       2053\n",
       "Urban           1.0                       2141\n",
       "dtype: int64"
      ]
     },
     "execution_count": 11,
     "metadata": {},
     "output_type": "execute_result"
    }
   ],
   "source": [
    "df['residence_type_encoded'] = OrdinalEncoder().fit_transform(df['residence_type'].values.reshape(-1,1))\n",
    "df.groupby(['residence_type', 'residence_type_encoded']).size()   # 변경전후 변수값 비교표 디스플레이."
   ]
  },
  {
   "cell_type": "code",
   "execution_count": 12,
   "metadata": {},
   "outputs": [
    {
     "data": {
      "text/plain": [
       "smoking_status   smoking_status_encoded\n",
       "Unknown          0.0                        835\n",
       "formerly smoked  1.0                        857\n",
       "never smoked     2.0                       1727\n",
       "smokes           3.0                        775\n",
       "dtype: int64"
      ]
     },
     "execution_count": 12,
     "metadata": {},
     "output_type": "execute_result"
    }
   ],
   "source": [
    "df['smoking_status_encoded'] = OrdinalEncoder().fit_transform(df['smoking_status'].values.reshape(-1,1))\n",
    "df.groupby(['smoking_status', 'smoking_status_encoded']).size()   # 변경전후 변수값 비교표 디스플레이."
   ]
  },
  {
   "cell_type": "code",
   "execution_count": 13,
   "metadata": {
    "scrolled": true
   },
   "outputs": [
    {
     "data": {
      "text/plain": [
       "['id',\n",
       " 'gender',\n",
       " 'age',\n",
       " 'hypertension',\n",
       " 'heart_disease',\n",
       " 'ever_married',\n",
       " 'work_type',\n",
       " 'residence_type',\n",
       " 'avg_glucose_level',\n",
       " 'bmi',\n",
       " 'smoking_status',\n",
       " 'stroke',\n",
       " 'ever_married_encoded',\n",
       " 'gender_encoded',\n",
       " 'work_type_encoded',\n",
       " 'residence_type_encoded',\n",
       " 'smoking_status_encoded']"
      ]
     },
     "execution_count": 13,
     "metadata": {},
     "output_type": "execute_result"
    }
   ],
   "source": [
    "# 데이터프레임 df 컬럼명 재확인.\n"
   ]
  },
  {
   "cell_type": "code",
   "execution_count": 14,
   "metadata": {},
   "outputs": [],
   "source": [
    "# 범주형 변수 값을 문자형에서 숫자형으로 만든 _encoded 꼬리표가 달린 변수들을 만들었으니\n",
    "# 이제는 원래 범주형 변수중에 문자형인 변수명을 지워야 함.\n",
    "# 거기에 분석에서 이제는 필요없는 ID변수도 제거.\n"
   ]
  },
  {
   "cell_type": "code",
   "execution_count": 15,
   "metadata": {},
   "outputs": [
    {
     "data": {
      "text/plain": [
       "['age',\n",
       " 'hypertension',\n",
       " 'heart_disease',\n",
       " 'avg_glucose_level',\n",
       " 'bmi',\n",
       " 'stroke',\n",
       " 'ever_married_encoded',\n",
       " 'gender_encoded',\n",
       " 'work_type_encoded',\n",
       " 'residence_type_encoded',\n",
       " 'smoking_status_encoded']"
      ]
     },
     "execution_count": 15,
     "metadata": {},
     "output_type": "execute_result"
    }
   ],
   "source": [
    "# 데이터프레임 df 컬럼명 재확인.\n"
   ]
  },
  {
   "cell_type": "code",
   "execution_count": 16,
   "metadata": {},
   "outputs": [
    {
     "data": {
      "text/plain": [
       "(4194, 11)"
      ]
     },
     "execution_count": 16,
     "metadata": {},
     "output_type": "execute_result"
    }
   ],
   "source": [
    "# 데이터프레임 df 행과 열 개수 확인.\n"
   ]
  },
  {
   "cell_type": "code",
   "execution_count": 18,
   "metadata": {},
   "outputs": [
    {
     "data": {
      "text/plain": [
       "bmi    True\n",
       "dtype: bool"
      ]
     },
     "execution_count": 18,
     "metadata": {},
     "output_type": "execute_result"
    }
   ],
   "source": [
    "# 결측값을 갖고 있는 변수명(컬럼명) 찾기.\n"
   ]
  },
  {
   "cell_type": "code",
   "execution_count": 19,
   "metadata": {},
   "outputs": [
    {
     "data": {
      "text/plain": [
       "180"
      ]
     },
     "execution_count": 19,
     "metadata": {},
     "output_type": "execute_result"
    }
   ],
   "source": [
    "# 체질량 지수(bmi) 값 중에 결측값 개수 확인.\n"
   ]
  },
  {
   "cell_type": "code",
   "execution_count": 20,
   "metadata": {},
   "outputs": [],
   "source": [
    "# 지금까지 작업한 데이터프레임 df를 healthcare-dataset-3.csv로 저장.\n",
    "df.to_csv('healthcare-dataset-3.csv', index=False)"
   ]
  },
  {
   "cell_type": "markdown",
   "metadata": {},
   "source": [
    "# 2-7-2. 데이터 분할 및 대체"
   ]
  },
  {
   "cell_type": "code",
   "execution_count": 21,
   "metadata": {},
   "outputs": [
    {
     "data": {
      "text/plain": [
       "(4194, 11)"
      ]
     },
     "execution_count": 21,
     "metadata": {},
     "output_type": "execute_result"
    }
   ],
   "source": [
    "# 방금 저장한 healthcare-dataset-3.csv 파일 불러오기.\n"
   ]
  },
  {
   "cell_type": "code",
   "execution_count": 22,
   "metadata": {},
   "outputs": [
    {
     "data": {
      "text/plain": [
       "age                       float64\n",
       "hypertension                int64\n",
       "heart_disease               int64\n",
       "avg_glucose_level         float64\n",
       "bmi                       float64\n",
       "stroke                      int64\n",
       "ever_married_encoded      float64\n",
       "gender_encoded            float64\n",
       "work_type_encoded         float64\n",
       "residence_type_encoded    float64\n",
       "smoking_status_encoded    float64\n",
       "dtype: object"
      ]
     },
     "execution_count": 22,
     "metadata": {},
     "output_type": "execute_result"
    }
   ],
   "source": [
    "# 변수의 데이터 타입 확인.\n"
   ]
  },
  {
   "cell_type": "code",
   "execution_count": 23,
   "metadata": {},
   "outputs": [
    {
     "data": {
      "text/plain": [
       "['age',\n",
       " 'hypertension',\n",
       " 'heart_disease',\n",
       " 'avg_glucose_level',\n",
       " 'bmi',\n",
       " 'stroke',\n",
       " 'ever_married_encoded',\n",
       " 'gender_encoded',\n",
       " 'work_type_encoded',\n",
       " 'residence_type_encoded',\n",
       " 'smoking_status_encoded']"
      ]
     },
     "execution_count": 23,
     "metadata": {},
     "output_type": "execute_result"
    }
   ],
   "source": [
    "# Next 코딩문에서 이 코딩 결과를 활용하기 때문에 데이터 프레임 df 컬럼명 재나열.\n"
   ]
  },
  {
   "cell_type": "code",
   "execution_count": 24,
   "metadata": {},
   "outputs": [],
   "source": [
    "# 범주형 변수들의 dtype이 현재 float64로 되어 있는데 이를 category로 변경.\n",
    "\n",
    "# dtype을 category로 지정해 줄 변수들을 cols2에 임시 저장.\n",
    "\n",
    "\n",
    "# cols2에 저장된 변수들의 dtype을 category로 변경.\n"
   ]
  },
  {
   "cell_type": "code",
   "execution_count": 25,
   "metadata": {},
   "outputs": [
    {
     "data": {
      "text/plain": [
       "age                        float64\n",
       "hypertension              category\n",
       "heart_disease             category\n",
       "avg_glucose_level          float64\n",
       "bmi                        float64\n",
       "stroke                    category\n",
       "ever_married_encoded      category\n",
       "gender_encoded            category\n",
       "work_type_encoded         category\n",
       "residence_type_encoded    category\n",
       "smoking_status_encoded    category\n",
       "dtype: object"
      ]
     },
     "execution_count": 25,
     "metadata": {},
     "output_type": "execute_result"
    }
   ],
   "source": [
    "# 변수의 데이터 타입 재확인.\n"
   ]
  },
  {
   "cell_type": "code",
   "execution_count": 26,
   "metadata": {},
   "outputs": [],
   "source": [
    "# 변수를 타겟변수와 나머지 변수(입력변수라 함)로 분리.\n",
    "\n"
   ]
  },
  {
   "cell_type": "code",
   "execution_count": 27,
   "metadata": {},
   "outputs": [
    {
     "data": {
      "text/plain": [
       "(4194, 10)"
      ]
     },
     "execution_count": 27,
     "metadata": {},
     "output_type": "execute_result"
    }
   ],
   "source": [
    "# 입력변수만 모은 data의 행과 열 개수 확인.\n"
   ]
  },
  {
   "cell_type": "code",
   "execution_count": 29,
   "metadata": {},
   "outputs": [
    {
     "data": {
      "text/plain": [
       "pandas.core.frame.DataFrame"
      ]
     },
     "execution_count": 29,
     "metadata": {},
     "output_type": "execute_result"
    }
   ],
   "source": [
    "# data의 타입 확인 --> 데이터프레임\n"
   ]
  },
  {
   "cell_type": "code",
   "execution_count": 30,
   "metadata": {},
   "outputs": [
    {
     "data": {
      "text/plain": [
       "(4194,)"
      ]
     },
     "execution_count": 30,
     "metadata": {},
     "output_type": "execute_result"
    }
   ],
   "source": [
    "# 타겟변수(stroke)만 모은 target의 행과 열 개수 확인.\n"
   ]
  },
  {
   "cell_type": "code",
   "execution_count": 31,
   "metadata": {},
   "outputs": [
    {
     "data": {
      "text/plain": [
       "pandas.core.series.Series"
      ]
     },
     "execution_count": 31,
     "metadata": {},
     "output_type": "execute_result"
    }
   ],
   "source": [
    "# target의 타입 확인 --> 시리즈\n"
   ]
  },
  {
   "cell_type": "code",
   "execution_count": null,
   "metadata": {},
   "outputs": [],
   "source": [
    "### 그렇다면 데이터프레임과 시리즈의 차이점은 무엇인가? --> 후속 강의 중에 설명 예정."
   ]
  },
  {
   "cell_type": "code",
   "execution_count": 32,
   "metadata": {},
   "outputs": [
    {
     "data": {
      "text/plain": [
       "0    3947\n",
       "1     247\n",
       "Name: stroke, dtype: int64"
      ]
     },
     "execution_count": 32,
     "metadata": {},
     "output_type": "execute_result"
    }
   ],
   "source": [
    "# 타겟변수(stroke) 값 개수 확인 --> unbalanced 분포.\n"
   ]
  },
  {
   "cell_type": "code",
   "execution_count": 33,
   "metadata": {},
   "outputs": [
    {
     "data": {
      "text/plain": [
       "0    0.941106\n",
       "1    0.058894\n",
       "Name: stroke, dtype: float64"
      ]
     },
     "execution_count": 33,
     "metadata": {},
     "output_type": "execute_result"
    }
   ],
   "source": [
    "# 타겟변수(stroke) 값 비율 확인 --> unbalanced 분포 (약 94:6).\n"
   ]
  },
  {
   "cell_type": "code",
   "execution_count": null,
   "metadata": {},
   "outputs": [],
   "source": [
    "# 타겟변수 값이 위와 같이 심하게 unbalanced 분포를 보이면 머신러닝 결과를 왜곡할 수 있음.\n",
    "# 따라서 imblearn_learn 패키지를 설치해서 이를 바로 잡으려고 함."
   ]
  },
  {
   "cell_type": "code",
   "execution_count": 55,
   "metadata": {},
   "outputs": [
    {
     "name": "stdout",
     "output_type": "stream",
     "text": [
      "Collecting imbalanced_learn\n",
      "\u001b[?25l  Downloading https://files.pythonhosted.org/packages/80/98/dc784205a7e3034e84d41ac4781660c67ad6327f2f5a80c568df31673d1c/imbalanced_learn-0.8.0-py3-none-any.whl (206kB)\n",
      "\u001b[K     |████████████████████████████████| 215kB 1.9MB/s eta 0:00:01\n",
      "\u001b[?25hRequirement already satisfied: scipy>=0.19.1 in /Users/sunjipyim2/opt/anaconda3/lib/python3.7/site-packages (from imbalanced_learn) (1.3.1)\n",
      "Requirement already satisfied: numpy>=1.13.3 in /Users/sunjipyim2/opt/anaconda3/lib/python3.7/site-packages (from imbalanced_learn) (1.17.2)\n",
      "Collecting scikit-learn>=0.24 (from imbalanced_learn)\n",
      "\u001b[?25l  Downloading https://files.pythonhosted.org/packages/04/79/306714443069278702eaf767e82c0a619d7e93119fa9d7b075ccc7dd4801/scikit_learn-0.24.2-cp37-cp37m-macosx_10_13_x86_64.whl (7.2MB)\n",
      "\u001b[K     |████████████████████████████████| 7.2MB 8.6MB/s eta 0:00:01\n",
      "\u001b[?25hRequirement already satisfied: joblib>=0.11 in /Users/sunjipyim2/opt/anaconda3/lib/python3.7/site-packages (from imbalanced_learn) (0.13.2)\n",
      "Collecting threadpoolctl>=2.0.0 (from scikit-learn>=0.24->imbalanced_learn)\n",
      "  Downloading https://files.pythonhosted.org/packages/f7/12/ec3f2e203afa394a149911729357aa48affc59c20e2c1c8297a60f33f133/threadpoolctl-2.1.0-py3-none-any.whl\n",
      "Installing collected packages: threadpoolctl, scikit-learn, imbalanced-learn\n",
      "  Found existing installation: scikit-learn 0.21.3\n",
      "    Uninstalling scikit-learn-0.21.3:\n",
      "      Successfully uninstalled scikit-learn-0.21.3\n",
      "Successfully installed imbalanced-learn-0.8.0 scikit-learn-0.24.2 threadpoolctl-2.1.0\n",
      "Note: you may need to restart the kernel to use updated packages.\n"
     ]
    }
   ],
   "source": [
    "pip install imbalanced_learn"
   ]
  },
  {
   "cell_type": "code",
   "execution_count": 34,
   "metadata": {},
   "outputs": [
    {
     "name": "stdout",
     "output_type": "stream",
     "text": [
      "0.8.0\n"
     ]
    }
   ],
   "source": [
    "import imblearn\n",
    "print(imblearn.__version__)"
   ]
  },
  {
   "cell_type": "code",
   "execution_count": 35,
   "metadata": {},
   "outputs": [],
   "source": [
    "# imb_learn 패키지의 RandomUnderSampler 기능을 통해 \n",
    "# 타겟변수의 0가 1 값의 비율을 1:3으로 조정.\n",
    "\n"
   ]
  },
  {
   "cell_type": "code",
   "execution_count": 36,
   "metadata": {},
   "outputs": [
    {
     "data": {
      "text/plain": [
       "0    741\n",
       "1    247\n",
       "Name: stroke, dtype: int64"
      ]
     },
     "execution_count": 36,
     "metadata": {},
     "output_type": "execute_result"
    }
   ],
   "source": [
    "# RandomUnderSampler를 적용한 target_under의 값 개수 확인.\n"
   ]
  },
  {
   "cell_type": "code",
   "execution_count": 37,
   "metadata": {},
   "outputs": [
    {
     "data": {
      "text/plain": [
       "0    0.75\n",
       "1    0.25\n",
       "Name: stroke, dtype: float64"
      ]
     },
     "execution_count": 37,
     "metadata": {},
     "output_type": "execute_result"
    }
   ],
   "source": [
    "# RandomUnderSampler를 적용한 target_under의 값 비율 확인.\n"
   ]
  },
  {
   "cell_type": "code",
   "execution_count": 38,
   "metadata": {},
   "outputs": [],
   "source": [
    "# 50:50 데이터 분할(data partition).\n",
    "# stratify = target_under에 유의!\n"
   ]
  },
  {
   "cell_type": "code",
   "execution_count": 39,
   "metadata": {},
   "outputs": [
    {
     "data": {
      "text/plain": [
       "0    0.748988\n",
       "1    0.251012\n",
       "Name: stroke, dtype: float64"
      ]
     },
     "execution_count": 39,
     "metadata": {},
     "output_type": "execute_result"
    }
   ],
   "source": [
    "# y_train의 값 비율 분포 확인.\n"
   ]
  },
  {
   "cell_type": "code",
   "execution_count": 41,
   "metadata": {},
   "outputs": [
    {
     "data": {
      "text/plain": [
       "0    370\n",
       "1    124\n",
       "Name: stroke, dtype: int64"
      ]
     },
     "execution_count": 41,
     "metadata": {},
     "output_type": "execute_result"
    }
   ],
   "source": [
    "# y_train의 값 개수 분포 확인.\n"
   ]
  },
  {
   "cell_type": "code",
   "execution_count": 46,
   "metadata": {},
   "outputs": [
    {
     "name": "stdout",
     "output_type": "stream",
     "text": [
      "X_train2 shape: (494, 10)\n",
      "X_test2 shape: (494, 10)\n"
     ]
    }
   ],
   "source": [
    "# 구간 변수 중 체질량 지수(bmi)는 아직도 결측값을 갖고 있음.\n",
    "# 머신러닝을 돌리는 sklearn 라이브러리는 결측값이 있으면 돌아가지 않으므로 (황당하지만 그러함)\n",
    "# 구간 변수의 결측값을 일괄적으로 해당 변수값의 평균(mean)으로 대체(imputation). \n",
    "\n"
   ]
  },
  {
   "cell_type": "markdown",
   "metadata": {},
   "source": [
    "# 4-7-3. Decision Tree 모델"
   ]
  },
  {
   "cell_type": "code",
   "execution_count": 43,
   "metadata": {},
   "outputs": [
    {
     "name": "stdout",
     "output_type": "stream",
     "text": [
      "Accuracy(GINI) on training set:1.00000\n",
      "Accuracy(GINI) on test set:0.69838\n"
     ]
    }
   ],
   "source": [
    "# Decision Tree 모델 방법 1\n",
    "# Decision Tree 모델 (Default인 GINI기준이자 Maximal depth 조건).\n",
    "\n"
   ]
  },
  {
   "cell_type": "code",
   "execution_count": 47,
   "metadata": {},
   "outputs": [
    {
     "name": "stdout",
     "output_type": "stream",
     "text": [
      "Accuracy(GINI) on training set:1.00000\n",
      "Accuracy(GINI) on test set:0.69838\n"
     ]
    }
   ],
   "source": [
    "# Decision Tree 모델 방법 2\n",
    "# Decision Tree 모델 (Default인 GINI기준이자 Maximal depth 조건).\n",
    "\n"
   ]
  },
  {
   "cell_type": "code",
   "execution_count": 48,
   "metadata": {},
   "outputs": [
    {
     "name": "stdout",
     "output_type": "stream",
     "text": [
      "Accuracy(GINI) on training set:1.00000\n",
      "Accuracy(GINI) on test set:0.69838\n"
     ]
    }
   ],
   "source": [
    "### 앞에서 한 데이터 분할, 데이터 대체, 그리고 Decision Tree 모델을 일괄 수행하는 코딩!\n",
    "\n",
    "# 50:50 Data partition\n",
    "\n",
    "\n",
    "# interval 변수의 null value를 평균(mean)으로 impute. \n",
    "\n",
    "\n",
    "# Decision Tree 모델 (Default인 GINI기준이자 Maximal depth 조건).\n",
    "\n"
   ]
  },
  {
   "cell_type": "markdown",
   "metadata": {},
   "source": [
    "# 2021-06-1강 자료 준비 끝."
   ]
  },
  {
   "cell_type": "markdown",
   "metadata": {},
   "source": [
    "# 2021-06-2강 자료 준비 시작 (예정)"
   ]
  },
  {
   "cell_type": "code",
   "execution_count": 134,
   "metadata": {},
   "outputs": [
    {
     "name": "stdout",
     "output_type": "stream",
     "text": [
      "Accuracy(by GINI) on training set:0.85223\n",
      "Accuracy(by GINI) on test set:0.74494\n"
     ]
    }
   ],
   "source": [
    "# Decision Tree 모형 Gini 기준(Default 설정)에서 Best Model.\n",
    "# Decision Tree depth=5\n",
    "from sklearn.tree import DecisionTreeClassifier\n",
    "clf = DecisionTreeClassifier(random_state=0, max_depth=5)   # Tree 최대 depth를 10으로 설정. \n",
    "model = clf.fit(X_train2, y_train)\n",
    "\n",
    "print(\"Accuracy(by GINI) on training set:{:.5f}\".format(model.score(X_train2, y_train))) \n",
    "print(\"Accuracy(by GINI) on test set:{:.5f}\".format(model.score(X_test2, y_test)))"
   ]
  },
  {
   "cell_type": "code",
   "execution_count": 132,
   "metadata": {},
   "outputs": [
    {
     "name": "stdout",
     "output_type": "stream",
     "text": [
      "Accuracy(by Entropy) on training set:0.85830\n",
      "Accuracy(by Entropy) on test set:0.73887\n"
     ]
    }
   ],
   "source": [
    "# Decision Tree 모형 Entropy 기준에서 Best Model.\n",
    "# DecisionTree depth=5\n",
    "from sklearn.tree import DecisionTreeClassifier\n",
    "clf = DecisionTreeClassifier(criterion=\"entropy\", random_state=0, max_depth=5)\n",
    "model = clf.fit(X_train2, y_train)\n",
    "\n",
    "print(\"Accuracy(by Entropy) on training set:{:.5f}\".format(model.score(X_train2, y_train))) \n",
    "print(\"Accuracy(by Entropy) on test set:{:.5f}\".format(model.score(X_test2, y_test)))"
   ]
  },
  {
   "cell_type": "code",
   "execution_count": 117,
   "metadata": {},
   "outputs": [],
   "source": [
    "# Decision Tree 모델 (Gini 기준).\n",
    "from sklearn.tree import DecisionTreeClassifier\n",
    "from sklearn.metrics import accuracy_score\n",
    "clf_d = DecisionTreeClassifier(criterion=\"gini\", random_state=0, max_depth=5) \n",
    "clf_d.fit(X_train2, y_train)   # Clssifier(clf)를 트레이닝 데이터셋에서 학습시킴.\n",
    "pred = clf_d.predict(X_test2)  # 학습된 Classifier로 테스트 데이터셋 자료이용해서 타겟변수 예측값 생성.\n",
    "accuracy = accuracy_score(y_test, pred)"
   ]
  },
  {
   "cell_type": "code",
   "execution_count": 118,
   "metadata": {},
   "outputs": [
    {
     "name": "stdout",
     "output_type": "stream",
     "text": [
      "Fitting 5 folds for each of 40 candidates, totalling 200 fits\n",
      "GridSearchCV max accuracy:0.77535\n",
      "GridSearchCV best parameter: {'criterion': 'entropy', 'max_depth': 3}\n"
     ]
    }
   ],
   "source": [
    "from sklearn.model_selection import GridSearchCV\n",
    "params = {'criterion':['gini','entropy'],'max_depth': range(1,21)}\n",
    "\n",
    "grid_d = GridSearchCV(clf_d, param_grid=params, scoring='accuracy', cv=5, n_jobs=-1,\\\n",
    "                     verbose=1)\n",
    "grid_d.fit(X_train2, y_train)\n",
    "\n",
    "print(\"GridSearchCV max accuracy:{:.5f}\".format(grid_d.best_score_))\n",
    "print(\"GridSearchCV best parameter:\", (grid_d.best_params_))  "
   ]
  },
  {
   "cell_type": "code",
   "execution_count": 82,
   "metadata": {},
   "outputs": [
    {
     "name": "stdout",
     "output_type": "stream",
     "text": [
      "1 2 3 4 5 6 7 8 9 10 11 12 13 14 15 16 17 18 19 20 \n"
     ]
    }
   ],
   "source": [
    "# range() 함수의 결과를 디스플레이.\n",
    "for i in range(1,21):\n",
    "    print(i, end =\" \")\n",
    "print()"
   ]
  },
  {
   "cell_type": "code",
   "execution_count": 119,
   "metadata": {},
   "outputs": [
    {
     "name": "stdout",
     "output_type": "stream",
     "text": [
      "Accuracy on test set:0.74494\n"
     ]
    }
   ],
   "source": [
    "best_clf = grid_d.best_estimator_\n",
    "pred = best_clf.predict(X_test2)\n",
    "print(\"Accuracy on test set:{:.5f}\".format(accuracy_score(y_test, pred)))"
   ]
  },
  {
   "cell_type": "code",
   "execution_count": 120,
   "metadata": {},
   "outputs": [
    {
     "name": "stdout",
     "output_type": "stream",
     "text": [
      "ROC AUC on test set:0.76566\n"
     ]
    }
   ],
   "source": [
    "from sklearn.metrics import roc_auc_score\n",
    "ROC_AUC = roc_auc_score(y_test,best_clf.predict_proba(X_test2)[:, 1])\n",
    "print(\"ROC AUC on test set:{:.5f}\".format(ROC_AUC))"
   ]
  },
  {
   "cell_type": "code",
   "execution_count": 135,
   "metadata": {},
   "outputs": [
    {
     "name": "stdout",
     "output_type": "stream",
     "text": [
      "Feature importances:\n",
      "[0.82655336 0.         0.         0.09806439 0.07538226 0.\n",
      " 0.         0.         0.         0.        ]\n"
     ]
    }
   ],
   "source": [
    "print (\"Feature importances:\") \n",
    "print (best_clf.feature_importances_) "
   ]
  },
  {
   "cell_type": "code",
   "execution_count": 136,
   "metadata": {
    "scrolled": true
   },
   "outputs": [
    {
     "data": {
      "text/html": [
       "<div>\n",
       "<style scoped>\n",
       "    .dataframe tbody tr th:only-of-type {\n",
       "        vertical-align: middle;\n",
       "    }\n",
       "\n",
       "    .dataframe tbody tr th {\n",
       "        vertical-align: top;\n",
       "    }\n",
       "\n",
       "    .dataframe thead th {\n",
       "        text-align: right;\n",
       "    }\n",
       "</style>\n",
       "<table border=\"1\" class=\"dataframe\">\n",
       "  <thead>\n",
       "    <tr style=\"text-align: right;\">\n",
       "      <th></th>\n",
       "      <th>Feature_importances</th>\n",
       "    </tr>\n",
       "  </thead>\n",
       "  <tbody>\n",
       "    <tr>\n",
       "      <td>age</td>\n",
       "      <td>0.8266</td>\n",
       "    </tr>\n",
       "    <tr>\n",
       "      <td>avg_glucose_level</td>\n",
       "      <td>0.0981</td>\n",
       "    </tr>\n",
       "    <tr>\n",
       "      <td>bmi</td>\n",
       "      <td>0.0754</td>\n",
       "    </tr>\n",
       "    <tr>\n",
       "      <td>hypertension</td>\n",
       "      <td>0.0000</td>\n",
       "    </tr>\n",
       "    <tr>\n",
       "      <td>heart_disease</td>\n",
       "      <td>0.0000</td>\n",
       "    </tr>\n",
       "    <tr>\n",
       "      <td>ever_married_encoded</td>\n",
       "      <td>0.0000</td>\n",
       "    </tr>\n",
       "    <tr>\n",
       "      <td>gender_encoded</td>\n",
       "      <td>0.0000</td>\n",
       "    </tr>\n",
       "    <tr>\n",
       "      <td>work_type_encoded</td>\n",
       "      <td>0.0000</td>\n",
       "    </tr>\n",
       "    <tr>\n",
       "      <td>residence_type_encoded</td>\n",
       "      <td>0.0000</td>\n",
       "    </tr>\n",
       "    <tr>\n",
       "      <td>smoking_status_encoded</td>\n",
       "      <td>0.0000</td>\n",
       "    </tr>\n",
       "  </tbody>\n",
       "</table>\n",
       "</div>"
      ],
      "text/plain": [
       "                        Feature_importances\n",
       "age                                  0.8266\n",
       "avg_glucose_level                    0.0981\n",
       "bmi                                  0.0754\n",
       "hypertension                         0.0000\n",
       "heart_disease                        0.0000\n",
       "ever_married_encoded                 0.0000\n",
       "gender_encoded                       0.0000\n",
       "work_type_encoded                    0.0000\n",
       "residence_type_encoded               0.0000\n",
       "smoking_status_encoded               0.0000"
      ]
     },
     "execution_count": 136,
     "metadata": {},
     "output_type": "execute_result"
    }
   ],
   "source": [
    "# 변수명을 Index로 만들고 feature_importances를 매칭해서 나열한 데이터프레임 만들기. \n",
    "\n",
    "feature_names = list(data.columns)   # 변수명(컬럼명)을 리스트 형태로 만들기.\n",
    "dft = pd.DataFrame(np.round(best_clf.feature_importances_, 4), index=feature_names,\\\n",
    "                   columns=['Feature_importances'])\n",
    "dft1 = dft.sort_values(by='Feature_importances', ascending=False)   \n",
    "dft1                                 # 컬럼 Feature_importances의 값들을 내림차순으로 정리. "
   ]
  },
  {
   "cell_type": "code",
   "execution_count": 123,
   "metadata": {},
   "outputs": [
    {
     "data": {
      "image/png": "[encoded data removed]",
      "text/plain": [
       "<Figure size 576x360 with 1 Axes>"
      ]
     },
     "metadata": {
      "needs_background": "light"
     },
     "output_type": "display_data"
    }
   ],
   "source": [
    "# 컬럼 Feature_importances의 값들을 올림차순으로 정리. \n",
    "dft2 = dft.sort_values(by='Feature_importances', ascending=True)   \n",
    "\n",
    "# 데이터프레임 dft2의 막대그래프(plot.barh) 그리기.\n",
    "import matplotlib.pyplot as plt\n",
    "%matplotlib inline\n",
    "ax = dft2.plot.barh(title=\"Feature importance\", figsize=(8,5))\n",
    "ax.get_legend().remove()   # 이걸 넣어야 legend box가 하단 좌득에 놓여서 그래프 읽는 것을 방해하는 것을 방지.\n",
    "for p in ax.patches:\n",
    "    ax.annotate(\"%.3f\" % p.get_width(), (p.get_x() + p.get_width(), p.get_y()*0.965),\\\n",
    "                xytext=(5, 10), textcoords='offset points')"
   ]
  },
  {
   "cell_type": "code",
   "execution_count": 124,
   "metadata": {},
   "outputs": [
    {
     "data": {
      "image/png": "[encoded data removed]",
      "text/plain": [
       "<Figure size 1440x720 with 1 Axes>"
      ]
     },
     "metadata": {
      "needs_background": "light"
     },
     "output_type": "display_data"
    }
   ],
   "source": [
    "import matplotlib.pyplot as plt\n",
    "%matplotlib inline  \n",
    "from sklearn import tree\n",
    "\n",
    "fig = plt.figure(figsize=(20, 10))\n",
    "_ = tree.plot_tree(best_clf,\n",
    "                   feature_names=list(data.columns),  \n",
    "                   filled=True)"
   ]
  },
  {
   "cell_type": "code",
   "execution_count": 55,
   "metadata": {},
   "outputs": [
    {
     "data": {
      "text/plain": [
       "0    371\n",
       "1    123\n",
       "Name: stroke, dtype: int64"
      ]
     },
     "execution_count": 55,
     "metadata": {},
     "output_type": "execute_result"
    }
   ],
   "source": [
    "y_test.value_counts()"
   ]
  },
  {
   "cell_type": "code",
   "execution_count": 56,
   "metadata": {},
   "outputs": [
    {
     "data": {
      "text/plain": [
       "0    370\n",
       "1    124\n",
       "Name: stroke, dtype: int64"
      ]
     },
     "execution_count": 56,
     "metadata": {},
     "output_type": "execute_result"
    }
   ],
   "source": [
    "y_train.value_counts()"
   ]
  },
  {
   "cell_type": "code",
   "execution_count": 133,
   "metadata": {},
   "outputs": [
    {
     "name": "stdout",
     "output_type": "stream",
     "text": [
      "Requirement already satisfied: graphviz in /Users/sunjipyim2/opt/anaconda3/lib/python3.7/site-packages (0.16)\n",
      "Note: you may need to restart the kernel to use updated packages.\n"
     ]
    }
   ],
   "source": [
    "pip install graphviz"
   ]
  },
  {
   "cell_type": "code",
   "execution_count": 134,
   "metadata": {},
   "outputs": [],
   "source": [
    "import graphviz"
   ]
  },
  {
   "cell_type": "code",
   "execution_count": 125,
   "metadata": {},
   "outputs": [
    {
     "data": {
      "image/svg+xml": [
       "<?xml version=\"1.0\" encoding=\"UTF-8\" standalone=\"no\"?>\n",
       "<!DOCTYPE svg PUBLIC \"-//W3C//DTD SVG 1.1//EN\"\n",
       " \"http://www.w3.org/Graphics/SVG/1.1/DTD/svg11.dtd\">\n",
       "<!-- Generated by graphviz version 2.43.0 (0)\n",
       " -->\n",
       "<!-- Title: Tree Pages: 1 -->\n",
       "<svg width=\"764pt\" height=\"302pt\"\n",
       " viewBox=\"0.00 0.00 763.78 302.00\" xmlns=\"http://www.w3.org/2000/svg\" xmlns:xlink=\"http://www.w3.org/1999/xlink\">\n",
       "<g id=\"graph0\" class=\"graph\" transform=\"scale(1 1) rotate(0) translate(4 298)\">\n",
       "<title>Tree</title>\n",
       "<polygon fill=\"white\" stroke=\"transparent\" points=\"-4,4 -4,-298 759.78,-298 759.78,4 -4,4\"/>\n",
       "<!-- 0 -->\n",
       "<g id=\"node1\" class=\"node\">\n",
       "<title>0</title>\n",
       "<polygon fill=\"#eeab7b\" stroke=\"black\" points=\"380.05,-294 260.97,-294 260.97,-244 380.05,-244 380.05,-294\"/>\n",
       "<text text-anchor=\"middle\" x=\"320.51\" y=\"-278.8\" font-family=\"Times,serif\" font-size=\"14.00\">age &lt;= 62.5</text>\n",
       "<text text-anchor=\"middle\" x=\"320.51\" y=\"-264.8\" font-family=\"Times,serif\" font-size=\"14.00\">samples = 494</text>\n",
       "<text text-anchor=\"middle\" x=\"320.51\" y=\"-250.8\" font-family=\"Times,serif\" font-size=\"14.00\">value = [370, 124]</text>\n",
       "</g>\n",
       "<!-- 1 -->\n",
       "<g id=\"node2\" class=\"node\">\n",
       "<title>1</title>\n",
       "<polygon fill=\"#e89152\" stroke=\"black\" points=\"273.55,-208 161.47,-208 161.47,-158 273.55,-158 273.55,-208\"/>\n",
       "<text text-anchor=\"middle\" x=\"217.51\" y=\"-192.8\" font-family=\"Times,serif\" font-size=\"14.00\">age &lt;= 37.5</text>\n",
       "<text text-anchor=\"middle\" x=\"217.51\" y=\"-178.8\" font-family=\"Times,serif\" font-size=\"14.00\">samples = 324</text>\n",
       "<text text-anchor=\"middle\" x=\"217.51\" y=\"-164.8\" font-family=\"Times,serif\" font-size=\"14.00\">value = [288, 36]</text>\n",
       "</g>\n",
       "<!-- 0&#45;&gt;1 -->\n",
       "<g id=\"edge1\" class=\"edge\">\n",
       "<title>0&#45;&gt;1</title>\n",
       "<path fill=\"none\" stroke=\"black\" d=\"M291,-243.93C279.79,-234.79 266.88,-224.26 255.03,-214.6\"/>\n",
       "<polygon fill=\"black\" stroke=\"black\" points=\"256.99,-211.68 247.03,-208.07 252.57,-217.11 256.99,-211.68\"/>\n",
       "<text text-anchor=\"middle\" x=\"249.56\" y=\"-228.75\" font-family=\"Times,serif\" font-size=\"14.00\">True</text>\n",
       "</g>\n",
       "<!-- 6 -->\n",
       "<g id=\"node7\" class=\"node\">\n",
       "<title>6</title>\n",
       "<polygon fill=\"#f2f8fd\" stroke=\"black\" points=\"476.05,-208 370.97,-208 370.97,-158 476.05,-158 476.05,-208\"/>\n",
       "<text text-anchor=\"middle\" x=\"423.51\" y=\"-192.8\" font-family=\"Times,serif\" font-size=\"14.00\">age &lt;= 73.5</text>\n",
       "<text text-anchor=\"middle\" x=\"423.51\" y=\"-178.8\" font-family=\"Times,serif\" font-size=\"14.00\">samples = 170</text>\n",
       "<text text-anchor=\"middle\" x=\"423.51\" y=\"-164.8\" font-family=\"Times,serif\" font-size=\"14.00\">value = [82, 88]</text>\n",
       "</g>\n",
       "<!-- 0&#45;&gt;6 -->\n",
       "<g id=\"edge6\" class=\"edge\">\n",
       "<title>0&#45;&gt;6</title>\n",
       "<path fill=\"none\" stroke=\"black\" d=\"M350.03,-243.93C361.23,-234.79 374.15,-224.26 386,-214.6\"/>\n",
       "<polygon fill=\"black\" stroke=\"black\" points=\"388.45,-217.11 393.99,-208.07 384.03,-211.68 388.45,-217.11\"/>\n",
       "<text text-anchor=\"middle\" x=\"391.47\" y=\"-228.75\" font-family=\"Times,serif\" font-size=\"14.00\">False</text>\n",
       "</g>\n",
       "<!-- 2 -->\n",
       "<g id=\"node3\" class=\"node\">\n",
       "<title>2</title>\n",
       "<polygon fill=\"#e58139\" stroke=\"black\" points=\"105.04,-115 -0.01,-115 -0.01,-79 105.04,-79 105.04,-115\"/>\n",
       "<text text-anchor=\"middle\" x=\"52.51\" y=\"-99.8\" font-family=\"Times,serif\" font-size=\"14.00\">samples = 113</text>\n",
       "<text text-anchor=\"middle\" x=\"52.51\" y=\"-85.8\" font-family=\"Times,serif\" font-size=\"14.00\">value = [113, 0]</text>\n",
       "</g>\n",
       "<!-- 1&#45;&gt;2 -->\n",
       "<g id=\"edge2\" class=\"edge\">\n",
       "<title>1&#45;&gt;2</title>\n",
       "<path fill=\"none\" stroke=\"black\" d=\"M170.23,-157.93C146.54,-145.87 118.09,-131.38 95.09,-119.68\"/>\n",
       "<polygon fill=\"black\" stroke=\"black\" points=\"96.42,-116.43 85.92,-115.01 93.24,-122.66 96.42,-116.43\"/>\n",
       "</g>\n",
       "<!-- 3 -->\n",
       "<g id=\"node4\" class=\"node\">\n",
       "<title>3</title>\n",
       "<polygon fill=\"#ea9b62\" stroke=\"black\" points=\"311.99,-122 123.03,-122 123.03,-72 311.99,-72 311.99,-122\"/>\n",
       "<text text-anchor=\"middle\" x=\"217.51\" y=\"-106.8\" font-family=\"Times,serif\" font-size=\"14.00\">avg_glucose_level &lt;= 208.955</text>\n",
       "<text text-anchor=\"middle\" x=\"217.51\" y=\"-92.8\" font-family=\"Times,serif\" font-size=\"14.00\">samples = 211</text>\n",
       "<text text-anchor=\"middle\" x=\"217.51\" y=\"-78.8\" font-family=\"Times,serif\" font-size=\"14.00\">value = [175, 36]</text>\n",
       "</g>\n",
       "<!-- 1&#45;&gt;3 -->\n",
       "<g id=\"edge3\" class=\"edge\">\n",
       "<title>1&#45;&gt;3</title>\n",
       "<path fill=\"none\" stroke=\"black\" d=\"M217.51,-157.7C217.51,-149.78 217.51,-140.83 217.51,-132.31\"/>\n",
       "<polygon fill=\"black\" stroke=\"black\" points=\"221.01,-132.24 217.51,-122.24 214.01,-132.24 221.01,-132.24\"/>\n",
       "</g>\n",
       "<!-- 4 -->\n",
       "<g id=\"node5\" class=\"node\">\n",
       "<title>4</title>\n",
       "<polygon fill=\"#ea975c\" stroke=\"black\" points=\"154.55,-36 42.47,-36 42.47,0 154.55,0 154.55,-36\"/>\n",
       "<text text-anchor=\"middle\" x=\"98.51\" y=\"-20.8\" font-family=\"Times,serif\" font-size=\"14.00\">samples = 200</text>\n",
       "<text text-anchor=\"middle\" x=\"98.51\" y=\"-6.8\" font-family=\"Times,serif\" font-size=\"14.00\">value = [170, 30]</text>\n",
       "</g>\n",
       "<!-- 3&#45;&gt;4 -->\n",
       "<g id=\"edge4\" class=\"edge\">\n",
       "<title>3&#45;&gt;4</title>\n",
       "<path fill=\"none\" stroke=\"black\" d=\"M180.19,-71.85C165.4,-62.28 148.48,-51.33 133.88,-41.89\"/>\n",
       "<polygon fill=\"black\" stroke=\"black\" points=\"135.44,-38.72 125.14,-36.23 131.63,-44.6 135.44,-38.72\"/>\n",
       "</g>\n",
       "<!-- 5 -->\n",
       "<g id=\"node6\" class=\"node\">\n",
       "<title>5</title>\n",
       "<polygon fill=\"#deeffb\" stroke=\"black\" points=\"264.05,-36 172.97,-36 172.97,0 264.05,0 264.05,-36\"/>\n",
       "<text text-anchor=\"middle\" x=\"218.51\" y=\"-20.8\" font-family=\"Times,serif\" font-size=\"14.00\">samples = 11</text>\n",
       "<text text-anchor=\"middle\" x=\"218.51\" y=\"-6.8\" font-family=\"Times,serif\" font-size=\"14.00\">value = [5, 6]</text>\n",
       "</g>\n",
       "<!-- 3&#45;&gt;5 -->\n",
       "<g id=\"edge5\" class=\"edge\">\n",
       "<title>3&#45;&gt;5</title>\n",
       "<path fill=\"none\" stroke=\"black\" d=\"M217.83,-71.64C217.93,-63.67 218.05,-54.77 218.15,-46.58\"/>\n",
       "<polygon fill=\"black\" stroke=\"black\" points=\"221.66,-46.42 218.29,-36.38 214.66,-46.33 221.66,-46.42\"/>\n",
       "</g>\n",
       "<!-- 7 -->\n",
       "<g id=\"node8\" class=\"node\">\n",
       "<title>7</title>\n",
       "<polygon fill=\"#f5d0b5\" stroke=\"black\" points=\"517.46,-122 329.56,-122 329.56,-72 517.46,-72 517.46,-122\"/>\n",
       "<text text-anchor=\"middle\" x=\"423.51\" y=\"-106.8\" font-family=\"Times,serif\" font-size=\"14.00\">avg_glucose_level &lt;= 111.915</text>\n",
       "<text text-anchor=\"middle\" x=\"423.51\" y=\"-92.8\" font-family=\"Times,serif\" font-size=\"14.00\">samples = 78</text>\n",
       "<text text-anchor=\"middle\" x=\"423.51\" y=\"-78.8\" font-family=\"Times,serif\" font-size=\"14.00\">value = [48, 30]</text>\n",
       "</g>\n",
       "<!-- 6&#45;&gt;7 -->\n",
       "<g id=\"edge7\" class=\"edge\">\n",
       "<title>6&#45;&gt;7</title>\n",
       "<path fill=\"none\" stroke=\"black\" d=\"M423.51,-157.7C423.51,-149.78 423.51,-140.83 423.51,-132.31\"/>\n",
       "<polygon fill=\"black\" stroke=\"black\" points=\"427.01,-132.24 423.51,-122.24 420.01,-132.24 427.01,-132.24\"/>\n",
       "</g>\n",
       "<!-- 10 -->\n",
       "<g id=\"node11\" class=\"node\">\n",
       "<title>10</title>\n",
       "<polygon fill=\"#add6f4\" stroke=\"black\" points=\"640.05,-122 534.97,-122 534.97,-72 640.05,-72 640.05,-122\"/>\n",
       "<text text-anchor=\"middle\" x=\"587.51\" y=\"-106.8\" font-family=\"Times,serif\" font-size=\"14.00\">bmi &lt;= 33.8</text>\n",
       "<text text-anchor=\"middle\" x=\"587.51\" y=\"-92.8\" font-family=\"Times,serif\" font-size=\"14.00\">samples = 92</text>\n",
       "<text text-anchor=\"middle\" x=\"587.51\" y=\"-78.8\" font-family=\"Times,serif\" font-size=\"14.00\">value = [34, 58]</text>\n",
       "</g>\n",
       "<!-- 6&#45;&gt;10 -->\n",
       "<g id=\"edge10\" class=\"edge\">\n",
       "<title>6&#45;&gt;10</title>\n",
       "<path fill=\"none\" stroke=\"black\" d=\"M470.51,-157.93C489.55,-148.18 511.69,-136.83 531.56,-126.66\"/>\n",
       "<polygon fill=\"black\" stroke=\"black\" points=\"533.2,-129.75 540.51,-122.07 530.01,-123.52 533.2,-129.75\"/>\n",
       "</g>\n",
       "<!-- 8 -->\n",
       "<g id=\"node9\" class=\"node\">\n",
       "<title>8</title>\n",
       "<polygon fill=\"#eeae80\" stroke=\"black\" points=\"390.05,-36 284.97,-36 284.97,0 390.05,0 390.05,-36\"/>\n",
       "<text text-anchor=\"middle\" x=\"337.51\" y=\"-20.8\" font-family=\"Times,serif\" font-size=\"14.00\">samples = 49</text>\n",
       "<text text-anchor=\"middle\" x=\"337.51\" y=\"-6.8\" font-family=\"Times,serif\" font-size=\"14.00\">value = [36, 13]</text>\n",
       "</g>\n",
       "<!-- 7&#45;&gt;8 -->\n",
       "<g id=\"edge8\" class=\"edge\">\n",
       "<title>7&#45;&gt;8</title>\n",
       "<path fill=\"none\" stroke=\"black\" d=\"M396.3,-71.64C386.03,-62.44 374.36,-51.99 364.14,-42.84\"/>\n",
       "<polygon fill=\"black\" stroke=\"black\" points=\"366.44,-40.2 356.65,-36.14 361.77,-45.41 366.44,-40.2\"/>\n",
       "</g>\n",
       "<!-- 9 -->\n",
       "<g id=\"node10\" class=\"node\">\n",
       "<title>9</title>\n",
       "<polygon fill=\"#c5e2f7\" stroke=\"black\" points=\"514.05,-36 408.97,-36 408.97,0 514.05,0 514.05,-36\"/>\n",
       "<text text-anchor=\"middle\" x=\"461.51\" y=\"-20.8\" font-family=\"Times,serif\" font-size=\"14.00\">samples = 29</text>\n",
       "<text text-anchor=\"middle\" x=\"461.51\" y=\"-6.8\" font-family=\"Times,serif\" font-size=\"14.00\">value = [12, 17]</text>\n",
       "</g>\n",
       "<!-- 7&#45;&gt;9 -->\n",
       "<g id=\"edge9\" class=\"edge\">\n",
       "<title>7&#45;&gt;9</title>\n",
       "<path fill=\"none\" stroke=\"black\" d=\"M435.54,-71.64C439.64,-63.31 444.26,-53.97 448.44,-45.48\"/>\n",
       "<polygon fill=\"black\" stroke=\"black\" points=\"451.65,-46.89 452.94,-36.38 445.37,-43.79 451.65,-46.89\"/>\n",
       "</g>\n",
       "<!-- 11 -->\n",
       "<g id=\"node12\" class=\"node\">\n",
       "<title>11</title>\n",
       "<polygon fill=\"#8ec7f0\" stroke=\"black\" points=\"639.05,-36 533.97,-36 533.97,0 639.05,0 639.05,-36\"/>\n",
       "<text text-anchor=\"middle\" x=\"586.51\" y=\"-20.8\" font-family=\"Times,serif\" font-size=\"14.00\">samples = 80</text>\n",
       "<text text-anchor=\"middle\" x=\"586.51\" y=\"-6.8\" font-family=\"Times,serif\" font-size=\"14.00\">value = [24, 56]</text>\n",
       "</g>\n",
       "<!-- 10&#45;&gt;11 -->\n",
       "<g id=\"edge11\" class=\"edge\">\n",
       "<title>10&#45;&gt;11</title>\n",
       "<path fill=\"none\" stroke=\"black\" d=\"M587.2,-71.64C587.09,-63.67 586.98,-54.77 586.87,-46.58\"/>\n",
       "<polygon fill=\"black\" stroke=\"black\" points=\"590.37,-46.33 586.74,-36.38 583.37,-46.42 590.37,-46.33\"/>\n",
       "</g>\n",
       "<!-- 12 -->\n",
       "<g id=\"node13\" class=\"node\">\n",
       "<title>12</title>\n",
       "<polygon fill=\"#ea9a61\" stroke=\"black\" points=\"755.55,-36 657.47,-36 657.47,0 755.55,0 755.55,-36\"/>\n",
       "<text text-anchor=\"middle\" x=\"706.51\" y=\"-20.8\" font-family=\"Times,serif\" font-size=\"14.00\">samples = 12</text>\n",
       "<text text-anchor=\"middle\" x=\"706.51\" y=\"-6.8\" font-family=\"Times,serif\" font-size=\"14.00\">value = [10, 2]</text>\n",
       "</g>\n",
       "<!-- 10&#45;&gt;12 -->\n",
       "<g id=\"edge12\" class=\"edge\">\n",
       "<title>10&#45;&gt;12</title>\n",
       "<path fill=\"none\" stroke=\"black\" d=\"M624.84,-71.85C639.63,-62.28 656.55,-51.33 671.14,-41.89\"/>\n",
       "<polygon fill=\"black\" stroke=\"black\" points=\"673.39,-44.6 679.88,-36.23 669.59,-38.72 673.39,-44.6\"/>\n",
       "</g>\n",
       "</g>\n",
       "</svg>\n"
      ],
      "text/plain": [
       "<graphviz.files.Source at 0x7fc38c32d150>"
      ]
     },
     "metadata": {},
     "output_type": "display_data"
    }
   ],
   "source": [
    "# model의 결과물을 tree.dot에 저장      \n",
    "from sklearn.tree import export_graphviz \n",
    "export_graphviz(best_clf, out_file = \"tree.dot\",   \n",
    "                feature_names = list(data.columns), impurity = False , filled = True )\n",
    "\n",
    "# tree.dot을 graphviz 기능을 통해 디스플레이.\n",
    "import graphviz\n",
    "with open(\"tree.dot\") as f:\n",
    "    dot_graph = f.read() \n",
    "display(graphviz.Source(dot_graph)) "
   ]
  },
  {
   "cell_type": "code",
   "execution_count": null,
   "metadata": {},
   "outputs": [],
   "source": []
  }
 ],
 "metadata": {
  "kernelspec": {
   "display_name": "Python 3",
   "language": "python",
   "name": "python3"
  },
  "language_info": {
   "codemirror_mode": {
    "name": "ipython",
    "version": 3
   },
   "file_extension": ".py",
   "mimetype": "text/x-python",
   "name": "python",
   "nbconvert_exporter": "python",
   "pygments_lexer": "ipython3",
   "version": "3.7.4"
  }
 },
 "nbformat": 4,
 "nbformat_minor": 2
}
