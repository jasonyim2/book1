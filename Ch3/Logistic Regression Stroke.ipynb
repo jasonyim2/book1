{
 "cells": [
  {
   "cell_type": "markdown",
   "metadata": {},
   "source": [
    "# 3.7.4 Logistic Regression 모델"
   ]
  },
  {
   "cell_type": "code",
   "execution_count": 1,
   "metadata": {
    "scrolled": true
   },
   "outputs": [
    {
     "data": {
      "text/plain": [
       "(3915, 11)"
      ]
     },
     "execution_count": 1,
     "metadata": {},
     "output_type": "execute_result"
    }
   ],
   "source": [
    "import pandas as pd\n",
    "import numpy as np\n",
    "df = pd.read_csv('healthcare-dataset-3.csv')   \n",
    "df.shape"
   ]
  },
  {
   "cell_type": "code",
   "execution_count": 2,
   "metadata": {},
   "outputs": [],
   "source": [
    "# 범주형 변수중에서 값으로 0과 1만 가지는(이미 더미 변수화 되어 있는)4개 변수명을 제외하고서 cols2에 저장\n",
    "\n",
    "cols2 = ['gender_encoded', 'work_type_encoded', 'smoking_status_encoded']"
   ]
  },
  {
   "cell_type": "code",
   "execution_count": 3,
   "metadata": {},
   "outputs": [],
   "source": [
    "df1 = pd.get_dummies(df, columns=cols2)   # cols2에 담긴 변수들의 더미변수를 생성 \n",
    "                                          # 이 명령은 더미변수를 생성한 원본변수는 제거함에 유의"
   ]
  },
  {
   "cell_type": "code",
   "execution_count": 4,
   "metadata": {},
   "outputs": [
    {
     "data": {
      "text/html": [
       "<div>\n",
       "<style scoped>\n",
       "    .dataframe tbody tr th:only-of-type {\n",
       "        vertical-align: middle;\n",
       "    }\n",
       "\n",
       "    .dataframe tbody tr th {\n",
       "        vertical-align: top;\n",
       "    }\n",
       "\n",
       "    .dataframe thead th {\n",
       "        text-align: right;\n",
       "    }\n",
       "</style>\n",
       "<table border=\"1\" class=\"dataframe\">\n",
       "  <thead>\n",
       "    <tr style=\"text-align: right;\">\n",
       "      <th></th>\n",
       "      <th>age</th>\n",
       "      <th>hypertension</th>\n",
       "      <th>heart_disease</th>\n",
       "      <th>avg_glucose_level</th>\n",
       "      <th>bmi</th>\n",
       "      <th>stroke</th>\n",
       "      <th>ever_married_encoded</th>\n",
       "      <th>residence_type_encoded</th>\n",
       "      <th>gender_encoded_0.0</th>\n",
       "      <th>gender_encoded_1.0</th>\n",
       "      <th>gender_encoded_2.0</th>\n",
       "      <th>work_type_encoded_0.0</th>\n",
       "      <th>work_type_encoded_1.0</th>\n",
       "      <th>work_type_encoded_2.0</th>\n",
       "      <th>work_type_encoded_3.0</th>\n",
       "      <th>smoking_status_encoded_0.0</th>\n",
       "      <th>smoking_status_encoded_1.0</th>\n",
       "      <th>smoking_status_encoded_2.0</th>\n",
       "      <th>smoking_status_encoded_3.0</th>\n",
       "    </tr>\n",
       "  </thead>\n",
       "  <tbody>\n",
       "    <tr>\n",
       "      <th>0</th>\n",
       "      <td>67.0</td>\n",
       "      <td>0</td>\n",
       "      <td>1</td>\n",
       "      <td>228.69</td>\n",
       "      <td>36.6</td>\n",
       "      <td>1</td>\n",
       "      <td>1.0</td>\n",
       "      <td>1.0</td>\n",
       "      <td>0</td>\n",
       "      <td>1</td>\n",
       "      <td>0</td>\n",
       "      <td>0</td>\n",
       "      <td>0</td>\n",
       "      <td>1</td>\n",
       "      <td>0</td>\n",
       "      <td>0</td>\n",
       "      <td>1</td>\n",
       "      <td>0</td>\n",
       "      <td>0</td>\n",
       "    </tr>\n",
       "    <tr>\n",
       "      <th>1</th>\n",
       "      <td>80.0</td>\n",
       "      <td>0</td>\n",
       "      <td>1</td>\n",
       "      <td>105.92</td>\n",
       "      <td>32.5</td>\n",
       "      <td>1</td>\n",
       "      <td>1.0</td>\n",
       "      <td>0.0</td>\n",
       "      <td>0</td>\n",
       "      <td>1</td>\n",
       "      <td>0</td>\n",
       "      <td>0</td>\n",
       "      <td>0</td>\n",
       "      <td>1</td>\n",
       "      <td>0</td>\n",
       "      <td>0</td>\n",
       "      <td>0</td>\n",
       "      <td>1</td>\n",
       "      <td>0</td>\n",
       "    </tr>\n",
       "    <tr>\n",
       "      <th>2</th>\n",
       "      <td>49.0</td>\n",
       "      <td>0</td>\n",
       "      <td>0</td>\n",
       "      <td>171.23</td>\n",
       "      <td>34.4</td>\n",
       "      <td>1</td>\n",
       "      <td>1.0</td>\n",
       "      <td>1.0</td>\n",
       "      <td>1</td>\n",
       "      <td>0</td>\n",
       "      <td>0</td>\n",
       "      <td>0</td>\n",
       "      <td>0</td>\n",
       "      <td>1</td>\n",
       "      <td>0</td>\n",
       "      <td>0</td>\n",
       "      <td>0</td>\n",
       "      <td>0</td>\n",
       "      <td>1</td>\n",
       "    </tr>\n",
       "  </tbody>\n",
       "</table>\n",
       "</div>"
      ],
      "text/plain": [
       "    age  hypertension  heart_disease  avg_glucose_level   bmi  stroke  \\\n",
       "0  67.0             0              1             228.69  36.6       1   \n",
       "1  80.0             0              1             105.92  32.5       1   \n",
       "2  49.0             0              0             171.23  34.4       1   \n",
       "\n",
       "   ever_married_encoded  residence_type_encoded  gender_encoded_0.0  \\\n",
       "0                   1.0                     1.0                   0   \n",
       "1                   1.0                     0.0                   0   \n",
       "2                   1.0                     1.0                   1   \n",
       "\n",
       "   gender_encoded_1.0  gender_encoded_2.0  work_type_encoded_0.0  \\\n",
       "0                   1                   0                      0   \n",
       "1                   1                   0                      0   \n",
       "2                   0                   0                      0   \n",
       "\n",
       "   work_type_encoded_1.0  work_type_encoded_2.0  work_type_encoded_3.0  \\\n",
       "0                      0                      1                      0   \n",
       "1                      0                      1                      0   \n",
       "2                      0                      1                      0   \n",
       "\n",
       "   smoking_status_encoded_0.0  smoking_status_encoded_1.0  \\\n",
       "0                           0                           1   \n",
       "1                           0                           0   \n",
       "2                           0                           0   \n",
       "\n",
       "   smoking_status_encoded_2.0  smoking_status_encoded_3.0  \n",
       "0                           0                           0  \n",
       "1                           1                           0  \n",
       "2                           0                           1  "
      ]
     },
     "execution_count": 4,
     "metadata": {},
     "output_type": "execute_result"
    }
   ],
   "source": [
    "# 참조 코딩\n",
    "df1.head(3)"
   ]
  },
  {
   "cell_type": "code",
   "execution_count": 5,
   "metadata": {},
   "outputs": [
    {
     "data": {
      "text/plain": [
       "(3915, 19)"
      ]
     },
     "execution_count": 5,
     "metadata": {},
     "output_type": "execute_result"
    }
   ],
   "source": [
    "df1.shape"
   ]
  },
  {
   "cell_type": "code",
   "execution_count": 6,
   "metadata": {
    "scrolled": true
   },
   "outputs": [
    {
     "data": {
      "text/plain": [
       "['age',\n",
       " 'hypertension',\n",
       " 'heart_disease',\n",
       " 'avg_glucose_level',\n",
       " 'bmi',\n",
       " 'stroke',\n",
       " 'ever_married_encoded',\n",
       " 'residence_type_encoded',\n",
       " 'gender_encoded_0.0',\n",
       " 'gender_encoded_1.0',\n",
       " 'gender_encoded_2.0',\n",
       " 'work_type_encoded_0.0',\n",
       " 'work_type_encoded_1.0',\n",
       " 'work_type_encoded_2.0',\n",
       " 'work_type_encoded_3.0',\n",
       " 'smoking_status_encoded_0.0',\n",
       " 'smoking_status_encoded_1.0',\n",
       " 'smoking_status_encoded_2.0',\n",
       " 'smoking_status_encoded_3.0']"
      ]
     },
     "execution_count": 6,
     "metadata": {},
     "output_type": "execute_result"
    }
   ],
   "source": [
    "list(df1.columns)"
   ]
  },
  {
   "cell_type": "code",
   "execution_count": 4,
   "metadata": {},
   "outputs": [
    {
     "data": {
      "text/plain": [
       "(3915, 16)"
      ]
     },
     "execution_count": 4,
     "metadata": {},
     "output_type": "execute_result"
    }
   ],
   "source": [
    "# 기준 더미 변수(base dummy variable)로 정한 3개 더미 변수명을 cols3에 저장\n",
    "cols3 = ['gender_encoded_0.0','work_type_encoded_1.0','smoking_status_encoded_2.0']\n",
    "\n",
    "df1.drop(cols3, axis=1, inplace=True)   # cols2에 저장된 15개 더미 변수명을 데이터프레임에서 제거\n",
    "df1.shape"
   ]
  },
  {
   "cell_type": "code",
   "execution_count": 8,
   "metadata": {},
   "outputs": [],
   "source": [
    "df1.to_csv('healthcare-dataset-3-dummy.csv', index=False)"
   ]
  },
  {
   "cell_type": "code",
   "execution_count": 5,
   "metadata": {},
   "outputs": [
    {
     "data": {
      "text/plain": [
       "(3915, 16)"
      ]
     },
     "execution_count": 5,
     "metadata": {},
     "output_type": "execute_result"
    }
   ],
   "source": [
    "import pandas as pd\n",
    "import numpy as np\n",
    "df = pd.read_csv('healthcare-dataset-3-dummy.csv')\n",
    "df.shape"
   ]
  },
  {
   "cell_type": "code",
   "execution_count": 10,
   "metadata": {},
   "outputs": [
    {
     "data": {
      "text/plain": [
       "age                           float64\n",
       "hypertension                    int64\n",
       "heart_disease                   int64\n",
       "avg_glucose_level             float64\n",
       "bmi                           float64\n",
       "stroke                          int64\n",
       "ever_married_encoded          float64\n",
       "residence_type_encoded        float64\n",
       "gender_encoded_1.0              int64\n",
       "gender_encoded_2.0              int64\n",
       "work_type_encoded_0.0           int64\n",
       "work_type_encoded_2.0           int64\n",
       "work_type_encoded_3.0           int64\n",
       "smoking_status_encoded_0.0      int64\n",
       "smoking_status_encoded_1.0      int64\n",
       "smoking_status_encoded_3.0      int64\n",
       "dtype: object"
      ]
     },
     "execution_count": 10,
     "metadata": {},
     "output_type": "execute_result"
    }
   ],
   "source": [
    "# 참조 코딩\n",
    "df.dtypes"
   ]
  },
  {
   "cell_type": "code",
   "execution_count": 6,
   "metadata": {},
   "outputs": [],
   "source": [
    "# 참조 코딩\n",
    "# dtype을 category로 지정해 줄 변수들을 cols에 임시 저장\n",
    "cols = ['hypertension', 'heart_disease', 'stroke', 'ever_married_encoded', 'residence_type_encoded',\\\n",
    "        'gender_encoded_1.0', 'gender_encoded_2.0',\\\n",
    "        'work_type_encoded_0.0', 'work_type_encoded_2.0', 'work_type_encoded_3.0',\\\n",
    "        'smoking_status_encoded_0.0', 'smoking_status_encoded_1.0', 'smoking_status_encoded_3.0']\n",
    "\n",
    "df[cols] = df[cols].astype('category')   # cols에 저장된 변수들의 dtype을 category로 변경"
   ]
  },
  {
   "cell_type": "code",
   "execution_count": 12,
   "metadata": {},
   "outputs": [
    {
     "data": {
      "text/plain": [
       "age                            float64\n",
       "hypertension                  category\n",
       "heart_disease                 category\n",
       "avg_glucose_level              float64\n",
       "bmi                            float64\n",
       "stroke                        category\n",
       "ever_married_encoded          category\n",
       "residence_type_encoded        category\n",
       "gender_encoded_1.0            category\n",
       "gender_encoded_2.0            category\n",
       "work_type_encoded_0.0         category\n",
       "work_type_encoded_2.0         category\n",
       "work_type_encoded_3.0         category\n",
       "smoking_status_encoded_0.0    category\n",
       "smoking_status_encoded_1.0    category\n",
       "smoking_status_encoded_3.0    category\n",
       "dtype: object"
      ]
     },
     "execution_count": 12,
     "metadata": {},
     "output_type": "execute_result"
    }
   ],
   "source": [
    "df.dtypes"
   ]
  },
  {
   "cell_type": "code",
   "execution_count": 7,
   "metadata": {},
   "outputs": [],
   "source": [
    "data = df.drop(['stroke'], axis=1)   # 타겟변수를 제외한 변수만 data에 저장\n",
    "target = df['stroke']                # 타겟변수만 target에 저장\n",
    "\n",
    "from imblearn.under_sampling import RandomUnderSampler    # RandomUnderSampler를 import\n",
    "undersample = RandomUnderSampler(sampling_strategy=0.333, random_state=2) \n",
    "                                                          # 타겟변수의 소수 클래스 및 다수 클래스를\n",
    "                                                          # 1:3의 비율(=1/3)로 언더샘플링\n",
    "data_under, target_under = undersample.fit_resample(data, target)\n",
    "                                                          # data 및 target에 언더샘플링 적용"
   ]
  },
  {
   "cell_type": "code",
   "execution_count": 8,
   "metadata": {},
   "outputs": [
    {
     "name": "stdout",
     "output_type": "stream",
     "text": [
      "X_train shape: (386, 15)\n",
      "X_test shape: (386, 15)\n"
     ]
    }
   ],
   "source": [
    "# 50:50 데이터 분할\n",
    "from sklearn.model_selection import train_test_split \n",
    "X_train, X_test, y_train, y_test = train_test_split( \n",
    "    data_under, target_under, test_size=0.5, random_state=42, stratify=target_under)\n",
    "\n",
    "print(\"X_train shape:\", X_train.shape) \n",
    "print(\"X_test shape:\", X_test.shape) "
   ]
  },
  {
   "cell_type": "code",
   "execution_count": 9,
   "metadata": {},
   "outputs": [
    {
     "name": "stdout",
     "output_type": "stream",
     "text": [
      "Logreg Training set score:0.79275\n",
      "Logreg Test set score:0.76166\n"
     ]
    }
   ],
   "source": [
    "# Logistic Regression 모형 (Default 모델)\n",
    "from sklearn.linear_model import LogisticRegression\n",
    "from sklearn.metrics import accuracy_score\n",
    "lr = LogisticRegression(solver='lbfgs',penalty='none',random_state=0,n_jobs=-1)\n",
    "model = lr.fit(X_train, y_train)\n",
    "pred = model.predict(X_test)\n",
    "\n",
    "print (\"Logreg Training set score:{:.5f}\".format(model.score(X_train, y_train))) \n",
    "print (\"Logreg Test set score:{:.5f}\".format(accuracy_score(y_test, pred)))"
   ]
  },
  {
   "cell_type": "code",
   "execution_count": 10,
   "metadata": {},
   "outputs": [],
   "source": [
    "# Logistic Regression 모형 (Default 모델)\n",
    "lr = LogisticRegression(solver='lbfgs',penalty='none',random_state=0,n_jobs=-1)"
   ]
  },
  {
   "cell_type": "code",
   "execution_count": 11,
   "metadata": {},
   "outputs": [
    {
     "name": "stdout",
     "output_type": "stream",
     "text": [
      "GridSearchCV max accuracy:0.76697\n",
      "GridSearchCV best parameter: {'penalty': 'none', 'solver': 'lbfgs'}\n"
     ]
    }
   ],
   "source": [
    "from sklearn.model_selection import GridSearchCV\n",
    "params = {'solver':['lbfgs', 'saga'], 'penalty':['none']}\n",
    "\n",
    "grid_lr = GridSearchCV(lr, param_grid=params, scoring='accuracy', cv=5, n_jobs=-1,)\n",
    "grid_lr.fit(X_train, y_train)\n",
    "\n",
    "print(\"GridSearchCV max accuracy:{:.5f}\".format(grid_lr.best_score_))\n",
    "print(\"GridSearchCV best parameter:\", (grid_lr.best_params_)) "
   ]
  },
  {
   "cell_type": "code",
   "execution_count": 12,
   "metadata": {},
   "outputs": [
    {
     "name": "stdout",
     "output_type": "stream",
     "text": [
      "Accuracy on test set:0.76166\n"
     ]
    }
   ],
   "source": [
    "best_clf = grid_lr.best_estimator_\n",
    "pred = best_clf.predict(X_test)\n",
    "print(\"Accuracy on test set:{:.5f}\".format(accuracy_score(y_test, pred)))"
   ]
  },
  {
   "cell_type": "code",
   "execution_count": 26,
   "metadata": {},
   "outputs": [
    {
     "name": "stdout",
     "output_type": "stream",
     "text": [
      "절편 [-4.965]\n",
      "회귀계수 [[ 0.087  0.15   0.113  0.006  0.002 -0.181  0.135 -0.477  0.    -1.574\n",
      "  -1.603 -1.789 -0.012 -0.357 -0.22 ]]\n"
     ]
    }
   ],
   "source": [
    "print('절편', np.round(best_clf.intercept_, 3))\n",
    "print('회귀계수', np.round(best_clf.coef_, 3))"
   ]
  },
  {
   "cell_type": "code",
   "execution_count": 27,
   "metadata": {},
   "outputs": [
    {
     "data": {
      "text/html": [
       "<div>\n",
       "<style scoped>\n",
       "    .dataframe tbody tr th:only-of-type {\n",
       "        vertical-align: middle;\n",
       "    }\n",
       "\n",
       "    .dataframe tbody tr th {\n",
       "        vertical-align: top;\n",
       "    }\n",
       "\n",
       "    .dataframe thead th {\n",
       "        text-align: right;\n",
       "    }\n",
       "</style>\n",
       "<table border=\"1\" class=\"dataframe\">\n",
       "  <thead>\n",
       "    <tr style=\"text-align: right;\">\n",
       "      <th></th>\n",
       "      <th>coef</th>\n",
       "    </tr>\n",
       "  </thead>\n",
       "  <tbody>\n",
       "    <tr>\n",
       "      <th>work_type_encoded_3.0</th>\n",
       "      <td>-1.789</td>\n",
       "    </tr>\n",
       "    <tr>\n",
       "      <th>work_type_encoded_2.0</th>\n",
       "      <td>-1.603</td>\n",
       "    </tr>\n",
       "    <tr>\n",
       "      <th>work_type_encoded_0.0</th>\n",
       "      <td>-1.574</td>\n",
       "    </tr>\n",
       "    <tr>\n",
       "      <th>gender_encoded_1.0</th>\n",
       "      <td>-0.477</td>\n",
       "    </tr>\n",
       "    <tr>\n",
       "      <th>smoking_status_encoded_1.0</th>\n",
       "      <td>-0.357</td>\n",
       "    </tr>\n",
       "    <tr>\n",
       "      <th>smoking_status_encoded_3.0</th>\n",
       "      <td>-0.220</td>\n",
       "    </tr>\n",
       "    <tr>\n",
       "      <th>ever_married_encoded</th>\n",
       "      <td>-0.181</td>\n",
       "    </tr>\n",
       "    <tr>\n",
       "      <th>smoking_status_encoded_0.0</th>\n",
       "      <td>-0.012</td>\n",
       "    </tr>\n",
       "    <tr>\n",
       "      <th>gender_encoded_2.0</th>\n",
       "      <td>0.000</td>\n",
       "    </tr>\n",
       "    <tr>\n",
       "      <th>bmi</th>\n",
       "      <td>0.002</td>\n",
       "    </tr>\n",
       "    <tr>\n",
       "      <th>avg_glucose_level</th>\n",
       "      <td>0.006</td>\n",
       "    </tr>\n",
       "    <tr>\n",
       "      <th>age</th>\n",
       "      <td>0.087</td>\n",
       "    </tr>\n",
       "    <tr>\n",
       "      <th>heart_disease</th>\n",
       "      <td>0.113</td>\n",
       "    </tr>\n",
       "    <tr>\n",
       "      <th>residence_type_encoded</th>\n",
       "      <td>0.135</td>\n",
       "    </tr>\n",
       "    <tr>\n",
       "      <th>hypertension</th>\n",
       "      <td>0.150</td>\n",
       "    </tr>\n",
       "  </tbody>\n",
       "</table>\n",
       "</div>"
      ],
      "text/plain": [
       "                             coef\n",
       "work_type_encoded_3.0      -1.789\n",
       "work_type_encoded_2.0      -1.603\n",
       "work_type_encoded_0.0      -1.574\n",
       "gender_encoded_1.0         -0.477\n",
       "smoking_status_encoded_1.0 -0.357\n",
       "smoking_status_encoded_3.0 -0.220\n",
       "ever_married_encoded       -0.181\n",
       "smoking_status_encoded_0.0 -0.012\n",
       "gender_encoded_2.0          0.000\n",
       "bmi                         0.002\n",
       "avg_glucose_level           0.006\n",
       "age                         0.087\n",
       "heart_disease               0.113\n",
       "residence_type_encoded      0.135\n",
       "hypertension                0.150"
      ]
     },
     "execution_count": 27,
     "metadata": {},
     "output_type": "execute_result"
    }
   ],
   "source": [
    "# 변수명을 Index로 만들고 coefficient값을 매칭한 데이터프레임 만들기 \n",
    "\n",
    "feature_names = list(data.columns)   # 변수명(컬럼명)을 리스트 형태로 만들기\n",
    "dft = pd.DataFrame(np.round(best_clf.coef_, 3).transpose(), index=feature_names,\n",
    "                   columns=['coef'])\n",
    "dft1 = dft.sort_values(by='coef', ascending=True)   # 컬럼 coef의 값들을 오름차순으로 정리\n",
    "dft1                                            "
   ]
  },
  {
   "cell_type": "code",
   "execution_count": 29,
   "metadata": {},
   "outputs": [
    {
     "data": {
      "text/html": [
       "<div>\n",
       "<style scoped>\n",
       "    .dataframe tbody tr th:only-of-type {\n",
       "        vertical-align: middle;\n",
       "    }\n",
       "\n",
       "    .dataframe tbody tr th {\n",
       "        vertical-align: top;\n",
       "    }\n",
       "\n",
       "    .dataframe thead th {\n",
       "        text-align: right;\n",
       "    }\n",
       "</style>\n",
       "<table border=\"1\" class=\"dataframe\">\n",
       "  <thead>\n",
       "    <tr style=\"text-align: right;\">\n",
       "      <th></th>\n",
       "      <th>Odds_ratio</th>\n",
       "    </tr>\n",
       "  </thead>\n",
       "  <tbody>\n",
       "    <tr>\n",
       "      <th>hypertension</th>\n",
       "      <td>1.162</td>\n",
       "    </tr>\n",
       "    <tr>\n",
       "      <th>residence_type_encoded</th>\n",
       "      <td>1.145</td>\n",
       "    </tr>\n",
       "    <tr>\n",
       "      <th>heart_disease</th>\n",
       "      <td>1.120</td>\n",
       "    </tr>\n",
       "    <tr>\n",
       "      <th>age</th>\n",
       "      <td>1.091</td>\n",
       "    </tr>\n",
       "    <tr>\n",
       "      <th>avg_glucose_level</th>\n",
       "      <td>1.006</td>\n",
       "    </tr>\n",
       "    <tr>\n",
       "      <th>bmi</th>\n",
       "      <td>1.002</td>\n",
       "    </tr>\n",
       "    <tr>\n",
       "      <th>gender_encoded_2.0</th>\n",
       "      <td>1.000</td>\n",
       "    </tr>\n",
       "    <tr>\n",
       "      <th>smoking_status_encoded_0.0</th>\n",
       "      <td>0.988</td>\n",
       "    </tr>\n",
       "    <tr>\n",
       "      <th>ever_married_encoded</th>\n",
       "      <td>0.835</td>\n",
       "    </tr>\n",
       "    <tr>\n",
       "      <th>smoking_status_encoded_3.0</th>\n",
       "      <td>0.803</td>\n",
       "    </tr>\n",
       "    <tr>\n",
       "      <th>smoking_status_encoded_1.0</th>\n",
       "      <td>0.700</td>\n",
       "    </tr>\n",
       "    <tr>\n",
       "      <th>gender_encoded_1.0</th>\n",
       "      <td>0.620</td>\n",
       "    </tr>\n",
       "    <tr>\n",
       "      <th>work_type_encoded_0.0</th>\n",
       "      <td>0.207</td>\n",
       "    </tr>\n",
       "    <tr>\n",
       "      <th>work_type_encoded_2.0</th>\n",
       "      <td>0.201</td>\n",
       "    </tr>\n",
       "    <tr>\n",
       "      <th>work_type_encoded_3.0</th>\n",
       "      <td>0.167</td>\n",
       "    </tr>\n",
       "  </tbody>\n",
       "</table>\n",
       "</div>"
      ],
      "text/plain": [
       "                            Odds_ratio\n",
       "hypertension                     1.162\n",
       "residence_type_encoded           1.145\n",
       "heart_disease                    1.120\n",
       "age                              1.091\n",
       "avg_glucose_level                1.006\n",
       "bmi                              1.002\n",
       "gender_encoded_2.0               1.000\n",
       "smoking_status_encoded_0.0       0.988\n",
       "ever_married_encoded             0.835\n",
       "smoking_status_encoded_3.0       0.803\n",
       "smoking_status_encoded_1.0       0.700\n",
       "gender_encoded_1.0               0.620\n",
       "work_type_encoded_0.0            0.207\n",
       "work_type_encoded_2.0            0.201\n",
       "work_type_encoded_3.0            0.167"
      ]
     },
     "execution_count": 29,
     "metadata": {},
     "output_type": "execute_result"
    }
   ],
   "source": [
    "# 변수명을 Index로 만들고 coefficient값을 제곱한 Odds ratio값을 Index에 매칭한 데이터프레임 만들기 \n",
    "\n",
    "feature_names = list(data.columns)   # 변수명(컬럼명)을 리스트 형태로 만들기\n",
    "dft = pd.DataFrame(np.round(np.exp(best_clf.coef_),3).transpose(), index=feature_names,\n",
    "                   columns=['Odds_ratio'])\n",
    "dft1 = dft.sort_values(by='Odds_ratio', ascending=False)   # 컬럼 coef의 값들을 내림차순으로 정리\n",
    "dft1                                           "
   ]
  },
  {
   "cell_type": "code",
   "execution_count": 30,
   "metadata": {},
   "outputs": [
    {
     "data": {
      "image/png": "[encoded data removed]",
      "text/plain": [
       "<Figure size 432x288 with 1 Axes>"
      ]
     },
     "metadata": {
      "needs_background": "light"
     },
     "output_type": "display_data"
    }
   ],
   "source": [
    "# 데이터프레임 dft1의 막대그래프(barplot) 그리기\n",
    "import matplotlib.pyplot as plt\n",
    "import seaborn as sns\n",
    "%matplotlib inline\n",
    "\n",
    "ax = sns.barplot(y=dft1.index, x=\"Odds_ratio\", data=dft1)\n",
    "\n",
    "for p in ax.patches:\n",
    "    ax.annotate(\"%.3f\" % p.get_width(), (p.get_x() + p.get_width(), p.get_y()+1.2),\n",
    "                xytext=(5, 10), textcoords='offset points')"
   ]
  },
  {
   "cell_type": "markdown",
   "metadata": {},
   "source": [
    "# StandardScaler( )로 표준화한 데이터셋 생성 및 저장"
   ]
  },
  {
   "cell_type": "code",
   "execution_count": 13,
   "metadata": {},
   "outputs": [
    {
     "data": {
      "text/html": [
       "<div>\n",
       "<style scoped>\n",
       "    .dataframe tbody tr th:only-of-type {\n",
       "        vertical-align: middle;\n",
       "    }\n",
       "\n",
       "    .dataframe tbody tr th {\n",
       "        vertical-align: top;\n",
       "    }\n",
       "\n",
       "    .dataframe thead th {\n",
       "        text-align: right;\n",
       "    }\n",
       "</style>\n",
       "<table border=\"1\" class=\"dataframe\">\n",
       "  <thead>\n",
       "    <tr style=\"text-align: right;\">\n",
       "      <th></th>\n",
       "      <th>age</th>\n",
       "      <th>avg_glucose_level</th>\n",
       "      <th>bmi</th>\n",
       "    </tr>\n",
       "  </thead>\n",
       "  <tbody>\n",
       "    <tr>\n",
       "      <th>0</th>\n",
       "      <td>0.969492</td>\n",
       "      <td>2.887925</td>\n",
       "      <td>0.904522</td>\n",
       "    </tr>\n",
       "    <tr>\n",
       "      <th>1</th>\n",
       "      <td>1.714023</td>\n",
       "      <td>0.029109</td>\n",
       "      <td>0.312804</td>\n",
       "    </tr>\n",
       "    <tr>\n",
       "      <th>2</th>\n",
       "      <td>-0.061397</td>\n",
       "      <td>1.549914</td>\n",
       "      <td>0.587015</td>\n",
       "    </tr>\n",
       "    <tr>\n",
       "      <th>3</th>\n",
       "      <td>1.656752</td>\n",
       "      <td>1.617210</td>\n",
       "      <td>-0.913930</td>\n",
       "    </tr>\n",
       "    <tr>\n",
       "      <th>4</th>\n",
       "      <td>1.771295</td>\n",
       "      <td>1.898738</td>\n",
       "      <td>-0.192322</td>\n",
       "    </tr>\n",
       "  </tbody>\n",
       "</table>\n",
       "</div>"
      ],
      "text/plain": [
       "        age  avg_glucose_level       bmi\n",
       "0  0.969492           2.887925  0.904522\n",
       "1  1.714023           0.029109  0.312804\n",
       "2 -0.061397           1.549914  0.587015\n",
       "3  1.656752           1.617210 -0.913930\n",
       "4  1.771295           1.898738 -0.192322"
      ]
     },
     "execution_count": 13,
     "metadata": {},
     "output_type": "execute_result"
    }
   ],
   "source": [
    "# 구간 변수들만 별도로 모아 데이터프레임 df_num을 만든다. \n",
    "numeric_cols = ['age','avg_glucose_level','bmi']\n",
    "df_num = df[numeric_cols]\n",
    "\n",
    "# StandardScaler( )로 데이터 스케일 표준화를 실행하고 결과를 데이터프레임으로 만든다.\n",
    "from sklearn.preprocessing import StandardScaler\n",
    "scaler = StandardScaler()\n",
    "df_num_standard = pd.DataFrame(scaler.fit_transform(df_num))\n",
    "\n",
    "# StandardScaler( )는 변수명을 지우므로, 새로 만든 데이터프레임에 다시 변수명을 넣는다.\n",
    "df_num_standard.columns = df_num.columns\n",
    "df_num_standard.head()"
   ]
  },
  {
   "cell_type": "code",
   "execution_count": 14,
   "metadata": {},
   "outputs": [],
   "source": [
    "df_cat = df.drop(numeric_cols, axis=1) # 원래 데이터프레임 df에서 구간변수들을 제거하여 df_cat에 저장"
   ]
  },
  {
   "cell_type": "code",
   "execution_count": 15,
   "metadata": {},
   "outputs": [
    {
     "data": {
      "text/plain": [
       "Index(['age', 'avg_glucose_level', 'bmi', 'hypertension', 'heart_disease',\n",
       "       'stroke', 'ever_married_encoded', 'residence_type_encoded',\n",
       "       'gender_encoded_1.0', 'gender_encoded_2.0', 'work_type_encoded_0.0',\n",
       "       'work_type_encoded_2.0', 'work_type_encoded_3.0',\n",
       "       'smoking_status_encoded_0.0', 'smoking_status_encoded_1.0',\n",
       "       'smoking_status_encoded_3.0'],\n",
       "      dtype='object')"
      ]
     },
     "execution_count": 15,
     "metadata": {},
     "output_type": "execute_result"
    }
   ],
   "source": [
    "# 구간변수 스케일을 표준화한 df_num_standard와 범주형 변수만 담은 df_cat을 병합\n",
    "dfu_standard = pd.concat([df_num_standard, df_cat], axis=1)\n",
    "dfu_standard.columns   # dfu의 변수명을 나열"
   ]
  },
  {
   "cell_type": "code",
   "execution_count": 34,
   "metadata": {},
   "outputs": [],
   "source": [
    "dfu_standard.to_csv('stroke-standard.csv', index=False)  # 병합한 데이터프레임을 csv 형태로 저장"
   ]
  },
  {
   "cell_type": "code",
   "execution_count": null,
   "metadata": {},
   "outputs": [],
   "source": []
  },
  {
   "cell_type": "markdown",
   "metadata": {},
   "source": [
    "# 표준화한 데이터셋으로 로지스틱 회귀 재시행"
   ]
  },
  {
   "cell_type": "code",
   "execution_count": 16,
   "metadata": {},
   "outputs": [],
   "source": [
    "data = dfu_standard.drop(['stroke'], axis=1)   # 타겟변수를 제외한 변수만 data에 저장\n",
    "target = dfu_standard['stroke']                # 타겟변수만 target에 저장\n",
    "\n",
    "from imblearn.under_sampling import RandomUnderSampler    # RandomUnderSampler를 import\n",
    "undersample = RandomUnderSampler(sampling_strategy=0.333, random_state=2) \n",
    "                                                          # 타겟변수의 소수 클래스 및 다수 클래스를\n",
    "                                                          # 1:3의 비율(=1/3)로 언더샘플링\n",
    "data_under, target_under = undersample.fit_resample(data, target)\n",
    "                                                          # data 및 target에 언더샘플링 적용"
   ]
  },
  {
   "cell_type": "code",
   "execution_count": 17,
   "metadata": {},
   "outputs": [
    {
     "name": "stdout",
     "output_type": "stream",
     "text": [
      "X_train shape: (386, 15)\n",
      "X_test shape: (386, 15)\n"
     ]
    }
   ],
   "source": [
    "# 50:50 데이터 분할\n",
    "from sklearn.model_selection import train_test_split \n",
    "X_train, X_test, y_train, y_test = train_test_split( \n",
    "    data_under, target_under, test_size=0.5, random_state=42, stratify=target_under)\n",
    "\n",
    "print(\"X_train shape:\", X_train.shape) \n",
    "print(\"X_test shape:\", X_test.shape) "
   ]
  },
  {
   "cell_type": "code",
   "execution_count": 18,
   "metadata": {},
   "outputs": [
    {
     "name": "stdout",
     "output_type": "stream",
     "text": [
      "Logreg Training set score:0.79275\n",
      "Logreg Test set score:0.75389\n"
     ]
    }
   ],
   "source": [
    "# Logistic Regression 모형 (Default 모델)\n",
    "from sklearn.linear_model import LogisticRegression\n",
    "from sklearn.metrics import accuracy_score\n",
    "lr = LogisticRegression(solver='lbfgs',penalty='none',random_state=0,n_jobs=-1)\n",
    "model = lr.fit(X_train, y_train)\n",
    "pred = model.predict(X_test)  # 학습된 Classifier로 테스트 데이터셋 자료이용해서 타겟변수 예측값 생성\n",
    "\n",
    "print (\"Logreg Training set score:{:.5f}\".format(model.score(X_train, y_train))) \n",
    "print (\"Logreg Test set score:{:.5f}\".format(accuracy_score(y_test, pred)))"
   ]
  },
  {
   "cell_type": "code",
   "execution_count": 19,
   "metadata": {},
   "outputs": [],
   "source": [
    "# Logistic Regression 모형 (Default 모델)\n",
    "lr = LogisticRegression(solver='lbfgs',penalty='none',random_state=0,n_jobs=-1)"
   ]
  },
  {
   "cell_type": "code",
   "execution_count": 20,
   "metadata": {},
   "outputs": [
    {
     "name": "stdout",
     "output_type": "stream",
     "text": [
      "GridSearchCV max accuracy:0.77216\n",
      "GridSearchCV best parameter: {'penalty': 'none', 'solver': 'saga'}\n"
     ]
    }
   ],
   "source": [
    "# 그리드 서치 실행\n",
    "from sklearn.model_selection import GridSearchCV\n",
    "params = {'solver':['lbfgs', 'saga'], 'penalty':['none']}\n",
    "\n",
    "grid_lr = GridSearchCV(lr, param_grid=params, scoring='accuracy', cv=5, n_jobs=-1,)\n",
    "grid_lr.fit(X_train, y_train)\n",
    "\n",
    "print(\"GridSearchCV max accuracy:{:.5f}\".format(grid_lr.best_score_))\n",
    "print(\"GridSearchCV best parameter:\", (grid_lr.best_params_)) "
   ]
  },
  {
   "cell_type": "code",
   "execution_count": 21,
   "metadata": {},
   "outputs": [
    {
     "name": "stdout",
     "output_type": "stream",
     "text": [
      "Accuracy on test set:0.75389\n"
     ]
    }
   ],
   "source": [
    "best_clf = grid_lr.best_estimator_\n",
    "pred = best_clf.predict(X_test)\n",
    "print(\"Accuracy on test set:{:.5f}\".format(accuracy_score(y_test, pred)))"
   ]
  },
  {
   "cell_type": "code",
   "execution_count": null,
   "metadata": {},
   "outputs": [],
   "source": []
  }
 ],
 "metadata": {
  "kernelspec": {
   "display_name": "Python 3 (ipykernel)",
   "language": "python",
   "name": "python3"
  },
  "language_info": {
   "codemirror_mode": {
    "name": "ipython",
    "version": 3
   },
   "file_extension": ".py",
   "mimetype": "text/x-python",
   "name": "python",
   "nbconvert_exporter": "python",
   "pygments_lexer": "ipython3",
   "version": "3.9.7"
  }
 },
 "nbformat": 4,
 "nbformat_minor": 2
}
