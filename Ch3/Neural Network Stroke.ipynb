{
 "cells": [
  {
   "cell_type": "markdown",
   "metadata": {},
   "source": [
    "# 3.7.5 Neural Network 모델"
   ]
  },
  {
   "cell_type": "code",
   "execution_count": 1,
   "metadata": {},
   "outputs": [
    {
     "data": {
      "text/plain": [
       "(3915, 16)"
      ]
     },
     "execution_count": 1,
     "metadata": {},
     "output_type": "execute_result"
    }
   ],
   "source": [
    "import pandas as pd\n",
    "import numpy as np\n",
    "df = pd.read_csv('stroke-standard.csv')\n",
    "df.shape"
   ]
  },
  {
   "cell_type": "code",
   "execution_count": 2,
   "metadata": {},
   "outputs": [],
   "source": [
    "data = df.drop(['stroke'], axis=1)   # 타겟변수를 제외한 변수만 data에 저장\n",
    "target = df['stroke']                # 타겟변수만 target에 저장\n",
    "\n",
    "from imblearn.under_sampling import RandomUnderSampler    # RandomUnderSampler를 import\n",
    "undersample = RandomUnderSampler(sampling_strategy=0.333, random_state=2) \n",
    "                                                          # 타겟변수의 소수 클래스 및 다수 클래스를\n",
    "                                                          # 1:3의 비율(=1/3)로 언더샘플링\n",
    "data_under, target_under = undersample.fit_resample(data, target)\n",
    "                                                          # data 및 target에 언더샘플링 적용"
   ]
  },
  {
   "cell_type": "code",
   "execution_count": 3,
   "metadata": {},
   "outputs": [
    {
     "name": "stdout",
     "output_type": "stream",
     "text": [
      "X_train shape: (386, 15)\n",
      "X_test shape: (386, 15)\n"
     ]
    }
   ],
   "source": [
    "# 50:50 데이터 분할\n",
    "from sklearn.model_selection import train_test_split \n",
    "X_train, X_test, y_train, y_test = train_test_split( \n",
    "    data_under, target_under, test_size=0.5, random_state=42, stratify=target_under)\n",
    "\n",
    "print(\"X_train shape:\", X_train.shape) \n",
    "print(\"X_test shape:\", X_test.shape) "
   ]
  },
  {
   "cell_type": "code",
   "execution_count": 4,
   "metadata": {},
   "outputs": [
    {
     "name": "stdout",
     "output_type": "stream",
     "text": [
      "Neural Network Training set score:0.98964\n",
      "Neural Network Test set score:0.72280\n"
     ]
    }
   ],
   "source": [
    "# Neural Network 모델 (Default 모델 with adam solver)\n",
    "from sklearn.neural_network import MLPClassifier \n",
    "from sklearn.metrics import accuracy_score\n",
    "clf_mlp = MLPClassifier(max_iter = 2000, random_state = 0)\n",
    "                       # convergence warinng을 회피하기 위해 max_iter = 2000으로 올려서 설정\n",
    "clf_mlp.fit(X_train, y_train)\n",
    "pred = clf_mlp.predict(X_test)  # 학습된 Classifier로 테스트 데이터셋 자료이용해서 타겟변수 예측값 생성\n",
    "accuracy = accuracy_score(y_test, pred)\n",
    "\n",
    "print (\"Neural Network Training set score:{:.5f}\".format(clf_mlp.score(X_train, y_train))) \n",
    "print (\"Neural Network Test set score:{:.5f}\".format(accuracy_score(y_test, pred)))"
   ]
  },
  {
   "cell_type": "code",
   "execution_count": null,
   "metadata": {},
   "outputs": [],
   "source": [
    "# alpha=0.0001이 default값임\n",
    "# alpha=0.01 옵션: 이는 중간 정도의 regularization on weights를 의미\n",
    "# alpha=1 옵션 추가: 이는 stronger regularization on weights를 의미"
   ]
  },
  {
   "cell_type": "code",
   "execution_count": 5,
   "metadata": {},
   "outputs": [],
   "source": [
    "# Neural Network 모델 (Default 모델 with adam solver)\n",
    "clf_mlp = MLPClassifier(max_iter = 2000, random_state = 0)"
   ]
  },
  {
   "cell_type": "code",
   "execution_count": 6,
   "metadata": {},
   "outputs": [
    {
     "name": "stdout",
     "output_type": "stream",
     "text": [
      "GridSearchCV max accuracy:0.78505\n",
      "GridSearchCV best parameter: {'activation': 'relu', 'alpha': 0.0001, 'solver': 'sgd'}\n"
     ]
    }
   ],
   "source": [
    "# 그리드 서치 실행\n",
    "\n",
    "from sklearn.model_selection import GridSearchCV\n",
    "params = {'solver':['sgd', 'lbfgs', 'adam'],\n",
    "          'alpha':[0.0001, 0.001, 0.01, 0.1, 1],\n",
    "          'activation':['tanh','relu', 'logistic']\n",
    "         }\n",
    "\n",
    "grid_mlp = GridSearchCV(clf_mlp, param_grid=params, scoring='accuracy', cv=5, n_jobs=-1)\n",
    "grid_mlp.fit(X_train, y_train)\n",
    "\n",
    "print(\"GridSearchCV max accuracy:{:.5f}\".format(grid_mlp.best_score_))\n",
    "print(\"GridSearchCV best parameter:\", (grid_mlp.best_params_)) "
   ]
  },
  {
   "cell_type": "code",
   "execution_count": 7,
   "metadata": {},
   "outputs": [
    {
     "name": "stdout",
     "output_type": "stream",
     "text": [
      "Accuracy on test set:0.75648\n"
     ]
    }
   ],
   "source": [
    "best_clf = grid_mlp.best_estimator_\n",
    "pred = best_clf.predict(X_test)\n",
    "print(\"Accuracy on test set:{:.5f}\".format(accuracy_score(y_test, pred)))"
   ]
  },
  {
   "cell_type": "code",
   "execution_count": 13,
   "metadata": {},
   "outputs": [
    {
     "name": "stdout",
     "output_type": "stream",
     "text": [
      "GridSearchCV max accuracy:0.78505\n",
      "GridSearchCV best parameter: {'activation': 'relu', 'alpha': 0.0001, 'hidden_layer_sizes': 100, 'solver': 'sgd'}\n"
     ]
    }
   ],
   "source": [
    "# 그리드 서치 재실행\n",
    "\n",
    "from sklearn.model_selection import GridSearchCV\n",
    "params = {'solver':['sgd', 'lbfgs', 'adam'],\n",
    "          'alpha':[0.0001, 0.01, 1],\n",
    "          'activation':['tanh','relu', 'logistic'],\n",
    "          'hidden_layer_sizes': [(100,), (100,100)]\n",
    "         }\n",
    "\n",
    "grid_mlp = GridSearchCV(clf_mlp, param_grid=params, scoring='accuracy', cv=5, n_jobs=-1)\n",
    "grid_mlp.fit(X_train, y_train)\n",
    "\n",
    "print(\"GridSearchCV max accuracy:{:.5f}\".format(grid_mlp.best_score_))\n",
    "print(\"GridSearchCV best parameter:\", (grid_mlp.best_params_)) "
   ]
  },
  {
   "cell_type": "code",
   "execution_count": 14,
   "metadata": {},
   "outputs": [
    {
     "name": "stdout",
     "output_type": "stream",
     "text": [
      "Accuracy on test set:0.75648\n"
     ]
    }
   ],
   "source": [
    "best_clf = grid_mlp.best_estimator_\n",
    "pred = best_clf.predict(X_test)\n",
    "print(\"Accuracy on test set:{:.5f}\".format(accuracy_score(y_test, pred)))"
   ]
  },
  {
   "cell_type": "code",
   "execution_count": null,
   "metadata": {},
   "outputs": [],
   "source": []
  }
 ],
 "metadata": {
  "kernelspec": {
   "display_name": "Python 3 (ipykernel)",
   "language": "python",
   "name": "python3"
  },
  "language_info": {
   "codemirror_mode": {
    "name": "ipython",
    "version": 3
   },
   "file_extension": ".py",
   "mimetype": "text/x-python",
   "name": "python",
   "nbconvert_exporter": "python",
   "pygments_lexer": "ipython3",
   "version": "3.9.7"
  }
 },
 "nbformat": 4,
 "nbformat_minor": 2
}
